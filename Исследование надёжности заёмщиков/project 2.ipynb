{
 "cells": [
  {
   "cell_type": "markdown",
   "id": "f8856c68",
   "metadata": {},
   "source": [
    "# Исследование надежности заемщиков."
   ]
  },
  {
   "cell_type": "markdown",
   "id": "3f335ba6",
   "metadata": {},
   "source": [
    "## Описание проекта\n",
    ">Заказчик — кредитный отдел банка. Нужно разобраться, влияет ли семейное положение и количество детей клиента на факт погашения кредита в срок. \n",
    "Входные данные от банка — статистика о платёжеспособности клиентов.\n",
    "Результаты исследования будут учтены при построении модели кредитного скоринга — специальной системы, \n",
    "которая оценивает способность потенциального заёмщика вернуть кредит банку.\n"
   ]
  },
  {
   "cell_type": "markdown",
   "id": "eb65b372",
   "metadata": {},
   "source": [
    "**Цель исследования** — проверить 4 гипотезы:\n",
    "1. Есть ли зависимость между количеством детей и возвратом кредита в срок?\n",
    "2. Есть ли зависимость между семейным положением и возвратом кредита в срок?\n",
    "3. Есть ли зависимость между уровнем дохода и возвратом кредита в срок?\n",
    "4. Как разные цели кредита влияют на его возврат в срок?\n",
    "\n",
    "**Ход исследования**\n",
    "\n",
    "Данные о поведении пользователей мы получаем из файла data.csv. О качестве данных ничего не известно. Поэтому перед проверкой гипотез понадобится обзор данных. \n",
    "\n",
    "Мы проверим данные на ошибки и оценим их влияние на исследование. Затем, на этапе предобработки мы поищем возможность исправить самые критичные ошибки данных.\n",
    " \n",
    "Таким образом, исследование пройдёт в три этапа:\n",
    " 1. Обзор данных.\n",
    " 2. Предобработка данных.\n",
    " 3. Проверка гипотез.\n",
    " \n",
    "**Описание данных**\n",
    "- children — количество детей в семье\n",
    "- days_employed — общий трудовой стаж в днях\n",
    "- dob_years — возраст клиента в годах\n",
    "- education — уровень образования клиента\n",
    "- education_id — идентификатор уровня образования\n",
    "- family_status — семейное положение\n",
    "- family_status_id — идентификатор семейного положения\n",
    "- gender — пол клиента\n",
    "- income_type — тип занятости\n",
    "- debt — имел ли задолженность по возврату кредитов\n",
    "- total_income — ежемесячный доход\n",
    "- purpose — цель получения кредита"
   ]
  },
  {
   "cell_type": "markdown",
   "id": "33c3c9ab",
   "metadata": {},
   "source": [
    "### Шаг 1. Обзор данных"
   ]
  },
  {
   "cell_type": "code",
   "execution_count": 1,
   "id": "e4c22942",
   "metadata": {},
   "outputs": [],
   "source": [
    "# импорт библиотеки pandas\n",
    "import pandas as pd"
   ]
  },
  {
   "cell_type": "markdown",
   "id": "5fdcc169",
   "metadata": {},
   "source": [
    "Читаем файл data.csv из папки /datasets и сохраняем его в переменной df"
   ]
  },
  {
   "cell_type": "code",
   "execution_count": 2,
   "id": "e3addd5d",
   "metadata": {},
   "outputs": [],
   "source": [
    "df = pd.read_csv('/datasets/data.csv')"
   ]
  },
  {
   "cell_type": "markdown",
   "id": "46229e0b",
   "metadata": {},
   "source": [
    "Выводим на экран первые десять строк таблицы:"
   ]
  },
  {
   "cell_type": "code",
   "execution_count": 3,
   "id": "acb662fa",
   "metadata": {},
   "outputs": [
    {
     "data": {
      "text/html": [
       "<div>\n",
       "<style scoped>\n",
       "    .dataframe tbody tr th:only-of-type {\n",
       "        vertical-align: middle;\n",
       "    }\n",
       "\n",
       "    .dataframe tbody tr th {\n",
       "        vertical-align: top;\n",
       "    }\n",
       "\n",
       "    .dataframe thead th {\n",
       "        text-align: right;\n",
       "    }\n",
       "</style>\n",
       "<table border=\"1\" class=\"dataframe\">\n",
       "  <thead>\n",
       "    <tr style=\"text-align: right;\">\n",
       "      <th></th>\n",
       "      <th>children</th>\n",
       "      <th>days_employed</th>\n",
       "      <th>dob_years</th>\n",
       "      <th>education</th>\n",
       "      <th>education_id</th>\n",
       "      <th>family_status</th>\n",
       "      <th>family_status_id</th>\n",
       "      <th>gender</th>\n",
       "      <th>income_type</th>\n",
       "      <th>debt</th>\n",
       "      <th>total_income</th>\n",
       "      <th>purpose</th>\n",
       "    </tr>\n",
       "  </thead>\n",
       "  <tbody>\n",
       "    <tr>\n",
       "      <th>0</th>\n",
       "      <td>1</td>\n",
       "      <td>-8437.673028</td>\n",
       "      <td>42</td>\n",
       "      <td>высшее</td>\n",
       "      <td>0</td>\n",
       "      <td>женат / замужем</td>\n",
       "      <td>0</td>\n",
       "      <td>F</td>\n",
       "      <td>сотрудник</td>\n",
       "      <td>0</td>\n",
       "      <td>253875.639453</td>\n",
       "      <td>покупка жилья</td>\n",
       "    </tr>\n",
       "    <tr>\n",
       "      <th>1</th>\n",
       "      <td>1</td>\n",
       "      <td>-4024.803754</td>\n",
       "      <td>36</td>\n",
       "      <td>среднее</td>\n",
       "      <td>1</td>\n",
       "      <td>женат / замужем</td>\n",
       "      <td>0</td>\n",
       "      <td>F</td>\n",
       "      <td>сотрудник</td>\n",
       "      <td>0</td>\n",
       "      <td>112080.014102</td>\n",
       "      <td>приобретение автомобиля</td>\n",
       "    </tr>\n",
       "    <tr>\n",
       "      <th>2</th>\n",
       "      <td>0</td>\n",
       "      <td>-5623.422610</td>\n",
       "      <td>33</td>\n",
       "      <td>Среднее</td>\n",
       "      <td>1</td>\n",
       "      <td>женат / замужем</td>\n",
       "      <td>0</td>\n",
       "      <td>M</td>\n",
       "      <td>сотрудник</td>\n",
       "      <td>0</td>\n",
       "      <td>145885.952297</td>\n",
       "      <td>покупка жилья</td>\n",
       "    </tr>\n",
       "    <tr>\n",
       "      <th>3</th>\n",
       "      <td>3</td>\n",
       "      <td>-4124.747207</td>\n",
       "      <td>32</td>\n",
       "      <td>среднее</td>\n",
       "      <td>1</td>\n",
       "      <td>женат / замужем</td>\n",
       "      <td>0</td>\n",
       "      <td>M</td>\n",
       "      <td>сотрудник</td>\n",
       "      <td>0</td>\n",
       "      <td>267628.550329</td>\n",
       "      <td>дополнительное образование</td>\n",
       "    </tr>\n",
       "    <tr>\n",
       "      <th>4</th>\n",
       "      <td>0</td>\n",
       "      <td>340266.072047</td>\n",
       "      <td>53</td>\n",
       "      <td>среднее</td>\n",
       "      <td>1</td>\n",
       "      <td>гражданский брак</td>\n",
       "      <td>1</td>\n",
       "      <td>F</td>\n",
       "      <td>пенсионер</td>\n",
       "      <td>0</td>\n",
       "      <td>158616.077870</td>\n",
       "      <td>сыграть свадьбу</td>\n",
       "    </tr>\n",
       "    <tr>\n",
       "      <th>5</th>\n",
       "      <td>0</td>\n",
       "      <td>-926.185831</td>\n",
       "      <td>27</td>\n",
       "      <td>высшее</td>\n",
       "      <td>0</td>\n",
       "      <td>гражданский брак</td>\n",
       "      <td>1</td>\n",
       "      <td>M</td>\n",
       "      <td>компаньон</td>\n",
       "      <td>0</td>\n",
       "      <td>255763.565419</td>\n",
       "      <td>покупка жилья</td>\n",
       "    </tr>\n",
       "    <tr>\n",
       "      <th>6</th>\n",
       "      <td>0</td>\n",
       "      <td>-2879.202052</td>\n",
       "      <td>43</td>\n",
       "      <td>высшее</td>\n",
       "      <td>0</td>\n",
       "      <td>женат / замужем</td>\n",
       "      <td>0</td>\n",
       "      <td>F</td>\n",
       "      <td>компаньон</td>\n",
       "      <td>0</td>\n",
       "      <td>240525.971920</td>\n",
       "      <td>операции с жильем</td>\n",
       "    </tr>\n",
       "    <tr>\n",
       "      <th>7</th>\n",
       "      <td>0</td>\n",
       "      <td>-152.779569</td>\n",
       "      <td>50</td>\n",
       "      <td>СРЕДНЕЕ</td>\n",
       "      <td>1</td>\n",
       "      <td>женат / замужем</td>\n",
       "      <td>0</td>\n",
       "      <td>M</td>\n",
       "      <td>сотрудник</td>\n",
       "      <td>0</td>\n",
       "      <td>135823.934197</td>\n",
       "      <td>образование</td>\n",
       "    </tr>\n",
       "    <tr>\n",
       "      <th>8</th>\n",
       "      <td>2</td>\n",
       "      <td>-6929.865299</td>\n",
       "      <td>35</td>\n",
       "      <td>ВЫСШЕЕ</td>\n",
       "      <td>0</td>\n",
       "      <td>гражданский брак</td>\n",
       "      <td>1</td>\n",
       "      <td>F</td>\n",
       "      <td>сотрудник</td>\n",
       "      <td>0</td>\n",
       "      <td>95856.832424</td>\n",
       "      <td>на проведение свадьбы</td>\n",
       "    </tr>\n",
       "    <tr>\n",
       "      <th>9</th>\n",
       "      <td>0</td>\n",
       "      <td>-2188.756445</td>\n",
       "      <td>41</td>\n",
       "      <td>среднее</td>\n",
       "      <td>1</td>\n",
       "      <td>женат / замужем</td>\n",
       "      <td>0</td>\n",
       "      <td>M</td>\n",
       "      <td>сотрудник</td>\n",
       "      <td>0</td>\n",
       "      <td>144425.938277</td>\n",
       "      <td>покупка жилья для семьи</td>\n",
       "    </tr>\n",
       "  </tbody>\n",
       "</table>\n",
       "</div>"
      ],
      "text/plain": [
       "   children  days_employed  dob_years education  education_id  \\\n",
       "0         1   -8437.673028         42    высшее             0   \n",
       "1         1   -4024.803754         36   среднее             1   \n",
       "2         0   -5623.422610         33   Среднее             1   \n",
       "3         3   -4124.747207         32   среднее             1   \n",
       "4         0  340266.072047         53   среднее             1   \n",
       "5         0    -926.185831         27    высшее             0   \n",
       "6         0   -2879.202052         43    высшее             0   \n",
       "7         0    -152.779569         50   СРЕДНЕЕ             1   \n",
       "8         2   -6929.865299         35    ВЫСШЕЕ             0   \n",
       "9         0   -2188.756445         41   среднее             1   \n",
       "\n",
       "      family_status  family_status_id gender income_type  debt   total_income  \\\n",
       "0   женат / замужем                 0      F   сотрудник     0  253875.639453   \n",
       "1   женат / замужем                 0      F   сотрудник     0  112080.014102   \n",
       "2   женат / замужем                 0      M   сотрудник     0  145885.952297   \n",
       "3   женат / замужем                 0      M   сотрудник     0  267628.550329   \n",
       "4  гражданский брак                 1      F   пенсионер     0  158616.077870   \n",
       "5  гражданский брак                 1      M   компаньон     0  255763.565419   \n",
       "6   женат / замужем                 0      F   компаньон     0  240525.971920   \n",
       "7   женат / замужем                 0      M   сотрудник     0  135823.934197   \n",
       "8  гражданский брак                 1      F   сотрудник     0   95856.832424   \n",
       "9   женат / замужем                 0      M   сотрудник     0  144425.938277   \n",
       "\n",
       "                      purpose  \n",
       "0               покупка жилья  \n",
       "1     приобретение автомобиля  \n",
       "2               покупка жилья  \n",
       "3  дополнительное образование  \n",
       "4             сыграть свадьбу  \n",
       "5               покупка жилья  \n",
       "6           операции с жильем  \n",
       "7                 образование  \n",
       "8       на проведение свадьбы  \n",
       "9     покупка жилья для семьи  "
      ]
     },
     "metadata": {},
     "output_type": "display_data"
    }
   ],
   "source": [
    "# получение первых 10 строк таблицы df\n",
    "display(df.head(10))"
   ]
  },
  {
   "cell_type": "markdown",
   "id": "ebb70d3d",
   "metadata": {},
   "source": [
    "Одной командой получаем общую информацию о таблице:"
   ]
  },
  {
   "cell_type": "code",
   "execution_count": 4,
   "id": "89ff3bf6",
   "metadata": {},
   "outputs": [
    {
     "name": "stdout",
     "output_type": "stream",
     "text": [
      "<class 'pandas.core.frame.DataFrame'>\n",
      "RangeIndex: 21525 entries, 0 to 21524\n",
      "Data columns (total 12 columns):\n",
      " #   Column            Non-Null Count  Dtype  \n",
      "---  ------            --------------  -----  \n",
      " 0   children          21525 non-null  int64  \n",
      " 1   days_employed     19351 non-null  float64\n",
      " 2   dob_years         21525 non-null  int64  \n",
      " 3   education         21525 non-null  object \n",
      " 4   education_id      21525 non-null  int64  \n",
      " 5   family_status     21525 non-null  object \n",
      " 6   family_status_id  21525 non-null  int64  \n",
      " 7   gender            21525 non-null  object \n",
      " 8   income_type       21525 non-null  object \n",
      " 9   debt              21525 non-null  int64  \n",
      " 10  total_income      19351 non-null  float64\n",
      " 11  purpose           21525 non-null  object \n",
      "dtypes: float64(2), int64(5), object(5)\n",
      "memory usage: 2.0+ MB\n"
     ]
    }
   ],
   "source": [
    "# получаем общую информацию о данных в таблице df\n",
    "df.info()"
   ]
  },
  {
   "cell_type": "markdown",
   "id": "97315faf",
   "metadata": {},
   "source": [
    "**Наблюдения:**\n",
    "1. Пропущенные значения в столбцах 'days_employed' и 'total_income'.\n",
    "2. Столбцам 'days_employed' и 'total_income' стоит присвоить целочисленные значения(int)\n",
    "3. Отрицательные значения в столбце 'days_employed'\n",
    "4. Прыгающий регистр букв в столбце 'education'"
   ]
  },
  {
   "cell_type": "markdown",
   "id": "97bd500b",
   "metadata": {},
   "source": [
    "### Шаг 2.1 Заполнение пропусков"
   ]
  },
  {
   "cell_type": "code",
   "execution_count": 5,
   "id": "a3dd9c60",
   "metadata": {},
   "outputs": [
    {
     "data": {
      "text/plain": [
       "children               0\n",
       "days_employed       2174\n",
       "dob_years              0\n",
       "education              0\n",
       "education_id           0\n",
       "family_status          0\n",
       "family_status_id       0\n",
       "gender                 0\n",
       "income_type            0\n",
       "debt                   0\n",
       "total_income        2174\n",
       "purpose                0\n",
       "dtype: int64"
      ]
     },
     "metadata": {},
     "output_type": "display_data"
    }
   ],
   "source": [
    "# подсчёт пропусков\n",
    "display(df.isna().sum())"
   ]
  },
  {
   "cell_type": "code",
   "execution_count": 6,
   "id": "ad2883fe",
   "metadata": {},
   "outputs": [
    {
     "data": {
      "text/plain": [
       "days_employed       10.099884\n",
       "total_income        10.099884\n",
       "children             0.000000\n",
       "dob_years            0.000000\n",
       "education            0.000000\n",
       "education_id         0.000000\n",
       "family_status        0.000000\n",
       "family_status_id     0.000000\n",
       "gender               0.000000\n",
       "income_type          0.000000\n",
       "debt                 0.000000\n",
       "purpose              0.000000\n",
       "dtype: float64"
      ]
     },
     "metadata": {},
     "output_type": "display_data"
    }
   ],
   "source": [
    "procent_of_null = df.isnull().sum()/len(df)\n",
    "procent_of_null = procent_of_null.sort_values(ascending=False)\n",
    "display(procent_of_null*100)"
   ]
  },
  {
   "cell_type": "markdown",
   "id": "dade8bfb",
   "metadata": {},
   "source": [
    "Убедились, что пропуски дейстительно только в 'days_employed' и 'total_income'.\n",
    "Возможно, эти люди никогда не работали или работали неофициально. К сожалению на данном этапе уточнить причину не представляется возможным, поэтому заменим пропуски медийными значениями, так как доля пропусков к общему количеству некритична"
   ]
  },
  {
   "cell_type": "markdown",
   "id": "9e73d795",
   "metadata": {},
   "source": [
    "### Шаг 2.2 Проверка данных на аномалии и исправления."
   ]
  },
  {
   "cell_type": "markdown",
   "id": "e7b7db65",
   "metadata": {},
   "source": [
    "В наблюдениях выше мы отмечали, так же отрицательное значение данных в столбце 'days_employed', исправим данную аномалию"
   ]
  },
  {
   "cell_type": "code",
   "execution_count": 7,
   "id": "ca404007",
   "metadata": {},
   "outputs": [
    {
     "data": {
      "text/plain": [
       "0      8437.673028\n",
       "1      4024.803754\n",
       "2      5623.422610\n",
       "3      4124.747207\n",
       "4    340266.072047\n",
       "5       926.185831\n",
       "6      2879.202052\n",
       "7       152.779569\n",
       "8      6929.865299\n",
       "9      2188.756445\n",
       "Name: days_employed, dtype: float64"
      ]
     },
     "metadata": {},
     "output_type": "display_data"
    }
   ],
   "source": [
    "#заменим отрицательные числа на положительные\n",
    "def minus_on_plus(days):\n",
    "    if days < 0:\n",
    "        days *= -1\n",
    "        return days\n",
    "    else:\n",
    "        return days  \n",
    "df['days_employed'] = df['days_employed'].apply(minus_on_plus)\n",
    "display(df['days_employed'].head(10))"
   ]
  },
  {
   "cell_type": "code",
   "execution_count": 8,
   "id": "0625c56a",
   "metadata": {},
   "outputs": [
    {
     "data": {
      "text/plain": [
       "children            0\n",
       "days_employed       0\n",
       "dob_years           0\n",
       "education           0\n",
       "education_id        0\n",
       "family_status       0\n",
       "family_status_id    0\n",
       "gender              0\n",
       "income_type         0\n",
       "debt                0\n",
       "total_income        0\n",
       "purpose             0\n",
       "dtype: int64"
      ]
     },
     "metadata": {},
     "output_type": "display_data"
    }
   ],
   "source": [
    "# Заменим пропуски на медианные значения.\n",
    "total_income_median = df['total_income'].median()\n",
    "days_employed_median = df['days_employed'].median()\n",
    "df['days_employed'] = df['days_employed'].fillna(days_employed_median)\n",
    "df['total_income'] = df['total_income'].fillna(total_income_median)\n",
    "\n",
    "#повторный подсчёт пропусков\n",
    "display(df.isna().sum())"
   ]
  },
  {
   "cell_type": "markdown",
   "id": "bb6a246b",
   "metadata": {},
   "source": [
    "### Шаг 2.3. Изменение типов данных."
   ]
  },
  {
   "cell_type": "markdown",
   "id": "3343b930",
   "metadata": {},
   "source": [
    "Столбцам 'days_employed' и 'total_income' стоит присвоить целочисленные значения(int)"
   ]
  },
  {
   "cell_type": "code",
   "execution_count": 9,
   "id": "7a4139b5",
   "metadata": {},
   "outputs": [
    {
     "name": "stdout",
     "output_type": "stream",
     "text": [
      "<class 'pandas.core.frame.DataFrame'>\n",
      "RangeIndex: 21525 entries, 0 to 21524\n",
      "Data columns (total 12 columns):\n",
      " #   Column            Non-Null Count  Dtype \n",
      "---  ------            --------------  ----- \n",
      " 0   children          21525 non-null  int64 \n",
      " 1   days_employed     21525 non-null  int64 \n",
      " 2   dob_years         21525 non-null  int64 \n",
      " 3   education         21525 non-null  object\n",
      " 4   education_id      21525 non-null  int64 \n",
      " 5   family_status     21525 non-null  object\n",
      " 6   family_status_id  21525 non-null  int64 \n",
      " 7   gender            21525 non-null  object\n",
      " 8   income_type       21525 non-null  object\n",
      " 9   debt              21525 non-null  int64 \n",
      " 10  total_income      21525 non-null  int64 \n",
      " 11  purpose           21525 non-null  object\n",
      "dtypes: int64(7), object(5)\n",
      "memory usage: 2.0+ MB\n"
     ]
    }
   ],
   "source": [
    "#Заменим тип данных методом astype\n",
    "df['days_employed'] = df['days_employed'].astype('int')\n",
    "df['total_income'] = df['total_income'].astype('int')\n",
    "\n",
    "#проверим замену типа\n",
    "df.info()"
   ]
  },
  {
   "cell_type": "markdown",
   "id": "4c7991ef",
   "metadata": {},
   "source": [
    "### Шаг 2.4. Удаление дубликатов."
   ]
  },
  {
   "cell_type": "markdown",
   "id": "4a26a620",
   "metadata": {},
   "source": [
    "Проверим наличие и количество дубликатов"
   ]
  },
  {
   "cell_type": "code",
   "execution_count": 10,
   "id": "42c0cb3f",
   "metadata": {},
   "outputs": [
    {
     "data": {
      "text/plain": [
       "54"
      ]
     },
     "execution_count": 10,
     "metadata": {},
     "output_type": "execute_result"
    }
   ],
   "source": [
    "df.duplicated().sum()"
   ]
  },
  {
   "cell_type": "markdown",
   "id": "ca1c59f4",
   "metadata": {},
   "source": [
    "Возможно, что причина в их появлении банальное задвоение данных либо ошибочное создание дублей.\n",
    "Удалим их"
   ]
  },
  {
   "cell_type": "code",
   "execution_count": 11,
   "id": "4e90f1b2",
   "metadata": {},
   "outputs": [],
   "source": [
    "#Удалим дубли и сбросим индекс\n",
    "df = df.drop_duplicates().reset_index(drop=True)"
   ]
  },
  {
   "cell_type": "code",
   "execution_count": 12,
   "id": "21614a22",
   "metadata": {},
   "outputs": [
    {
     "data": {
      "text/plain": [
       "0"
      ]
     },
     "execution_count": 12,
     "metadata": {},
     "output_type": "execute_result"
    }
   ],
   "source": [
    "#Проверим\n",
    "df.duplicated().sum()"
   ]
  },
  {
   "cell_type": "markdown",
   "id": "8ce72a7d",
   "metadata": {},
   "source": [
    "Помимо явных дубликатов мы помним, что в столбце 'education' мы имеем прыгающий регистр букв. Устраним это."
   ]
  },
  {
   "cell_type": "code",
   "execution_count": 13,
   "id": "db906c69",
   "metadata": {},
   "outputs": [
    {
     "data": {
      "text/plain": [
       "0                  высшее\n",
       "1                 среднее\n",
       "2                 среднее\n",
       "3                 среднее\n",
       "4                 среднее\n",
       "5                  высшее\n",
       "6                  высшее\n",
       "7                 среднее\n",
       "8                  высшее\n",
       "9                 среднее\n",
       "10                 высшее\n",
       "11                среднее\n",
       "12                среднее\n",
       "13    неоконченное высшее\n",
       "14                 высшее\n",
       "15                среднее\n",
       "16                среднее\n",
       "17                 высшее\n",
       "18                среднее\n",
       "19                среднее\n",
       "Name: education, dtype: object"
      ]
     },
     "metadata": {},
     "output_type": "display_data"
    }
   ],
   "source": [
    "#приведем в единый формат столбец 'education'\n",
    "df['education'] = df['education'].str.lower()\n",
    "display(df['education'].head(20))"
   ]
  },
  {
   "cell_type": "markdown",
   "id": "4a03cf96",
   "metadata": {},
   "source": [
    "Проверим остальные столбцы на неявные дубликаты или иные аномалии."
   ]
  },
  {
   "cell_type": "code",
   "execution_count": 14,
   "id": "1cdb9e38",
   "metadata": {},
   "outputs": [
    {
     "data": {
      "text/plain": [
       " 0     14107\n",
       " 1      4809\n",
       " 2      2052\n",
       " 3       330\n",
       " 20       76\n",
       "-1        47\n",
       " 4        41\n",
       " 5         9\n",
       "Name: children, dtype: int64"
      ]
     },
     "execution_count": 14,
     "metadata": {},
     "output_type": "execute_result"
    }
   ],
   "source": [
    "#пройдем сначала по столбцу с детьми\n",
    "df['children'].value_counts()"
   ]
  },
  {
   "cell_type": "markdown",
   "id": "0ff976ab",
   "metadata": {},
   "source": [
    "Замечаем странные значения, -1 и 20. Думаю -1 заменим на 1, а 20 заменим на 2, так как исходя из здравого смысла эта опечатка могла случиться вероятнее всего, но и в целом количество таких строк не критично и на дальнейшие исследования повлияет не сильно."
   ]
  },
  {
   "cell_type": "code",
   "execution_count": 15,
   "id": "053a24e8",
   "metadata": {},
   "outputs": [
    {
     "data": {
      "text/plain": [
       "0    14107\n",
       "1     4856\n",
       "2     2128\n",
       "3      330\n",
       "4       41\n",
       "5        9\n",
       "Name: children, dtype: int64"
      ]
     },
     "execution_count": 15,
     "metadata": {},
     "output_type": "execute_result"
    }
   ],
   "source": [
    "# Заменим -1 на 1 и 20 на 2\n",
    "df['children'] = df['children'].replace(-1, 1)\n",
    "df['children'] = df['children'].replace(20, 2)\n",
    "\n",
    "#проверим столбец еще раз\n",
    "df['children'].value_counts()"
   ]
  },
  {
   "cell_type": "code",
   "execution_count": 16,
   "id": "2c61b9f2",
   "metadata": {},
   "outputs": [
    {
     "data": {
      "text/plain": [
       "35    616\n",
       "40    607\n",
       "41    606\n",
       "34    601\n",
       "38    597\n",
       "42    596\n",
       "33    581\n",
       "39    572\n",
       "31    559\n",
       "36    554\n",
       "44    545\n",
       "29    544\n",
       "30    538\n",
       "48    537\n",
       "37    536\n",
       "50    513\n",
       "43    512\n",
       "32    509\n",
       "49    508\n",
       "28    503\n",
       "45    497\n",
       "27    493\n",
       "52    484\n",
       "56    484\n",
       "47    477\n",
       "54    476\n",
       "46    473\n",
       "53    459\n",
       "57    456\n",
       "58    456\n",
       "51    448\n",
       "59    443\n",
       "55    443\n",
       "26    408\n",
       "60    374\n",
       "25    357\n",
       "61    354\n",
       "62    349\n",
       "63    269\n",
       "24    264\n",
       "64    262\n",
       "23    253\n",
       "65    194\n",
       "22    183\n",
       "66    182\n",
       "67    167\n",
       "21    111\n",
       "0     101\n",
       "68     99\n",
       "69     85\n",
       "70     65\n",
       "71     58\n",
       "20     51\n",
       "72     33\n",
       "19     14\n",
       "73      8\n",
       "74      6\n",
       "75      1\n",
       "Name: dob_years, dtype: int64"
      ]
     },
     "execution_count": 16,
     "metadata": {},
     "output_type": "execute_result"
    }
   ],
   "source": [
    "# Посмотрим на столбец с возрастом\n",
    "df['dob_years'].value_counts()"
   ]
  },
  {
   "cell_type": "markdown",
   "id": "fa1a2fc7",
   "metadata": {},
   "source": [
    "В целом данные корректные, но присутсвуют строки с возрастом 0"
   ]
  },
  {
   "cell_type": "code",
   "execution_count": 17,
   "id": "43d08d8c",
   "metadata": {},
   "outputs": [
    {
     "data": {
      "text/plain": [
       "женат / замужем          12344\n",
       "гражданский брак          4163\n",
       "Не женат / не замужем     2810\n",
       "в разводе                 1195\n",
       "вдовец / вдова             959\n",
       "Name: family_status, dtype: int64"
      ]
     },
     "execution_count": 17,
     "metadata": {},
     "output_type": "execute_result"
    }
   ],
   "source": [
    "#посмотрим на семейное положение\n",
    "df['family_status'].value_counts()"
   ]
  },
  {
   "cell_type": "markdown",
   "id": "2480120a",
   "metadata": {},
   "source": [
    "С семейным положением все в норме, идем дальше"
   ]
  },
  {
   "cell_type": "code",
   "execution_count": 18,
   "id": "0f0710be",
   "metadata": {},
   "outputs": [
    {
     "data": {
      "text/plain": [
       "F      14189\n",
       "M       7281\n",
       "XNA        1\n",
       "Name: gender, dtype: int64"
      ]
     },
     "execution_count": 18,
     "metadata": {},
     "output_type": "execute_result"
    }
   ],
   "source": [
    "#Смотрим на пол\n",
    "df['gender'].value_counts()"
   ]
  },
  {
   "cell_type": "markdown",
   "id": "bf3225cf",
   "metadata": {},
   "source": [
    "Одна строка содержащая странные данные на исследование не повлияет"
   ]
  },
  {
   "cell_type": "code",
   "execution_count": 19,
   "id": "9c7f4e5f",
   "metadata": {},
   "outputs": [
    {
     "data": {
      "text/plain": [
       "сотрудник          11091\n",
       "компаньон           5080\n",
       "пенсионер           3837\n",
       "госслужащий         1457\n",
       "безработный            2\n",
       "предприниматель        2\n",
       "студент                1\n",
       "в декрете              1\n",
       "Name: income_type, dtype: int64"
      ]
     },
     "execution_count": 19,
     "metadata": {},
     "output_type": "execute_result"
    }
   ],
   "source": [
    "#Смотрим на тип занятости\n",
    "df['income_type'].value_counts()"
   ]
  },
  {
   "cell_type": "markdown",
   "id": "3ee0a8ae",
   "metadata": {},
   "source": [
    "С типом занятости все в норме, остальные столбцы выглядят в норме либо на дальнейшие исследования не повлияют, общую предобработку данных в целом можно считать выполненной."
   ]
  },
  {
   "cell_type": "markdown",
   "id": "7e951e64",
   "metadata": {},
   "source": [
    "### Шаг 2.5. Формирование дополнительных датафреймов словарей, декомпозиция исходного датафрейма."
   ]
  },
  {
   "cell_type": "markdown",
   "id": "b0929fb2",
   "metadata": {},
   "source": [
    "Создаем два новых датафрейма, в которых:\n",
    "каждому уникальному значению из education соответствует уникальное значение education_id — в первом;\n",
    "каждому уникальному значению из family_status соответствует уникальное значение family_status_id — во втором."
   ]
  },
  {
   "cell_type": "code",
   "execution_count": 20,
   "id": "a2dcef44",
   "metadata": {},
   "outputs": [],
   "source": [
    "#создаем два новых датафрейма\n",
    "education_all = df[['education', 'education_id']]\n",
    "family_status_all = df[['family_status', 'family_status_id']]"
   ]
  },
  {
   "cell_type": "code",
   "execution_count": 21,
   "id": "680e040a",
   "metadata": {},
   "outputs": [
    {
     "data": {
      "text/html": [
       "<div>\n",
       "<style scoped>\n",
       "    .dataframe tbody tr th:only-of-type {\n",
       "        vertical-align: middle;\n",
       "    }\n",
       "\n",
       "    .dataframe tbody tr th {\n",
       "        vertical-align: top;\n",
       "    }\n",
       "\n",
       "    .dataframe thead th {\n",
       "        text-align: right;\n",
       "    }\n",
       "</style>\n",
       "<table border=\"1\" class=\"dataframe\">\n",
       "  <thead>\n",
       "    <tr style=\"text-align: right;\">\n",
       "      <th></th>\n",
       "      <th>children</th>\n",
       "      <th>days_employed</th>\n",
       "      <th>dob_years</th>\n",
       "      <th>education_id</th>\n",
       "      <th>family_status_id</th>\n",
       "      <th>gender</th>\n",
       "      <th>income_type</th>\n",
       "      <th>debt</th>\n",
       "      <th>total_income</th>\n",
       "      <th>purpose</th>\n",
       "    </tr>\n",
       "  </thead>\n",
       "  <tbody>\n",
       "    <tr>\n",
       "      <th>0</th>\n",
       "      <td>1</td>\n",
       "      <td>8437</td>\n",
       "      <td>42</td>\n",
       "      <td>0</td>\n",
       "      <td>0</td>\n",
       "      <td>F</td>\n",
       "      <td>сотрудник</td>\n",
       "      <td>0</td>\n",
       "      <td>253875</td>\n",
       "      <td>покупка жилья</td>\n",
       "    </tr>\n",
       "    <tr>\n",
       "      <th>1</th>\n",
       "      <td>1</td>\n",
       "      <td>4024</td>\n",
       "      <td>36</td>\n",
       "      <td>1</td>\n",
       "      <td>0</td>\n",
       "      <td>F</td>\n",
       "      <td>сотрудник</td>\n",
       "      <td>0</td>\n",
       "      <td>112080</td>\n",
       "      <td>приобретение автомобиля</td>\n",
       "    </tr>\n",
       "    <tr>\n",
       "      <th>2</th>\n",
       "      <td>0</td>\n",
       "      <td>5623</td>\n",
       "      <td>33</td>\n",
       "      <td>1</td>\n",
       "      <td>0</td>\n",
       "      <td>M</td>\n",
       "      <td>сотрудник</td>\n",
       "      <td>0</td>\n",
       "      <td>145885</td>\n",
       "      <td>покупка жилья</td>\n",
       "    </tr>\n",
       "    <tr>\n",
       "      <th>3</th>\n",
       "      <td>3</td>\n",
       "      <td>4124</td>\n",
       "      <td>32</td>\n",
       "      <td>1</td>\n",
       "      <td>0</td>\n",
       "      <td>M</td>\n",
       "      <td>сотрудник</td>\n",
       "      <td>0</td>\n",
       "      <td>267628</td>\n",
       "      <td>дополнительное образование</td>\n",
       "    </tr>\n",
       "    <tr>\n",
       "      <th>4</th>\n",
       "      <td>0</td>\n",
       "      <td>340266</td>\n",
       "      <td>53</td>\n",
       "      <td>1</td>\n",
       "      <td>1</td>\n",
       "      <td>F</td>\n",
       "      <td>пенсионер</td>\n",
       "      <td>0</td>\n",
       "      <td>158616</td>\n",
       "      <td>сыграть свадьбу</td>\n",
       "    </tr>\n",
       "    <tr>\n",
       "      <th>...</th>\n",
       "      <td>...</td>\n",
       "      <td>...</td>\n",
       "      <td>...</td>\n",
       "      <td>...</td>\n",
       "      <td>...</td>\n",
       "      <td>...</td>\n",
       "      <td>...</td>\n",
       "      <td>...</td>\n",
       "      <td>...</td>\n",
       "      <td>...</td>\n",
       "    </tr>\n",
       "    <tr>\n",
       "      <th>21466</th>\n",
       "      <td>1</td>\n",
       "      <td>4529</td>\n",
       "      <td>43</td>\n",
       "      <td>1</td>\n",
       "      <td>1</td>\n",
       "      <td>F</td>\n",
       "      <td>компаньон</td>\n",
       "      <td>0</td>\n",
       "      <td>224791</td>\n",
       "      <td>операции с жильем</td>\n",
       "    </tr>\n",
       "    <tr>\n",
       "      <th>21467</th>\n",
       "      <td>0</td>\n",
       "      <td>343937</td>\n",
       "      <td>67</td>\n",
       "      <td>1</td>\n",
       "      <td>0</td>\n",
       "      <td>F</td>\n",
       "      <td>пенсионер</td>\n",
       "      <td>0</td>\n",
       "      <td>155999</td>\n",
       "      <td>сделка с автомобилем</td>\n",
       "    </tr>\n",
       "    <tr>\n",
       "      <th>21468</th>\n",
       "      <td>1</td>\n",
       "      <td>2113</td>\n",
       "      <td>38</td>\n",
       "      <td>1</td>\n",
       "      <td>1</td>\n",
       "      <td>M</td>\n",
       "      <td>сотрудник</td>\n",
       "      <td>1</td>\n",
       "      <td>89672</td>\n",
       "      <td>недвижимость</td>\n",
       "    </tr>\n",
       "    <tr>\n",
       "      <th>21469</th>\n",
       "      <td>3</td>\n",
       "      <td>3112</td>\n",
       "      <td>38</td>\n",
       "      <td>1</td>\n",
       "      <td>0</td>\n",
       "      <td>M</td>\n",
       "      <td>сотрудник</td>\n",
       "      <td>1</td>\n",
       "      <td>244093</td>\n",
       "      <td>на покупку своего автомобиля</td>\n",
       "    </tr>\n",
       "    <tr>\n",
       "      <th>21470</th>\n",
       "      <td>2</td>\n",
       "      <td>1984</td>\n",
       "      <td>40</td>\n",
       "      <td>1</td>\n",
       "      <td>0</td>\n",
       "      <td>F</td>\n",
       "      <td>сотрудник</td>\n",
       "      <td>0</td>\n",
       "      <td>82047</td>\n",
       "      <td>на покупку автомобиля</td>\n",
       "    </tr>\n",
       "  </tbody>\n",
       "</table>\n",
       "<p>21471 rows × 10 columns</p>\n",
       "</div>"
      ],
      "text/plain": [
       "       children  days_employed  dob_years  education_id  family_status_id  \\\n",
       "0             1           8437         42             0                 0   \n",
       "1             1           4024         36             1                 0   \n",
       "2             0           5623         33             1                 0   \n",
       "3             3           4124         32             1                 0   \n",
       "4             0         340266         53             1                 1   \n",
       "...         ...            ...        ...           ...               ...   \n",
       "21466         1           4529         43             1                 1   \n",
       "21467         0         343937         67             1                 0   \n",
       "21468         1           2113         38             1                 1   \n",
       "21469         3           3112         38             1                 0   \n",
       "21470         2           1984         40             1                 0   \n",
       "\n",
       "      gender income_type  debt  total_income                       purpose  \n",
       "0          F   сотрудник     0        253875                 покупка жилья  \n",
       "1          F   сотрудник     0        112080       приобретение автомобиля  \n",
       "2          M   сотрудник     0        145885                 покупка жилья  \n",
       "3          M   сотрудник     0        267628    дополнительное образование  \n",
       "4          F   пенсионер     0        158616               сыграть свадьбу  \n",
       "...      ...         ...   ...           ...                           ...  \n",
       "21466      F   компаньон     0        224791             операции с жильем  \n",
       "21467      F   пенсионер     0        155999          сделка с автомобилем  \n",
       "21468      M   сотрудник     1         89672                  недвижимость  \n",
       "21469      M   сотрудник     1        244093  на покупку своего автомобиля  \n",
       "21470      F   сотрудник     0         82047         на покупку автомобиля  \n",
       "\n",
       "[21471 rows x 10 columns]"
      ]
     },
     "execution_count": 21,
     "metadata": {},
     "output_type": "execute_result"
    }
   ],
   "source": [
    "#Удаляем из исходного датафрейма столбцы education и family_status\n",
    "df.drop(columns = ['education', 'family_status'],axis = 1)"
   ]
  },
  {
   "cell_type": "markdown",
   "id": "8a866d1e",
   "metadata": {},
   "source": [
    "### Шаг 2.6. Категоризация дохода."
   ]
  },
  {
   "cell_type": "markdown",
   "id": "e0c6067b",
   "metadata": {},
   "source": [
    "На основании диапазонов, указанных ниже, создаем столбец total_income_category с категориями:\n",
    "1. 0–30000 — 'E';\n",
    "2. 30001–50000 — 'D';\n",
    "3. 50001–200000 — 'C';\n",
    "4. 200001–1000000 — 'B';\n",
    "5. 1000001 и выше — 'A'."
   ]
  },
  {
   "cell_type": "code",
   "execution_count": 22,
   "id": "6e19b602",
   "metadata": {},
   "outputs": [
    {
     "data": {
      "text/html": [
       "<div>\n",
       "<style scoped>\n",
       "    .dataframe tbody tr th:only-of-type {\n",
       "        vertical-align: middle;\n",
       "    }\n",
       "\n",
       "    .dataframe tbody tr th {\n",
       "        vertical-align: top;\n",
       "    }\n",
       "\n",
       "    .dataframe thead th {\n",
       "        text-align: right;\n",
       "    }\n",
       "</style>\n",
       "<table border=\"1\" class=\"dataframe\">\n",
       "  <thead>\n",
       "    <tr style=\"text-align: right;\">\n",
       "      <th></th>\n",
       "      <th>children</th>\n",
       "      <th>days_employed</th>\n",
       "      <th>dob_years</th>\n",
       "      <th>education</th>\n",
       "      <th>education_id</th>\n",
       "      <th>family_status</th>\n",
       "      <th>family_status_id</th>\n",
       "      <th>gender</th>\n",
       "      <th>income_type</th>\n",
       "      <th>debt</th>\n",
       "      <th>total_income</th>\n",
       "      <th>purpose</th>\n",
       "      <th>total_income_category</th>\n",
       "    </tr>\n",
       "  </thead>\n",
       "  <tbody>\n",
       "    <tr>\n",
       "      <th>0</th>\n",
       "      <td>1</td>\n",
       "      <td>8437</td>\n",
       "      <td>42</td>\n",
       "      <td>высшее</td>\n",
       "      <td>0</td>\n",
       "      <td>женат / замужем</td>\n",
       "      <td>0</td>\n",
       "      <td>F</td>\n",
       "      <td>сотрудник</td>\n",
       "      <td>0</td>\n",
       "      <td>253875</td>\n",
       "      <td>покупка жилья</td>\n",
       "      <td>B</td>\n",
       "    </tr>\n",
       "    <tr>\n",
       "      <th>1</th>\n",
       "      <td>1</td>\n",
       "      <td>4024</td>\n",
       "      <td>36</td>\n",
       "      <td>среднее</td>\n",
       "      <td>1</td>\n",
       "      <td>женат / замужем</td>\n",
       "      <td>0</td>\n",
       "      <td>F</td>\n",
       "      <td>сотрудник</td>\n",
       "      <td>0</td>\n",
       "      <td>112080</td>\n",
       "      <td>приобретение автомобиля</td>\n",
       "      <td>C</td>\n",
       "    </tr>\n",
       "    <tr>\n",
       "      <th>2</th>\n",
       "      <td>0</td>\n",
       "      <td>5623</td>\n",
       "      <td>33</td>\n",
       "      <td>среднее</td>\n",
       "      <td>1</td>\n",
       "      <td>женат / замужем</td>\n",
       "      <td>0</td>\n",
       "      <td>M</td>\n",
       "      <td>сотрудник</td>\n",
       "      <td>0</td>\n",
       "      <td>145885</td>\n",
       "      <td>покупка жилья</td>\n",
       "      <td>C</td>\n",
       "    </tr>\n",
       "    <tr>\n",
       "      <th>3</th>\n",
       "      <td>3</td>\n",
       "      <td>4124</td>\n",
       "      <td>32</td>\n",
       "      <td>среднее</td>\n",
       "      <td>1</td>\n",
       "      <td>женат / замужем</td>\n",
       "      <td>0</td>\n",
       "      <td>M</td>\n",
       "      <td>сотрудник</td>\n",
       "      <td>0</td>\n",
       "      <td>267628</td>\n",
       "      <td>дополнительное образование</td>\n",
       "      <td>B</td>\n",
       "    </tr>\n",
       "    <tr>\n",
       "      <th>4</th>\n",
       "      <td>0</td>\n",
       "      <td>340266</td>\n",
       "      <td>53</td>\n",
       "      <td>среднее</td>\n",
       "      <td>1</td>\n",
       "      <td>гражданский брак</td>\n",
       "      <td>1</td>\n",
       "      <td>F</td>\n",
       "      <td>пенсионер</td>\n",
       "      <td>0</td>\n",
       "      <td>158616</td>\n",
       "      <td>сыграть свадьбу</td>\n",
       "      <td>C</td>\n",
       "    </tr>\n",
       "  </tbody>\n",
       "</table>\n",
       "</div>"
      ],
      "text/plain": [
       "   children  days_employed  dob_years education  education_id  \\\n",
       "0         1           8437         42    высшее             0   \n",
       "1         1           4024         36   среднее             1   \n",
       "2         0           5623         33   среднее             1   \n",
       "3         3           4124         32   среднее             1   \n",
       "4         0         340266         53   среднее             1   \n",
       "\n",
       "      family_status  family_status_id gender income_type  debt  total_income  \\\n",
       "0   женат / замужем                 0      F   сотрудник     0        253875   \n",
       "1   женат / замужем                 0      F   сотрудник     0        112080   \n",
       "2   женат / замужем                 0      M   сотрудник     0        145885   \n",
       "3   женат / замужем                 0      M   сотрудник     0        267628   \n",
       "4  гражданский брак                 1      F   пенсионер     0        158616   \n",
       "\n",
       "                      purpose total_income_category  \n",
       "0               покупка жилья                     B  \n",
       "1     приобретение автомобиля                     C  \n",
       "2               покупка жилья                     C  \n",
       "3  дополнительное образование                     B  \n",
       "4             сыграть свадьбу                     C  "
      ]
     },
     "metadata": {},
     "output_type": "display_data"
    }
   ],
   "source": [
    "#Создадим функцию\n",
    "def total_income_category(row):\n",
    "    if row['total_income'] <= 30000:\n",
    "        return 'E'\n",
    "    elif 30001 < row['total_income'] <= 50000:\n",
    "        return 'D'\n",
    "    elif 50001 < row['total_income'] < 200000:\n",
    "        return 'C'\n",
    "    elif 200001 < row['total_income'] < 1000000:\n",
    "        return 'B'\n",
    "    else:\n",
    "        return 'A'\n",
    "df['total_income_category'] = df.apply(total_income_category, axis=1)\n",
    "display(df.head())"
   ]
  },
  {
   "cell_type": "markdown",
   "id": "7ff7c871",
   "metadata": {},
   "source": [
    "### Шаг 2.7. Категоризация целей кредита."
   ]
  },
  {
   "cell_type": "code",
   "execution_count": 23,
   "id": "f1a8fabe",
   "metadata": {},
   "outputs": [
    {
     "data": {
      "text/html": [
       "<div>\n",
       "<style scoped>\n",
       "    .dataframe tbody tr th:only-of-type {\n",
       "        vertical-align: middle;\n",
       "    }\n",
       "\n",
       "    .dataframe tbody tr th {\n",
       "        vertical-align: top;\n",
       "    }\n",
       "\n",
       "    .dataframe thead th {\n",
       "        text-align: right;\n",
       "    }\n",
       "</style>\n",
       "<table border=\"1\" class=\"dataframe\">\n",
       "  <thead>\n",
       "    <tr style=\"text-align: right;\">\n",
       "      <th></th>\n",
       "      <th>children</th>\n",
       "      <th>days_employed</th>\n",
       "      <th>dob_years</th>\n",
       "      <th>education</th>\n",
       "      <th>education_id</th>\n",
       "      <th>family_status</th>\n",
       "      <th>family_status_id</th>\n",
       "      <th>gender</th>\n",
       "      <th>income_type</th>\n",
       "      <th>debt</th>\n",
       "      <th>total_income</th>\n",
       "      <th>purpose</th>\n",
       "      <th>total_income_category</th>\n",
       "      <th>purpose_category</th>\n",
       "    </tr>\n",
       "  </thead>\n",
       "  <tbody>\n",
       "    <tr>\n",
       "      <th>0</th>\n",
       "      <td>1</td>\n",
       "      <td>8437</td>\n",
       "      <td>42</td>\n",
       "      <td>высшее</td>\n",
       "      <td>0</td>\n",
       "      <td>женат / замужем</td>\n",
       "      <td>0</td>\n",
       "      <td>F</td>\n",
       "      <td>сотрудник</td>\n",
       "      <td>0</td>\n",
       "      <td>253875</td>\n",
       "      <td>покупка жилья</td>\n",
       "      <td>B</td>\n",
       "      <td>Операции с недвижимостью</td>\n",
       "    </tr>\n",
       "    <tr>\n",
       "      <th>1</th>\n",
       "      <td>1</td>\n",
       "      <td>4024</td>\n",
       "      <td>36</td>\n",
       "      <td>среднее</td>\n",
       "      <td>1</td>\n",
       "      <td>женат / замужем</td>\n",
       "      <td>0</td>\n",
       "      <td>F</td>\n",
       "      <td>сотрудник</td>\n",
       "      <td>0</td>\n",
       "      <td>112080</td>\n",
       "      <td>приобретение автомобиля</td>\n",
       "      <td>C</td>\n",
       "      <td>Операции с автомобилем</td>\n",
       "    </tr>\n",
       "    <tr>\n",
       "      <th>2</th>\n",
       "      <td>0</td>\n",
       "      <td>5623</td>\n",
       "      <td>33</td>\n",
       "      <td>среднее</td>\n",
       "      <td>1</td>\n",
       "      <td>женат / замужем</td>\n",
       "      <td>0</td>\n",
       "      <td>M</td>\n",
       "      <td>сотрудник</td>\n",
       "      <td>0</td>\n",
       "      <td>145885</td>\n",
       "      <td>покупка жилья</td>\n",
       "      <td>C</td>\n",
       "      <td>Операции с недвижимостью</td>\n",
       "    </tr>\n",
       "    <tr>\n",
       "      <th>3</th>\n",
       "      <td>3</td>\n",
       "      <td>4124</td>\n",
       "      <td>32</td>\n",
       "      <td>среднее</td>\n",
       "      <td>1</td>\n",
       "      <td>женат / замужем</td>\n",
       "      <td>0</td>\n",
       "      <td>M</td>\n",
       "      <td>сотрудник</td>\n",
       "      <td>0</td>\n",
       "      <td>267628</td>\n",
       "      <td>дополнительное образование</td>\n",
       "      <td>B</td>\n",
       "      <td>Получение образования</td>\n",
       "    </tr>\n",
       "    <tr>\n",
       "      <th>4</th>\n",
       "      <td>0</td>\n",
       "      <td>340266</td>\n",
       "      <td>53</td>\n",
       "      <td>среднее</td>\n",
       "      <td>1</td>\n",
       "      <td>гражданский брак</td>\n",
       "      <td>1</td>\n",
       "      <td>F</td>\n",
       "      <td>пенсионер</td>\n",
       "      <td>0</td>\n",
       "      <td>158616</td>\n",
       "      <td>сыграть свадьбу</td>\n",
       "      <td>C</td>\n",
       "      <td>Проведение свадьбы</td>\n",
       "    </tr>\n",
       "  </tbody>\n",
       "</table>\n",
       "</div>"
      ],
      "text/plain": [
       "   children  days_employed  dob_years education  education_id  \\\n",
       "0         1           8437         42    высшее             0   \n",
       "1         1           4024         36   среднее             1   \n",
       "2         0           5623         33   среднее             1   \n",
       "3         3           4124         32   среднее             1   \n",
       "4         0         340266         53   среднее             1   \n",
       "\n",
       "      family_status  family_status_id gender income_type  debt  total_income  \\\n",
       "0   женат / замужем                 0      F   сотрудник     0        253875   \n",
       "1   женат / замужем                 0      F   сотрудник     0        112080   \n",
       "2   женат / замужем                 0      M   сотрудник     0        145885   \n",
       "3   женат / замужем                 0      M   сотрудник     0        267628   \n",
       "4  гражданский брак                 1      F   пенсионер     0        158616   \n",
       "\n",
       "                      purpose total_income_category          purpose_category  \n",
       "0               покупка жилья                     B  Операции с недвижимостью  \n",
       "1     приобретение автомобиля                     C    Операции с автомобилем  \n",
       "2               покупка жилья                     C  Операции с недвижимостью  \n",
       "3  дополнительное образование                     B     Получение образования  \n",
       "4             сыграть свадьбу                     C        Проведение свадьбы  "
      ]
     },
     "metadata": {},
     "output_type": "display_data"
    }
   ],
   "source": [
    "#Напишем функцию для точного отображения целей кредита\n",
    "def purpose_category(row):\n",
    "    if 'образован' in row['purpose']:\n",
    "             return 'Получение образования'\n",
    "    if 'авто' in row['purpose']:\n",
    "             return 'Операции с автомобилем'\n",
    "    if 'свадь' in row['purpose']:\n",
    "             return 'Проведение свадьбы'\n",
    "    if 'жиль' in row['purpose'] or 'недв' in row['purpose']:\n",
    "             return 'Операции с недвижимостью'\n",
    "    return 'Без категории'\n",
    "df['purpose_category'] = df.apply(purpose_category, axis=1)\n",
    "display(df.head())"
   ]
  },
  {
   "cell_type": "markdown",
   "id": "15985c3d",
   "metadata": {},
   "source": [
    "### Ответы на вопросы."
   ]
  },
  {
   "cell_type": "markdown",
   "id": "f12396b3",
   "metadata": {},
   "source": [
    "##### Есть ли зависимость между количеством детей и возвратом кредита в срок?"
   ]
  },
  {
   "cell_type": "code",
   "execution_count": 24,
   "id": "ac5b3362",
   "metadata": {},
   "outputs": [
    {
     "data": {
      "text/html": [
       "<div>\n",
       "<style scoped>\n",
       "    .dataframe tbody tr th:only-of-type {\n",
       "        vertical-align: middle;\n",
       "    }\n",
       "\n",
       "    .dataframe tbody tr th {\n",
       "        vertical-align: top;\n",
       "    }\n",
       "\n",
       "    .dataframe thead th {\n",
       "        text-align: right;\n",
       "    }\n",
       "</style>\n",
       "<table border=\"1\" class=\"dataframe\">\n",
       "  <thead>\n",
       "    <tr style=\"text-align: right;\">\n",
       "      <th>debt</th>\n",
       "      <th>0</th>\n",
       "      <th>1</th>\n",
       "      <th>result</th>\n",
       "    </tr>\n",
       "    <tr>\n",
       "      <th>children</th>\n",
       "      <th></th>\n",
       "      <th></th>\n",
       "      <th></th>\n",
       "    </tr>\n",
       "  </thead>\n",
       "  <tbody>\n",
       "    <tr>\n",
       "      <th>4</th>\n",
       "      <td>37.0</td>\n",
       "      <td>4.0</td>\n",
       "      <td>9.756098</td>\n",
       "    </tr>\n",
       "    <tr>\n",
       "      <th>2</th>\n",
       "      <td>1926.0</td>\n",
       "      <td>202.0</td>\n",
       "      <td>9.492481</td>\n",
       "    </tr>\n",
       "    <tr>\n",
       "      <th>1</th>\n",
       "      <td>4411.0</td>\n",
       "      <td>445.0</td>\n",
       "      <td>9.163921</td>\n",
       "    </tr>\n",
       "    <tr>\n",
       "      <th>3</th>\n",
       "      <td>303.0</td>\n",
       "      <td>27.0</td>\n",
       "      <td>8.181818</td>\n",
       "    </tr>\n",
       "    <tr>\n",
       "      <th>0</th>\n",
       "      <td>13044.0</td>\n",
       "      <td>1063.0</td>\n",
       "      <td>7.535266</td>\n",
       "    </tr>\n",
       "    <tr>\n",
       "      <th>5</th>\n",
       "      <td>9.0</td>\n",
       "      <td>NaN</td>\n",
       "      <td>NaN</td>\n",
       "    </tr>\n",
       "  </tbody>\n",
       "</table>\n",
       "</div>"
      ],
      "text/plain": [
       "debt            0       1    result\n",
       "children                           \n",
       "4            37.0     4.0  9.756098\n",
       "2          1926.0   202.0  9.492481\n",
       "1          4411.0   445.0  9.163921\n",
       "3           303.0    27.0  8.181818\n",
       "0         13044.0  1063.0  7.535266\n",
       "5             9.0     NaN       NaN"
      ]
     },
     "metadata": {},
     "output_type": "display_data"
    }
   ],
   "source": [
    "#Создадим сводную таблицу по интересущим нас данным для наглядности\n",
    "#Добавим столбец 'result', в котором отобразим отношение одной и той же категории людей, которые либо имели либо не имели задолжность\n",
    "#Отсортируем по уменьшению\n",
    "children_pivot = df.pivot_table(index = ['children'], columns = ['debt'], values = 'purpose_category', aggfunc='count')\n",
    "children_pivot['result'] = children_pivot[1] / (children_pivot[0]+ children_pivot[1]) *100\n",
    "\n",
    "display(children_pivot.sort_values('result', ascending = False))"
   ]
  },
  {
   "cell_type": "markdown",
   "id": "b98cb9d0",
   "metadata": {},
   "source": [
    "#### Вывод:\n",
    "С увеличением количества детей просматривается увеличение количества просроченных задолженностей, несмотря на это, люди с 3 детьми чаще платят в срок чем люди с 1 ребенком. Возможно, нужна более крупная выборка для получения более детальных и точных выводов. Так же мы можем отметить, что бездетные, как правило, реже просрачивают оплату по кредиту, чем люди с детьми."
   ]
  },
  {
   "cell_type": "markdown",
   "id": "32d9d7a2",
   "metadata": {},
   "source": [
    "##### Есть ли зависимость между семейным положением и возвратом кредита в срок?"
   ]
  },
  {
   "cell_type": "code",
   "execution_count": 25,
   "id": "0a7fa49b",
   "metadata": {},
   "outputs": [
    {
     "data": {
      "text/html": [
       "<div>\n",
       "<style scoped>\n",
       "    .dataframe tbody tr th:only-of-type {\n",
       "        vertical-align: middle;\n",
       "    }\n",
       "\n",
       "    .dataframe tbody tr th {\n",
       "        vertical-align: top;\n",
       "    }\n",
       "\n",
       "    .dataframe thead th {\n",
       "        text-align: right;\n",
       "    }\n",
       "</style>\n",
       "<table border=\"1\" class=\"dataframe\">\n",
       "  <thead>\n",
       "    <tr style=\"text-align: right;\">\n",
       "      <th>debt</th>\n",
       "      <th>0</th>\n",
       "      <th>1</th>\n",
       "      <th>result</th>\n",
       "    </tr>\n",
       "    <tr>\n",
       "      <th>family_status</th>\n",
       "      <th></th>\n",
       "      <th></th>\n",
       "      <th></th>\n",
       "    </tr>\n",
       "  </thead>\n",
       "  <tbody>\n",
       "    <tr>\n",
       "      <th>Не женат / не замужем</th>\n",
       "      <td>2536</td>\n",
       "      <td>274</td>\n",
       "      <td>9.750890</td>\n",
       "    </tr>\n",
       "    <tr>\n",
       "      <th>гражданский брак</th>\n",
       "      <td>3775</td>\n",
       "      <td>388</td>\n",
       "      <td>9.320202</td>\n",
       "    </tr>\n",
       "    <tr>\n",
       "      <th>женат / замужем</th>\n",
       "      <td>11413</td>\n",
       "      <td>931</td>\n",
       "      <td>7.542126</td>\n",
       "    </tr>\n",
       "    <tr>\n",
       "      <th>в разводе</th>\n",
       "      <td>1110</td>\n",
       "      <td>85</td>\n",
       "      <td>7.112971</td>\n",
       "    </tr>\n",
       "    <tr>\n",
       "      <th>вдовец / вдова</th>\n",
       "      <td>896</td>\n",
       "      <td>63</td>\n",
       "      <td>6.569343</td>\n",
       "    </tr>\n",
       "  </tbody>\n",
       "</table>\n",
       "</div>"
      ],
      "text/plain": [
       "debt                       0    1    result\n",
       "family_status                              \n",
       "Не женат / не замужем   2536  274  9.750890\n",
       "гражданский брак        3775  388  9.320202\n",
       "женат / замужем        11413  931  7.542126\n",
       "в разводе               1110   85  7.112971\n",
       "вдовец / вдова           896   63  6.569343"
      ]
     },
     "metadata": {},
     "output_type": "display_data"
    }
   ],
   "source": [
    "#Создадим сводную таблицу по интересущим нас данным для наглядности\n",
    "#Добавим столбец 'result', в котором отобразим отношение одной и той же категории людей, которые либо имели либо не имели задолжность\n",
    "#Отсортируем по уменьшению\n",
    "family_status_pivot = df.pivot_table(index=['family_status'], columns=['debt'], values='total_income_category', aggfunc='count')\n",
    "family_status_pivot['result'] = family_status_pivot[1] / (family_status_pivot[0]+family_status_pivot[1]) * 100\n",
    "display(family_status_pivot.sort_values('result', ascending = False))"
   ]
  },
  {
   "cell_type": "markdown",
   "id": "8e696a21",
   "metadata": {},
   "source": [
    "#### Вывод:\n",
    "Семейный статус влияет на вероятность платежей по кредиту в срок - люди в разводе чаще плятят в срок чем те, кто не бывали в браке. А разведенные и овдовевшие платят в срок чаще, чем люди в браке."
   ]
  },
  {
   "cell_type": "markdown",
   "id": "f9b87cba",
   "metadata": {},
   "source": [
    "##### Есть ли зависимость между уровнем дохода и возвратом кредита в срок?"
   ]
  },
  {
   "cell_type": "code",
   "execution_count": 26,
   "id": "4cad4dcf",
   "metadata": {},
   "outputs": [
    {
     "data": {
      "text/html": [
       "<div>\n",
       "<style scoped>\n",
       "    .dataframe tbody tr th:only-of-type {\n",
       "        vertical-align: middle;\n",
       "    }\n",
       "\n",
       "    .dataframe tbody tr th {\n",
       "        vertical-align: top;\n",
       "    }\n",
       "\n",
       "    .dataframe thead th {\n",
       "        text-align: right;\n",
       "    }\n",
       "</style>\n",
       "<table border=\"1\" class=\"dataframe\">\n",
       "  <thead>\n",
       "    <tr style=\"text-align: right;\">\n",
       "      <th>debt</th>\n",
       "      <th>0</th>\n",
       "      <th>1</th>\n",
       "      <th>result</th>\n",
       "    </tr>\n",
       "    <tr>\n",
       "      <th>total_income_category</th>\n",
       "      <th></th>\n",
       "      <th></th>\n",
       "      <th></th>\n",
       "    </tr>\n",
       "  </thead>\n",
       "  <tbody>\n",
       "    <tr>\n",
       "      <th>E</th>\n",
       "      <td>20</td>\n",
       "      <td>2</td>\n",
       "      <td>9.090909</td>\n",
       "    </tr>\n",
       "    <tr>\n",
       "      <th>C</th>\n",
       "      <td>14673</td>\n",
       "      <td>1360</td>\n",
       "      <td>8.482505</td>\n",
       "    </tr>\n",
       "    <tr>\n",
       "      <th>A</th>\n",
       "      <td>24</td>\n",
       "      <td>2</td>\n",
       "      <td>7.692308</td>\n",
       "    </tr>\n",
       "    <tr>\n",
       "      <th>B</th>\n",
       "      <td>4684</td>\n",
       "      <td>356</td>\n",
       "      <td>7.063492</td>\n",
       "    </tr>\n",
       "    <tr>\n",
       "      <th>D</th>\n",
       "      <td>329</td>\n",
       "      <td>21</td>\n",
       "      <td>6.000000</td>\n",
       "    </tr>\n",
       "  </tbody>\n",
       "</table>\n",
       "</div>"
      ],
      "text/plain": [
       "debt                       0     1    result\n",
       "total_income_category                       \n",
       "E                         20     2  9.090909\n",
       "C                      14673  1360  8.482505\n",
       "A                         24     2  7.692308\n",
       "B                       4684   356  7.063492\n",
       "D                        329    21  6.000000"
      ]
     },
     "metadata": {},
     "output_type": "display_data"
    }
   ],
   "source": [
    "#Создадим сводную таблицу по интересущим нас данным для наглядности\n",
    "#Добавим столбец 'result', в котором отобразим отношение одной и той же категории людей, которые либо имели либо не имели задолжность\n",
    "#Отсортируем по уменьшению\n",
    "total_income_pivot = df.pivot_table(index=['total_income_category'], columns=['debt'], values='education_id', aggfunc='count')\n",
    "total_income_pivot['result'] = total_income_pivot[1] / (total_income_pivot[0]+total_income_pivot[1]) * 100\n",
    "display(total_income_pivot.sort_values('result', ascending = False))"
   ]
  },
  {
   "cell_type": "markdown",
   "id": "e9565d63",
   "metadata": {},
   "source": [
    "#### Вывод:\n",
    "Зависимости между уровнем уровнем дохода и возвратом кредита в срок нет."
   ]
  },
  {
   "cell_type": "markdown",
   "id": "df062a1d",
   "metadata": {},
   "source": [
    "##### Как разные цели кредита влияют на его возврат в срок?"
   ]
  },
  {
   "cell_type": "code",
   "execution_count": 27,
   "id": "73699165",
   "metadata": {},
   "outputs": [
    {
     "data": {
      "text/html": [
       "<div>\n",
       "<style scoped>\n",
       "    .dataframe tbody tr th:only-of-type {\n",
       "        vertical-align: middle;\n",
       "    }\n",
       "\n",
       "    .dataframe tbody tr th {\n",
       "        vertical-align: top;\n",
       "    }\n",
       "\n",
       "    .dataframe thead th {\n",
       "        text-align: right;\n",
       "    }\n",
       "</style>\n",
       "<table border=\"1\" class=\"dataframe\">\n",
       "  <thead>\n",
       "    <tr style=\"text-align: right;\">\n",
       "      <th>debt</th>\n",
       "      <th>0</th>\n",
       "      <th>1</th>\n",
       "      <th>result</th>\n",
       "    </tr>\n",
       "    <tr>\n",
       "      <th>purpose_category</th>\n",
       "      <th></th>\n",
       "      <th></th>\n",
       "      <th></th>\n",
       "    </tr>\n",
       "  </thead>\n",
       "  <tbody>\n",
       "    <tr>\n",
       "      <th>Операции с автомобилем</th>\n",
       "      <td>3905</td>\n",
       "      <td>403</td>\n",
       "      <td>9.354689</td>\n",
       "    </tr>\n",
       "    <tr>\n",
       "      <th>Получение образования</th>\n",
       "      <td>3644</td>\n",
       "      <td>370</td>\n",
       "      <td>9.217738</td>\n",
       "    </tr>\n",
       "    <tr>\n",
       "      <th>Проведение свадьбы</th>\n",
       "      <td>2149</td>\n",
       "      <td>186</td>\n",
       "      <td>7.965739</td>\n",
       "    </tr>\n",
       "    <tr>\n",
       "      <th>Операции с недвижимостью</th>\n",
       "      <td>10032</td>\n",
       "      <td>782</td>\n",
       "      <td>7.231367</td>\n",
       "    </tr>\n",
       "  </tbody>\n",
       "</table>\n",
       "</div>"
      ],
      "text/plain": [
       "debt                          0    1    result\n",
       "purpose_category                              \n",
       "Операции с автомобилем     3905  403  9.354689\n",
       "Получение образования      3644  370  9.217738\n",
       "Проведение свадьбы         2149  186  7.965739\n",
       "Операции с недвижимостью  10032  782  7.231367"
      ]
     },
     "metadata": {},
     "output_type": "display_data"
    }
   ],
   "source": [
    "#Создадим сводную таблицу по интересущим нас данным для наглядности\n",
    "#Добавим столбец 'result', в котором отобразим отношение одной и той же категории людей, которые либо имели либо не имели задолжность\n",
    "#Отсортируем по уменьшению\n",
    "purpose_category_pivot = df.pivot_table(index=['purpose_category'], columns=['debt'], values='education_id', aggfunc='count')\n",
    "purpose_category_pivot['result'] = purpose_category_pivot[1] / (purpose_category_pivot[0]+purpose_category_pivot[1]) * 100\n",
    "display(purpose_category_pivot.sort_values('result', ascending = False))"
   ]
  },
  {
   "cell_type": "markdown",
   "id": "c7be5441",
   "metadata": {},
   "source": [
    "#### Вывод:\n",
    "Цели кредита влияют.\n",
    "Свадьбы и недвижимость как цели влияют на срок возврата лучше всего."
   ]
  },
  {
   "cell_type": "markdown",
   "id": "e36f21a2",
   "metadata": {},
   "source": [
    "## Общий вывод:"
   ]
  },
  {
   "cell_type": "markdown",
   "id": "1f6eec07",
   "metadata": {},
   "source": [
    "Есть различные зависимости между целями кредита, семейным положением, уровнем дохода и количеством детей в семье. Внимание следует уделить вдовам/вдовцам и людям в разводе — с ними могут риски по невозврату кредитов выше. Так же стоит обратить внимание на цели кредита, так как они тоже имеют влияние на возврат.\n",
    "\n",
    "Гипотезы проверены, для некоторых вопросов потребуется более крупная выборка.\n",
    "\n",
    "Из полученных результатов можем сделать два вывода:\n",
    "\n",
    "-Люди берущие кредит с оформленными отношениями (или которые в прошлом были в браке) и не имеющие детей - самые ответственные заемщики;\n",
    "\n",
    "-Люди берущие кредит и состоящие в неофициальном браке или находящиеся без отношений, при этом имеющие 1 или 2 детей -  самые безответственные заемщики.\n",
    "\n",
    "Общий портрет клиента с наибольшей вероятностью просрочки: не женат либо с неофициально оформленными отношениями, имеющий 1, 2 или 4 детей, с доходом до 30000 тысяч и с целью покупки авто "
   ]
  }
 ],
 "metadata": {
  "ExecuteTimeLog": [
   {
    "duration": 555,
    "start_time": "2022-03-28T11:22:26.217Z"
   },
   {
    "duration": 69,
    "start_time": "2022-03-28T11:22:28.446Z"
   },
   {
    "duration": 29,
    "start_time": "2022-03-28T11:24:48.637Z"
   },
   {
    "duration": 21,
    "start_time": "2022-03-28T11:29:01.106Z"
   },
   {
    "duration": 47,
    "start_time": "2022-03-29T07:35:32.447Z"
   },
   {
    "duration": 6,
    "start_time": "2022-03-29T07:36:05.401Z"
   },
   {
    "duration": 404,
    "start_time": "2022-03-29T07:36:14.899Z"
   },
   {
    "duration": 76,
    "start_time": "2022-03-29T07:36:15.307Z"
   },
   {
    "duration": 21,
    "start_time": "2022-03-29T07:36:15.385Z"
   },
   {
    "duration": 14,
    "start_time": "2022-03-29T07:36:15.408Z"
   },
   {
    "duration": 5,
    "start_time": "2022-03-29T07:36:15.424Z"
   },
   {
    "duration": 5,
    "start_time": "2022-03-29T07:36:33.627Z"
   },
   {
    "duration": 4,
    "start_time": "2022-03-29T07:37:19.145Z"
   },
   {
    "duration": 16,
    "start_time": "2022-03-29T07:41:04.110Z"
   },
   {
    "duration": 51,
    "start_time": "2022-03-29T08:11:05.000Z"
   },
   {
    "duration": 460,
    "start_time": "2022-03-29T08:11:10.860Z"
   },
   {
    "duration": 74,
    "start_time": "2022-03-29T08:11:11.322Z"
   },
   {
    "duration": 24,
    "start_time": "2022-03-29T08:11:11.398Z"
   },
   {
    "duration": 32,
    "start_time": "2022-03-29T08:11:11.425Z"
   },
   {
    "duration": 15,
    "start_time": "2022-03-29T08:11:11.459Z"
   },
   {
    "duration": 13,
    "start_time": "2022-03-29T08:11:11.501Z"
   },
   {
    "duration": 12,
    "start_time": "2022-03-29T08:12:03.754Z"
   },
   {
    "duration": 12,
    "start_time": "2022-03-29T08:12:14.396Z"
   },
   {
    "duration": 77,
    "start_time": "2022-03-30T07:54:43.056Z"
   },
   {
    "duration": 524,
    "start_time": "2022-03-30T07:54:50.232Z"
   },
   {
    "duration": 77,
    "start_time": "2022-03-30T07:54:50.759Z"
   },
   {
    "duration": 33,
    "start_time": "2022-03-30T07:54:50.839Z"
   },
   {
    "duration": 23,
    "start_time": "2022-03-30T07:54:50.875Z"
   },
   {
    "duration": 15,
    "start_time": "2022-03-30T07:54:50.900Z"
   },
   {
    "duration": 138,
    "start_time": "2022-03-30T07:54:50.918Z"
   },
   {
    "duration": 5,
    "start_time": "2022-03-30T07:55:32.655Z"
   },
   {
    "duration": 18,
    "start_time": "2022-03-30T07:55:42.180Z"
   },
   {
    "duration": 18,
    "start_time": "2022-03-30T07:56:18.066Z"
   },
   {
    "duration": 17,
    "start_time": "2022-03-30T07:56:43.874Z"
   },
   {
    "duration": 15,
    "start_time": "2022-03-30T07:57:38.597Z"
   },
   {
    "duration": 171,
    "start_time": "2022-03-30T10:20:27.360Z"
   },
   {
    "duration": 126,
    "start_time": "2022-03-30T10:20:34.892Z"
   },
   {
    "duration": 569,
    "start_time": "2022-03-30T10:20:43.478Z"
   },
   {
    "duration": 84,
    "start_time": "2022-03-30T10:20:44.050Z"
   },
   {
    "duration": 31,
    "start_time": "2022-03-30T10:20:44.136Z"
   },
   {
    "duration": 28,
    "start_time": "2022-03-30T10:20:44.183Z"
   },
   {
    "duration": 18,
    "start_time": "2022-03-30T10:20:44.214Z"
   },
   {
    "duration": 27,
    "start_time": "2022-03-30T10:20:44.235Z"
   },
   {
    "duration": 9,
    "start_time": "2022-03-30T10:20:44.285Z"
   },
   {
    "duration": 18,
    "start_time": "2022-03-30T10:49:49.850Z"
   },
   {
    "duration": 18,
    "start_time": "2022-03-30T11:01:26.998Z"
   },
   {
    "duration": 13,
    "start_time": "2022-03-30T11:01:40.623Z"
   },
   {
    "duration": 15,
    "start_time": "2022-03-30T11:01:51.363Z"
   },
   {
    "duration": 558,
    "start_time": "2022-03-30T11:02:25.745Z"
   },
   {
    "duration": 74,
    "start_time": "2022-03-30T11:02:26.305Z"
   },
   {
    "duration": 31,
    "start_time": "2022-03-30T11:02:26.384Z"
   },
   {
    "duration": 23,
    "start_time": "2022-03-30T11:02:26.417Z"
   },
   {
    "duration": 43,
    "start_time": "2022-03-30T11:02:26.442Z"
   },
   {
    "duration": 16,
    "start_time": "2022-03-30T11:02:26.487Z"
   },
   {
    "duration": 18,
    "start_time": "2022-03-30T11:02:26.505Z"
   },
   {
    "duration": 17,
    "start_time": "2022-03-30T11:02:26.525Z"
   },
   {
    "duration": 20,
    "start_time": "2022-03-30T11:06:22.888Z"
   },
   {
    "duration": 8,
    "start_time": "2022-03-30T11:06:57.201Z"
   },
   {
    "duration": 18,
    "start_time": "2022-03-30T11:07:01.530Z"
   },
   {
    "duration": 542,
    "start_time": "2022-03-30T11:07:08.849Z"
   },
   {
    "duration": 78,
    "start_time": "2022-03-30T11:07:09.394Z"
   },
   {
    "duration": 31,
    "start_time": "2022-03-30T11:07:09.474Z"
   },
   {
    "duration": 20,
    "start_time": "2022-03-30T11:07:09.508Z"
   },
   {
    "duration": 14,
    "start_time": "2022-03-30T11:07:09.530Z"
   },
   {
    "duration": 49,
    "start_time": "2022-03-30T11:07:09.546Z"
   },
   {
    "duration": 8,
    "start_time": "2022-03-30T11:07:09.597Z"
   },
   {
    "duration": 16,
    "start_time": "2022-03-30T11:07:09.608Z"
   },
   {
    "duration": 98,
    "start_time": "2022-03-30T11:09:07.582Z"
   },
   {
    "duration": 16,
    "start_time": "2022-03-30T11:09:43.015Z"
   },
   {
    "duration": 37,
    "start_time": "2022-03-30T11:09:50.031Z"
   },
   {
    "duration": 20,
    "start_time": "2022-03-30T11:09:56.659Z"
   },
   {
    "duration": 661,
    "start_time": "2022-03-30T11:10:06.522Z"
   },
   {
    "duration": 104,
    "start_time": "2022-03-30T11:10:07.186Z"
   },
   {
    "duration": 35,
    "start_time": "2022-03-30T11:10:07.293Z"
   },
   {
    "duration": 24,
    "start_time": "2022-03-30T11:10:07.331Z"
   },
   {
    "duration": 37,
    "start_time": "2022-03-30T11:10:07.357Z"
   },
   {
    "duration": 16,
    "start_time": "2022-03-30T11:10:07.397Z"
   },
   {
    "duration": 9,
    "start_time": "2022-03-30T11:10:07.415Z"
   },
   {
    "duration": 65,
    "start_time": "2022-03-30T11:10:07.426Z"
   },
   {
    "duration": 15,
    "start_time": "2022-03-30T11:10:19.319Z"
   },
   {
    "duration": 658,
    "start_time": "2022-03-30T11:10:39.676Z"
   },
   {
    "duration": 81,
    "start_time": "2022-03-30T11:10:40.337Z"
   },
   {
    "duration": 31,
    "start_time": "2022-03-30T11:10:40.421Z"
   },
   {
    "duration": 39,
    "start_time": "2022-03-30T11:10:40.455Z"
   },
   {
    "duration": 21,
    "start_time": "2022-03-30T11:10:40.496Z"
   },
   {
    "duration": 31,
    "start_time": "2022-03-30T11:10:40.519Z"
   },
   {
    "duration": 23,
    "start_time": "2022-03-30T11:10:40.553Z"
   },
   {
    "duration": 25,
    "start_time": "2022-03-30T11:10:45.873Z"
   },
   {
    "duration": 26,
    "start_time": "2022-03-30T11:11:23.005Z"
   },
   {
    "duration": 697,
    "start_time": "2022-03-30T11:12:14.356Z"
   },
   {
    "duration": 81,
    "start_time": "2022-03-30T11:12:15.057Z"
   },
   {
    "duration": 43,
    "start_time": "2022-03-30T11:12:15.141Z"
   },
   {
    "duration": 21,
    "start_time": "2022-03-30T11:12:15.188Z"
   },
   {
    "duration": 15,
    "start_time": "2022-03-30T11:12:15.212Z"
   },
   {
    "duration": 57,
    "start_time": "2022-03-30T11:12:15.230Z"
   },
   {
    "duration": 28,
    "start_time": "2022-03-30T11:12:15.290Z"
   },
   {
    "duration": 23,
    "start_time": "2022-03-30T11:12:15.321Z"
   },
   {
    "duration": 7,
    "start_time": "2022-03-30T11:23:10.678Z"
   },
   {
    "duration": 31,
    "start_time": "2022-03-30T11:23:53.747Z"
   },
   {
    "duration": 36,
    "start_time": "2022-03-30T11:25:46.903Z"
   },
   {
    "duration": 50,
    "start_time": "2022-03-30T11:43:41.987Z"
   },
   {
    "duration": 437,
    "start_time": "2022-03-30T11:43:47.018Z"
   },
   {
    "duration": 64,
    "start_time": "2022-03-30T11:43:47.457Z"
   },
   {
    "duration": 21,
    "start_time": "2022-03-30T11:43:47.523Z"
   },
   {
    "duration": 16,
    "start_time": "2022-03-30T11:43:47.545Z"
   },
   {
    "duration": 10,
    "start_time": "2022-03-30T11:43:47.563Z"
   },
   {
    "duration": 13,
    "start_time": "2022-03-30T11:43:47.574Z"
   },
   {
    "duration": 13,
    "start_time": "2022-03-30T11:43:47.589Z"
   },
   {
    "duration": 46,
    "start_time": "2022-03-30T11:43:47.604Z"
   },
   {
    "duration": 19,
    "start_time": "2022-03-30T11:43:47.651Z"
   },
   {
    "duration": 17,
    "start_time": "2022-03-30T11:43:47.672Z"
   },
   {
    "duration": 48,
    "start_time": "2022-03-30T11:43:47.690Z"
   },
   {
    "duration": 18,
    "start_time": "2022-03-30T11:44:34.469Z"
   },
   {
    "duration": 27,
    "start_time": "2022-03-30T11:56:20.732Z"
   },
   {
    "duration": 17,
    "start_time": "2022-03-30T11:56:38.406Z"
   },
   {
    "duration": 394,
    "start_time": "2022-03-30T11:56:43.673Z"
   },
   {
    "duration": 65,
    "start_time": "2022-03-30T11:56:44.069Z"
   },
   {
    "duration": 21,
    "start_time": "2022-03-30T11:56:44.135Z"
   },
   {
    "duration": 20,
    "start_time": "2022-03-30T11:56:44.159Z"
   },
   {
    "duration": 12,
    "start_time": "2022-03-30T11:56:44.181Z"
   },
   {
    "duration": 15,
    "start_time": "2022-03-30T11:56:44.195Z"
   },
   {
    "duration": 32,
    "start_time": "2022-03-30T11:56:44.212Z"
   },
   {
    "duration": 13,
    "start_time": "2022-03-30T11:56:44.246Z"
   },
   {
    "duration": 19,
    "start_time": "2022-03-30T11:56:44.261Z"
   },
   {
    "duration": 25,
    "start_time": "2022-03-30T11:56:44.283Z"
   },
   {
    "duration": 27,
    "start_time": "2022-03-30T11:56:44.338Z"
   },
   {
    "duration": 17,
    "start_time": "2022-03-30T11:56:44.367Z"
   },
   {
    "duration": 13,
    "start_time": "2022-03-30T11:59:38.333Z"
   },
   {
    "duration": 16,
    "start_time": "2022-03-30T11:59:56.671Z"
   },
   {
    "duration": 6,
    "start_time": "2022-03-30T12:01:43.107Z"
   },
   {
    "duration": 5,
    "start_time": "2022-03-30T12:10:22.349Z"
   },
   {
    "duration": 5,
    "start_time": "2022-03-30T12:10:46.151Z"
   },
   {
    "duration": 5,
    "start_time": "2022-03-30T12:11:52.129Z"
   },
   {
    "duration": 39,
    "start_time": "2022-03-30T12:12:02.863Z"
   },
   {
    "duration": 6,
    "start_time": "2022-03-30T12:12:14.672Z"
   },
   {
    "duration": 356,
    "start_time": "2022-03-30T12:12:20.283Z"
   },
   {
    "duration": 57,
    "start_time": "2022-03-30T12:12:20.641Z"
   },
   {
    "duration": 21,
    "start_time": "2022-03-30T12:12:20.699Z"
   },
   {
    "duration": 23,
    "start_time": "2022-03-30T12:12:20.722Z"
   },
   {
    "duration": 9,
    "start_time": "2022-03-30T12:12:20.747Z"
   },
   {
    "duration": 12,
    "start_time": "2022-03-30T12:12:20.758Z"
   },
   {
    "duration": 13,
    "start_time": "2022-03-30T12:12:20.772Z"
   },
   {
    "duration": 11,
    "start_time": "2022-03-30T12:12:20.787Z"
   },
   {
    "duration": 46,
    "start_time": "2022-03-30T12:12:20.800Z"
   },
   {
    "duration": 17,
    "start_time": "2022-03-30T12:12:20.849Z"
   },
   {
    "duration": 19,
    "start_time": "2022-03-30T12:12:20.867Z"
   },
   {
    "duration": 16,
    "start_time": "2022-03-30T12:12:20.888Z"
   },
   {
    "duration": 44,
    "start_time": "2022-03-30T12:12:20.905Z"
   },
   {
    "duration": 10,
    "start_time": "2022-03-30T12:12:20.950Z"
   },
   {
    "duration": 1953,
    "start_time": "2022-03-30T12:13:38.276Z"
   },
   {
    "duration": 1858,
    "start_time": "2022-03-30T12:13:40.461Z"
   },
   {
    "duration": 6,
    "start_time": "2022-03-30T12:14:15.426Z"
   },
   {
    "duration": 1881,
    "start_time": "2022-03-30T12:23:15.935Z"
   },
   {
    "duration": 8,
    "start_time": "2022-03-30T12:23:28.266Z"
   },
   {
    "duration": 412,
    "start_time": "2022-03-30T12:23:44.244Z"
   },
   {
    "duration": 57,
    "start_time": "2022-03-30T12:23:44.658Z"
   },
   {
    "duration": 25,
    "start_time": "2022-03-30T12:23:44.716Z"
   },
   {
    "duration": 16,
    "start_time": "2022-03-30T12:23:44.743Z"
   },
   {
    "duration": 12,
    "start_time": "2022-03-30T12:23:44.761Z"
   },
   {
    "duration": 13,
    "start_time": "2022-03-30T12:23:44.774Z"
   },
   {
    "duration": 14,
    "start_time": "2022-03-30T12:23:44.789Z"
   },
   {
    "duration": 13,
    "start_time": "2022-03-30T12:23:44.839Z"
   },
   {
    "duration": 20,
    "start_time": "2022-03-30T12:23:44.854Z"
   },
   {
    "duration": 16,
    "start_time": "2022-03-30T12:23:44.876Z"
   },
   {
    "duration": 18,
    "start_time": "2022-03-30T12:23:44.894Z"
   },
   {
    "duration": 38,
    "start_time": "2022-03-30T12:23:44.914Z"
   },
   {
    "duration": 14,
    "start_time": "2022-03-30T12:23:44.954Z"
   },
   {
    "duration": 8,
    "start_time": "2022-03-30T12:23:44.969Z"
   },
   {
    "duration": 9,
    "start_time": "2022-03-30T12:23:44.979Z"
   },
   {
    "duration": 6,
    "start_time": "2022-03-30T12:32:08.143Z"
   },
   {
    "duration": 6,
    "start_time": "2022-03-30T12:33:27.386Z"
   },
   {
    "duration": 6,
    "start_time": "2022-03-30T12:35:21.621Z"
   },
   {
    "duration": 6,
    "start_time": "2022-03-30T12:35:38.926Z"
   },
   {
    "duration": 431,
    "start_time": "2022-03-30T12:39:57.721Z"
   },
   {
    "duration": 65,
    "start_time": "2022-03-30T12:39:58.154Z"
   },
   {
    "duration": 21,
    "start_time": "2022-03-30T12:39:58.220Z"
   },
   {
    "duration": 18,
    "start_time": "2022-03-30T12:39:58.244Z"
   },
   {
    "duration": 10,
    "start_time": "2022-03-30T12:39:58.264Z"
   },
   {
    "duration": 18,
    "start_time": "2022-03-30T12:39:58.276Z"
   },
   {
    "duration": 15,
    "start_time": "2022-03-30T12:39:58.296Z"
   },
   {
    "duration": 13,
    "start_time": "2022-03-30T12:39:58.338Z"
   },
   {
    "duration": 26,
    "start_time": "2022-03-30T12:39:58.354Z"
   },
   {
    "duration": 19,
    "start_time": "2022-03-30T12:39:58.384Z"
   },
   {
    "duration": 48,
    "start_time": "2022-03-30T12:39:58.405Z"
   },
   {
    "duration": 18,
    "start_time": "2022-03-30T12:39:58.455Z"
   },
   {
    "duration": 14,
    "start_time": "2022-03-30T12:39:58.475Z"
   },
   {
    "duration": 11,
    "start_time": "2022-03-30T12:39:58.490Z"
   },
   {
    "duration": 13,
    "start_time": "2022-03-30T12:39:58.503Z"
   },
   {
    "duration": 6,
    "start_time": "2022-03-30T12:39:58.537Z"
   },
   {
    "duration": 8,
    "start_time": "2022-03-30T12:44:01.305Z"
   },
   {
    "duration": 10,
    "start_time": "2022-03-30T12:46:44.277Z"
   },
   {
    "duration": 7,
    "start_time": "2022-03-30T12:57:27.896Z"
   },
   {
    "duration": 11,
    "start_time": "2022-03-30T12:58:46.753Z"
   },
   {
    "duration": 421,
    "start_time": "2022-03-31T06:11:20.132Z"
   },
   {
    "duration": 59,
    "start_time": "2022-03-31T06:11:20.555Z"
   },
   {
    "duration": 21,
    "start_time": "2022-03-31T06:11:20.615Z"
   },
   {
    "duration": 16,
    "start_time": "2022-03-31T06:11:20.638Z"
   },
   {
    "duration": 9,
    "start_time": "2022-03-31T06:11:20.656Z"
   },
   {
    "duration": 43,
    "start_time": "2022-03-31T06:11:20.667Z"
   },
   {
    "duration": 14,
    "start_time": "2022-03-31T06:11:20.711Z"
   },
   {
    "duration": 12,
    "start_time": "2022-03-31T06:11:20.727Z"
   },
   {
    "duration": 18,
    "start_time": "2022-03-31T06:11:20.741Z"
   },
   {
    "duration": 17,
    "start_time": "2022-03-31T06:11:20.762Z"
   },
   {
    "duration": 44,
    "start_time": "2022-03-31T06:11:20.781Z"
   },
   {
    "duration": 17,
    "start_time": "2022-03-31T06:11:20.827Z"
   },
   {
    "duration": 13,
    "start_time": "2022-03-31T06:11:20.846Z"
   },
   {
    "duration": 18,
    "start_time": "2022-03-31T06:11:20.861Z"
   },
   {
    "duration": 9,
    "start_time": "2022-03-31T06:11:20.881Z"
   },
   {
    "duration": 6,
    "start_time": "2022-03-31T06:11:20.909Z"
   },
   {
    "duration": 8,
    "start_time": "2022-03-31T06:11:20.917Z"
   },
   {
    "duration": 8,
    "start_time": "2022-03-31T06:11:20.927Z"
   },
   {
    "duration": 11,
    "start_time": "2022-03-31T06:11:20.937Z"
   },
   {
    "duration": 87,
    "start_time": "2022-03-31T06:11:20.949Z"
   },
   {
    "duration": 8,
    "start_time": "2022-03-31T06:54:14.736Z"
   },
   {
    "duration": 13,
    "start_time": "2022-03-31T06:54:29.636Z"
   },
   {
    "duration": 8,
    "start_time": "2022-03-31T09:47:30.474Z"
   },
   {
    "duration": 76,
    "start_time": "2022-03-31T12:21:55.036Z"
   },
   {
    "duration": 540,
    "start_time": "2022-03-31T12:22:04.485Z"
   },
   {
    "duration": 96,
    "start_time": "2022-03-31T12:22:05.028Z"
   },
   {
    "duration": 30,
    "start_time": "2022-03-31T12:22:05.127Z"
   },
   {
    "duration": 25,
    "start_time": "2022-03-31T12:22:05.160Z"
   },
   {
    "duration": 26,
    "start_time": "2022-03-31T12:22:05.187Z"
   },
   {
    "duration": 18,
    "start_time": "2022-03-31T12:22:05.215Z"
   },
   {
    "duration": 18,
    "start_time": "2022-03-31T12:22:05.234Z"
   },
   {
    "duration": 49,
    "start_time": "2022-03-31T12:22:05.254Z"
   },
   {
    "duration": 20,
    "start_time": "2022-03-31T12:22:05.305Z"
   },
   {
    "duration": 28,
    "start_time": "2022-03-31T12:22:05.329Z"
   },
   {
    "duration": 59,
    "start_time": "2022-03-31T12:22:05.359Z"
   },
   {
    "duration": 26,
    "start_time": "2022-03-31T12:22:05.421Z"
   },
   {
    "duration": 23,
    "start_time": "2022-03-31T12:22:05.449Z"
   },
   {
    "duration": 28,
    "start_time": "2022-03-31T12:22:05.475Z"
   },
   {
    "duration": 24,
    "start_time": "2022-03-31T12:22:05.505Z"
   },
   {
    "duration": 12,
    "start_time": "2022-03-31T12:22:05.531Z"
   },
   {
    "duration": 19,
    "start_time": "2022-03-31T12:22:05.544Z"
   },
   {
    "duration": 13,
    "start_time": "2022-03-31T12:22:05.565Z"
   },
   {
    "duration": 26,
    "start_time": "2022-03-31T12:22:05.580Z"
   },
   {
    "duration": 25,
    "start_time": "2022-03-31T12:22:05.608Z"
   },
   {
    "duration": 2584,
    "start_time": "2022-03-31T12:22:05.635Z"
   },
   {
    "duration": 6,
    "start_time": "2022-03-31T12:22:23.517Z"
   },
   {
    "duration": 10,
    "start_time": "2022-03-31T12:22:42.686Z"
   },
   {
    "duration": 10,
    "start_time": "2022-03-31T12:22:57.526Z"
   },
   {
    "duration": 6,
    "start_time": "2022-03-31T12:28:30.023Z"
   },
   {
    "duration": 6,
    "start_time": "2022-03-31T12:28:42.753Z"
   },
   {
    "duration": 539,
    "start_time": "2022-03-31T12:28:47.171Z"
   },
   {
    "duration": 61,
    "start_time": "2022-03-31T12:28:47.713Z"
   },
   {
    "duration": 31,
    "start_time": "2022-03-31T12:28:47.776Z"
   },
   {
    "duration": 17,
    "start_time": "2022-03-31T12:28:47.810Z"
   },
   {
    "duration": 11,
    "start_time": "2022-03-31T12:28:47.829Z"
   },
   {
    "duration": 17,
    "start_time": "2022-03-31T12:28:47.842Z"
   },
   {
    "duration": 49,
    "start_time": "2022-03-31T12:28:47.860Z"
   },
   {
    "duration": 16,
    "start_time": "2022-03-31T12:28:47.912Z"
   },
   {
    "duration": 32,
    "start_time": "2022-03-31T12:28:47.929Z"
   },
   {
    "duration": 47,
    "start_time": "2022-03-31T12:28:47.965Z"
   },
   {
    "duration": 30,
    "start_time": "2022-03-31T12:28:48.014Z"
   },
   {
    "duration": 27,
    "start_time": "2022-03-31T12:28:48.046Z"
   },
   {
    "duration": 39,
    "start_time": "2022-03-31T12:28:48.074Z"
   },
   {
    "duration": 9,
    "start_time": "2022-03-31T12:28:48.116Z"
   },
   {
    "duration": 10,
    "start_time": "2022-03-31T12:28:48.127Z"
   },
   {
    "duration": 8,
    "start_time": "2022-03-31T12:28:48.139Z"
   },
   {
    "duration": 14,
    "start_time": "2022-03-31T12:28:48.149Z"
   },
   {
    "duration": 45,
    "start_time": "2022-03-31T12:28:48.165Z"
   },
   {
    "duration": 12,
    "start_time": "2022-03-31T12:28:48.212Z"
   },
   {
    "duration": 14,
    "start_time": "2022-03-31T12:28:48.226Z"
   },
   {
    "duration": 22,
    "start_time": "2022-03-31T12:36:20.716Z"
   },
   {
    "duration": 512,
    "start_time": "2022-03-31T12:37:54.722Z"
   },
   {
    "duration": 97,
    "start_time": "2022-03-31T12:37:55.237Z"
   },
   {
    "duration": 36,
    "start_time": "2022-03-31T12:37:55.342Z"
   },
   {
    "duration": 47,
    "start_time": "2022-03-31T12:37:55.382Z"
   },
   {
    "duration": 27,
    "start_time": "2022-03-31T12:37:55.431Z"
   },
   {
    "duration": 30,
    "start_time": "2022-03-31T12:37:55.463Z"
   },
   {
    "duration": 26,
    "start_time": "2022-03-31T12:37:55.496Z"
   },
   {
    "duration": 24,
    "start_time": "2022-03-31T12:37:55.524Z"
   },
   {
    "duration": 29,
    "start_time": "2022-03-31T12:37:55.553Z"
   },
   {
    "duration": 41,
    "start_time": "2022-03-31T12:37:55.584Z"
   },
   {
    "duration": 25,
    "start_time": "2022-03-31T12:37:55.628Z"
   },
   {
    "duration": 46,
    "start_time": "2022-03-31T12:37:55.657Z"
   },
   {
    "duration": 23,
    "start_time": "2022-03-31T12:37:55.705Z"
   },
   {
    "duration": 20,
    "start_time": "2022-03-31T12:37:55.730Z"
   },
   {
    "duration": 21,
    "start_time": "2022-03-31T12:37:55.753Z"
   },
   {
    "duration": 8,
    "start_time": "2022-03-31T12:37:55.776Z"
   },
   {
    "duration": 9,
    "start_time": "2022-03-31T12:37:55.802Z"
   },
   {
    "duration": 14,
    "start_time": "2022-03-31T12:37:55.814Z"
   },
   {
    "duration": 16,
    "start_time": "2022-03-31T12:37:55.831Z"
   },
   {
    "duration": 188,
    "start_time": "2022-03-31T12:37:55.849Z"
   },
   {
    "duration": 58,
    "start_time": "2022-03-31T12:37:56.040Z"
   },
   {
    "duration": 461,
    "start_time": "2022-03-31T12:38:18.661Z"
   },
   {
    "duration": 64,
    "start_time": "2022-03-31T12:38:19.125Z"
   },
   {
    "duration": 35,
    "start_time": "2022-03-31T12:38:19.191Z"
   },
   {
    "duration": 21,
    "start_time": "2022-03-31T12:38:19.229Z"
   },
   {
    "duration": 18,
    "start_time": "2022-03-31T12:38:19.252Z"
   },
   {
    "duration": 45,
    "start_time": "2022-03-31T12:38:19.271Z"
   },
   {
    "duration": 16,
    "start_time": "2022-03-31T12:38:19.318Z"
   },
   {
    "duration": 15,
    "start_time": "2022-03-31T12:38:19.336Z"
   },
   {
    "duration": 48,
    "start_time": "2022-03-31T12:38:19.353Z"
   },
   {
    "duration": 20,
    "start_time": "2022-03-31T12:38:19.404Z"
   },
   {
    "duration": 30,
    "start_time": "2022-03-31T12:38:19.427Z"
   },
   {
    "duration": 46,
    "start_time": "2022-03-31T12:38:19.459Z"
   },
   {
    "duration": 16,
    "start_time": "2022-03-31T12:38:19.507Z"
   },
   {
    "duration": 12,
    "start_time": "2022-03-31T12:38:19.525Z"
   },
   {
    "duration": 9,
    "start_time": "2022-03-31T12:38:19.539Z"
   },
   {
    "duration": 7,
    "start_time": "2022-03-31T12:38:19.550Z"
   },
   {
    "duration": 46,
    "start_time": "2022-03-31T12:38:19.559Z"
   },
   {
    "duration": 13,
    "start_time": "2022-03-31T12:38:19.608Z"
   },
   {
    "duration": 11,
    "start_time": "2022-03-31T12:38:19.623Z"
   },
   {
    "duration": 6,
    "start_time": "2022-03-31T12:38:19.636Z"
   },
   {
    "duration": 35,
    "start_time": "2022-03-31T12:38:19.645Z"
   },
   {
    "duration": 539,
    "start_time": "2022-03-31T12:38:52.364Z"
   },
   {
    "duration": 91,
    "start_time": "2022-03-31T12:38:52.906Z"
   },
   {
    "duration": 32,
    "start_time": "2022-03-31T12:38:53.002Z"
   },
   {
    "duration": 19,
    "start_time": "2022-03-31T12:38:53.037Z"
   },
   {
    "duration": 45,
    "start_time": "2022-03-31T12:38:53.058Z"
   },
   {
    "duration": 15,
    "start_time": "2022-03-31T12:38:53.106Z"
   },
   {
    "duration": 18,
    "start_time": "2022-03-31T12:38:53.123Z"
   },
   {
    "duration": 14,
    "start_time": "2022-03-31T12:38:53.143Z"
   },
   {
    "duration": 54,
    "start_time": "2022-03-31T12:38:53.159Z"
   },
   {
    "duration": 29,
    "start_time": "2022-03-31T12:38:53.217Z"
   },
   {
    "duration": 53,
    "start_time": "2022-03-31T12:38:53.248Z"
   },
   {
    "duration": 28,
    "start_time": "2022-03-31T12:38:53.304Z"
   },
   {
    "duration": 24,
    "start_time": "2022-03-31T12:38:53.334Z"
   },
   {
    "duration": 17,
    "start_time": "2022-03-31T12:38:53.361Z"
   },
   {
    "duration": 11,
    "start_time": "2022-03-31T12:38:53.402Z"
   },
   {
    "duration": 9,
    "start_time": "2022-03-31T12:38:53.415Z"
   },
   {
    "duration": 15,
    "start_time": "2022-03-31T12:38:53.426Z"
   },
   {
    "duration": 14,
    "start_time": "2022-03-31T12:38:53.444Z"
   },
   {
    "duration": 41,
    "start_time": "2022-03-31T12:38:53.461Z"
   },
   {
    "duration": 7,
    "start_time": "2022-03-31T12:38:53.505Z"
   },
   {
    "duration": 32,
    "start_time": "2022-03-31T12:38:53.515Z"
   },
   {
    "duration": 417,
    "start_time": "2022-03-31T13:28:42.512Z"
   },
   {
    "duration": 67,
    "start_time": "2022-03-31T13:28:42.931Z"
   },
   {
    "duration": 22,
    "start_time": "2022-03-31T13:28:43.000Z"
   },
   {
    "duration": 18,
    "start_time": "2022-03-31T13:28:43.024Z"
   },
   {
    "duration": 12,
    "start_time": "2022-03-31T13:28:43.043Z"
   },
   {
    "duration": 46,
    "start_time": "2022-03-31T13:28:43.056Z"
   },
   {
    "duration": 15,
    "start_time": "2022-03-31T13:28:43.104Z"
   },
   {
    "duration": 13,
    "start_time": "2022-03-31T13:28:43.121Z"
   },
   {
    "duration": 22,
    "start_time": "2022-03-31T13:28:43.136Z"
   },
   {
    "duration": 52,
    "start_time": "2022-03-31T13:28:43.161Z"
   },
   {
    "duration": 21,
    "start_time": "2022-03-31T13:28:43.215Z"
   },
   {
    "duration": 18,
    "start_time": "2022-03-31T13:28:43.238Z"
   },
   {
    "duration": 45,
    "start_time": "2022-03-31T13:28:43.258Z"
   },
   {
    "duration": 21,
    "start_time": "2022-03-31T13:28:43.306Z"
   },
   {
    "duration": 11,
    "start_time": "2022-03-31T13:28:43.329Z"
   },
   {
    "duration": 8,
    "start_time": "2022-03-31T13:28:43.342Z"
   },
   {
    "duration": 11,
    "start_time": "2022-03-31T13:28:43.352Z"
   },
   {
    "duration": 10,
    "start_time": "2022-03-31T13:28:43.366Z"
   },
   {
    "duration": 9,
    "start_time": "2022-03-31T13:28:43.402Z"
   },
   {
    "duration": 8,
    "start_time": "2022-03-31T13:28:43.412Z"
   },
   {
    "duration": 24,
    "start_time": "2022-03-31T13:28:43.422Z"
   },
   {
    "duration": 9,
    "start_time": "2022-03-31T13:28:43.448Z"
   },
   {
    "duration": 4,
    "start_time": "2022-03-31T13:29:11.043Z"
   },
   {
    "duration": 4,
    "start_time": "2022-03-31T13:29:47.237Z"
   },
   {
    "duration": 3181,
    "start_time": "2022-03-31T13:30:02.251Z"
   },
   {
    "duration": 2430,
    "start_time": "2022-03-31T13:30:10.892Z"
   },
   {
    "duration": 282,
    "start_time": "2022-03-31T13:30:59.420Z"
   },
   {
    "duration": 280,
    "start_time": "2022-03-31T13:31:22.735Z"
   },
   {
    "duration": 282,
    "start_time": "2022-03-31T14:14:34.922Z"
   },
   {
    "duration": 442,
    "start_time": "2022-03-31T14:14:45.683Z"
   },
   {
    "duration": 64,
    "start_time": "2022-03-31T14:14:46.127Z"
   },
   {
    "duration": 28,
    "start_time": "2022-03-31T14:14:46.194Z"
   },
   {
    "duration": 17,
    "start_time": "2022-03-31T14:14:46.225Z"
   },
   {
    "duration": 12,
    "start_time": "2022-03-31T14:14:46.245Z"
   },
   {
    "duration": 48,
    "start_time": "2022-03-31T14:14:46.260Z"
   },
   {
    "duration": 17,
    "start_time": "2022-03-31T14:14:46.310Z"
   },
   {
    "duration": 15,
    "start_time": "2022-03-31T14:14:46.329Z"
   },
   {
    "duration": 23,
    "start_time": "2022-03-31T14:14:46.346Z"
   },
   {
    "duration": 20,
    "start_time": "2022-03-31T14:14:46.402Z"
   },
   {
    "duration": 21,
    "start_time": "2022-03-31T14:14:46.424Z"
   },
   {
    "duration": 18,
    "start_time": "2022-03-31T14:14:46.447Z"
   },
   {
    "duration": 40,
    "start_time": "2022-03-31T14:14:46.467Z"
   },
   {
    "duration": 6,
    "start_time": "2022-03-31T14:14:46.509Z"
   },
   {
    "duration": 13,
    "start_time": "2022-03-31T14:14:46.517Z"
   },
   {
    "duration": 9,
    "start_time": "2022-03-31T14:14:46.532Z"
   },
   {
    "duration": 16,
    "start_time": "2022-03-31T14:14:46.543Z"
   },
   {
    "duration": 44,
    "start_time": "2022-03-31T14:14:46.562Z"
   },
   {
    "duration": 15,
    "start_time": "2022-03-31T14:14:46.608Z"
   },
   {
    "duration": 15,
    "start_time": "2022-03-31T14:14:46.625Z"
   },
   {
    "duration": 23,
    "start_time": "2022-03-31T14:14:46.643Z"
   },
   {
    "duration": 293,
    "start_time": "2022-03-31T14:14:46.668Z"
   },
   {
    "duration": 520,
    "start_time": "2022-03-31T14:16:39.710Z"
   },
   {
    "duration": 70,
    "start_time": "2022-03-31T14:16:40.232Z"
   },
   {
    "duration": 24,
    "start_time": "2022-03-31T14:16:40.305Z"
   },
   {
    "duration": 18,
    "start_time": "2022-03-31T14:16:40.331Z"
   },
   {
    "duration": 18,
    "start_time": "2022-03-31T14:16:40.351Z"
   },
   {
    "duration": 46,
    "start_time": "2022-03-31T14:16:40.371Z"
   },
   {
    "duration": 24,
    "start_time": "2022-03-31T14:16:40.419Z"
   },
   {
    "duration": 22,
    "start_time": "2022-03-31T14:16:40.446Z"
   },
   {
    "duration": 57,
    "start_time": "2022-03-31T14:16:40.471Z"
   },
   {
    "duration": 28,
    "start_time": "2022-03-31T14:16:40.532Z"
   },
   {
    "duration": 52,
    "start_time": "2022-03-31T14:16:40.562Z"
   },
   {
    "duration": 21,
    "start_time": "2022-03-31T14:16:40.617Z"
   },
   {
    "duration": 16,
    "start_time": "2022-03-31T14:16:40.640Z"
   },
   {
    "duration": 9,
    "start_time": "2022-03-31T14:16:40.658Z"
   },
   {
    "duration": 42,
    "start_time": "2022-03-31T14:16:40.669Z"
   },
   {
    "duration": 18,
    "start_time": "2022-03-31T14:16:40.712Z"
   },
   {
    "duration": 10,
    "start_time": "2022-03-31T14:16:40.733Z"
   },
   {
    "duration": 9,
    "start_time": "2022-03-31T14:16:40.745Z"
   },
   {
    "duration": 11,
    "start_time": "2022-03-31T14:16:40.756Z"
   },
   {
    "duration": 12,
    "start_time": "2022-03-31T14:16:40.769Z"
   },
   {
    "duration": 39,
    "start_time": "2022-03-31T14:16:40.783Z"
   },
   {
    "duration": 290,
    "start_time": "2022-03-31T14:16:40.824Z"
   },
   {
    "duration": 400,
    "start_time": "2022-03-31T14:18:09.750Z"
   },
   {
    "duration": 63,
    "start_time": "2022-03-31T14:18:10.152Z"
   },
   {
    "duration": 24,
    "start_time": "2022-03-31T14:18:10.217Z"
   },
   {
    "duration": 17,
    "start_time": "2022-03-31T14:18:10.243Z"
   },
   {
    "duration": 45,
    "start_time": "2022-03-31T14:18:10.262Z"
   },
   {
    "duration": 14,
    "start_time": "2022-03-31T14:18:10.309Z"
   },
   {
    "duration": 17,
    "start_time": "2022-03-31T14:18:10.325Z"
   },
   {
    "duration": 14,
    "start_time": "2022-03-31T14:18:10.344Z"
   },
   {
    "duration": 57,
    "start_time": "2022-03-31T14:18:10.360Z"
   },
   {
    "duration": 19,
    "start_time": "2022-03-31T14:18:10.420Z"
   },
   {
    "duration": 21,
    "start_time": "2022-03-31T14:18:10.441Z"
   },
   {
    "duration": 44,
    "start_time": "2022-03-31T14:18:10.465Z"
   },
   {
    "duration": 16,
    "start_time": "2022-03-31T14:18:10.511Z"
   },
   {
    "duration": 8,
    "start_time": "2022-03-31T14:18:10.529Z"
   },
   {
    "duration": 9,
    "start_time": "2022-03-31T14:18:10.539Z"
   },
   {
    "duration": 6,
    "start_time": "2022-03-31T14:18:10.550Z"
   },
   {
    "duration": 44,
    "start_time": "2022-03-31T14:18:10.558Z"
   },
   {
    "duration": 9,
    "start_time": "2022-03-31T14:18:10.605Z"
   },
   {
    "duration": 10,
    "start_time": "2022-03-31T14:18:10.616Z"
   },
   {
    "duration": 10,
    "start_time": "2022-03-31T14:18:10.627Z"
   },
   {
    "duration": 21,
    "start_time": "2022-03-31T14:18:10.639Z"
   },
   {
    "duration": 309,
    "start_time": "2022-03-31T14:18:10.662Z"
   },
   {
    "duration": 474,
    "start_time": "2022-04-01T05:51:11.162Z"
   },
   {
    "duration": 76,
    "start_time": "2022-04-01T05:51:11.639Z"
   },
   {
    "duration": 25,
    "start_time": "2022-04-01T05:51:11.717Z"
   },
   {
    "duration": 29,
    "start_time": "2022-04-01T05:51:11.744Z"
   },
   {
    "duration": 13,
    "start_time": "2022-04-01T05:51:11.775Z"
   },
   {
    "duration": 16,
    "start_time": "2022-04-01T05:51:11.790Z"
   },
   {
    "duration": 16,
    "start_time": "2022-04-01T05:51:11.808Z"
   },
   {
    "duration": 47,
    "start_time": "2022-04-01T05:51:11.826Z"
   },
   {
    "duration": 23,
    "start_time": "2022-04-01T05:51:11.875Z"
   },
   {
    "duration": 24,
    "start_time": "2022-04-01T05:51:11.901Z"
   },
   {
    "duration": 46,
    "start_time": "2022-04-01T05:51:11.927Z"
   },
   {
    "duration": 24,
    "start_time": "2022-04-01T05:51:11.975Z"
   },
   {
    "duration": 23,
    "start_time": "2022-04-01T05:51:12.001Z"
   },
   {
    "duration": 16,
    "start_time": "2022-04-01T05:51:12.026Z"
   },
   {
    "duration": 38,
    "start_time": "2022-04-01T05:51:12.043Z"
   },
   {
    "duration": 31,
    "start_time": "2022-04-01T05:51:12.083Z"
   },
   {
    "duration": 18,
    "start_time": "2022-04-01T05:51:12.116Z"
   },
   {
    "duration": 29,
    "start_time": "2022-04-01T05:51:12.136Z"
   },
   {
    "duration": 32,
    "start_time": "2022-04-01T05:51:12.167Z"
   },
   {
    "duration": 20,
    "start_time": "2022-04-01T05:51:12.201Z"
   },
   {
    "duration": 26,
    "start_time": "2022-04-01T05:51:12.223Z"
   },
   {
    "duration": 332,
    "start_time": "2022-04-01T05:51:12.251Z"
   },
   {
    "duration": 3,
    "start_time": "2022-04-01T05:51:12.584Z"
   },
   {
    "duration": 236,
    "start_time": "2022-04-01T05:54:21.676Z"
   },
   {
    "duration": 110,
    "start_time": "2022-04-01T06:05:38.513Z"
   },
   {
    "duration": 245,
    "start_time": "2022-04-01T06:10:15.846Z"
   },
   {
    "duration": 6,
    "start_time": "2022-04-01T06:20:20.053Z"
   },
   {
    "duration": 4,
    "start_time": "2022-04-01T06:24:44.892Z"
   },
   {
    "duration": 6,
    "start_time": "2022-04-01T06:24:50.677Z"
   },
   {
    "duration": 71,
    "start_time": "2022-04-01T06:42:55.147Z"
   },
   {
    "duration": 22,
    "start_time": "2022-04-01T06:43:17.266Z"
   },
   {
    "duration": 18,
    "start_time": "2022-04-01T06:45:37.619Z"
   },
   {
    "duration": 17,
    "start_time": "2022-04-01T06:45:52.915Z"
   },
   {
    "duration": 25,
    "start_time": "2022-04-01T06:47:10.313Z"
   },
   {
    "duration": 20,
    "start_time": "2022-04-01T06:49:18.220Z"
   },
   {
    "duration": 19,
    "start_time": "2022-04-01T06:49:31.021Z"
   },
   {
    "duration": 9,
    "start_time": "2022-04-01T07:00:50.578Z"
   },
   {
    "duration": 18,
    "start_time": "2022-04-01T07:01:08.417Z"
   },
   {
    "duration": 13,
    "start_time": "2022-04-01T07:02:29.836Z"
   },
   {
    "duration": 374,
    "start_time": "2022-04-01T07:03:28.690Z"
   },
   {
    "duration": 63,
    "start_time": "2022-04-01T07:03:29.067Z"
   },
   {
    "duration": 19,
    "start_time": "2022-04-01T07:03:29.132Z"
   },
   {
    "duration": 21,
    "start_time": "2022-04-01T07:03:29.153Z"
   },
   {
    "duration": 9,
    "start_time": "2022-04-01T07:03:29.175Z"
   },
   {
    "duration": 11,
    "start_time": "2022-04-01T07:03:29.185Z"
   },
   {
    "duration": 10,
    "start_time": "2022-04-01T07:03:29.198Z"
   },
   {
    "duration": 15,
    "start_time": "2022-04-01T07:03:29.209Z"
   },
   {
    "duration": 40,
    "start_time": "2022-04-01T07:03:29.225Z"
   },
   {
    "duration": 15,
    "start_time": "2022-04-01T07:03:29.267Z"
   },
   {
    "duration": 17,
    "start_time": "2022-04-01T07:03:29.284Z"
   },
   {
    "duration": 16,
    "start_time": "2022-04-01T07:03:29.302Z"
   },
   {
    "duration": 13,
    "start_time": "2022-04-01T07:03:29.319Z"
   },
   {
    "duration": 34,
    "start_time": "2022-04-01T07:03:29.333Z"
   },
   {
    "duration": 10,
    "start_time": "2022-04-01T07:03:29.368Z"
   },
   {
    "duration": 4,
    "start_time": "2022-04-01T07:03:29.380Z"
   },
   {
    "duration": 10,
    "start_time": "2022-04-01T07:03:29.386Z"
   },
   {
    "duration": 8,
    "start_time": "2022-04-01T07:03:29.397Z"
   },
   {
    "duration": 8,
    "start_time": "2022-04-01T07:03:29.407Z"
   },
   {
    "duration": 7,
    "start_time": "2022-04-01T07:03:29.417Z"
   },
   {
    "duration": 41,
    "start_time": "2022-04-01T07:03:29.425Z"
   },
   {
    "duration": 243,
    "start_time": "2022-04-01T07:03:29.467Z"
   },
   {
    "duration": 246,
    "start_time": "2022-04-01T07:03:29.711Z"
   },
   {
    "duration": 23,
    "start_time": "2022-04-01T07:03:29.958Z"
   },
   {
    "duration": 85,
    "start_time": "2022-04-01T07:03:29.983Z"
   },
   {
    "duration": 9,
    "start_time": "2022-04-01T07:04:51.965Z"
   },
   {
    "duration": 22,
    "start_time": "2022-04-01T07:07:28.348Z"
   },
   {
    "duration": 21,
    "start_time": "2022-04-01T07:07:45.216Z"
   },
   {
    "duration": 21,
    "start_time": "2022-04-01T07:08:12.407Z"
   },
   {
    "duration": 17,
    "start_time": "2022-04-01T07:08:59.729Z"
   },
   {
    "duration": 29,
    "start_time": "2022-04-01T07:09:13.861Z"
   },
   {
    "duration": 10,
    "start_time": "2022-04-01T07:10:08.847Z"
   },
   {
    "duration": 9,
    "start_time": "2022-04-01T07:10:23.600Z"
   },
   {
    "duration": 25,
    "start_time": "2022-04-01T07:14:31.668Z"
   },
   {
    "duration": 389,
    "start_time": "2022-04-01T07:15:16.001Z"
   },
   {
    "duration": 59,
    "start_time": "2022-04-01T07:15:16.391Z"
   },
   {
    "duration": 20,
    "start_time": "2022-04-01T07:15:16.451Z"
   },
   {
    "duration": 17,
    "start_time": "2022-04-01T07:15:16.473Z"
   },
   {
    "duration": 13,
    "start_time": "2022-04-01T07:15:16.492Z"
   },
   {
    "duration": 16,
    "start_time": "2022-04-01T07:15:16.507Z"
   },
   {
    "duration": 50,
    "start_time": "2022-04-01T07:15:16.525Z"
   },
   {
    "duration": 14,
    "start_time": "2022-04-01T07:15:16.577Z"
   },
   {
    "duration": 17,
    "start_time": "2022-04-01T07:15:16.592Z"
   },
   {
    "duration": 16,
    "start_time": "2022-04-01T07:15:16.611Z"
   },
   {
    "duration": 41,
    "start_time": "2022-04-01T07:15:16.629Z"
   },
   {
    "duration": 19,
    "start_time": "2022-04-01T07:15:16.672Z"
   },
   {
    "duration": 13,
    "start_time": "2022-04-01T07:15:16.692Z"
   },
   {
    "duration": 7,
    "start_time": "2022-04-01T07:15:16.707Z"
   },
   {
    "duration": 10,
    "start_time": "2022-04-01T07:15:16.715Z"
   },
   {
    "duration": 7,
    "start_time": "2022-04-01T07:15:16.727Z"
   },
   {
    "duration": 8,
    "start_time": "2022-04-01T07:15:16.735Z"
   },
   {
    "duration": 11,
    "start_time": "2022-04-01T07:15:16.771Z"
   },
   {
    "duration": 12,
    "start_time": "2022-04-01T07:15:16.784Z"
   },
   {
    "duration": 7,
    "start_time": "2022-04-01T07:15:16.798Z"
   },
   {
    "duration": 15,
    "start_time": "2022-04-01T07:15:16.807Z"
   },
   {
    "duration": 273,
    "start_time": "2022-04-01T07:15:16.824Z"
   },
   {
    "duration": 268,
    "start_time": "2022-04-01T07:15:17.099Z"
   },
   {
    "duration": 96,
    "start_time": "2022-04-01T07:15:17.368Z"
   },
   {
    "duration": 0,
    "start_time": "2022-04-01T07:15:17.465Z"
   },
   {
    "duration": 409,
    "start_time": "2022-04-01T07:15:28.060Z"
   },
   {
    "duration": 62,
    "start_time": "2022-04-01T07:15:28.471Z"
   },
   {
    "duration": 18,
    "start_time": "2022-04-01T07:15:28.535Z"
   },
   {
    "duration": 20,
    "start_time": "2022-04-01T07:15:28.562Z"
   },
   {
    "duration": 16,
    "start_time": "2022-04-01T07:15:28.586Z"
   },
   {
    "duration": 12,
    "start_time": "2022-04-01T07:15:28.603Z"
   },
   {
    "duration": 11,
    "start_time": "2022-04-01T07:15:28.616Z"
   },
   {
    "duration": 18,
    "start_time": "2022-04-01T07:15:28.629Z"
   },
   {
    "duration": 23,
    "start_time": "2022-04-01T07:15:28.663Z"
   },
   {
    "duration": 24,
    "start_time": "2022-04-01T07:15:28.688Z"
   },
   {
    "duration": 17,
    "start_time": "2022-04-01T07:15:28.714Z"
   },
   {
    "duration": 41,
    "start_time": "2022-04-01T07:15:28.733Z"
   },
   {
    "duration": 20,
    "start_time": "2022-04-01T07:15:28.776Z"
   },
   {
    "duration": 5,
    "start_time": "2022-04-01T07:15:28.798Z"
   },
   {
    "duration": 18,
    "start_time": "2022-04-01T07:15:28.805Z"
   },
   {
    "duration": 13,
    "start_time": "2022-04-01T07:15:28.825Z"
   },
   {
    "duration": 28,
    "start_time": "2022-04-01T07:15:28.839Z"
   },
   {
    "duration": 27,
    "start_time": "2022-04-01T07:15:28.869Z"
   },
   {
    "duration": 21,
    "start_time": "2022-04-01T07:15:28.898Z"
   },
   {
    "duration": 25,
    "start_time": "2022-04-01T07:15:28.920Z"
   },
   {
    "duration": 32,
    "start_time": "2022-04-01T07:15:28.947Z"
   },
   {
    "duration": 276,
    "start_time": "2022-04-01T07:15:28.980Z"
   },
   {
    "duration": 266,
    "start_time": "2022-04-01T07:15:29.262Z"
   },
   {
    "duration": 34,
    "start_time": "2022-04-01T07:15:29.530Z"
   },
   {
    "duration": 25,
    "start_time": "2022-04-01T07:15:29.566Z"
   },
   {
    "duration": 18,
    "start_time": "2022-04-01T07:16:27.999Z"
   },
   {
    "duration": 432,
    "start_time": "2022-04-01T07:16:50.047Z"
   },
   {
    "duration": 56,
    "start_time": "2022-04-01T07:16:50.482Z"
   },
   {
    "duration": 18,
    "start_time": "2022-04-01T07:16:50.539Z"
   },
   {
    "duration": 24,
    "start_time": "2022-04-01T07:16:50.564Z"
   },
   {
    "duration": 11,
    "start_time": "2022-04-01T07:16:50.589Z"
   },
   {
    "duration": 17,
    "start_time": "2022-04-01T07:16:50.601Z"
   },
   {
    "duration": 12,
    "start_time": "2022-04-01T07:16:50.619Z"
   },
   {
    "duration": 42,
    "start_time": "2022-04-01T07:16:50.633Z"
   },
   {
    "duration": 18,
    "start_time": "2022-04-01T07:16:50.677Z"
   },
   {
    "duration": 22,
    "start_time": "2022-04-01T07:16:50.699Z"
   },
   {
    "duration": 47,
    "start_time": "2022-04-01T07:16:50.723Z"
   },
   {
    "duration": 22,
    "start_time": "2022-04-01T07:16:50.772Z"
   },
   {
    "duration": 13,
    "start_time": "2022-04-01T07:16:50.796Z"
   },
   {
    "duration": 5,
    "start_time": "2022-04-01T07:16:50.810Z"
   },
   {
    "duration": 12,
    "start_time": "2022-04-01T07:16:50.817Z"
   },
   {
    "duration": 34,
    "start_time": "2022-04-01T07:16:50.830Z"
   },
   {
    "duration": 15,
    "start_time": "2022-04-01T07:16:50.866Z"
   },
   {
    "duration": 19,
    "start_time": "2022-04-01T07:16:50.885Z"
   },
   {
    "duration": 9,
    "start_time": "2022-04-01T07:16:50.905Z"
   },
   {
    "duration": 9,
    "start_time": "2022-04-01T07:16:50.916Z"
   },
   {
    "duration": 27,
    "start_time": "2022-04-01T07:16:50.926Z"
   },
   {
    "duration": 318,
    "start_time": "2022-04-01T07:16:50.955Z"
   },
   {
    "duration": 397,
    "start_time": "2022-04-01T07:16:51.275Z"
   },
   {
    "duration": 22,
    "start_time": "2022-04-01T07:16:51.674Z"
   },
   {
    "duration": 17,
    "start_time": "2022-04-01T07:16:51.697Z"
   },
   {
    "duration": 76,
    "start_time": "2022-04-01T07:17:15.180Z"
   },
   {
    "duration": 20,
    "start_time": "2022-04-01T07:17:32.827Z"
   },
   {
    "duration": 20,
    "start_time": "2022-04-01T07:17:41.988Z"
   },
   {
    "duration": 12,
    "start_time": "2022-04-01T07:24:49.848Z"
   },
   {
    "duration": 18,
    "start_time": "2022-04-01T07:25:12.519Z"
   },
   {
    "duration": 19,
    "start_time": "2022-04-01T07:26:08.716Z"
   },
   {
    "duration": 378,
    "start_time": "2022-04-01T07:27:31.709Z"
   },
   {
    "duration": 56,
    "start_time": "2022-04-01T07:27:32.089Z"
   },
   {
    "duration": 20,
    "start_time": "2022-04-01T07:27:32.147Z"
   },
   {
    "duration": 16,
    "start_time": "2022-04-01T07:27:32.175Z"
   },
   {
    "duration": 13,
    "start_time": "2022-04-01T07:27:32.193Z"
   },
   {
    "duration": 13,
    "start_time": "2022-04-01T07:27:32.207Z"
   },
   {
    "duration": 16,
    "start_time": "2022-04-01T07:27:32.221Z"
   },
   {
    "duration": 36,
    "start_time": "2022-04-01T07:27:32.238Z"
   },
   {
    "duration": 16,
    "start_time": "2022-04-01T07:27:32.276Z"
   },
   {
    "duration": 16,
    "start_time": "2022-04-01T07:27:32.294Z"
   },
   {
    "duration": 17,
    "start_time": "2022-04-01T07:27:32.312Z"
   },
   {
    "duration": 45,
    "start_time": "2022-04-01T07:27:32.331Z"
   },
   {
    "duration": 13,
    "start_time": "2022-04-01T07:27:32.378Z"
   },
   {
    "duration": 8,
    "start_time": "2022-04-01T07:27:32.392Z"
   },
   {
    "duration": 9,
    "start_time": "2022-04-01T07:27:32.401Z"
   },
   {
    "duration": 7,
    "start_time": "2022-04-01T07:27:32.411Z"
   },
   {
    "duration": 7,
    "start_time": "2022-04-01T07:27:32.419Z"
   },
   {
    "duration": 9,
    "start_time": "2022-04-01T07:27:32.427Z"
   },
   {
    "duration": 15,
    "start_time": "2022-04-01T07:27:32.438Z"
   },
   {
    "duration": 15,
    "start_time": "2022-04-01T07:27:32.462Z"
   },
   {
    "duration": 17,
    "start_time": "2022-04-01T07:27:32.479Z"
   },
   {
    "duration": 258,
    "start_time": "2022-04-01T07:27:32.498Z"
   },
   {
    "duration": 260,
    "start_time": "2022-04-01T07:27:32.758Z"
   },
   {
    "duration": 21,
    "start_time": "2022-04-01T07:27:33.019Z"
   },
   {
    "duration": 34,
    "start_time": "2022-04-01T07:27:33.042Z"
   },
   {
    "duration": 17,
    "start_time": "2022-04-01T07:27:33.077Z"
   },
   {
    "duration": 69,
    "start_time": "2022-04-01T07:46:13.049Z"
   },
   {
    "duration": 20,
    "start_time": "2022-04-01T07:46:23.680Z"
   },
   {
    "duration": 416,
    "start_time": "2022-04-01T07:53:03.249Z"
   },
   {
    "duration": 55,
    "start_time": "2022-04-01T07:53:03.667Z"
   },
   {
    "duration": 18,
    "start_time": "2022-04-01T07:53:03.723Z"
   },
   {
    "duration": 21,
    "start_time": "2022-04-01T07:53:03.743Z"
   },
   {
    "duration": 8,
    "start_time": "2022-04-01T07:53:03.766Z"
   },
   {
    "duration": 11,
    "start_time": "2022-04-01T07:53:03.776Z"
   },
   {
    "duration": 11,
    "start_time": "2022-04-01T07:53:03.788Z"
   },
   {
    "duration": 14,
    "start_time": "2022-04-01T07:53:03.801Z"
   },
   {
    "duration": 47,
    "start_time": "2022-04-01T07:53:03.816Z"
   },
   {
    "duration": 16,
    "start_time": "2022-04-01T07:53:03.866Z"
   },
   {
    "duration": 18,
    "start_time": "2022-04-01T07:53:03.884Z"
   },
   {
    "duration": 15,
    "start_time": "2022-04-01T07:53:03.904Z"
   },
   {
    "duration": 12,
    "start_time": "2022-04-01T07:53:03.920Z"
   },
   {
    "duration": 6,
    "start_time": "2022-04-01T07:53:03.934Z"
   },
   {
    "duration": 6,
    "start_time": "2022-04-01T07:53:03.963Z"
   },
   {
    "duration": 6,
    "start_time": "2022-04-01T07:53:03.971Z"
   },
   {
    "duration": 8,
    "start_time": "2022-04-01T07:53:03.978Z"
   },
   {
    "duration": 9,
    "start_time": "2022-04-01T07:53:03.988Z"
   },
   {
    "duration": 13,
    "start_time": "2022-04-01T07:53:03.999Z"
   },
   {
    "duration": 6,
    "start_time": "2022-04-01T07:53:04.013Z"
   },
   {
    "duration": 16,
    "start_time": "2022-04-01T07:53:04.020Z"
   },
   {
    "duration": 246,
    "start_time": "2022-04-01T07:53:04.063Z"
   },
   {
    "duration": 358,
    "start_time": "2022-04-01T07:53:04.310Z"
   },
   {
    "duration": 21,
    "start_time": "2022-04-01T07:53:04.670Z"
   },
   {
    "duration": 17,
    "start_time": "2022-04-01T07:53:04.693Z"
   },
   {
    "duration": 16,
    "start_time": "2022-04-01T07:53:04.711Z"
   },
   {
    "duration": 42,
    "start_time": "2022-04-01T07:53:04.728Z"
   },
   {
    "duration": 374,
    "start_time": "2022-04-01T07:53:37.689Z"
   },
   {
    "duration": 55,
    "start_time": "2022-04-01T07:53:38.065Z"
   },
   {
    "duration": 17,
    "start_time": "2022-04-01T07:53:38.122Z"
   },
   {
    "duration": 37,
    "start_time": "2022-04-01T07:53:38.141Z"
   },
   {
    "duration": 23,
    "start_time": "2022-04-01T07:53:38.180Z"
   },
   {
    "duration": 26,
    "start_time": "2022-04-01T07:53:38.204Z"
   },
   {
    "duration": 19,
    "start_time": "2022-04-01T07:53:38.232Z"
   },
   {
    "duration": 14,
    "start_time": "2022-04-01T07:53:38.252Z"
   },
   {
    "duration": 29,
    "start_time": "2022-04-01T07:53:38.268Z"
   },
   {
    "duration": 17,
    "start_time": "2022-04-01T07:53:38.300Z"
   },
   {
    "duration": 17,
    "start_time": "2022-04-01T07:53:38.319Z"
   },
   {
    "duration": 25,
    "start_time": "2022-04-01T07:53:38.338Z"
   },
   {
    "duration": 12,
    "start_time": "2022-04-01T07:53:38.365Z"
   },
   {
    "duration": 13,
    "start_time": "2022-04-01T07:53:38.379Z"
   },
   {
    "duration": 17,
    "start_time": "2022-04-01T07:53:38.393Z"
   },
   {
    "duration": 12,
    "start_time": "2022-04-01T07:53:38.411Z"
   },
   {
    "duration": 14,
    "start_time": "2022-04-01T07:53:38.425Z"
   },
   {
    "duration": 11,
    "start_time": "2022-04-01T07:53:38.441Z"
   },
   {
    "duration": 15,
    "start_time": "2022-04-01T07:53:38.453Z"
   },
   {
    "duration": 19,
    "start_time": "2022-04-01T07:53:38.469Z"
   },
   {
    "duration": 19,
    "start_time": "2022-04-01T07:53:38.489Z"
   },
   {
    "duration": 244,
    "start_time": "2022-04-01T07:53:38.510Z"
   },
   {
    "duration": 253,
    "start_time": "2022-04-01T07:53:38.755Z"
   },
   {
    "duration": 22,
    "start_time": "2022-04-01T07:53:39.009Z"
   },
   {
    "duration": 35,
    "start_time": "2022-04-01T07:53:39.032Z"
   },
   {
    "duration": 18,
    "start_time": "2022-04-01T07:53:39.068Z"
   },
   {
    "duration": 17,
    "start_time": "2022-04-01T07:53:39.087Z"
   },
   {
    "duration": 385,
    "start_time": "2022-04-12T08:18:35.163Z"
   },
   {
    "duration": 63,
    "start_time": "2022-04-12T08:18:35.550Z"
   },
   {
    "duration": 28,
    "start_time": "2022-04-12T08:18:35.615Z"
   },
   {
    "duration": 17,
    "start_time": "2022-04-12T08:18:35.644Z"
   },
   {
    "duration": 9,
    "start_time": "2022-04-12T08:18:35.663Z"
   },
   {
    "duration": 13,
    "start_time": "2022-04-12T08:18:35.674Z"
   },
   {
    "duration": 44,
    "start_time": "2022-04-12T08:18:35.688Z"
   },
   {
    "duration": 16,
    "start_time": "2022-04-12T08:18:35.735Z"
   },
   {
    "duration": 16,
    "start_time": "2022-04-12T08:18:35.753Z"
   },
   {
    "duration": 18,
    "start_time": "2022-04-12T08:18:35.771Z"
   },
   {
    "duration": 50,
    "start_time": "2022-04-12T08:18:35.790Z"
   },
   {
    "duration": 19,
    "start_time": "2022-04-12T08:18:35.842Z"
   },
   {
    "duration": 20,
    "start_time": "2022-04-12T08:18:35.863Z"
   },
   {
    "duration": 20,
    "start_time": "2022-04-12T08:18:35.885Z"
   },
   {
    "duration": 18,
    "start_time": "2022-04-12T08:18:35.907Z"
   },
   {
    "duration": 9,
    "start_time": "2022-04-12T08:18:35.931Z"
   },
   {
    "duration": 7,
    "start_time": "2022-04-12T08:18:35.942Z"
   },
   {
    "duration": 11,
    "start_time": "2022-04-12T08:18:35.950Z"
   },
   {
    "duration": 16,
    "start_time": "2022-04-12T08:18:35.963Z"
   },
   {
    "duration": 11,
    "start_time": "2022-04-12T08:18:35.981Z"
   },
   {
    "duration": 46,
    "start_time": "2022-04-12T08:18:35.994Z"
   },
   {
    "duration": 291,
    "start_time": "2022-04-12T08:18:36.043Z"
   },
   {
    "duration": 309,
    "start_time": "2022-04-12T08:18:36.336Z"
   },
   {
    "duration": 23,
    "start_time": "2022-04-12T08:18:36.646Z"
   },
   {
    "duration": 19,
    "start_time": "2022-04-12T08:18:36.671Z"
   },
   {
    "duration": 50,
    "start_time": "2022-04-12T08:18:36.692Z"
   },
   {
    "duration": 20,
    "start_time": "2022-04-12T08:18:36.743Z"
   },
   {
    "duration": 8,
    "start_time": "2022-04-12T08:21:42.690Z"
   },
   {
    "duration": 7,
    "start_time": "2022-04-12T08:22:56.612Z"
   },
   {
    "duration": 53,
    "start_time": "2022-04-12T11:00:08.305Z"
   },
   {
    "duration": 434,
    "start_time": "2022-04-12T11:00:14.144Z"
   },
   {
    "duration": 66,
    "start_time": "2022-04-12T11:00:14.580Z"
   },
   {
    "duration": 28,
    "start_time": "2022-04-12T11:00:14.648Z"
   },
   {
    "duration": 16,
    "start_time": "2022-04-12T11:00:14.678Z"
   },
   {
    "duration": 11,
    "start_time": "2022-04-12T11:00:14.696Z"
   },
   {
    "duration": 44,
    "start_time": "2022-04-12T11:00:14.709Z"
   },
   {
    "duration": 16,
    "start_time": "2022-04-12T11:00:14.754Z"
   },
   {
    "duration": 19,
    "start_time": "2022-04-12T11:00:14.772Z"
   },
   {
    "duration": 20,
    "start_time": "2022-04-12T11:00:14.793Z"
   },
   {
    "duration": 19,
    "start_time": "2022-04-12T11:00:14.833Z"
   },
   {
    "duration": 21,
    "start_time": "2022-04-12T11:00:14.854Z"
   },
   {
    "duration": 18,
    "start_time": "2022-04-12T11:00:14.877Z"
   },
   {
    "duration": 41,
    "start_time": "2022-04-12T11:00:14.897Z"
   },
   {
    "duration": 6,
    "start_time": "2022-04-12T11:00:14.940Z"
   },
   {
    "duration": 11,
    "start_time": "2022-04-12T11:00:14.948Z"
   },
   {
    "duration": 6,
    "start_time": "2022-04-12T11:00:14.960Z"
   },
   {
    "duration": 10,
    "start_time": "2022-04-12T11:00:14.968Z"
   },
   {
    "duration": 13,
    "start_time": "2022-04-12T11:00:14.980Z"
   },
   {
    "duration": 43,
    "start_time": "2022-04-12T11:00:14.995Z"
   },
   {
    "duration": 12,
    "start_time": "2022-04-12T11:00:15.041Z"
   },
   {
    "duration": 23,
    "start_time": "2022-04-12T11:00:15.055Z"
   },
   {
    "duration": 296,
    "start_time": "2022-04-12T11:00:15.080Z"
   },
   {
    "duration": 296,
    "start_time": "2022-04-12T11:00:15.378Z"
   },
   {
    "duration": 27,
    "start_time": "2022-04-12T11:00:15.676Z"
   },
   {
    "duration": 37,
    "start_time": "2022-04-12T11:00:15.705Z"
   },
   {
    "duration": 21,
    "start_time": "2022-04-12T11:00:15.744Z"
   },
   {
    "duration": 22,
    "start_time": "2022-04-12T11:00:15.766Z"
   },
   {
    "duration": 435,
    "start_time": "2022-04-12T11:03:45.947Z"
   },
   {
    "duration": 77,
    "start_time": "2022-04-12T11:03:46.384Z"
   },
   {
    "duration": 22,
    "start_time": "2022-04-12T11:03:46.463Z"
   },
   {
    "duration": 18,
    "start_time": "2022-04-12T11:03:46.488Z"
   },
   {
    "duration": 33,
    "start_time": "2022-04-12T11:03:46.509Z"
   },
   {
    "duration": 17,
    "start_time": "2022-04-12T11:03:46.544Z"
   },
   {
    "duration": 14,
    "start_time": "2022-04-12T11:03:46.562Z"
   },
   {
    "duration": 19,
    "start_time": "2022-04-12T11:03:46.577Z"
   },
   {
    "duration": 58,
    "start_time": "2022-04-12T11:03:46.598Z"
   },
   {
    "duration": 17,
    "start_time": "2022-04-12T11:03:46.659Z"
   },
   {
    "duration": 21,
    "start_time": "2022-04-12T11:03:46.678Z"
   },
   {
    "duration": 46,
    "start_time": "2022-04-12T11:03:46.701Z"
   },
   {
    "duration": 15,
    "start_time": "2022-04-12T11:03:46.750Z"
   },
   {
    "duration": 9,
    "start_time": "2022-04-12T11:03:46.767Z"
   },
   {
    "duration": 8,
    "start_time": "2022-04-12T11:03:46.778Z"
   },
   {
    "duration": 6,
    "start_time": "2022-04-12T11:03:46.788Z"
   },
   {
    "duration": 42,
    "start_time": "2022-04-12T11:03:46.795Z"
   },
   {
    "duration": 11,
    "start_time": "2022-04-12T11:03:46.843Z"
   },
   {
    "duration": 9,
    "start_time": "2022-04-12T11:03:46.856Z"
   },
   {
    "duration": 7,
    "start_time": "2022-04-12T11:03:46.867Z"
   },
   {
    "duration": 19,
    "start_time": "2022-04-12T11:03:46.876Z"
   },
   {
    "duration": 336,
    "start_time": "2022-04-12T11:03:46.897Z"
   },
   {
    "duration": 324,
    "start_time": "2022-04-12T11:03:47.236Z"
   },
   {
    "duration": 29,
    "start_time": "2022-04-12T11:03:47.562Z"
   },
   {
    "duration": 51,
    "start_time": "2022-04-12T11:03:47.593Z"
   },
   {
    "duration": 24,
    "start_time": "2022-04-12T11:03:47.647Z"
   },
   {
    "duration": 23,
    "start_time": "2022-04-12T11:03:47.673Z"
   },
   {
    "duration": 628,
    "start_time": "2022-04-13T08:17:21.493Z"
   },
   {
    "duration": 112,
    "start_time": "2022-04-13T08:17:22.124Z"
   },
   {
    "duration": 54,
    "start_time": "2022-04-13T08:17:22.238Z"
   },
   {
    "duration": 26,
    "start_time": "2022-04-13T08:17:22.294Z"
   },
   {
    "duration": 14,
    "start_time": "2022-04-13T08:17:22.324Z"
   },
   {
    "duration": 55,
    "start_time": "2022-04-13T08:17:22.342Z"
   },
   {
    "duration": 21,
    "start_time": "2022-04-13T08:17:22.400Z"
   },
   {
    "duration": 32,
    "start_time": "2022-04-13T08:17:22.425Z"
   },
   {
    "duration": 25,
    "start_time": "2022-04-13T08:17:22.483Z"
   },
   {
    "duration": 30,
    "start_time": "2022-04-13T08:17:22.511Z"
   },
   {
    "duration": 65,
    "start_time": "2022-04-13T08:17:22.543Z"
   },
   {
    "duration": 27,
    "start_time": "2022-04-13T08:17:22.610Z"
   },
   {
    "duration": 54,
    "start_time": "2022-04-13T08:17:22.639Z"
   },
   {
    "duration": 11,
    "start_time": "2022-04-13T08:17:22.697Z"
   },
   {
    "duration": 14,
    "start_time": "2022-04-13T08:17:22.711Z"
   },
   {
    "duration": 9,
    "start_time": "2022-04-13T08:17:22.728Z"
   },
   {
    "duration": 21,
    "start_time": "2022-04-13T08:17:22.782Z"
   },
   {
    "duration": 20,
    "start_time": "2022-04-13T08:17:22.807Z"
   },
   {
    "duration": 17,
    "start_time": "2022-04-13T08:17:22.830Z"
   },
   {
    "duration": 32,
    "start_time": "2022-04-13T08:17:22.850Z"
   },
   {
    "duration": 43,
    "start_time": "2022-04-13T08:17:22.884Z"
   },
   {
    "duration": 486,
    "start_time": "2022-04-13T08:17:22.930Z"
   },
   {
    "duration": 926,
    "start_time": "2022-04-13T08:17:23.418Z"
   },
   {
    "duration": 61,
    "start_time": "2022-04-13T08:17:24.348Z"
   },
   {
    "duration": 42,
    "start_time": "2022-04-13T08:17:24.412Z"
   },
   {
    "duration": 39,
    "start_time": "2022-04-13T08:17:24.481Z"
   },
   {
    "duration": 60,
    "start_time": "2022-04-13T08:17:24.523Z"
   }
  ],
  "kernelspec": {
   "display_name": "Python 3 (ipykernel)",
   "language": "python",
   "name": "python3"
  },
  "language_info": {
   "codemirror_mode": {
    "name": "ipython",
    "version": 3
   },
   "file_extension": ".py",
   "mimetype": "text/x-python",
   "name": "python",
   "nbconvert_exporter": "python",
   "pygments_lexer": "ipython3",
   "version": "3.9.7"
  },
  "toc": {
   "base_numbering": 1,
   "nav_menu": {},
   "number_sections": true,
   "sideBar": true,
   "skip_h1_title": true,
   "title_cell": "Table of Contents",
   "title_sidebar": "Contents",
   "toc_cell": false,
   "toc_position": {},
   "toc_section_display": true,
   "toc_window_display": false
  }
 },
 "nbformat": 4,
 "nbformat_minor": 5
}
