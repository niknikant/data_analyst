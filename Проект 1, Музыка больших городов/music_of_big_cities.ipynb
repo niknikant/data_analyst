{
 "cells": [
  {
   "cell_type": "markdown",
   "metadata": {
    "id": "E0vqbgi9ay0H"
   },
   "source": [
    "# Яндекс.Музыка"
   ]
  },
  {
   "cell_type": "markdown",
   "metadata": {
    "id": "VUC88oWjTJw2"
   },
   "source": [
    "Сравнение Москвы и Петербурга окружено мифами. Например:\n",
    " * Москва — мегаполис, подчинённый жёсткому ритму рабочей недели;\n",
    " * Петербург — культурная столица, со своими вкусами.\n",
    "\n",
    "На данных Яндекс.Музыки вы сравните поведение пользователей двух столиц.\n",
    "\n",
    "**Цель исследования** — проверьте три гипотезы:\n",
    "1. Активность пользователей зависит от дня недели. Причём в Москве и Петербурге это проявляется по-разному.\n",
    "2. В понедельник утром в Москве преобладают одни жанры, а в Петербурге — другие. Так же и вечером пятницы преобладают разные жанры — в зависимости от города. \n",
    "3. Москва и Петербург предпочитают разные жанры музыки. В Москве чаще слушают поп-музыку, в Петербурге — русский рэп.\n",
    "\n",
    "**Ход исследования**\n",
    "\n",
    "Данные о поведении пользователей вы получите из файла `yandex_music_project.csv`. О качестве данных ничего не известно. Поэтому перед проверкой гипотез понадобится обзор данных. \n",
    "\n",
    "Вы проверите данные на ошибки и оцените их влияние на исследование. Затем, на этапе предобработки вы поищете возможность исправить самые критичные ошибки данных.\n",
    " \n",
    "Таким образом, исследование пройдёт в три этапа:\n",
    " 1. Обзор данных.\n",
    " 2. Предобработка данных.\n",
    " 3. Проверка гипотез.\n",
    "\n"
   ]
  },
  {
   "cell_type": "markdown",
   "metadata": {
    "id": "Ml1hmfXC_Zcs"
   },
   "source": [
    "## Обзор данных\n",
    "\n",
    "Составьте первое представление о данных Яндекс.Музыки.\n",
    "\n",
    "\n"
   ]
  },
  {
   "cell_type": "markdown",
   "metadata": {
    "id": "57eAOGIz_Zcs"
   },
   "source": [
    "Основной инструмент аналитика — `pandas`. Импортируйте эту библиотеку."
   ]
  },
  {
   "cell_type": "code",
   "execution_count": 1,
   "metadata": {
    "id": "AXN7PHPN_Zcs"
   },
   "outputs": [],
   "source": [
    "# импорт библиотеки pandas\n",
    "import pandas as pd"
   ]
  },
  {
   "cell_type": "markdown",
   "metadata": {
    "id": "SG23P8tt_Zcs"
   },
   "source": [
    "Прочитайте файл `yandex_music_project.csv` из папки `/datasets` и сохраните его в переменной `df`:"
   ]
  },
  {
   "cell_type": "code",
   "execution_count": 2,
   "metadata": {
    "id": "fFVu7vqh_Zct"
   },
   "outputs": [],
   "source": [
    "# чтение файла с данными и сохранение в df\n",
    "df = pd.read_csv('/datasets/yandex_music_project.csv')"
   ]
  },
  {
   "cell_type": "markdown",
   "metadata": {
    "id": "rDoOMd3uTqnZ"
   },
   "source": [
    "Выведите на экран первые десять строк таблицы:"
   ]
  },
  {
   "cell_type": "code",
   "execution_count": 3,
   "metadata": {
    "id": "oWTVX3gW_Zct"
   },
   "outputs": [
    {
     "data": {
      "text/html": [
       "<div>\n",
       "<style scoped>\n",
       "    .dataframe tbody tr th:only-of-type {\n",
       "        vertical-align: middle;\n",
       "    }\n",
       "\n",
       "    .dataframe tbody tr th {\n",
       "        vertical-align: top;\n",
       "    }\n",
       "\n",
       "    .dataframe thead th {\n",
       "        text-align: right;\n",
       "    }\n",
       "</style>\n",
       "<table border=\"1\" class=\"dataframe\">\n",
       "  <thead>\n",
       "    <tr style=\"text-align: right;\">\n",
       "      <th></th>\n",
       "      <th>userID</th>\n",
       "      <th>Track</th>\n",
       "      <th>artist</th>\n",
       "      <th>genre</th>\n",
       "      <th>City</th>\n",
       "      <th>time</th>\n",
       "      <th>Day</th>\n",
       "    </tr>\n",
       "  </thead>\n",
       "  <tbody>\n",
       "    <tr>\n",
       "      <th>0</th>\n",
       "      <td>FFB692EC</td>\n",
       "      <td>Kamigata To Boots</td>\n",
       "      <td>The Mass Missile</td>\n",
       "      <td>rock</td>\n",
       "      <td>Saint-Petersburg</td>\n",
       "      <td>20:28:33</td>\n",
       "      <td>Wednesday</td>\n",
       "    </tr>\n",
       "    <tr>\n",
       "      <th>1</th>\n",
       "      <td>55204538</td>\n",
       "      <td>Delayed Because of Accident</td>\n",
       "      <td>Andreas Rönnberg</td>\n",
       "      <td>rock</td>\n",
       "      <td>Moscow</td>\n",
       "      <td>14:07:09</td>\n",
       "      <td>Friday</td>\n",
       "    </tr>\n",
       "    <tr>\n",
       "      <th>2</th>\n",
       "      <td>20EC38</td>\n",
       "      <td>Funiculì funiculà</td>\n",
       "      <td>Mario Lanza</td>\n",
       "      <td>pop</td>\n",
       "      <td>Saint-Petersburg</td>\n",
       "      <td>20:58:07</td>\n",
       "      <td>Wednesday</td>\n",
       "    </tr>\n",
       "    <tr>\n",
       "      <th>3</th>\n",
       "      <td>A3DD03C9</td>\n",
       "      <td>Dragons in the Sunset</td>\n",
       "      <td>Fire + Ice</td>\n",
       "      <td>folk</td>\n",
       "      <td>Saint-Petersburg</td>\n",
       "      <td>08:37:09</td>\n",
       "      <td>Monday</td>\n",
       "    </tr>\n",
       "    <tr>\n",
       "      <th>4</th>\n",
       "      <td>E2DC1FAE</td>\n",
       "      <td>Soul People</td>\n",
       "      <td>Space Echo</td>\n",
       "      <td>dance</td>\n",
       "      <td>Moscow</td>\n",
       "      <td>08:34:34</td>\n",
       "      <td>Monday</td>\n",
       "    </tr>\n",
       "    <tr>\n",
       "      <th>5</th>\n",
       "      <td>842029A1</td>\n",
       "      <td>Преданная</td>\n",
       "      <td>IMPERVTOR</td>\n",
       "      <td>rusrap</td>\n",
       "      <td>Saint-Petersburg</td>\n",
       "      <td>13:09:41</td>\n",
       "      <td>Friday</td>\n",
       "    </tr>\n",
       "    <tr>\n",
       "      <th>6</th>\n",
       "      <td>4CB90AA5</td>\n",
       "      <td>True</td>\n",
       "      <td>Roman Messer</td>\n",
       "      <td>dance</td>\n",
       "      <td>Moscow</td>\n",
       "      <td>13:00:07</td>\n",
       "      <td>Wednesday</td>\n",
       "    </tr>\n",
       "    <tr>\n",
       "      <th>7</th>\n",
       "      <td>F03E1C1F</td>\n",
       "      <td>Feeling This Way</td>\n",
       "      <td>Polina Griffith</td>\n",
       "      <td>dance</td>\n",
       "      <td>Moscow</td>\n",
       "      <td>20:47:49</td>\n",
       "      <td>Wednesday</td>\n",
       "    </tr>\n",
       "    <tr>\n",
       "      <th>8</th>\n",
       "      <td>8FA1D3BE</td>\n",
       "      <td>И вновь продолжается бой</td>\n",
       "      <td>NaN</td>\n",
       "      <td>ruspop</td>\n",
       "      <td>Moscow</td>\n",
       "      <td>09:17:40</td>\n",
       "      <td>Friday</td>\n",
       "    </tr>\n",
       "    <tr>\n",
       "      <th>9</th>\n",
       "      <td>E772D5C0</td>\n",
       "      <td>Pessimist</td>\n",
       "      <td>NaN</td>\n",
       "      <td>dance</td>\n",
       "      <td>Saint-Petersburg</td>\n",
       "      <td>21:20:49</td>\n",
       "      <td>Wednesday</td>\n",
       "    </tr>\n",
       "  </tbody>\n",
       "</table>\n",
       "</div>"
      ],
      "text/plain": [
       "     userID                        Track            artist   genre  \\\n",
       "0  FFB692EC            Kamigata To Boots  The Mass Missile    rock   \n",
       "1  55204538  Delayed Because of Accident  Andreas Rönnberg    rock   \n",
       "2    20EC38            Funiculì funiculà       Mario Lanza     pop   \n",
       "3  A3DD03C9        Dragons in the Sunset        Fire + Ice    folk   \n",
       "4  E2DC1FAE                  Soul People        Space Echo   dance   \n",
       "5  842029A1                    Преданная         IMPERVTOR  rusrap   \n",
       "6  4CB90AA5                         True      Roman Messer   dance   \n",
       "7  F03E1C1F             Feeling This Way   Polina Griffith   dance   \n",
       "8  8FA1D3BE     И вновь продолжается бой               NaN  ruspop   \n",
       "9  E772D5C0                    Pessimist               NaN   dance   \n",
       "\n",
       "             City        time        Day  \n",
       "0  Saint-Petersburg  20:28:33  Wednesday  \n",
       "1            Moscow  14:07:09     Friday  \n",
       "2  Saint-Petersburg  20:58:07  Wednesday  \n",
       "3  Saint-Petersburg  08:37:09     Monday  \n",
       "4            Moscow  08:34:34     Monday  \n",
       "5  Saint-Petersburg  13:09:41     Friday  \n",
       "6            Moscow  13:00:07  Wednesday  \n",
       "7            Moscow  20:47:49  Wednesday  \n",
       "8            Moscow  09:17:40     Friday  \n",
       "9  Saint-Petersburg  21:20:49  Wednesday  "
      ]
     },
     "metadata": {},
     "output_type": "display_data"
    }
   ],
   "source": [
    "# получение первых 10 строк таблицы df\n",
    "display(df.head(10))"
   ]
  },
  {
   "cell_type": "markdown",
   "metadata": {
    "id": "EO73Kwic_Zct"
   },
   "source": [
    "Одной командой получить общую информацию о таблице:"
   ]
  },
  {
   "cell_type": "code",
   "execution_count": 4,
   "metadata": {
    "id": "DSf2kIb-_Zct"
   },
   "outputs": [
    {
     "name": "stdout",
     "output_type": "stream",
     "text": [
      "<class 'pandas.core.frame.DataFrame'>\n",
      "RangeIndex: 65079 entries, 0 to 65078\n",
      "Data columns (total 7 columns):\n",
      " #   Column    Non-Null Count  Dtype \n",
      "---  ------    --------------  ----- \n",
      " 0     userID  65079 non-null  object\n",
      " 1   Track     63848 non-null  object\n",
      " 2   artist    57876 non-null  object\n",
      " 3   genre     63881 non-null  object\n",
      " 4     City    65079 non-null  object\n",
      " 5   time      65079 non-null  object\n",
      " 6   Day       65079 non-null  object\n",
      "dtypes: object(7)\n",
      "memory usage: 3.5+ MB\n"
     ]
    }
   ],
   "source": [
    "# получение общей информации о данных в таблице df\n",
    "df.info()"
   ]
  },
  {
   "cell_type": "markdown",
   "metadata": {
    "id": "TaQ2Iwbr_Zct"
   },
   "source": [
    "Итак, в таблице семь столбцов. Тип данных во всех столбцах — `object`.\n",
    "\n",
    "Согласно документации к данным:\n",
    "* `userID` — идентификатор пользователя;\n",
    "* `Track` — название трека;  \n",
    "* `artist` — имя исполнителя;\n",
    "* `genre` — название жанра;\n",
    "* `City` — город пользователя;\n",
    "* `time` — время начала прослушивания;\n",
    "* `Day` — день недели.\n",
    "\n",
    "В названиях колонок видны три нарушения стиля:\n",
    "1. Строчные буквы сочетаются с прописными.\n",
    "2. Встречаются пробелы.\n",
    "3. Не всё прведо к змеиному регистру.\n",
    "\n",
    "\n",
    "\n",
    "Количество значений в столбцах различается. Значит, в данных есть пропущенные значения.\n"
   ]
  },
  {
   "cell_type": "markdown",
   "metadata": {
    "id": "MCB6-dXG_Zct"
   },
   "source": [
    "**Выводы**\n",
    "\n",
    "В каждой строке таблицы — данные о прослушанном треке. Часть колонок описывает саму композицию: название, исполнителя и жанр. Остальные данные рассказывают о пользователе: из какого он города, когда он слушал музыку. \n",
    "\n",
    "Предварительно можно утверждать, что, данных достаточно для проверки гипотез. Но встречаются пропуски в данных, а в названиях колонок — расхождения с хорошим стилем.\n",
    "\n",
    "Чтобы двигаться дальше, нужно устранить проблемы в данных."
   ]
  },
  {
   "cell_type": "markdown",
   "metadata": {
    "id": "SjYF6Ub9_Zct"
   },
   "source": [
    "## Предобработка данных\n",
    "Исправьте стиль в заголовках столбцов, исключите пропуски. Затем проверьте данные на дубликаты."
   ]
  },
  {
   "cell_type": "markdown",
   "metadata": {
    "id": "dIaKXr29_Zct"
   },
   "source": [
    "### Стиль заголовков\n",
    "Выведите на экран названия столбцов:"
   ]
  },
  {
   "cell_type": "code",
   "execution_count": 5,
   "metadata": {
    "id": "oKOTdF_Q_Zct"
   },
   "outputs": [
    {
     "data": {
      "text/plain": [
       "Index(['  userID', 'Track', 'artist', 'genre', '  City  ', 'time', 'Day'], dtype='object')"
      ]
     },
     "execution_count": 5,
     "metadata": {},
     "output_type": "execute_result"
    }
   ],
   "source": [
    "# перечень названий столбцов таблицы df\n",
    "df.columns"
   ]
  },
  {
   "cell_type": "markdown",
   "metadata": {
    "id": "zj5534cv_Zct"
   },
   "source": [
    "Приведите названия в соответствие с хорошим стилем:\n",
    "* несколько слов в названии запишите в «змеином_регистре»,\n",
    "* все символы сделайте строчными,\n",
    "* устраните пробелы.\n",
    "\n",
    "Для этого переименуйте колонки так:\n",
    "* `'  userID'` → `'user_id'`;\n",
    "* `'Track'` → `'track'`;\n",
    "* `'  City  '` → `'city'`;\n",
    "* `'Day'` → `'day'`."
   ]
  },
  {
   "cell_type": "code",
   "execution_count": 6,
   "metadata": {
    "id": "ISlFqs5y_Zct"
   },
   "outputs": [],
   "source": [
    "# переименование столбцов\n",
    "df = df.rename(columns={'  userID':'user_id', 'Track':'track', '  City  ':'city', 'Day':'day'})"
   ]
  },
  {
   "cell_type": "markdown",
   "metadata": {
    "id": "1dqbh00J_Zct"
   },
   "source": [
    "Проверьте результат. Для этого ещё раз выведите на экран названия столбцов:"
   ]
  },
  {
   "cell_type": "code",
   "execution_count": 7,
   "metadata": {
    "id": "d4NOAmTW_Zct"
   },
   "outputs": [
    {
     "data": {
      "text/plain": [
       "Index(['user_id', 'track', 'artist', 'genre', 'city', 'time', 'day'], dtype='object')"
      ]
     },
     "execution_count": 7,
     "metadata": {},
     "output_type": "execute_result"
    }
   ],
   "source": [
    "# проверка результатов - перечень названий столбцов\n",
    "df.columns"
   ]
  },
  {
   "cell_type": "markdown",
   "metadata": {
    "id": "5ISfbcfY_Zct"
   },
   "source": [
    "### Пропуски значений\n",
    "Сначала посчитайте, сколько в таблице пропущенных значений. Для этого достаточно двух методов `pandas`:"
   ]
  },
  {
   "cell_type": "code",
   "execution_count": 8,
   "metadata": {
    "id": "RskX29qr_Zct"
   },
   "outputs": [
    {
     "data": {
      "text/plain": [
       "user_id       0\n",
       "track      1231\n",
       "artist     7203\n",
       "genre      1198\n",
       "city          0\n",
       "time          0\n",
       "day           0\n",
       "dtype: int64"
      ]
     },
     "metadata": {},
     "output_type": "display_data"
    }
   ],
   "source": [
    "# подсчёт пропусков\n",
    "display(df.isna().sum())"
   ]
  },
  {
   "cell_type": "markdown",
   "metadata": {
    "id": "qubhgnlO_Zct"
   },
   "source": [
    "Не все пропущенные значения влияют на исследование. Так в `track` и `artist` пропуски не важны для вашей работы. Достаточно заменить их явными обозначениями.\n",
    "\n",
    "Но пропуски в `genre` могут помешать сравнению музыкальных вкусов в Москве и Санкт-Петербурге. На практике было бы правильно установить причину пропусков и восстановить данные. Такой возможности нет в учебном проекте. Придётся:\n",
    "* заполнить и эти пропуски явными обозначениями,\n",
    "* оценить, насколько они повредят расчётам. "
   ]
  },
  {
   "cell_type": "markdown",
   "metadata": {
    "id": "fSv2laPA_Zct"
   },
   "source": [
    "Замените пропущенные значения в столбцах `track`, `artist` и `genre` на строку `'unknown'`. Для этого создайте список `columns_to_replace`, переберите его элементы циклом `for` и для каждого столбца выполните замену пропущенных значений:"
   ]
  },
  {
   "cell_type": "code",
   "execution_count": 9,
   "metadata": {
    "id": "KplB5qWs_Zct"
   },
   "outputs": [],
   "source": [
    "# перебор названий столбцов в цикле и замена пропущенных значений на 'unknown'\n",
    "columns_to_replace = ['track', 'artist', 'genre']\n",
    "for column in columns_to_replace:\n",
    "    df[column] = df[column].fillna('unknown')"
   ]
  },
  {
   "cell_type": "markdown",
   "metadata": {
    "id": "Ilsm-MZo_Zct"
   },
   "source": [
    "Убедитесь, что в таблице не осталось пропусков. Для этого ещё раз посчитайте пропущенные значения."
   ]
  },
  {
   "cell_type": "code",
   "execution_count": 10,
   "metadata": {
    "id": "Tq4nYRX4_Zct"
   },
   "outputs": [
    {
     "data": {
      "text/plain": [
       "user_id    0\n",
       "track      0\n",
       "artist     0\n",
       "genre      0\n",
       "city       0\n",
       "time       0\n",
       "day        0\n",
       "dtype: int64"
      ]
     },
     "metadata": {},
     "output_type": "display_data"
    }
   ],
   "source": [
    "# подсчёт пропусков\n",
    "display(df.isna().sum())"
   ]
  },
  {
   "cell_type": "markdown",
   "metadata": {
    "id": "BWKRtBJ3_Zct"
   },
   "source": [
    "### Дубликаты\n",
    "Посчитайте явные дубликаты в таблице одной командой:"
   ]
  },
  {
   "cell_type": "code",
   "execution_count": 11,
   "metadata": {
    "id": "36eES_S0_Zct"
   },
   "outputs": [
    {
     "data": {
      "text/plain": [
       "3826"
      ]
     },
     "metadata": {},
     "output_type": "display_data"
    }
   ],
   "source": [
    "# подсчёт явных дубликатов\n",
    "display(df.duplicated().sum())"
   ]
  },
  {
   "cell_type": "markdown",
   "metadata": {
    "id": "Ot25h6XR_Zct"
   },
   "source": [
    "Вызовите специальный метод `pandas`, чтобы удалить явные дубликаты:"
   ]
  },
  {
   "cell_type": "code",
   "execution_count": 12,
   "metadata": {
    "id": "exFHq6tt_Zct"
   },
   "outputs": [],
   "source": [
    "# удаление явных дубликатов (с удалением старых индексов и формированием новых)\n",
    "df = df.drop_duplicates().reset_index(drop=True)"
   ]
  },
  {
   "cell_type": "markdown",
   "metadata": {
    "id": "Im2YwBEG_Zct"
   },
   "source": [
    "Ещё раз посчитайте явные дубликаты в таблице — убедитесь, что полностью от них избавились:"
   ]
  },
  {
   "cell_type": "code",
   "execution_count": 13,
   "metadata": {
    "id": "-8PuNWQ0_Zct"
   },
   "outputs": [
    {
     "data": {
      "text/plain": [
       "0"
      ]
     },
     "metadata": {},
     "output_type": "display_data"
    }
   ],
   "source": [
    "# проверка на отсутствие дубликатов\n",
    "display(df.duplicated().sum())"
   ]
  },
  {
   "cell_type": "markdown",
   "metadata": {
    "id": "QlFBsxAr_Zct"
   },
   "source": [
    "Теперь избавьтесь от неявных дубликатов в колонке `genre`. Например, название одного и того же жанра может быть записано немного по-разному. Такие ошибки тоже повлияют на результат исследования."
   ]
  },
  {
   "cell_type": "markdown",
   "metadata": {
    "id": "eSjWwsOh_Zct"
   },
   "source": [
    "Выведите на экран список уникальных названий жанров, отсортированный в алфавитном порядке. Для этого:\n",
    "* извлеките нужный столбец датафрейма, \n",
    "* примените к нему метод сортировки,\n",
    "* для отсортированного столбца вызовите метод, который вернёт уникальные значения из столбца."
   ]
  },
  {
   "cell_type": "code",
   "execution_count": 14,
   "metadata": {
    "id": "JIUcqzZN_Zct"
   },
   "outputs": [
    {
     "data": {
      "text/plain": [
       "array(['acid', 'acoustic', 'action', 'adult', 'africa', 'afrikaans',\n",
       "       'alternative', 'alternativepunk', 'ambient', 'americana',\n",
       "       'animated', 'anime', 'arabesk', 'arabic', 'arena',\n",
       "       'argentinetango', 'art', 'audiobook', 'author', 'avantgarde',\n",
       "       'axé', 'baile', 'balkan', 'beats', 'bigroom', 'black', 'bluegrass',\n",
       "       'blues', 'bollywood', 'bossa', 'brazilian', 'breakbeat', 'breaks',\n",
       "       'broadway', 'cantautori', 'cantopop', 'canzone', 'caribbean',\n",
       "       'caucasian', 'celtic', 'chamber', 'chanson', 'children', 'chill',\n",
       "       'chinese', 'choral', 'christian', 'christmas', 'classical',\n",
       "       'classicmetal', 'club', 'colombian', 'comedy', 'conjazz',\n",
       "       'contemporary', 'country', 'cuban', 'dance', 'dancehall',\n",
       "       'dancepop', 'dark', 'death', 'deep', 'deutschrock', 'deutschspr',\n",
       "       'dirty', 'disco', 'dnb', 'documentary', 'downbeat', 'downtempo',\n",
       "       'drum', 'dub', 'dubstep', 'eastern', 'easy', 'electronic',\n",
       "       'electropop', 'emo', 'entehno', 'epicmetal', 'estrada', 'ethnic',\n",
       "       'eurofolk', 'european', 'experimental', 'extrememetal', 'fado',\n",
       "       'fairytail', 'film', 'fitness', 'flamenco', 'folk', 'folklore',\n",
       "       'folkmetal', 'folkrock', 'folktronica', 'forró', 'frankreich',\n",
       "       'französisch', 'french', 'funk', 'future', 'gangsta', 'garage',\n",
       "       'german', 'ghazal', 'gitarre', 'glitch', 'gospel', 'gothic',\n",
       "       'grime', 'grunge', 'gypsy', 'handsup', \"hard'n'heavy\", 'hardcore',\n",
       "       'hardstyle', 'hardtechno', 'hip', 'hip-hop', 'hiphop',\n",
       "       'historisch', 'holiday', 'hop', 'horror', 'house', 'hymn', 'idm',\n",
       "       'independent', 'indian', 'indie', 'indipop', 'industrial',\n",
       "       'inspirational', 'instrumental', 'international', 'irish', 'jam',\n",
       "       'japanese', 'jazz', 'jewish', 'jpop', 'jungle', 'k-pop',\n",
       "       'karadeniz', 'karaoke', 'kayokyoku', 'korean', 'laiko', 'latin',\n",
       "       'latino', 'leftfield', 'local', 'lounge', 'loungeelectronic',\n",
       "       'lovers', 'malaysian', 'mandopop', 'marschmusik', 'meditative',\n",
       "       'mediterranean', 'melodic', 'metal', 'metalcore', 'mexican',\n",
       "       'middle', 'minimal', 'miscellaneous', 'modern', 'mood', 'mpb',\n",
       "       'muslim', 'native', 'neoklassik', 'neue', 'new', 'newage',\n",
       "       'newwave', 'nu', 'nujazz', 'numetal', 'oceania', 'old', 'opera',\n",
       "       'orchestral', 'other', 'piano', 'podcasts', 'pop', 'popdance',\n",
       "       'popelectronic', 'popeurodance', 'poprussian', 'post',\n",
       "       'posthardcore', 'postrock', 'power', 'progmetal', 'progressive',\n",
       "       'psychedelic', 'punjabi', 'punk', 'quebecois', 'ragga', 'ram',\n",
       "       'rancheras', 'rap', 'rave', 'reggae', 'reggaeton', 'regional',\n",
       "       'relax', 'religious', 'retro', 'rhythm', 'rnb', 'rnr', 'rock',\n",
       "       'rockabilly', 'rockalternative', 'rockindie', 'rockother',\n",
       "       'romance', 'roots', 'ruspop', 'rusrap', 'rusrock', 'russian',\n",
       "       'salsa', 'samba', 'scenic', 'schlager', 'self', 'sertanejo',\n",
       "       'shanson', 'shoegazing', 'showtunes', 'singer', 'ska', 'skarock',\n",
       "       'slow', 'smooth', 'soft', 'soul', 'soulful', 'sound', 'soundtrack',\n",
       "       'southern', 'specialty', 'speech', 'spiritual', 'sport',\n",
       "       'stonerrock', 'surf', 'swing', 'synthpop', 'synthrock',\n",
       "       'sängerportrait', 'tango', 'tanzorchester', 'taraftar', 'tatar',\n",
       "       'tech', 'techno', 'teen', 'thrash', 'top', 'traditional',\n",
       "       'tradjazz', 'trance', 'tribal', 'trip', 'triphop', 'tropical',\n",
       "       'türk', 'türkçe', 'ukrrock', 'unknown', 'urban', 'uzbek',\n",
       "       'variété', 'vi', 'videogame', 'vocal', 'western', 'world',\n",
       "       'worldbeat', 'ïîï', 'электроника'], dtype=object)"
      ]
     },
     "execution_count": 14,
     "metadata": {},
     "output_type": "execute_result"
    }
   ],
   "source": [
    "# Просмотр уникальных названий жанров\n",
    "sorted_genre = df['genre'].sort_values().unique()\n",
    "sorted_genre"
   ]
  },
  {
   "cell_type": "markdown",
   "metadata": {
    "id": "qej-Qmuo_Zct"
   },
   "source": [
    "Просмотрите список и найдите неявные дубликаты названия `hiphop`. Это могут быть названия с ошибками или альтернативные названия того же жанра.\n",
    "\n",
    "Вы увидите следующие неявные дубликаты:\n",
    "* *hip*,\n",
    "* *hop*,\n",
    "* *hip-hop*.\n",
    "\n",
    "Чтобы очистить от них таблицу, напишите функцию `replace_wrong_genres()` с двумя параметрами: \n",
    "* `wrong_genres` — список дубликатов,\n",
    "* `correct_genre` — строка с правильным значением.\n",
    "\n",
    "Функция должна исправить колонку `genre` в таблице `df`: заменить каждое значение из списка `wrong_genres` на значение из `correct_genre`."
   ]
  },
  {
   "cell_type": "code",
   "execution_count": 15,
   "metadata": {
    "id": "ErNDkmns_Zct"
   },
   "outputs": [],
   "source": [
    "# Функция для замены неявных дубликатов\n",
    "def replace_wrong_genres(wrong_genres, correct_genre):\n",
    "    for index in wrong_genres:\n",
    "        df['genre'] = df['genre'].replace(index, correct_genre)\n",
    "        "
   ]
  },
  {
   "cell_type": "markdown",
   "metadata": {
    "id": "aDoBJxbA_Zct"
   },
   "source": [
    "Вызовите `replace_wrong_genres()` и передайте ей такие аргументы, чтобы она устранила неявные дубликаты: вместо `hip`, `hop` и `hip-hop` в таблице должно быть значение `hiphop`:"
   ]
  },
  {
   "cell_type": "code",
   "execution_count": 16,
   "metadata": {
    "id": "YN5i2hpmSo09"
   },
   "outputs": [],
   "source": [
    "# Устранение неявных дубликатов\n",
    "dublicates = ['hip', 'hop', 'hip-hop']\n",
    "name = 'hiphop'\n",
    "replace_wrong_genres(dublicates, name) "
   ]
  },
  {
   "cell_type": "markdown",
   "metadata": {
    "id": "zQKF16_RG15m"
   },
   "source": [
    "Проверьте, что заменили неправильные названия:\n",
    "\n",
    "*   hip\n",
    "*   hop\n",
    "*   hip-hop\n",
    "\n",
    "Выведите отсортированный список уникальных значений столбца `genre`:"
   ]
  },
  {
   "cell_type": "code",
   "execution_count": 17,
   "metadata": {
    "id": "wvixALnFG15m"
   },
   "outputs": [
    {
     "data": {
      "text/plain": [
       "array(['acid', 'acoustic', 'action', 'adult', 'africa', 'afrikaans',\n",
       "       'alternative', 'alternativepunk', 'ambient', 'americana',\n",
       "       'animated', 'anime', 'arabesk', 'arabic', 'arena',\n",
       "       'argentinetango', 'art', 'audiobook', 'author', 'avantgarde',\n",
       "       'axé', 'baile', 'balkan', 'beats', 'bigroom', 'black', 'bluegrass',\n",
       "       'blues', 'bollywood', 'bossa', 'brazilian', 'breakbeat', 'breaks',\n",
       "       'broadway', 'cantautori', 'cantopop', 'canzone', 'caribbean',\n",
       "       'caucasian', 'celtic', 'chamber', 'chanson', 'children', 'chill',\n",
       "       'chinese', 'choral', 'christian', 'christmas', 'classical',\n",
       "       'classicmetal', 'club', 'colombian', 'comedy', 'conjazz',\n",
       "       'contemporary', 'country', 'cuban', 'dance', 'dancehall',\n",
       "       'dancepop', 'dark', 'death', 'deep', 'deutschrock', 'deutschspr',\n",
       "       'dirty', 'disco', 'dnb', 'documentary', 'downbeat', 'downtempo',\n",
       "       'drum', 'dub', 'dubstep', 'eastern', 'easy', 'electronic',\n",
       "       'electropop', 'emo', 'entehno', 'epicmetal', 'estrada', 'ethnic',\n",
       "       'eurofolk', 'european', 'experimental', 'extrememetal', 'fado',\n",
       "       'fairytail', 'film', 'fitness', 'flamenco', 'folk', 'folklore',\n",
       "       'folkmetal', 'folkrock', 'folktronica', 'forró', 'frankreich',\n",
       "       'französisch', 'french', 'funk', 'future', 'gangsta', 'garage',\n",
       "       'german', 'ghazal', 'gitarre', 'glitch', 'gospel', 'gothic',\n",
       "       'grime', 'grunge', 'gypsy', 'handsup', \"hard'n'heavy\", 'hardcore',\n",
       "       'hardstyle', 'hardtechno', 'hiphop', 'historisch', 'holiday',\n",
       "       'horror', 'house', 'hymn', 'idm', 'independent', 'indian', 'indie',\n",
       "       'indipop', 'industrial', 'inspirational', 'instrumental',\n",
       "       'international', 'irish', 'jam', 'japanese', 'jazz', 'jewish',\n",
       "       'jpop', 'jungle', 'k-pop', 'karadeniz', 'karaoke', 'kayokyoku',\n",
       "       'korean', 'laiko', 'latin', 'latino', 'leftfield', 'local',\n",
       "       'lounge', 'loungeelectronic', 'lovers', 'malaysian', 'mandopop',\n",
       "       'marschmusik', 'meditative', 'mediterranean', 'melodic', 'metal',\n",
       "       'metalcore', 'mexican', 'middle', 'minimal', 'miscellaneous',\n",
       "       'modern', 'mood', 'mpb', 'muslim', 'native', 'neoklassik', 'neue',\n",
       "       'new', 'newage', 'newwave', 'nu', 'nujazz', 'numetal', 'oceania',\n",
       "       'old', 'opera', 'orchestral', 'other', 'piano', 'podcasts', 'pop',\n",
       "       'popdance', 'popelectronic', 'popeurodance', 'poprussian', 'post',\n",
       "       'posthardcore', 'postrock', 'power', 'progmetal', 'progressive',\n",
       "       'psychedelic', 'punjabi', 'punk', 'quebecois', 'ragga', 'ram',\n",
       "       'rancheras', 'rap', 'rave', 'reggae', 'reggaeton', 'regional',\n",
       "       'relax', 'religious', 'retro', 'rhythm', 'rnb', 'rnr', 'rock',\n",
       "       'rockabilly', 'rockalternative', 'rockindie', 'rockother',\n",
       "       'romance', 'roots', 'ruspop', 'rusrap', 'rusrock', 'russian',\n",
       "       'salsa', 'samba', 'scenic', 'schlager', 'self', 'sertanejo',\n",
       "       'shanson', 'shoegazing', 'showtunes', 'singer', 'ska', 'skarock',\n",
       "       'slow', 'smooth', 'soft', 'soul', 'soulful', 'sound', 'soundtrack',\n",
       "       'southern', 'specialty', 'speech', 'spiritual', 'sport',\n",
       "       'stonerrock', 'surf', 'swing', 'synthpop', 'synthrock',\n",
       "       'sängerportrait', 'tango', 'tanzorchester', 'taraftar', 'tatar',\n",
       "       'tech', 'techno', 'teen', 'thrash', 'top', 'traditional',\n",
       "       'tradjazz', 'trance', 'tribal', 'trip', 'triphop', 'tropical',\n",
       "       'türk', 'türkçe', 'ukrrock', 'unknown', 'urban', 'uzbek',\n",
       "       'variété', 'vi', 'videogame', 'vocal', 'western', 'world',\n",
       "       'worldbeat', 'ïîï', 'электроника'], dtype=object)"
      ]
     },
     "execution_count": 17,
     "metadata": {},
     "output_type": "execute_result"
    }
   ],
   "source": [
    "# Проверка на неявные дубликаты\n",
    "sorted_genre = df['genre'].sort_values().unique()\n",
    "sorted_genre"
   ]
  },
  {
   "cell_type": "markdown",
   "metadata": {
    "id": "jz6a9-7HQUDd"
   },
   "source": [
    "**Выводы**\n",
    "\n",
    "Предобработка обнаружила три проблемы в данных:\n",
    "\n",
    "- нарушения в стиле заголовков,\n",
    "- пропущенные значения,\n",
    "- дубликаты — явные и неявные.\n",
    "\n",
    "Вы исправили заголовки, чтобы упростить работу с таблицей. Без дубликатов исследование станет более точным.\n",
    "\n",
    "Пропущенные значения вы заменили на `'unknown'`. Ещё предстоит увидеть, не повредят ли исследованию пропуски в колонке `genre`.\n",
    "\n",
    "Теперь можно перейти к проверке гипотез. "
   ]
  },
  {
   "cell_type": "markdown",
   "metadata": {
    "id": "WttZHXH0SqKk"
   },
   "source": [
    "## Проверка гипотез"
   ]
  },
  {
   "cell_type": "markdown",
   "metadata": {
    "id": "Im936VVi_Zcu"
   },
   "source": [
    "### Сравнение поведения пользователей двух столиц"
   ]
  },
  {
   "cell_type": "markdown",
   "metadata": {
    "id": "nwt_MuaL_Zcu"
   },
   "source": [
    "Первая гипотеза утверждает, что пользователи по-разному слушают музыку в Москве и Санкт-Петербурге. Проверьте это предположение по данным о трёх днях недели — понедельнике, среде и пятнице. Для этого:\n",
    "\n",
    "* Разделите пользователей Москвы и Санкт-Петербурга\n",
    "* Сравните, сколько треков послушала каждая группа пользователей в понедельник, среду и пятницу.\n"
   ]
  },
  {
   "cell_type": "markdown",
   "metadata": {
    "id": "8Dw_YMmT_Zcu"
   },
   "source": [
    "Для тренировки сначала выполните каждый из расчётов по отдельности. \n",
    "\n",
    "Оцените активность пользователей в каждом городе. Сгруппируйте данные по городу и посчитайте прослушивания в каждой группе.\n",
    "\n"
   ]
  },
  {
   "cell_type": "code",
   "execution_count": 18,
   "metadata": {
    "id": "0_Qs96oh_Zcu",
    "scrolled": true
   },
   "outputs": [
    {
     "data": {
      "text/plain": [
       "city\n",
       "Moscow              42741\n",
       "Saint-Petersburg    18512\n",
       "Name: genre, dtype: int64"
      ]
     },
     "execution_count": 18,
     "metadata": {},
     "output_type": "execute_result"
    }
   ],
   "source": [
    "# Подсчёт прослушиваний в каждом городе\n",
    "df.groupby('city')['genre'].count()"
   ]
  },
  {
   "cell_type": "markdown",
   "metadata": {
    "id": "dzli3w8o_Zcu"
   },
   "source": [
    "В Москве прослушиваний больше, чем в Петербурге. Из этого не следует, что московские пользователи чаще слушают музыку. Просто самих пользователей в Москве больше.\n",
    "\n",
    "Теперь сгруппируйте данные по дню недели и подсчитайте прослушивания в понедельник, среду и пятницу. Учтите, что в данных есть информация только о прослушиваниях только за эти дни.\n"
   ]
  },
  {
   "cell_type": "code",
   "execution_count": 19,
   "metadata": {
    "id": "uZMKjiJz_Zcu"
   },
   "outputs": [
    {
     "data": {
      "text/plain": [
       "day\n",
       "Friday       21840\n",
       "Monday       21354\n",
       "Wednesday    18059\n",
       "Name: genre, dtype: int64"
      ]
     },
     "execution_count": 19,
     "metadata": {},
     "output_type": "execute_result"
    }
   ],
   "source": [
    "# Подсчёт прослушиваний в каждый из трёх дней\n",
    "df.groupby('day')['genre'].count()"
   ]
  },
  {
   "cell_type": "markdown",
   "metadata": {
    "id": "cC2tNrlL_Zcu"
   },
   "source": [
    "В среднем пользователи из двух городов менее активны по средам. Но картина может измениться, если рассмотреть каждый город в отдельности."
   ]
  },
  {
   "cell_type": "markdown",
   "metadata": {
    "id": "POzs8bGa_Zcu"
   },
   "source": [
    "Вы видели, как работает группировка по городу и по дням недели. Теперь напишите функцию, которая объединит два эти расчёта.\n",
    "\n",
    "Создайте функцию `number_tracks()`, которая посчитает прослушивания для заданного дня и города. Ей понадобятся два параметра:\n",
    "* день недели,\n",
    "* название города.\n",
    "\n",
    "В функции сохраните в переменную строки исходной таблицы, у которых значение:\n",
    "  * в колонке `day` равно параметру `day`,\n",
    "  * в колонке `city` равно параметру `city`.\n",
    "\n",
    "Для этого примените последовательную фильтрацию с логической индексацией.\n",
    "\n",
    "Затем посчитайте значения в столбце `user_id` получившейся таблицы. Результат сохраните в новую переменную. Верните эту переменную из функции."
   ]
  },
  {
   "cell_type": "code",
   "execution_count": 20,
   "metadata": {
    "id": "Nz3GdQB1_Zcu"
   },
   "outputs": [],
   "source": [
    "# <создание функции number_tracks()>\n",
    "# Объявляется функция с двумя параметрами: day, city.\n",
    "# В переменной track_list сохраняются те строки таблицы df, для которых \n",
    "# значение в столбце 'day' равно параметру day и одновременно значение\n",
    "# в столбце 'city' равно параметру city (используйте последовательную фильтрацию\n",
    "# с помощью логической индексации).\n",
    "# В переменной track_list_count сохраняется число значений столбца 'user_id',\n",
    "# рассчитанное методом count() для таблицы track_list.\n",
    "# Функция возвращает число - значение track_list_count.\n",
    "\n",
    "# Функция для подсчёта прослушиваний для конкретного города и дня.\n",
    "# С помощью последовательной фильтрации с логической индексацией она \n",
    "# сначала получит из исходной таблицы строки с нужным днём,\n",
    "# затем из результата отфильтрует строки с нужным городом,\n",
    "# методом count() посчитает количество значений в колонке user_id. \n",
    "# Это количество функция вернёт в качестве результата\n",
    "def number_tracks(day, city):\n",
    "    track_list = df[df['day'] == day]\n",
    "    track_list = track_list[track_list['city'] == city]\n",
    "    track_list_count = track_list['user_id'].count()\n",
    "    return track_list_count"
   ]
  },
  {
   "cell_type": "markdown",
   "metadata": {
    "id": "ytf7xFrFJQ2r"
   },
   "source": [
    "Вызовите `number_tracks()` шесть раз, меняя значение параметров — так, чтобы получить данные для каждого города в каждый из трёх дней."
   ]
  },
  {
   "cell_type": "code",
   "execution_count": 21,
   "metadata": {
    "id": "rJcRATNQ_Zcu"
   },
   "outputs": [
    {
     "data": {
      "text/plain": [
       "15740"
      ]
     },
     "execution_count": 21,
     "metadata": {},
     "output_type": "execute_result"
    }
   ],
   "source": [
    "# количество прослушиваний в Москве по понедельникам\n",
    "number_tracks(day = 'Monday', city = 'Moscow')"
   ]
  },
  {
   "cell_type": "code",
   "execution_count": 22,
   "metadata": {
    "id": "hq_ncZ5T_Zcu"
   },
   "outputs": [
    {
     "data": {
      "text/plain": [
       "5614"
      ]
     },
     "execution_count": 22,
     "metadata": {},
     "output_type": "execute_result"
    }
   ],
   "source": [
    "# количество прослушиваний в Санкт-Петербурге по понедельникам\n",
    "number_tracks(day = 'Monday', city = 'Saint-Petersburg')"
   ]
  },
  {
   "cell_type": "code",
   "execution_count": 23,
   "metadata": {
    "id": "_NTy2VPU_Zcu"
   },
   "outputs": [
    {
     "data": {
      "text/plain": [
       "11056"
      ]
     },
     "execution_count": 23,
     "metadata": {},
     "output_type": "execute_result"
    }
   ],
   "source": [
    "# количество прослушиваний в Москве по средам\n",
    "number_tracks(day = 'Wednesday', city = 'Moscow')"
   ]
  },
  {
   "cell_type": "code",
   "execution_count": 24,
   "metadata": {
    "id": "j2y3TAwo_Zcu"
   },
   "outputs": [
    {
     "data": {
      "text/plain": [
       "7003"
      ]
     },
     "execution_count": 24,
     "metadata": {},
     "output_type": "execute_result"
    }
   ],
   "source": [
    "# количество прослушиваний в Санкт-Петербурге по средам\n",
    "number_tracks(day = 'Wednesday', city = 'Saint-Petersburg')"
   ]
  },
  {
   "cell_type": "code",
   "execution_count": 25,
   "metadata": {
    "id": "vYDw5u_K_Zcu"
   },
   "outputs": [
    {
     "data": {
      "text/plain": [
       "15945"
      ]
     },
     "execution_count": 25,
     "metadata": {},
     "output_type": "execute_result"
    }
   ],
   "source": [
    "# количество прослушиваний в Москве по пятницам\n",
    "number_tracks(day = 'Friday', city = 'Moscow')"
   ]
  },
  {
   "cell_type": "code",
   "execution_count": 26,
   "metadata": {
    "id": "8_yzFtW3_Zcu"
   },
   "outputs": [
    {
     "data": {
      "text/plain": [
       "5895"
      ]
     },
     "execution_count": 26,
     "metadata": {},
     "output_type": "execute_result"
    }
   ],
   "source": [
    "# количество прослушиваний в Санкт-Петербурге по пятницам\n",
    "number_tracks(day = 'Friday', city = 'Saint-Petersburg')"
   ]
  },
  {
   "cell_type": "markdown",
   "metadata": {
    "id": "7QXffbO-_Zcu"
   },
   "source": [
    "Создайте c помощью конструктора `pd.DataFrame` таблицу, где\n",
    "* названия колонок — `['city', 'monday', 'wednesday', 'friday']`;\n",
    "* данные — результаты, которые вы получили с помощью `number_tracks`."
   ]
  },
  {
   "cell_type": "code",
   "execution_count": 40,
   "metadata": {
    "id": "APAcLpOr_Zcu"
   },
   "outputs": [],
   "source": [
    "# Таблица с результатами\n",
    "data = [['Moscow', 15740, 11056, 15945],\n",
    "       ['Saint-Petersburg', 5614, 7003, 5895]]\n",
    "columns = ['city', 'Monday', 'Wednesday', 'Friday']\n",
    "table = pd.DataFrame(data=data, columns=columns)\n"
   ]
  },
  {
   "cell_type": "markdown",
   "metadata": {
    "id": "-EgPIHYu_Zcu"
   },
   "source": [
    "**Выводы**\n",
    "\n",
    "Данные показывают разницу поведения пользователей:\n",
    "\n",
    "- В Москве пик прослушиваний приходится на понедельник и пятницу, а в среду заметен спад.\n",
    "- В Петербурге, наоборот, больше слушают музыку по средам. Активность в понедельник и пятницу здесь почти в равной мере уступает среде.\n",
    "\n",
    "Значит, данные говорят в пользу первой гипотезы."
   ]
  },
  {
   "cell_type": "markdown",
   "metadata": {
    "id": "atZAxtq4_Zcu"
   },
   "source": [
    "### Музыка в начале и в конце недели"
   ]
  },
  {
   "cell_type": "markdown",
   "metadata": {
    "id": "eXrQqXFH_Zcu"
   },
   "source": [
    "Согласно второй гипотезе, утром в понедельник в Москве преобладают одни жанры, а в Петербурге — другие. Так же и вечером пятницы преобладают разные жанры — в зависимости от города."
   ]
  },
  {
   "cell_type": "markdown",
   "metadata": {
    "id": "S8UcW6Hw_Zcu"
   },
   "source": [
    "Сохраните таблицы с данными в две переменные:\n",
    "* по Москве — в `moscow_general`;\n",
    "* по Санкт-Петербургу — в `spb_general`."
   ]
  },
  {
   "cell_type": "code",
   "execution_count": 28,
   "metadata": {
    "id": "qeaFfM_P_Zcu"
   },
   "outputs": [
    {
     "data": {
      "text/html": [
       "<div>\n",
       "<style scoped>\n",
       "    .dataframe tbody tr th:only-of-type {\n",
       "        vertical-align: middle;\n",
       "    }\n",
       "\n",
       "    .dataframe tbody tr th {\n",
       "        vertical-align: top;\n",
       "    }\n",
       "\n",
       "    .dataframe thead th {\n",
       "        text-align: right;\n",
       "    }\n",
       "</style>\n",
       "<table border=\"1\" class=\"dataframe\">\n",
       "  <thead>\n",
       "    <tr style=\"text-align: right;\">\n",
       "      <th></th>\n",
       "      <th>user_id</th>\n",
       "      <th>track</th>\n",
       "      <th>artist</th>\n",
       "      <th>genre</th>\n",
       "      <th>city</th>\n",
       "      <th>time</th>\n",
       "      <th>day</th>\n",
       "    </tr>\n",
       "  </thead>\n",
       "  <tbody>\n",
       "    <tr>\n",
       "      <th>1</th>\n",
       "      <td>55204538</td>\n",
       "      <td>Delayed Because of Accident</td>\n",
       "      <td>Andreas Rönnberg</td>\n",
       "      <td>rock</td>\n",
       "      <td>Moscow</td>\n",
       "      <td>14:07:09</td>\n",
       "      <td>Friday</td>\n",
       "    </tr>\n",
       "    <tr>\n",
       "      <th>4</th>\n",
       "      <td>E2DC1FAE</td>\n",
       "      <td>Soul People</td>\n",
       "      <td>Space Echo</td>\n",
       "      <td>dance</td>\n",
       "      <td>Moscow</td>\n",
       "      <td>08:34:34</td>\n",
       "      <td>Monday</td>\n",
       "    </tr>\n",
       "    <tr>\n",
       "      <th>6</th>\n",
       "      <td>4CB90AA5</td>\n",
       "      <td>True</td>\n",
       "      <td>Roman Messer</td>\n",
       "      <td>dance</td>\n",
       "      <td>Moscow</td>\n",
       "      <td>13:00:07</td>\n",
       "      <td>Wednesday</td>\n",
       "    </tr>\n",
       "    <tr>\n",
       "      <th>7</th>\n",
       "      <td>F03E1C1F</td>\n",
       "      <td>Feeling This Way</td>\n",
       "      <td>Polina Griffith</td>\n",
       "      <td>dance</td>\n",
       "      <td>Moscow</td>\n",
       "      <td>20:47:49</td>\n",
       "      <td>Wednesday</td>\n",
       "    </tr>\n",
       "    <tr>\n",
       "      <th>8</th>\n",
       "      <td>8FA1D3BE</td>\n",
       "      <td>И вновь продолжается бой</td>\n",
       "      <td>unknown</td>\n",
       "      <td>ruspop</td>\n",
       "      <td>Moscow</td>\n",
       "      <td>09:17:40</td>\n",
       "      <td>Friday</td>\n",
       "    </tr>\n",
       "  </tbody>\n",
       "</table>\n",
       "</div>"
      ],
      "text/plain": [
       "    user_id                        track            artist   genre    city  \\\n",
       "1  55204538  Delayed Because of Accident  Andreas Rönnberg    rock  Moscow   \n",
       "4  E2DC1FAE                  Soul People        Space Echo   dance  Moscow   \n",
       "6  4CB90AA5                         True      Roman Messer   dance  Moscow   \n",
       "7  F03E1C1F             Feeling This Way   Polina Griffith   dance  Moscow   \n",
       "8  8FA1D3BE     И вновь продолжается бой           unknown  ruspop  Moscow   \n",
       "\n",
       "       time        day  \n",
       "1  14:07:09     Friday  \n",
       "4  08:34:34     Monday  \n",
       "6  13:00:07  Wednesday  \n",
       "7  20:47:49  Wednesday  \n",
       "8  09:17:40     Friday  "
      ]
     },
     "execution_count": 28,
     "metadata": {},
     "output_type": "execute_result"
    }
   ],
   "source": [
    "# получение таблицы moscow_general из тех строк таблицы df, \n",
    "# для которых значение в столбце 'city' равно 'Moscow'\n",
    "moscow_general = df[df['city'] == 'Moscow']\n",
    "moscow_general.head()"
   ]
  },
  {
   "cell_type": "code",
   "execution_count": 29,
   "metadata": {
    "id": "ORaVRKto_Zcu"
   },
   "outputs": [
    {
     "data": {
      "text/html": [
       "<div>\n",
       "<style scoped>\n",
       "    .dataframe tbody tr th:only-of-type {\n",
       "        vertical-align: middle;\n",
       "    }\n",
       "\n",
       "    .dataframe tbody tr th {\n",
       "        vertical-align: top;\n",
       "    }\n",
       "\n",
       "    .dataframe thead th {\n",
       "        text-align: right;\n",
       "    }\n",
       "</style>\n",
       "<table border=\"1\" class=\"dataframe\">\n",
       "  <thead>\n",
       "    <tr style=\"text-align: right;\">\n",
       "      <th></th>\n",
       "      <th>user_id</th>\n",
       "      <th>track</th>\n",
       "      <th>artist</th>\n",
       "      <th>genre</th>\n",
       "      <th>city</th>\n",
       "      <th>time</th>\n",
       "      <th>day</th>\n",
       "    </tr>\n",
       "  </thead>\n",
       "  <tbody>\n",
       "    <tr>\n",
       "      <th>0</th>\n",
       "      <td>FFB692EC</td>\n",
       "      <td>Kamigata To Boots</td>\n",
       "      <td>The Mass Missile</td>\n",
       "      <td>rock</td>\n",
       "      <td>Saint-Petersburg</td>\n",
       "      <td>20:28:33</td>\n",
       "      <td>Wednesday</td>\n",
       "    </tr>\n",
       "    <tr>\n",
       "      <th>2</th>\n",
       "      <td>20EC38</td>\n",
       "      <td>Funiculì funiculà</td>\n",
       "      <td>Mario Lanza</td>\n",
       "      <td>pop</td>\n",
       "      <td>Saint-Petersburg</td>\n",
       "      <td>20:58:07</td>\n",
       "      <td>Wednesday</td>\n",
       "    </tr>\n",
       "    <tr>\n",
       "      <th>3</th>\n",
       "      <td>A3DD03C9</td>\n",
       "      <td>Dragons in the Sunset</td>\n",
       "      <td>Fire + Ice</td>\n",
       "      <td>folk</td>\n",
       "      <td>Saint-Petersburg</td>\n",
       "      <td>08:37:09</td>\n",
       "      <td>Monday</td>\n",
       "    </tr>\n",
       "    <tr>\n",
       "      <th>5</th>\n",
       "      <td>842029A1</td>\n",
       "      <td>Преданная</td>\n",
       "      <td>IMPERVTOR</td>\n",
       "      <td>rusrap</td>\n",
       "      <td>Saint-Petersburg</td>\n",
       "      <td>13:09:41</td>\n",
       "      <td>Friday</td>\n",
       "    </tr>\n",
       "    <tr>\n",
       "      <th>9</th>\n",
       "      <td>E772D5C0</td>\n",
       "      <td>Pessimist</td>\n",
       "      <td>unknown</td>\n",
       "      <td>dance</td>\n",
       "      <td>Saint-Petersburg</td>\n",
       "      <td>21:20:49</td>\n",
       "      <td>Wednesday</td>\n",
       "    </tr>\n",
       "  </tbody>\n",
       "</table>\n",
       "</div>"
      ],
      "text/plain": [
       "    user_id                  track            artist   genre  \\\n",
       "0  FFB692EC      Kamigata To Boots  The Mass Missile    rock   \n",
       "2    20EC38      Funiculì funiculà       Mario Lanza     pop   \n",
       "3  A3DD03C9  Dragons in the Sunset        Fire + Ice    folk   \n",
       "5  842029A1              Преданная         IMPERVTOR  rusrap   \n",
       "9  E772D5C0              Pessimist           unknown   dance   \n",
       "\n",
       "               city      time        day  \n",
       "0  Saint-Petersburg  20:28:33  Wednesday  \n",
       "2  Saint-Petersburg  20:58:07  Wednesday  \n",
       "3  Saint-Petersburg  08:37:09     Monday  \n",
       "5  Saint-Petersburg  13:09:41     Friday  \n",
       "9  Saint-Petersburg  21:20:49  Wednesday  "
      ]
     },
     "execution_count": 29,
     "metadata": {},
     "output_type": "execute_result"
    }
   ],
   "source": [
    "# получение таблицы spb_general из тех строк таблицы df,\n",
    "# для которых значение в столбце 'city' равно 'Saint-Petersburg'\n",
    "spb_general = df[df['city'] == 'Saint-Petersburg']\n",
    "spb_general.head()"
   ]
  },
  {
   "cell_type": "markdown",
   "metadata": {
    "id": "MEJV-CX2_Zcu"
   },
   "source": [
    "Создайте функцию `genre_weekday()` с четырьмя параметрами:\n",
    "* таблица (датафрейм) с данными,\n",
    "* день недели,\n",
    "* начальная временная метка в формате 'hh:mm', \n",
    "* последняя временная метка в формате 'hh:mm'.\n",
    "\n",
    "Функция должна вернуть информацию о топ-10 жанров тех треков, которые прослушивали в указанный день, в промежутке между двумя отметками времени."
   ]
  },
  {
   "cell_type": "code",
   "execution_count": 30,
   "metadata": {
    "id": "laJT9BYl_Zcu"
   },
   "outputs": [],
   "source": [
    "# Объявление функции genre_weekday() с параметрами table, day, time1, time2,\n",
    "# которая возвращает информацию о самых популярных жанрах в указанный день в\n",
    "# заданное время:\n",
    "# 1) в переменную genre_df сохраняются те строки переданного датафрейма table, для\n",
    "#    которых одновременно:\n",
    "#    - значение в столбце day равно значению аргумента day\n",
    "#    - значение в столбце time больше значения аргумента time1\n",
    "#    - значение в столбце time меньше значения аргумента time2\n",
    "#    Используйте последовательную фильтрацию с помощью логической индексации.\n",
    "# 2) сгруппировать датафрейм genre_df по столбцу genre, взять один из его\n",
    "#    столбцов и посчитать методом count() количество записей для каждого из\n",
    "#    присутствующих жанров, получившийся Series записать в переменную\n",
    "#    genre_df_count\n",
    "# 3) отсортировать genre_df_count по убыванию встречаемости и сохранить\n",
    "#    в переменную genre_df_sorted\n",
    "# 4) вернуть Series из 10 первых значений genre_df_sorted, это будут топ-10\n",
    "#    популярных жанров (в указанный день, в заданное время)\n",
    "\n",
    "def genre_weekday(table, day, time1, time2):\n",
    "    genre_df = table[table['day'] == day]\n",
    "    genre_df = genre_df[genre_df['time'] > time1]\n",
    "    genre_df = genre_df[genre_df['time'] < time2]\n",
    "    genre_df_count = genre_df.groupby('genre')['user_id'].count()\n",
    "    genre_df_sorted = genre_df_count.sort_values(ascending = False)\n",
    "    return genre_df_sorted.head(10)"
   ]
  },
  {
   "cell_type": "markdown",
   "metadata": {
    "id": "la2s2_PF_Zcu"
   },
   "source": [
    "Cравните результаты функции `genre_weekday()` для Москвы и Санкт-Петербурга в понедельник утром (с 7:00 до 11:00) и в пятницу вечером (с 17:00 до 23:00):"
   ]
  },
  {
   "cell_type": "code",
   "execution_count": 31,
   "metadata": {
    "id": "yz7itPUQ_Zcu"
   },
   "outputs": [
    {
     "data": {
      "text/plain": [
       "genre\n",
       "pop            781\n",
       "dance          549\n",
       "electronic     480\n",
       "rock           474\n",
       "hiphop         286\n",
       "ruspop         186\n",
       "world          181\n",
       "rusrap         175\n",
       "alternative    164\n",
       "unknown        161\n",
       "Name: user_id, dtype: int64"
      ]
     },
     "execution_count": 31,
     "metadata": {},
     "output_type": "execute_result"
    }
   ],
   "source": [
    "# вызов функции для утра понедельника в Москве (вместо df — таблица moscow_general)\n",
    "# объекты, хранящие время, являются строками и сравниваются как строки\n",
    "# пример вызова: genre_weekday(moscow_general, 'Monday', '07:00', '11:00')\n",
    "genre_weekday(moscow_general, 'Monday', '07:00', '11:00')"
   ]
  },
  {
   "cell_type": "code",
   "execution_count": 32,
   "metadata": {
    "id": "kwUcHPdy_Zcu"
   },
   "outputs": [
    {
     "data": {
      "text/plain": [
       "genre\n",
       "pop            218\n",
       "dance          182\n",
       "rock           162\n",
       "electronic     147\n",
       "hiphop          80\n",
       "ruspop          64\n",
       "alternative     58\n",
       "rusrap          55\n",
       "jazz            44\n",
       "classical       40\n",
       "Name: user_id, dtype: int64"
      ]
     },
     "execution_count": 32,
     "metadata": {},
     "output_type": "execute_result"
    }
   ],
   "source": [
    "# вызов функции для утра понедельника в Санкт-Петербурге\n",
    "genre_weekday(spb_general, 'Monday', '07:00', '11:00')"
   ]
  },
  {
   "cell_type": "code",
   "execution_count": 33,
   "metadata": {
    "id": "EzXVRE1o_Zcu"
   },
   "outputs": [
    {
     "data": {
      "text/plain": [
       "genre\n",
       "pop            713\n",
       "rock           517\n",
       "dance          495\n",
       "electronic     482\n",
       "hiphop         273\n",
       "world          208\n",
       "ruspop         170\n",
       "alternative    163\n",
       "classical      163\n",
       "rusrap         142\n",
       "Name: user_id, dtype: int64"
      ]
     },
     "execution_count": 33,
     "metadata": {},
     "output_type": "execute_result"
    }
   ],
   "source": [
    "# вызов функции для вечера пятницы в Москве\n",
    "genre_weekday(moscow_general, 'Friday', '17:00', '23:00')"
   ]
  },
  {
   "cell_type": "code",
   "execution_count": 34,
   "metadata": {
    "id": "JZaEKu5v_Zcu"
   },
   "outputs": [
    {
     "data": {
      "text/plain": [
       "genre\n",
       "pop            256\n",
       "electronic     216\n",
       "rock           216\n",
       "dance          210\n",
       "hiphop          97\n",
       "alternative     63\n",
       "jazz            61\n",
       "classical       60\n",
       "rusrap          59\n",
       "world           54\n",
       "Name: user_id, dtype: int64"
      ]
     },
     "execution_count": 34,
     "metadata": {},
     "output_type": "execute_result"
    }
   ],
   "source": [
    "# вызов функции для вечера пятницы в Петербурге\n",
    "genre_weekday(spb_general, 'Friday', '17:00', '23:00')"
   ]
  },
  {
   "cell_type": "markdown",
   "metadata": {
    "id": "wrCe4MNX_Zcu"
   },
   "source": [
    "**Выводы**\n",
    "\n",
    "Если сравнить топ-10 жанров в понедельник утром, можно сделать такие выводы:\n",
    "\n",
    "1. В Москве и Петербурге слушают похожую музыку. Единственное отличие — в московский рейтинг вошёл жанр “world”, а в петербургский — джаз и классика.\n",
    "\n",
    "2. В Москве пропущенных значений оказалось так много, что значение `'unknown'` заняло десятое место среди самых популярных жанров. Значит, пропущенные значения занимают существенную долю в данных и угрожают достоверности исследования.\n",
    "\n",
    "Вечер пятницы не меняет эту картину. Некоторые жанры поднимаются немного выше, другие спускаются, но в целом топ-10 остаётся тем же самым.\n",
    "\n",
    "Таким образом, вторая гипотеза подтвердилась лишь частично:\n",
    "* Пользователи слушают похожую музыку в начале недели и в конце.\n",
    "* Разница между Москвой и Петербургом не слишком выражена. В Москве чаще слушают русскую популярную музыку, в Петербурге — джаз.\n",
    "\n",
    "Однако пропуски в данных ставят под сомнение этот результат. В Москве их так много, что рейтинг топ-10 мог бы выглядеть иначе, если бы не утерянные  данные о жанрах."
   ]
  },
  {
   "cell_type": "markdown",
   "metadata": {
    "id": "JolODAqr_Zcu"
   },
   "source": [
    "### Жанровые предпочтения в Москве и Петербурге\n",
    "\n",
    "Гипотеза: Петербург — столица рэпа, музыку этого жанра там слушают чаще, чем в Москве.  А Москва — город контрастов, в котором, тем не менее, преобладает поп-музыка."
   ]
  },
  {
   "cell_type": "markdown",
   "metadata": {
    "id": "DlegSvaT_Zcu"
   },
   "source": [
    "Сгруппируйте таблицу `moscow_general` по жанру и посчитайте прослушивания треков каждого жанра методом `count()`. Затем отсортируйте результат в порядке убывания и сохраните его в таблице `moscow_genres`."
   ]
  },
  {
   "cell_type": "code",
   "execution_count": 35,
   "metadata": {
    "id": "r19lIPke_Zcu"
   },
   "outputs": [],
   "source": [
    "# одной строкой: группировка таблицы moscow_general по столбцу 'genre', \n",
    "# подсчёт числа значений 'genre' в этой группировке методом count(), \n",
    "# сортировка получившегося Series в порядке убывания и сохранt()\n",
    "moscow_genres = moscow_general.groupby('genre')['genre'].count().sort_values(ascending=False)"
   ]
  },
  {
   "cell_type": "markdown",
   "metadata": {
    "id": "6kMuomxTiIr8"
   },
   "source": [
    "Выведите на экран первые десять строк `moscow_genres`:"
   ]
  },
  {
   "cell_type": "code",
   "execution_count": 36,
   "metadata": {
    "id": "WhCSooF8_Zcv"
   },
   "outputs": [
    {
     "data": {
      "text/plain": [
       "genre\n",
       "pop            5892\n",
       "dance          4435\n",
       "rock           3965\n",
       "electronic     3786\n",
       "hiphop         2096\n",
       "classical      1616\n",
       "world          1432\n",
       "alternative    1379\n",
       "ruspop         1372\n",
       "rusrap         1161\n",
       "Name: genre, dtype: int64"
      ]
     },
     "execution_count": 36,
     "metadata": {},
     "output_type": "execute_result"
    }
   ],
   "source": [
    "# просмотр первых 10 строк moscow_genres\n",
    "moscow_genres.head(10)"
   ]
  },
  {
   "cell_type": "markdown",
   "metadata": {
    "id": "cnPG2vnN_Zcv"
   },
   "source": [
    "Теперь повторите то же и для Петербурга.\n",
    "\n",
    "Сгруппируйте таблицу `spb_general` по жанру. Посчитайте прослушивания треков каждого жанра. Результат отсортируйте в порядке убывания и сохраните в таблице `spb_genres`:\n"
   ]
  },
  {
   "cell_type": "code",
   "execution_count": 37,
   "metadata": {
    "id": "gluLIpE7_Zcv"
   },
   "outputs": [],
   "source": [
    "# одной строкой: группировка таблицы spb_general по столбцу 'genre', \n",
    "# подсчёт числа значений 'genre' в этой группировке методом count(), \n",
    "# сортировка получившегося Series в порядке убывания и сохранение в spb_genres\n",
    "spb_genres = spb_general.groupby('genre')['genre'].count().sort_values(ascending=False)"
   ]
  },
  {
   "cell_type": "markdown",
   "metadata": {
    "id": "5Doha_ODgyQ8"
   },
   "source": [
    "Выведите на экран первые десять строк `spb_genres`:"
   ]
  },
  {
   "cell_type": "code",
   "execution_count": 38,
   "metadata": {
    "id": "uaGJHjVU_Zcv"
   },
   "outputs": [
    {
     "data": {
      "text/plain": [
       "genre\n",
       "pop            2431\n",
       "dance          1932\n",
       "rock           1879\n",
       "electronic     1736\n",
       "hiphop          960\n",
       "alternative     649\n",
       "classical       646\n",
       "rusrap          564\n",
       "ruspop          538\n",
       "world           515\n",
       "Name: genre, dtype: int64"
      ]
     },
     "execution_count": 38,
     "metadata": {},
     "output_type": "execute_result"
    }
   ],
   "source": [
    "# просмотр первых 10 строк spb_genres\n",
    "spb_genres.head(10)"
   ]
  },
  {
   "cell_type": "markdown",
   "metadata": {
    "id": "RY51YJYu_Zcv"
   },
   "source": [
    "**Выводы**"
   ]
  },
  {
   "cell_type": "markdown",
   "metadata": {
    "id": "nVhnJEm__Zcv"
   },
   "source": [
    "Гипотеза частично подтвердилась:\n",
    "* Поп-музыка — самый популярный жанр в Москве, как и предполагала гипотеза. Более того, в топ-10 жанров встречается близкий жанр — русская популярная музыка.\n",
    "* Вопреки ожиданиям, рэп одинаково популярен в Москве и Петербурге. \n"
   ]
  },
  {
   "cell_type": "markdown",
   "metadata": {
    "id": "ykKQ0N65_Zcv"
   },
   "source": [
    "## Итоги исследования"
   ]
  },
  {
   "cell_type": "markdown",
   "metadata": {
    "id": "tjUwbHb3_Zcv"
   },
   "source": [
    "Вы проверили три гипотезы и установили:\n",
    "\n",
    "1. День недели по-разному влияет на активность пользователей в Москве и Петербурге. \n",
    "\n",
    "Первая гипотеза полностью подтвердилась.\n",
    "\n",
    "2. Музыкальные предпочтения не сильно меняются в течение недели — будь то Москва или Петербург. Небольшие различия заметны в начале недели, по понедельникам:\n",
    "* в Москве слушают музыку жанра “world”,\n",
    "* в Петербурге — джаз и классику.\n",
    "\n",
    "Таким образом, вторая гипотеза подтвердилась лишь отчасти. Этот результат мог оказаться иным, если бы не пропуски в данных.\n",
    "\n",
    "3. Во вкусах пользователей Москвы и Петербурга больше общего чем различий. Вопреки ожиданиям, предпочтения жанров в Петербурге напоминают московские.\n",
    "\n",
    "Третья гипотеза не подтвердилась. Если различия в предпочтениях и существуют, на основной массе пользователей они незаметны.\n",
    "\n",
    "**На практике исследования содержат проверки статистических гипотез.**\n",
    "Из данных одного сервиса не всегда можно сделать вывод о всех жителях города.\n",
    "Проверки статистических гипотез покажут, насколько они достоверны, исходя из имеющихся данных. \n",
    "С методами проверок гипотез вы ещё познакомитесь в следующих темах."
   ]
  }
 ],
 "metadata": {
  "ExecuteTimeLog": [
   {
    "duration": 303,
    "start_time": "2022-03-16T06:24:03.198Z"
   },
   {
    "duration": 296,
    "start_time": "2022-03-16T06:28:06.725Z"
   },
   {
    "duration": 297,
    "start_time": "2022-03-16T06:29:16.454Z"
   },
   {
    "duration": 642,
    "start_time": "2022-03-16T06:43:14.373Z"
   },
   {
    "duration": 156,
    "start_time": "2022-03-16T06:43:17.766Z"
   },
   {
    "duration": 18,
    "start_time": "2022-03-16T06:43:21.502Z"
   },
   {
    "duration": 26,
    "start_time": "2022-03-16T06:44:06.271Z"
   },
   {
    "duration": 6,
    "start_time": "2022-03-16T06:54:14.088Z"
   },
   {
    "duration": 28,
    "start_time": "2022-03-16T07:23:07.808Z"
   },
   {
    "duration": 6,
    "start_time": "2022-03-16T07:23:22.274Z"
   },
   {
    "duration": 4,
    "start_time": "2022-03-16T07:24:12.296Z"
   },
   {
    "duration": 27,
    "start_time": "2022-03-16T07:24:15.473Z"
   },
   {
    "duration": 4,
    "start_time": "2022-03-16T07:24:17.697Z"
   },
   {
    "duration": 25,
    "start_time": "2022-03-16T07:24:35.732Z"
   },
   {
    "duration": 705,
    "start_time": "2022-03-16T07:24:54.602Z"
   },
   {
    "duration": 280,
    "start_time": "2022-03-16T07:24:57.492Z"
   },
   {
    "duration": 27,
    "start_time": "2022-03-16T07:24:59.756Z"
   },
   {
    "duration": 46,
    "start_time": "2022-03-16T07:25:02.412Z"
   },
   {
    "duration": 6,
    "start_time": "2022-03-16T07:25:07.628Z"
   },
   {
    "duration": 25,
    "start_time": "2022-03-16T07:25:12.500Z"
   },
   {
    "duration": 4,
    "start_time": "2022-03-16T07:25:16.684Z"
   },
   {
    "duration": 356,
    "start_time": "2022-03-16T07:59:27.427Z"
   },
   {
    "duration": 24,
    "start_time": "2022-03-16T07:59:59.081Z"
   },
   {
    "duration": 25,
    "start_time": "2022-03-16T08:00:53.782Z"
   },
   {
    "duration": 271,
    "start_time": "2022-03-16T08:48:31.065Z"
   },
   {
    "duration": 20,
    "start_time": "2022-03-16T08:49:03.514Z"
   },
   {
    "duration": 25,
    "start_time": "2022-03-16T08:49:07.994Z"
   },
   {
    "duration": 616,
    "start_time": "2022-03-16T09:01:55.487Z"
   },
   {
    "duration": 158,
    "start_time": "2022-03-16T09:01:56.105Z"
   },
   {
    "duration": 19,
    "start_time": "2022-03-16T09:01:56.265Z"
   },
   {
    "duration": 45,
    "start_time": "2022-03-16T09:01:56.287Z"
   },
   {
    "duration": 5,
    "start_time": "2022-03-16T09:01:56.334Z"
   },
   {
    "duration": 28,
    "start_time": "2022-03-16T09:01:56.341Z"
   },
   {
    "duration": 5,
    "start_time": "2022-03-16T09:01:56.371Z"
   },
   {
    "duration": 57,
    "start_time": "2022-03-16T09:01:56.378Z"
   },
   {
    "duration": 20,
    "start_time": "2022-03-16T09:01:56.437Z"
   },
   {
    "duration": 31,
    "start_time": "2022-03-16T09:01:56.459Z"
   },
   {
    "duration": 3,
    "start_time": "2022-03-16T09:01:56.492Z"
   },
   {
    "duration": 7,
    "start_time": "2022-03-16T09:01:56.497Z"
   },
   {
    "duration": 31,
    "start_time": "2022-03-16T09:01:56.506Z"
   },
   {
    "duration": 6,
    "start_time": "2022-03-16T09:01:56.539Z"
   },
   {
    "duration": 6,
    "start_time": "2022-03-16T09:01:56.548Z"
   },
   {
    "duration": 6,
    "start_time": "2022-03-16T09:01:56.556Z"
   },
   {
    "duration": 6,
    "start_time": "2022-03-16T09:01:56.564Z"
   },
   {
    "duration": 6,
    "start_time": "2022-03-16T09:01:56.572Z"
   },
   {
    "duration": 7,
    "start_time": "2022-03-16T09:01:56.580Z"
   },
   {
    "duration": 7,
    "start_time": "2022-03-16T09:01:56.589Z"
   },
   {
    "duration": 9,
    "start_time": "2022-03-16T09:01:56.598Z"
   },
   {
    "duration": 24,
    "start_time": "2022-03-16T09:01:56.609Z"
   },
   {
    "duration": 6,
    "start_time": "2022-03-16T09:01:56.637Z"
   },
   {
    "duration": 7,
    "start_time": "2022-03-16T09:01:56.645Z"
   },
   {
    "duration": 7,
    "start_time": "2022-03-16T09:01:56.654Z"
   },
   {
    "duration": 7,
    "start_time": "2022-03-16T09:01:56.663Z"
   },
   {
    "duration": 5,
    "start_time": "2022-03-16T09:01:56.672Z"
   },
   {
    "duration": 5,
    "start_time": "2022-03-16T09:01:56.679Z"
   },
   {
    "duration": 5,
    "start_time": "2022-03-16T09:01:56.686Z"
   },
   {
    "duration": 6,
    "start_time": "2022-03-16T09:01:56.693Z"
   },
   {
    "duration": 32,
    "start_time": "2022-03-16T09:01:56.701Z"
   },
   {
    "duration": 10,
    "start_time": "2022-03-16T09:01:56.735Z"
   },
   {
    "duration": 11,
    "start_time": "2022-03-16T09:01:56.747Z"
   },
   {
    "duration": 7,
    "start_time": "2022-03-16T09:01:56.761Z"
   },
   {
    "duration": 5,
    "start_time": "2022-03-16T09:01:56.770Z"
   },
   {
    "duration": 8,
    "start_time": "2022-03-16T09:01:56.777Z"
   },
   {
    "duration": 5,
    "start_time": "2022-03-16T09:01:56.787Z"
   },
   {
    "duration": 10,
    "start_time": "2022-03-16T09:01:56.794Z"
   },
   {
    "duration": 69,
    "start_time": "2022-03-16T09:06:43.654Z"
   },
   {
    "duration": 60,
    "start_time": "2022-03-16T09:07:10.539Z"
   },
   {
    "duration": 71,
    "start_time": "2022-03-16T10:48:58.746Z"
   },
   {
    "duration": 61,
    "start_time": "2022-03-16T10:49:01.642Z"
   },
   {
    "duration": 57,
    "start_time": "2022-03-16T11:56:16.299Z"
   },
   {
    "duration": 45,
    "start_time": "2022-03-16T11:57:19.732Z"
   },
   {
    "duration": 3487,
    "start_time": "2022-03-16T12:00:31.744Z"
   },
   {
    "duration": 48,
    "start_time": "2022-03-16T12:00:46.229Z"
   },
   {
    "duration": 45,
    "start_time": "2022-03-16T12:00:59.781Z"
   },
   {
    "duration": 47,
    "start_time": "2022-03-16T12:01:06.108Z"
   },
   {
    "duration": 655,
    "start_time": "2022-03-16T12:01:20.229Z"
   },
   {
    "duration": 169,
    "start_time": "2022-03-16T12:01:20.886Z"
   },
   {
    "duration": 22,
    "start_time": "2022-03-16T12:01:21.057Z"
   },
   {
    "duration": 29,
    "start_time": "2022-03-16T12:01:21.082Z"
   },
   {
    "duration": 20,
    "start_time": "2022-03-16T12:01:21.114Z"
   },
   {
    "duration": 26,
    "start_time": "2022-03-16T12:01:21.136Z"
   },
   {
    "duration": 7,
    "start_time": "2022-03-16T12:01:21.165Z"
   },
   {
    "duration": 28,
    "start_time": "2022-03-16T12:01:21.176Z"
   },
   {
    "duration": 31,
    "start_time": "2022-03-16T12:01:21.232Z"
   },
   {
    "duration": 26,
    "start_time": "2022-03-16T12:01:21.265Z"
   },
   {
    "duration": 126,
    "start_time": "2022-03-16T12:01:21.293Z"
   },
   {
    "duration": 111,
    "start_time": "2022-03-16T12:01:21.421Z"
   },
   {
    "duration": 59,
    "start_time": "2022-03-16T12:01:21.534Z"
   },
   {
    "duration": 64,
    "start_time": "2022-03-16T12:01:21.595Z"
   },
   {
    "duration": 3,
    "start_time": "2022-03-16T12:01:21.662Z"
   },
   {
    "duration": 13,
    "start_time": "2022-03-16T12:01:21.668Z"
   },
   {
    "duration": 9,
    "start_time": "2022-03-16T12:01:21.684Z"
   },
   {
    "duration": 9,
    "start_time": "2022-03-16T12:01:21.695Z"
   },
   {
    "duration": 13,
    "start_time": "2022-03-16T12:01:21.706Z"
   },
   {
    "duration": 10,
    "start_time": "2022-03-16T12:01:21.721Z"
   },
   {
    "duration": 11,
    "start_time": "2022-03-16T12:01:21.733Z"
   },
   {
    "duration": 5,
    "start_time": "2022-03-16T12:01:21.747Z"
   },
   {
    "duration": 12,
    "start_time": "2022-03-16T12:01:21.756Z"
   },
   {
    "duration": 7,
    "start_time": "2022-03-16T12:01:21.770Z"
   },
   {
    "duration": 6,
    "start_time": "2022-03-16T12:01:21.779Z"
   },
   {
    "duration": 8,
    "start_time": "2022-03-16T12:01:21.787Z"
   },
   {
    "duration": 12,
    "start_time": "2022-03-16T12:01:21.797Z"
   },
   {
    "duration": 14,
    "start_time": "2022-03-16T12:01:21.811Z"
   },
   {
    "duration": 10,
    "start_time": "2022-03-16T12:01:21.826Z"
   },
   {
    "duration": 10,
    "start_time": "2022-03-16T12:01:21.839Z"
   },
   {
    "duration": 9,
    "start_time": "2022-03-16T12:01:21.852Z"
   },
   {
    "duration": 9,
    "start_time": "2022-03-16T12:01:21.863Z"
   },
   {
    "duration": 10,
    "start_time": "2022-03-16T12:01:21.874Z"
   },
   {
    "duration": 8,
    "start_time": "2022-03-16T12:01:21.887Z"
   },
   {
    "duration": 9,
    "start_time": "2022-03-16T12:01:21.897Z"
   },
   {
    "duration": 9,
    "start_time": "2022-03-16T12:01:21.908Z"
   },
   {
    "duration": 9,
    "start_time": "2022-03-16T12:01:21.919Z"
   },
   {
    "duration": 9,
    "start_time": "2022-03-16T12:01:21.930Z"
   },
   {
    "duration": 84,
    "start_time": "2022-03-16T12:21:29.930Z"
   },
   {
    "duration": 347,
    "start_time": "2022-03-16T12:21:49.855Z"
   },
   {
    "duration": 626,
    "start_time": "2022-03-16T12:22:02.893Z"
   },
   {
    "duration": 164,
    "start_time": "2022-03-16T12:22:03.521Z"
   },
   {
    "duration": 19,
    "start_time": "2022-03-16T12:22:03.688Z"
   },
   {
    "duration": 39,
    "start_time": "2022-03-16T12:22:03.709Z"
   },
   {
    "duration": 4,
    "start_time": "2022-03-16T12:22:03.750Z"
   },
   {
    "duration": 35,
    "start_time": "2022-03-16T12:22:03.756Z"
   },
   {
    "duration": 5,
    "start_time": "2022-03-16T12:22:03.793Z"
   },
   {
    "duration": 62,
    "start_time": "2022-03-16T12:22:03.801Z"
   },
   {
    "duration": 25,
    "start_time": "2022-03-16T12:22:03.866Z"
   },
   {
    "duration": 40,
    "start_time": "2022-03-16T12:22:03.893Z"
   },
   {
    "duration": 65,
    "start_time": "2022-03-16T12:22:03.935Z"
   },
   {
    "duration": 100,
    "start_time": "2022-03-16T12:22:04.002Z"
   },
   {
    "duration": 63,
    "start_time": "2022-03-16T12:22:04.104Z"
   },
   {
    "duration": 43,
    "start_time": "2022-03-16T12:22:04.169Z"
   },
   {
    "duration": 114,
    "start_time": "2022-03-16T12:22:04.214Z"
   },
   {
    "duration": -9,
    "start_time": "2022-03-16T12:22:04.340Z"
   },
   {
    "duration": -16,
    "start_time": "2022-03-16T12:22:04.348Z"
   },
   {
    "duration": -18,
    "start_time": "2022-03-16T12:22:04.351Z"
   },
   {
    "duration": -19,
    "start_time": "2022-03-16T12:22:04.354Z"
   },
   {
    "duration": -28,
    "start_time": "2022-03-16T12:22:04.364Z"
   },
   {
    "duration": -29,
    "start_time": "2022-03-16T12:22:04.366Z"
   },
   {
    "duration": -32,
    "start_time": "2022-03-16T12:22:04.370Z"
   },
   {
    "duration": -34,
    "start_time": "2022-03-16T12:22:04.373Z"
   },
   {
    "duration": -40,
    "start_time": "2022-03-16T12:22:04.381Z"
   },
   {
    "duration": -41,
    "start_time": "2022-03-16T12:22:04.383Z"
   },
   {
    "duration": -42,
    "start_time": "2022-03-16T12:22:04.385Z"
   },
   {
    "duration": -42,
    "start_time": "2022-03-16T12:22:04.386Z"
   },
   {
    "duration": -44,
    "start_time": "2022-03-16T12:22:04.389Z"
   },
   {
    "duration": -51,
    "start_time": "2022-03-16T12:22:04.397Z"
   },
   {
    "duration": -57,
    "start_time": "2022-03-16T12:22:04.404Z"
   },
   {
    "duration": -64,
    "start_time": "2022-03-16T12:22:04.412Z"
   },
   {
    "duration": -66,
    "start_time": "2022-03-16T12:22:04.415Z"
   },
   {
    "duration": -67,
    "start_time": "2022-03-16T12:22:04.417Z"
   },
   {
    "duration": -68,
    "start_time": "2022-03-16T12:22:04.419Z"
   },
   {
    "duration": -70,
    "start_time": "2022-03-16T12:22:04.422Z"
   },
   {
    "duration": -77,
    "start_time": "2022-03-16T12:22:04.430Z"
   },
   {
    "duration": -78,
    "start_time": "2022-03-16T12:22:04.432Z"
   },
   {
    "duration": -79,
    "start_time": "2022-03-16T12:22:04.434Z"
   },
   {
    "duration": 3,
    "start_time": "2022-03-16T12:22:37.783Z"
   },
   {
    "duration": 342,
    "start_time": "2022-03-16T12:22:42.597Z"
   },
   {
    "duration": 520,
    "start_time": "2022-03-16T12:22:50.873Z"
   },
   {
    "duration": 533,
    "start_time": "2022-03-16T12:23:36.281Z"
   },
   {
    "duration": 3,
    "start_time": "2022-03-16T12:29:50.768Z"
   },
   {
    "duration": 500,
    "start_time": "2022-03-16T12:29:54.800Z"
   },
   {
    "duration": 495,
    "start_time": "2022-03-16T12:30:39.107Z"
   },
   {
    "duration": 495,
    "start_time": "2022-03-16T12:31:39.282Z"
   },
   {
    "duration": 3,
    "start_time": "2022-03-16T12:31:49.855Z"
   },
   {
    "duration": 502,
    "start_time": "2022-03-16T12:31:52.759Z"
   },
   {
    "duration": 3,
    "start_time": "2022-03-16T12:48:12.013Z"
   },
   {
    "duration": 3,
    "start_time": "2022-03-16T12:48:15.302Z"
   },
   {
    "duration": 524,
    "start_time": "2022-03-16T12:48:17.735Z"
   },
   {
    "duration": 603,
    "start_time": "2022-03-16T12:48:26.283Z"
   },
   {
    "duration": 167,
    "start_time": "2022-03-16T12:48:26.888Z"
   },
   {
    "duration": 19,
    "start_time": "2022-03-16T12:48:27.057Z"
   },
   {
    "duration": 27,
    "start_time": "2022-03-16T12:48:27.078Z"
   },
   {
    "duration": 5,
    "start_time": "2022-03-16T12:48:27.107Z"
   },
   {
    "duration": 26,
    "start_time": "2022-03-16T12:48:27.132Z"
   },
   {
    "duration": 6,
    "start_time": "2022-03-16T12:48:27.160Z"
   },
   {
    "duration": 26,
    "start_time": "2022-03-16T12:48:27.169Z"
   },
   {
    "duration": 53,
    "start_time": "2022-03-16T12:48:27.198Z"
   },
   {
    "duration": 26,
    "start_time": "2022-03-16T12:48:27.253Z"
   },
   {
    "duration": 95,
    "start_time": "2022-03-16T12:48:27.281Z"
   },
   {
    "duration": 88,
    "start_time": "2022-03-16T12:48:27.378Z"
   },
   {
    "duration": 68,
    "start_time": "2022-03-16T12:48:27.468Z"
   },
   {
    "duration": 47,
    "start_time": "2022-03-16T12:48:27.538Z"
   },
   {
    "duration": 12,
    "start_time": "2022-03-16T12:48:27.587Z"
   },
   {
    "duration": 638,
    "start_time": "2022-03-16T12:48:27.601Z"
   },
   {
    "duration": -26,
    "start_time": "2022-03-16T12:48:28.268Z"
   },
   {
    "duration": -31,
    "start_time": "2022-03-16T12:48:28.274Z"
   },
   {
    "duration": -41,
    "start_time": "2022-03-16T12:48:28.286Z"
   },
   {
    "duration": -41,
    "start_time": "2022-03-16T12:48:28.288Z"
   },
   {
    "duration": -42,
    "start_time": "2022-03-16T12:48:28.290Z"
   },
   {
    "duration": -42,
    "start_time": "2022-03-16T12:48:28.292Z"
   },
   {
    "duration": -43,
    "start_time": "2022-03-16T12:48:28.295Z"
   },
   {
    "duration": -44,
    "start_time": "2022-03-16T12:48:28.297Z"
   },
   {
    "duration": -44,
    "start_time": "2022-03-16T12:48:28.299Z"
   },
   {
    "duration": -44,
    "start_time": "2022-03-16T12:48:28.301Z"
   },
   {
    "duration": -45,
    "start_time": "2022-03-16T12:48:28.303Z"
   },
   {
    "duration": -45,
    "start_time": "2022-03-16T12:48:28.305Z"
   },
   {
    "duration": -51,
    "start_time": "2022-03-16T12:48:28.312Z"
   },
   {
    "duration": -51,
    "start_time": "2022-03-16T12:48:28.314Z"
   },
   {
    "duration": -52,
    "start_time": "2022-03-16T12:48:28.317Z"
   },
   {
    "duration": -53,
    "start_time": "2022-03-16T12:48:28.319Z"
   },
   {
    "duration": -59,
    "start_time": "2022-03-16T12:48:28.327Z"
   },
   {
    "duration": -60,
    "start_time": "2022-03-16T12:48:28.329Z"
   },
   {
    "duration": -60,
    "start_time": "2022-03-16T12:48:28.331Z"
   },
   {
    "duration": -60,
    "start_time": "2022-03-16T12:48:28.333Z"
   },
   {
    "duration": -61,
    "start_time": "2022-03-16T12:48:28.335Z"
   },
   {
    "duration": -62,
    "start_time": "2022-03-16T12:48:28.337Z"
   },
   {
    "duration": 5,
    "start_time": "2022-03-16T12:55:03.644Z"
   },
   {
    "duration": 12,
    "start_time": "2022-03-16T12:55:05.391Z"
   },
   {
    "duration": 5,
    "start_time": "2022-03-16T12:55:55.767Z"
   },
   {
    "duration": 4,
    "start_time": "2022-03-16T12:56:32.704Z"
   },
   {
    "duration": 8,
    "start_time": "2022-03-16T12:57:36.974Z"
   },
   {
    "duration": 42,
    "start_time": "2022-03-16T12:58:22.714Z"
   },
   {
    "duration": 44,
    "start_time": "2022-03-16T12:58:37.780Z"
   },
   {
    "duration": 12,
    "start_time": "2022-03-16T13:25:39.183Z"
   },
   {
    "duration": 13,
    "start_time": "2022-03-16T14:14:39.515Z"
   },
   {
    "duration": 175,
    "start_time": "2022-03-17T18:39:56.522Z"
   },
   {
    "duration": 571,
    "start_time": "2022-03-17T18:40:25.249Z"
   },
   {
    "duration": 318,
    "start_time": "2022-03-17T18:40:25.822Z"
   },
   {
    "duration": 27,
    "start_time": "2022-03-17T18:40:26.142Z"
   },
   {
    "duration": 64,
    "start_time": "2022-03-17T18:40:26.171Z"
   },
   {
    "duration": 25,
    "start_time": "2022-03-17T18:40:26.238Z"
   },
   {
    "duration": 26,
    "start_time": "2022-03-17T18:40:26.266Z"
   },
   {
    "duration": 13,
    "start_time": "2022-03-17T18:40:26.294Z"
   },
   {
    "duration": 49,
    "start_time": "2022-03-17T18:40:26.309Z"
   },
   {
    "duration": 32,
    "start_time": "2022-03-17T18:40:26.360Z"
   },
   {
    "duration": 36,
    "start_time": "2022-03-17T18:40:26.396Z"
   },
   {
    "duration": 119,
    "start_time": "2022-03-17T18:40:26.434Z"
   },
   {
    "duration": 128,
    "start_time": "2022-03-17T18:40:26.556Z"
   },
   {
    "duration": 101,
    "start_time": "2022-03-17T18:40:26.687Z"
   },
   {
    "duration": 55,
    "start_time": "2022-03-17T18:40:26.791Z"
   },
   {
    "duration": 5,
    "start_time": "2022-03-17T18:40:26.849Z"
   },
   {
    "duration": 42,
    "start_time": "2022-03-17T18:40:26.856Z"
   },
   {
    "duration": 54,
    "start_time": "2022-03-17T18:40:26.900Z"
   },
   {
    "duration": 36,
    "start_time": "2022-03-17T18:40:26.956Z"
   },
   {
    "duration": 19,
    "start_time": "2022-03-17T18:40:26.994Z"
   },
   {
    "duration": 1874,
    "start_time": "2022-03-17T18:40:27.016Z"
   },
   {
    "duration": 0,
    "start_time": "2022-03-17T18:40:28.894Z"
   },
   {
    "duration": 0,
    "start_time": "2022-03-17T18:40:28.895Z"
   },
   {
    "duration": 0,
    "start_time": "2022-03-17T18:40:28.897Z"
   },
   {
    "duration": 0,
    "start_time": "2022-03-17T18:40:28.898Z"
   },
   {
    "duration": 0,
    "start_time": "2022-03-17T18:40:28.900Z"
   },
   {
    "duration": 0,
    "start_time": "2022-03-17T18:40:28.901Z"
   },
   {
    "duration": 0,
    "start_time": "2022-03-17T18:40:28.903Z"
   },
   {
    "duration": 0,
    "start_time": "2022-03-17T18:40:28.904Z"
   },
   {
    "duration": 0,
    "start_time": "2022-03-17T18:40:28.906Z"
   },
   {
    "duration": 0,
    "start_time": "2022-03-17T18:40:28.907Z"
   },
   {
    "duration": 0,
    "start_time": "2022-03-17T18:40:28.909Z"
   },
   {
    "duration": 0,
    "start_time": "2022-03-17T18:40:28.911Z"
   },
   {
    "duration": 0,
    "start_time": "2022-03-17T18:40:28.912Z"
   },
   {
    "duration": 0,
    "start_time": "2022-03-17T18:40:28.913Z"
   },
   {
    "duration": 0,
    "start_time": "2022-03-17T18:40:28.915Z"
   },
   {
    "duration": 0,
    "start_time": "2022-03-17T18:40:28.916Z"
   },
   {
    "duration": 0,
    "start_time": "2022-03-17T18:40:28.918Z"
   },
   {
    "duration": 0,
    "start_time": "2022-03-17T18:40:28.919Z"
   },
   {
    "duration": 545,
    "start_time": "2022-03-17T18:40:47.359Z"
   },
   {
    "duration": 223,
    "start_time": "2022-03-17T18:40:47.907Z"
   },
   {
    "duration": 30,
    "start_time": "2022-03-17T18:40:48.132Z"
   },
   {
    "duration": 58,
    "start_time": "2022-03-17T18:40:48.164Z"
   },
   {
    "duration": 6,
    "start_time": "2022-03-17T18:40:48.225Z"
   },
   {
    "duration": 22,
    "start_time": "2022-03-17T18:40:48.233Z"
   },
   {
    "duration": 31,
    "start_time": "2022-03-17T18:40:48.257Z"
   },
   {
    "duration": 39,
    "start_time": "2022-03-17T18:40:48.290Z"
   },
   {
    "duration": 24,
    "start_time": "2022-03-17T18:40:48.331Z"
   },
   {
    "duration": 56,
    "start_time": "2022-03-17T18:40:48.358Z"
   },
   {
    "duration": 123,
    "start_time": "2022-03-17T18:40:48.416Z"
   },
   {
    "duration": 135,
    "start_time": "2022-03-17T18:40:48.541Z"
   },
   {
    "duration": 110,
    "start_time": "2022-03-17T18:40:48.679Z"
   },
   {
    "duration": 55,
    "start_time": "2022-03-17T18:40:48.795Z"
   },
   {
    "duration": 5,
    "start_time": "2022-03-17T18:40:48.852Z"
   },
   {
    "duration": 15,
    "start_time": "2022-03-17T18:40:48.884Z"
   },
   {
    "duration": 54,
    "start_time": "2022-03-17T18:40:48.901Z"
   },
   {
    "duration": 22,
    "start_time": "2022-03-17T18:40:48.983Z"
   },
   {
    "duration": 23,
    "start_time": "2022-03-17T18:40:49.008Z"
   },
   {
    "duration": 6,
    "start_time": "2022-03-17T18:40:49.086Z"
   },
   {
    "duration": 10,
    "start_time": "2022-03-17T18:40:49.094Z"
   },
   {
    "duration": 11,
    "start_time": "2022-03-17T18:40:49.106Z"
   },
   {
    "duration": 4,
    "start_time": "2022-03-17T18:40:49.120Z"
   },
   {
    "duration": 63,
    "start_time": "2022-03-17T18:40:49.127Z"
   },
   {
    "duration": 6,
    "start_time": "2022-03-17T18:40:49.192Z"
   },
   {
    "duration": 6,
    "start_time": "2022-03-17T18:40:49.201Z"
   },
   {
    "duration": 10,
    "start_time": "2022-03-17T18:40:49.210Z"
   },
   {
    "duration": 7,
    "start_time": "2022-03-17T18:40:49.223Z"
   },
   {
    "duration": 68,
    "start_time": "2022-03-17T18:40:49.232Z"
   },
   {
    "duration": 4,
    "start_time": "2022-03-17T18:40:49.303Z"
   },
   {
    "duration": 10,
    "start_time": "2022-03-17T18:40:49.309Z"
   },
   {
    "duration": 11,
    "start_time": "2022-03-17T18:40:49.321Z"
   },
   {
    "duration": 49,
    "start_time": "2022-03-17T18:40:49.335Z"
   },
   {
    "duration": 4,
    "start_time": "2022-03-17T18:40:49.388Z"
   },
   {
    "duration": 10,
    "start_time": "2022-03-17T18:40:49.395Z"
   },
   {
    "duration": 8,
    "start_time": "2022-03-17T18:40:49.409Z"
   },
   {
    "duration": 7,
    "start_time": "2022-03-17T18:40:49.420Z"
   },
   {
    "duration": 54,
    "start_time": "2022-03-17T18:40:49.430Z"
   },
   {
    "duration": 29,
    "start_time": "2022-03-17T19:06:15.826Z"
   },
   {
    "duration": 31,
    "start_time": "2022-03-17T19:06:20.394Z"
   },
   {
    "duration": 23,
    "start_time": "2022-03-17T19:06:24.600Z"
   },
   {
    "duration": 26,
    "start_time": "2022-03-17T19:06:28.914Z"
   },
   {
    "duration": 34,
    "start_time": "2022-03-17T19:06:29.781Z"
   },
   {
    "duration": 30,
    "start_time": "2022-03-17T19:06:30.526Z"
   },
   {
    "duration": 107,
    "start_time": "2022-03-17T19:10:29.969Z"
   },
   {
    "duration": 643,
    "start_time": "2022-03-17T19:12:13.575Z"
   },
   {
    "duration": 289,
    "start_time": "2022-03-17T19:12:14.221Z"
   },
   {
    "duration": 32,
    "start_time": "2022-03-17T19:12:14.513Z"
   },
   {
    "duration": 69,
    "start_time": "2022-03-17T19:12:14.548Z"
   },
   {
    "duration": 10,
    "start_time": "2022-03-17T19:12:14.623Z"
   },
   {
    "duration": 47,
    "start_time": "2022-03-17T19:12:14.636Z"
   },
   {
    "duration": 42,
    "start_time": "2022-03-17T19:12:14.686Z"
   },
   {
    "duration": 48,
    "start_time": "2022-03-17T19:12:14.731Z"
   },
   {
    "duration": 39,
    "start_time": "2022-03-17T19:12:14.782Z"
   },
   {
    "duration": 36,
    "start_time": "2022-03-17T19:12:14.823Z"
   },
   {
    "duration": 127,
    "start_time": "2022-03-17T19:12:14.861Z"
   },
   {
    "duration": 148,
    "start_time": "2022-03-17T19:12:14.991Z"
   },
   {
    "duration": 163,
    "start_time": "2022-03-17T19:12:15.141Z"
   },
   {
    "duration": 101,
    "start_time": "2022-03-17T19:12:15.311Z"
   },
   {
    "duration": 70,
    "start_time": "2022-03-17T19:12:15.415Z"
   },
   {
    "duration": 37,
    "start_time": "2022-03-17T19:12:15.488Z"
   },
   {
    "duration": 167,
    "start_time": "2022-03-17T19:12:15.528Z"
   },
   {
    "duration": 20,
    "start_time": "2022-03-17T19:12:15.697Z"
   },
   {
    "duration": 68,
    "start_time": "2022-03-17T19:12:15.720Z"
   },
   {
    "duration": 5,
    "start_time": "2022-03-17T19:12:15.790Z"
   },
   {
    "duration": 32,
    "start_time": "2022-03-17T19:12:15.797Z"
   },
   {
    "duration": 27,
    "start_time": "2022-03-17T19:12:15.892Z"
   },
   {
    "duration": 72,
    "start_time": "2022-03-17T19:12:15.921Z"
   },
   {
    "duration": 21,
    "start_time": "2022-03-17T19:12:15.996Z"
   },
   {
    "duration": 91,
    "start_time": "2022-03-17T19:12:16.020Z"
   },
   {
    "duration": 22,
    "start_time": "2022-03-17T19:12:16.113Z"
   },
   {
    "duration": 242,
    "start_time": "2022-03-17T19:12:16.185Z"
   },
   {
    "duration": 0,
    "start_time": "2022-03-17T19:12:16.501Z"
   },
   {
    "duration": 0,
    "start_time": "2022-03-17T19:12:16.503Z"
   },
   {
    "duration": 0,
    "start_time": "2022-03-17T19:12:16.505Z"
   },
   {
    "duration": 0,
    "start_time": "2022-03-17T19:12:16.506Z"
   },
   {
    "duration": 0,
    "start_time": "2022-03-17T19:12:16.508Z"
   },
   {
    "duration": 0,
    "start_time": "2022-03-17T19:12:16.510Z"
   },
   {
    "duration": 0,
    "start_time": "2022-03-17T19:12:16.511Z"
   },
   {
    "duration": 0,
    "start_time": "2022-03-17T19:12:16.513Z"
   },
   {
    "duration": 0,
    "start_time": "2022-03-17T19:12:16.514Z"
   },
   {
    "duration": 0,
    "start_time": "2022-03-17T19:12:16.516Z"
   },
   {
    "duration": 0,
    "start_time": "2022-03-17T19:12:16.517Z"
   },
   {
    "duration": 22,
    "start_time": "2022-03-17T19:13:46.097Z"
   },
   {
    "duration": 743,
    "start_time": "2022-03-17T19:13:51.479Z"
   },
   {
    "duration": 289,
    "start_time": "2022-03-17T19:13:52.225Z"
   },
   {
    "duration": 36,
    "start_time": "2022-03-17T19:13:52.517Z"
   },
   {
    "duration": 70,
    "start_time": "2022-03-17T19:13:52.556Z"
   },
   {
    "duration": 7,
    "start_time": "2022-03-17T19:13:52.630Z"
   },
   {
    "duration": 51,
    "start_time": "2022-03-17T19:13:52.639Z"
   },
   {
    "duration": 6,
    "start_time": "2022-03-17T19:13:52.693Z"
   },
   {
    "duration": 52,
    "start_time": "2022-03-17T19:13:52.702Z"
   },
   {
    "duration": 54,
    "start_time": "2022-03-17T19:13:52.756Z"
   },
   {
    "duration": 32,
    "start_time": "2022-03-17T19:13:52.813Z"
   },
   {
    "duration": 117,
    "start_time": "2022-03-17T19:13:52.847Z"
   },
   {
    "duration": 127,
    "start_time": "2022-03-17T19:13:52.966Z"
   },
   {
    "duration": 92,
    "start_time": "2022-03-17T19:13:53.096Z"
   },
   {
    "duration": 51,
    "start_time": "2022-03-17T19:13:53.194Z"
   },
   {
    "duration": 9,
    "start_time": "2022-03-17T19:13:53.247Z"
   },
   {
    "duration": 44,
    "start_time": "2022-03-17T19:13:53.259Z"
   },
   {
    "duration": 73,
    "start_time": "2022-03-17T19:13:53.305Z"
   },
   {
    "duration": 17,
    "start_time": "2022-03-17T19:13:53.380Z"
   },
   {
    "duration": 16,
    "start_time": "2022-03-17T19:13:53.400Z"
   },
   {
    "duration": 6,
    "start_time": "2022-03-17T19:13:53.418Z"
   },
   {
    "duration": 65,
    "start_time": "2022-03-17T19:13:53.426Z"
   },
   {
    "duration": 22,
    "start_time": "2022-03-17T19:13:53.494Z"
   },
   {
    "duration": 74,
    "start_time": "2022-03-17T19:13:53.519Z"
   },
   {
    "duration": 21,
    "start_time": "2022-03-17T19:13:53.596Z"
   },
   {
    "duration": 82,
    "start_time": "2022-03-17T19:13:53.619Z"
   },
   {
    "duration": 85,
    "start_time": "2022-03-17T19:13:53.703Z"
   },
   {
    "duration": 33,
    "start_time": "2022-03-17T19:13:53.791Z"
   },
   {
    "duration": 73,
    "start_time": "2022-03-17T19:13:53.827Z"
   },
   {
    "duration": 4,
    "start_time": "2022-03-17T19:13:53.903Z"
   },
   {
    "duration": 8,
    "start_time": "2022-03-17T19:13:53.909Z"
   },
   {
    "duration": 12,
    "start_time": "2022-03-17T19:13:53.919Z"
   },
   {
    "duration": 10,
    "start_time": "2022-03-17T19:13:53.934Z"
   },
   {
    "duration": 4,
    "start_time": "2022-03-17T19:13:53.983Z"
   },
   {
    "duration": 9,
    "start_time": "2022-03-17T19:13:53.990Z"
   },
   {
    "duration": 10,
    "start_time": "2022-03-17T19:13:54.002Z"
   },
   {
    "duration": 6,
    "start_time": "2022-03-17T19:13:54.015Z"
   },
   {
    "duration": 10,
    "start_time": "2022-03-17T19:13:54.023Z"
   },
   {
    "duration": 53,
    "start_time": "2022-03-17T19:13:54.036Z"
   },
   {
    "duration": 16,
    "start_time": "2022-03-17T19:19:52.208Z"
   },
   {
    "duration": 12,
    "start_time": "2022-03-17T19:21:06.065Z"
   },
   {
    "duration": 572,
    "start_time": "2022-03-17T19:31:40.410Z"
   },
   {
    "duration": 242,
    "start_time": "2022-03-17T19:31:40.995Z"
   },
   {
    "duration": 36,
    "start_time": "2022-03-17T19:31:41.239Z"
   },
   {
    "duration": 56,
    "start_time": "2022-03-17T19:31:41.278Z"
   },
   {
    "duration": 6,
    "start_time": "2022-03-17T19:31:41.337Z"
   },
   {
    "duration": 47,
    "start_time": "2022-03-17T19:31:41.345Z"
   },
   {
    "duration": 8,
    "start_time": "2022-03-17T19:31:41.399Z"
   },
   {
    "duration": 37,
    "start_time": "2022-03-17T19:31:41.410Z"
   },
   {
    "duration": 60,
    "start_time": "2022-03-17T19:31:41.450Z"
   },
   {
    "duration": 32,
    "start_time": "2022-03-17T19:31:41.514Z"
   },
   {
    "duration": 133,
    "start_time": "2022-03-17T19:31:41.549Z"
   },
   {
    "duration": 155,
    "start_time": "2022-03-17T19:31:41.685Z"
   },
   {
    "duration": 108,
    "start_time": "2022-03-17T19:31:41.842Z"
   },
   {
    "duration": 72,
    "start_time": "2022-03-17T19:31:41.952Z"
   },
   {
    "duration": 4,
    "start_time": "2022-03-17T19:31:42.026Z"
   },
   {
    "duration": 21,
    "start_time": "2022-03-17T19:31:42.033Z"
   },
   {
    "duration": 108,
    "start_time": "2022-03-17T19:31:42.057Z"
   },
   {
    "duration": 33,
    "start_time": "2022-03-17T19:31:42.168Z"
   },
   {
    "duration": 27,
    "start_time": "2022-03-17T19:31:42.205Z"
   },
   {
    "duration": 6,
    "start_time": "2022-03-17T19:31:42.235Z"
   },
   {
    "duration": 65,
    "start_time": "2022-03-17T19:31:42.243Z"
   },
   {
    "duration": 23,
    "start_time": "2022-03-17T19:31:42.310Z"
   },
   {
    "duration": 53,
    "start_time": "2022-03-17T19:31:42.336Z"
   },
   {
    "duration": 28,
    "start_time": "2022-03-17T19:31:42.393Z"
   },
   {
    "duration": 34,
    "start_time": "2022-03-17T19:31:42.423Z"
   },
   {
    "duration": 52,
    "start_time": "2022-03-17T19:31:42.460Z"
   },
   {
    "duration": 13,
    "start_time": "2022-03-17T19:31:42.514Z"
   },
   {
    "duration": 71,
    "start_time": "2022-03-17T19:31:42.533Z"
   },
   {
    "duration": 25,
    "start_time": "2022-03-17T19:31:42.606Z"
   },
   {
    "duration": 134,
    "start_time": "2022-03-17T19:31:42.633Z"
   },
   {
    "duration": 0,
    "start_time": "2022-03-17T19:31:42.769Z"
   },
   {
    "duration": 0,
    "start_time": "2022-03-17T19:31:42.771Z"
   },
   {
    "duration": 0,
    "start_time": "2022-03-17T19:31:42.773Z"
   },
   {
    "duration": 0,
    "start_time": "2022-03-17T19:31:42.774Z"
   },
   {
    "duration": 0,
    "start_time": "2022-03-17T19:31:42.776Z"
   },
   {
    "duration": 0,
    "start_time": "2022-03-17T19:31:42.777Z"
   },
   {
    "duration": 0,
    "start_time": "2022-03-17T19:31:42.779Z"
   },
   {
    "duration": 0,
    "start_time": "2022-03-17T19:31:42.781Z"
   },
   {
    "duration": 9,
    "start_time": "2022-03-17T19:45:24.679Z"
   },
   {
    "duration": 591,
    "start_time": "2022-03-17T19:46:37.774Z"
   },
   {
    "duration": 643,
    "start_time": "2022-03-17T19:46:38.368Z"
   },
   {
    "duration": 29,
    "start_time": "2022-03-17T19:46:39.014Z"
   },
   {
    "duration": 57,
    "start_time": "2022-03-17T19:46:39.046Z"
   },
   {
    "duration": 10,
    "start_time": "2022-03-17T19:46:39.107Z"
   },
   {
    "duration": 36,
    "start_time": "2022-03-17T19:46:39.122Z"
   },
   {
    "duration": 16,
    "start_time": "2022-03-17T19:46:39.162Z"
   },
   {
    "duration": 75,
    "start_time": "2022-03-17T19:46:39.187Z"
   },
   {
    "duration": 28,
    "start_time": "2022-03-17T19:46:39.266Z"
   },
   {
    "duration": 45,
    "start_time": "2022-03-17T19:46:39.298Z"
   },
   {
    "duration": 129,
    "start_time": "2022-03-17T19:46:39.347Z"
   },
   {
    "duration": 141,
    "start_time": "2022-03-17T19:46:39.483Z"
   },
   {
    "duration": 119,
    "start_time": "2022-03-17T19:46:39.626Z"
   },
   {
    "duration": 99,
    "start_time": "2022-03-17T19:46:39.752Z"
   },
   {
    "duration": 5,
    "start_time": "2022-03-17T19:46:39.854Z"
   },
   {
    "duration": 36,
    "start_time": "2022-03-17T19:46:39.862Z"
   },
   {
    "duration": 79,
    "start_time": "2022-03-17T19:46:39.901Z"
   },
   {
    "duration": 31,
    "start_time": "2022-03-17T19:46:39.982Z"
   },
   {
    "duration": 37,
    "start_time": "2022-03-17T19:46:40.017Z"
   },
   {
    "duration": 5,
    "start_time": "2022-03-17T19:46:40.056Z"
   },
   {
    "duration": 57,
    "start_time": "2022-03-17T19:46:40.063Z"
   },
   {
    "duration": 35,
    "start_time": "2022-03-17T19:46:40.122Z"
   },
   {
    "duration": 46,
    "start_time": "2022-03-17T19:46:40.160Z"
   },
   {
    "duration": 28,
    "start_time": "2022-03-17T19:46:40.209Z"
   },
   {
    "duration": 49,
    "start_time": "2022-03-17T19:46:40.239Z"
   },
   {
    "duration": 35,
    "start_time": "2022-03-17T19:46:40.293Z"
   },
   {
    "duration": 17,
    "start_time": "2022-03-17T19:46:40.331Z"
   },
   {
    "duration": 60,
    "start_time": "2022-03-17T19:46:40.350Z"
   },
   {
    "duration": 40,
    "start_time": "2022-03-17T19:46:40.412Z"
   },
   {
    "duration": 9,
    "start_time": "2022-03-17T19:46:40.455Z"
   },
   {
    "duration": 7,
    "start_time": "2022-03-17T19:46:40.486Z"
   },
   {
    "duration": 34,
    "start_time": "2022-03-17T19:46:40.499Z"
   },
   {
    "duration": 18,
    "start_time": "2022-03-17T19:46:40.535Z"
   },
   {
    "duration": 15,
    "start_time": "2022-03-17T19:46:40.556Z"
   },
   {
    "duration": 42,
    "start_time": "2022-03-17T19:46:40.574Z"
   },
   {
    "duration": 34,
    "start_time": "2022-03-17T19:46:40.623Z"
   },
   {
    "duration": 16,
    "start_time": "2022-03-17T19:46:40.659Z"
   },
   {
    "duration": 40,
    "start_time": "2022-03-17T19:46:40.678Z"
   },
   {
    "duration": 40,
    "start_time": "2022-03-17T19:54:57.940Z"
   },
   {
    "duration": 27,
    "start_time": "2022-03-17T19:55:03.998Z"
   },
   {
    "duration": 35,
    "start_time": "2022-03-17T20:00:11.067Z"
   },
   {
    "duration": 28,
    "start_time": "2022-03-17T20:00:15.320Z"
   },
   {
    "duration": 130,
    "start_time": "2022-03-17T20:06:17.575Z"
   },
   {
    "duration": 33,
    "start_time": "2022-03-17T20:07:10.606Z"
   },
   {
    "duration": 12,
    "start_time": "2022-03-17T20:07:13.760Z"
   },
   {
    "duration": 43,
    "start_time": "2022-03-17T20:09:35.709Z"
   },
   {
    "duration": 44,
    "start_time": "2022-03-17T20:09:48.492Z"
   },
   {
    "duration": 64,
    "start_time": "2022-03-17T20:10:26.990Z"
   },
   {
    "duration": 67,
    "start_time": "2022-03-17T20:11:00.382Z"
   },
   {
    "duration": 51,
    "start_time": "2022-03-17T20:11:09.571Z"
   },
   {
    "duration": 17,
    "start_time": "2022-03-17T20:11:13.508Z"
   },
   {
    "duration": 43,
    "start_time": "2022-03-17T20:11:28.728Z"
   },
   {
    "duration": 17,
    "start_time": "2022-03-17T20:14:35.789Z"
   },
   {
    "duration": 7,
    "start_time": "2022-03-17T20:14:38.756Z"
   },
   {
    "duration": 535,
    "start_time": "2022-03-17T20:14:47.672Z"
   },
   {
    "duration": 230,
    "start_time": "2022-03-17T20:14:48.210Z"
   },
   {
    "duration": 43,
    "start_time": "2022-03-17T20:14:48.442Z"
   },
   {
    "duration": 41,
    "start_time": "2022-03-17T20:14:48.488Z"
   },
   {
    "duration": 7,
    "start_time": "2022-03-17T20:14:48.531Z"
   },
   {
    "duration": 55,
    "start_time": "2022-03-17T20:14:48.541Z"
   },
   {
    "duration": 17,
    "start_time": "2022-03-17T20:14:48.598Z"
   },
   {
    "duration": 36,
    "start_time": "2022-03-17T20:14:48.617Z"
   },
   {
    "duration": 49,
    "start_time": "2022-03-17T20:14:48.655Z"
   },
   {
    "duration": 52,
    "start_time": "2022-03-17T20:14:48.708Z"
   },
   {
    "duration": 104,
    "start_time": "2022-03-17T20:14:48.762Z"
   },
   {
    "duration": 120,
    "start_time": "2022-03-17T20:14:48.868Z"
   },
   {
    "duration": 104,
    "start_time": "2022-03-17T20:14:48.990Z"
   },
   {
    "duration": 52,
    "start_time": "2022-03-17T20:14:49.097Z"
   },
   {
    "duration": 4,
    "start_time": "2022-03-17T20:14:49.151Z"
   },
   {
    "duration": 32,
    "start_time": "2022-03-17T20:14:49.157Z"
   },
   {
    "duration": 51,
    "start_time": "2022-03-17T20:14:49.191Z"
   },
   {
    "duration": 42,
    "start_time": "2022-03-17T20:14:49.244Z"
   },
   {
    "duration": 16,
    "start_time": "2022-03-17T20:14:49.288Z"
   },
   {
    "duration": 6,
    "start_time": "2022-03-17T20:14:49.306Z"
   },
   {
    "duration": 31,
    "start_time": "2022-03-17T20:14:49.314Z"
   },
   {
    "duration": 51,
    "start_time": "2022-03-17T20:14:49.347Z"
   },
   {
    "duration": 28,
    "start_time": "2022-03-17T20:14:49.400Z"
   },
   {
    "duration": 22,
    "start_time": "2022-03-17T20:14:49.430Z"
   },
   {
    "duration": 46,
    "start_time": "2022-03-17T20:14:49.454Z"
   },
   {
    "duration": 24,
    "start_time": "2022-03-17T20:14:49.502Z"
   },
   {
    "duration": 14,
    "start_time": "2022-03-17T20:14:49.529Z"
   },
   {
    "duration": 62,
    "start_time": "2022-03-17T20:14:49.548Z"
   },
   {
    "duration": 25,
    "start_time": "2022-03-17T20:14:49.612Z"
   },
   {
    "duration": 6,
    "start_time": "2022-03-17T20:14:49.639Z"
   },
   {
    "duration": 67,
    "start_time": "2022-03-17T20:14:49.647Z"
   },
   {
    "duration": 27,
    "start_time": "2022-03-17T20:14:49.717Z"
   },
   {
    "duration": 61,
    "start_time": "2022-03-17T20:14:49.746Z"
   },
   {
    "duration": 27,
    "start_time": "2022-03-17T20:14:49.809Z"
   },
   {
    "duration": 47,
    "start_time": "2022-03-17T20:14:49.838Z"
   },
   {
    "duration": 8,
    "start_time": "2022-03-17T20:14:49.887Z"
   },
   {
    "duration": 6,
    "start_time": "2022-03-17T20:14:49.897Z"
   },
   {
    "duration": 6,
    "start_time": "2022-03-17T20:14:49.906Z"
   },
   {
    "duration": 8,
    "start_time": "2022-03-17T20:15:23.250Z"
   },
   {
    "duration": 4,
    "start_time": "2022-03-17T20:15:26.627Z"
   },
   {
    "duration": 6,
    "start_time": "2022-03-17T20:15:51.553Z"
   },
   {
    "duration": 401,
    "start_time": "2022-03-25T13:48:12.234Z"
   },
   {
    "duration": 188,
    "start_time": "2022-03-25T13:48:12.637Z"
   },
   {
    "duration": 19,
    "start_time": "2022-03-25T13:48:12.827Z"
   },
   {
    "duration": 32,
    "start_time": "2022-03-25T13:48:12.848Z"
   },
   {
    "duration": 6,
    "start_time": "2022-03-25T13:48:12.900Z"
   },
   {
    "duration": 15,
    "start_time": "2022-03-25T13:48:12.907Z"
   },
   {
    "duration": 6,
    "start_time": "2022-03-25T13:48:12.924Z"
   },
   {
    "duration": 28,
    "start_time": "2022-03-25T13:48:12.933Z"
   },
   {
    "duration": 55,
    "start_time": "2022-03-25T13:48:12.963Z"
   },
   {
    "duration": 27,
    "start_time": "2022-03-25T13:48:13.020Z"
   },
   {
    "duration": 99,
    "start_time": "2022-03-25T13:48:13.049Z"
   },
   {
    "duration": 95,
    "start_time": "2022-03-25T13:48:13.150Z"
   },
   {
    "duration": 75,
    "start_time": "2022-03-25T13:48:13.247Z"
   },
   {
    "duration": 41,
    "start_time": "2022-03-25T13:48:13.328Z"
   },
   {
    "duration": 3,
    "start_time": "2022-03-25T13:48:13.371Z"
   },
   {
    "duration": 32,
    "start_time": "2022-03-25T13:48:13.376Z"
   },
   {
    "duration": 42,
    "start_time": "2022-03-25T13:48:13.409Z"
   },
   {
    "duration": 13,
    "start_time": "2022-03-25T13:48:13.453Z"
   },
   {
    "duration": 38,
    "start_time": "2022-03-25T13:48:13.467Z"
   },
   {
    "duration": 4,
    "start_time": "2022-03-25T13:48:13.507Z"
   },
   {
    "duration": 22,
    "start_time": "2022-03-25T13:48:13.513Z"
   },
   {
    "duration": 16,
    "start_time": "2022-03-25T13:48:13.537Z"
   },
   {
    "duration": 49,
    "start_time": "2022-03-25T13:48:13.555Z"
   },
   {
    "duration": 18,
    "start_time": "2022-03-25T13:48:13.606Z"
   },
   {
    "duration": 22,
    "start_time": "2022-03-25T13:48:13.626Z"
   },
   {
    "duration": 17,
    "start_time": "2022-03-25T13:48:13.650Z"
   },
   {
    "duration": 38,
    "start_time": "2022-03-25T13:48:13.669Z"
   },
   {
    "duration": 21,
    "start_time": "2022-03-25T13:48:13.709Z"
   },
   {
    "duration": 19,
    "start_time": "2022-03-25T13:48:13.732Z"
   },
   {
    "duration": 5,
    "start_time": "2022-03-25T13:48:13.753Z"
   },
   {
    "duration": 63,
    "start_time": "2022-03-25T13:48:13.760Z"
   },
   {
    "duration": 19,
    "start_time": "2022-03-25T13:48:13.825Z"
   },
   {
    "duration": 25,
    "start_time": "2022-03-25T13:48:13.846Z"
   },
   {
    "duration": 42,
    "start_time": "2022-03-25T13:48:13.873Z"
   },
   {
    "duration": 9,
    "start_time": "2022-03-25T13:48:13.917Z"
   },
   {
    "duration": 5,
    "start_time": "2022-03-25T13:48:13.928Z"
   },
   {
    "duration": 7,
    "start_time": "2022-03-25T13:48:13.935Z"
   },
   {
    "duration": 5,
    "start_time": "2022-03-25T13:48:13.944Z"
   },
   {
    "duration": 239,
    "start_time": "2022-03-25T14:38:14.019Z"
   },
   {
    "duration": 207,
    "start_time": "2022-03-25T14:38:15.267Z"
   },
   {
    "duration": 477,
    "start_time": "2022-03-27T09:09:04.772Z"
   },
   {
    "duration": 204,
    "start_time": "2022-03-27T09:09:08.453Z"
   },
   {
    "duration": 26,
    "start_time": "2022-03-27T09:09:12.578Z"
   },
   {
    "duration": 60,
    "start_time": "2022-03-27T09:27:41.568Z"
   },
   {
    "duration": 631,
    "start_time": "2022-03-27T09:28:11.219Z"
   },
   {
    "duration": 266,
    "start_time": "2022-03-27T09:28:11.854Z"
   },
   {
    "duration": 40,
    "start_time": "2022-03-27T09:28:12.123Z"
   },
   {
    "duration": 44,
    "start_time": "2022-03-27T09:28:12.166Z"
   },
   {
    "duration": 30,
    "start_time": "2022-03-27T09:28:12.215Z"
   },
   {
    "duration": 35,
    "start_time": "2022-03-27T09:28:12.248Z"
   },
   {
    "duration": 26,
    "start_time": "2022-03-27T09:28:12.286Z"
   },
   {
    "duration": 58,
    "start_time": "2022-03-27T09:28:12.314Z"
   },
   {
    "duration": 25,
    "start_time": "2022-03-27T09:28:12.374Z"
   },
   {
    "duration": 47,
    "start_time": "2022-03-27T09:28:12.402Z"
   },
   {
    "duration": 117,
    "start_time": "2022-03-27T09:28:12.451Z"
   },
   {
    "duration": 121,
    "start_time": "2022-03-27T09:28:12.570Z"
   },
   {
    "duration": 98,
    "start_time": "2022-03-27T09:28:12.693Z"
   },
   {
    "duration": 66,
    "start_time": "2022-03-27T09:28:12.797Z"
   },
   {
    "duration": 4,
    "start_time": "2022-03-27T09:28:12.865Z"
   },
   {
    "duration": 19,
    "start_time": "2022-03-27T09:28:12.871Z"
   },
   {
    "duration": 71,
    "start_time": "2022-03-27T09:28:12.892Z"
   },
   {
    "duration": 17,
    "start_time": "2022-03-27T09:28:12.965Z"
   },
   {
    "duration": 19,
    "start_time": "2022-03-27T09:28:12.984Z"
   },
   {
    "duration": 4,
    "start_time": "2022-03-27T09:28:13.043Z"
   },
   {
    "duration": 37,
    "start_time": "2022-03-27T09:28:13.050Z"
   },
   {
    "duration": 54,
    "start_time": "2022-03-27T09:28:13.090Z"
   },
   {
    "duration": 28,
    "start_time": "2022-03-27T09:28:13.147Z"
   },
   {
    "duration": 25,
    "start_time": "2022-03-27T09:28:13.177Z"
   },
   {
    "duration": 61,
    "start_time": "2022-03-27T09:28:13.205Z"
   },
   {
    "duration": 20,
    "start_time": "2022-03-27T09:28:13.269Z"
   },
   {
    "duration": 52,
    "start_time": "2022-03-27T09:28:13.291Z"
   },
   {
    "duration": 30,
    "start_time": "2022-03-27T09:28:13.345Z"
   },
   {
    "duration": 26,
    "start_time": "2022-03-27T09:28:13.378Z"
   },
   {
    "duration": 38,
    "start_time": "2022-03-27T09:28:13.406Z"
   },
   {
    "duration": 39,
    "start_time": "2022-03-27T09:28:13.446Z"
   },
   {
    "duration": 56,
    "start_time": "2022-03-27T09:28:13.487Z"
   },
   {
    "duration": 30,
    "start_time": "2022-03-27T09:28:13.546Z"
   },
   {
    "duration": 22,
    "start_time": "2022-03-27T09:28:13.578Z"
   },
   {
    "duration": 44,
    "start_time": "2022-03-27T09:28:13.602Z"
   },
   {
    "duration": 24,
    "start_time": "2022-03-27T09:28:13.648Z"
   },
   {
    "duration": 13,
    "start_time": "2022-03-27T09:28:13.674Z"
   },
   {
    "duration": 8,
    "start_time": "2022-03-27T09:28:13.689Z"
   },
   {
    "duration": 53,
    "start_time": "2022-03-27T09:29:53.499Z"
   },
   {
    "duration": 474,
    "start_time": "2022-03-27T09:30:12.085Z"
   },
   {
    "duration": 203,
    "start_time": "2022-03-27T09:30:12.562Z"
   },
   {
    "duration": 27,
    "start_time": "2022-03-27T09:30:12.767Z"
   },
   {
    "duration": 61,
    "start_time": "2022-03-27T09:30:12.797Z"
   },
   {
    "duration": 5,
    "start_time": "2022-03-27T09:30:12.860Z"
   },
   {
    "duration": 20,
    "start_time": "2022-03-27T09:30:12.868Z"
   },
   {
    "duration": 7,
    "start_time": "2022-03-27T09:30:12.890Z"
   },
   {
    "duration": 35,
    "start_time": "2022-03-27T09:30:12.943Z"
   },
   {
    "duration": 23,
    "start_time": "2022-03-27T09:30:12.981Z"
   },
   {
    "duration": 66,
    "start_time": "2022-03-27T09:30:13.008Z"
   },
   {
    "duration": 125,
    "start_time": "2022-03-27T09:30:13.076Z"
   },
   {
    "duration": 158,
    "start_time": "2022-03-27T09:30:13.203Z"
   },
   {
    "duration": 102,
    "start_time": "2022-03-27T09:30:13.363Z"
   },
   {
    "duration": 55,
    "start_time": "2022-03-27T09:30:13.467Z"
   },
   {
    "duration": 21,
    "start_time": "2022-03-27T09:30:13.524Z"
   },
   {
    "duration": 19,
    "start_time": "2022-03-27T09:30:13.548Z"
   },
   {
    "duration": 80,
    "start_time": "2022-03-27T09:30:13.569Z"
   },
   {
    "duration": 19,
    "start_time": "2022-03-27T09:30:13.651Z"
   },
   {
    "duration": 16,
    "start_time": "2022-03-27T09:30:13.672Z"
   },
   {
    "duration": 5,
    "start_time": "2022-03-27T09:30:13.690Z"
   },
   {
    "duration": 24,
    "start_time": "2022-03-27T09:30:13.742Z"
   },
   {
    "duration": 24,
    "start_time": "2022-03-27T09:30:13.768Z"
   },
   {
    "duration": 58,
    "start_time": "2022-03-27T09:30:13.795Z"
   },
   {
    "duration": 21,
    "start_time": "2022-03-27T09:30:13.856Z"
   },
   {
    "duration": 23,
    "start_time": "2022-03-27T09:30:13.879Z"
   },
   {
    "duration": 55,
    "start_time": "2022-03-27T09:30:13.905Z"
   },
   {
    "duration": 12,
    "start_time": "2022-03-27T09:30:13.963Z"
   },
   {
    "duration": 64,
    "start_time": "2022-03-27T09:30:13.980Z"
   },
   {
    "duration": 26,
    "start_time": "2022-03-27T09:30:14.046Z"
   },
   {
    "duration": 6,
    "start_time": "2022-03-27T09:30:14.074Z"
   },
   {
    "duration": 69,
    "start_time": "2022-03-27T09:30:14.082Z"
   },
   {
    "duration": 26,
    "start_time": "2022-03-27T09:30:14.153Z"
   },
   {
    "duration": 62,
    "start_time": "2022-03-27T09:30:14.181Z"
   },
   {
    "duration": 26,
    "start_time": "2022-03-27T09:30:14.245Z"
   },
   {
    "duration": 11,
    "start_time": "2022-03-27T09:30:14.273Z"
   },
   {
    "duration": 9,
    "start_time": "2022-03-27T09:30:14.287Z"
   },
   {
    "duration": 9,
    "start_time": "2022-03-27T09:30:14.343Z"
   },
   {
    "duration": 11,
    "start_time": "2022-03-27T09:30:14.354Z"
   },
   {
    "duration": 8,
    "start_time": "2022-03-27T09:36:17.169Z"
   },
   {
    "duration": 7,
    "start_time": "2022-03-27T09:36:27.285Z"
   },
   {
    "duration": 6,
    "start_time": "2022-03-27T09:38:06.539Z"
   },
   {
    "duration": 6,
    "start_time": "2022-03-27T09:39:18.857Z"
   },
   {
    "duration": 5,
    "start_time": "2022-03-27T09:39:38.386Z"
   },
   {
    "duration": 10,
    "start_time": "2022-03-27T09:40:22.516Z"
   },
   {
    "duration": 14,
    "start_time": "2022-03-27T09:40:35.797Z"
   },
   {
    "duration": 6,
    "start_time": "2022-03-27T09:40:58.171Z"
   },
   {
    "duration": 7,
    "start_time": "2022-03-27T09:41:01.047Z"
   },
   {
    "duration": 6,
    "start_time": "2022-03-27T09:41:12.920Z"
   },
   {
    "duration": 503,
    "start_time": "2022-03-27T09:41:57.367Z"
   },
   {
    "duration": 192,
    "start_time": "2022-03-27T09:41:57.873Z"
   },
   {
    "duration": 26,
    "start_time": "2022-03-27T09:41:58.067Z"
   },
   {
    "duration": 65,
    "start_time": "2022-03-27T09:41:58.097Z"
   },
   {
    "duration": 6,
    "start_time": "2022-03-27T09:41:58.164Z"
   },
   {
    "duration": 19,
    "start_time": "2022-03-27T09:41:58.171Z"
   },
   {
    "duration": 7,
    "start_time": "2022-03-27T09:41:58.192Z"
   },
   {
    "duration": 79,
    "start_time": "2022-03-27T09:41:58.202Z"
   },
   {
    "duration": 29,
    "start_time": "2022-03-27T09:41:58.284Z"
   },
   {
    "duration": 34,
    "start_time": "2022-03-27T09:41:58.342Z"
   },
   {
    "duration": 128,
    "start_time": "2022-03-27T09:41:58.378Z"
   },
   {
    "duration": 130,
    "start_time": "2022-03-27T09:41:58.508Z"
   },
   {
    "duration": 104,
    "start_time": "2022-03-27T09:41:58.640Z"
   },
   {
    "duration": 56,
    "start_time": "2022-03-27T09:41:58.746Z"
   },
   {
    "duration": 4,
    "start_time": "2022-03-27T09:41:58.804Z"
   },
   {
    "duration": 42,
    "start_time": "2022-03-27T09:41:58.811Z"
   },
   {
    "duration": 55,
    "start_time": "2022-03-27T09:41:58.856Z"
   },
   {
    "duration": 47,
    "start_time": "2022-03-27T09:41:58.914Z"
   },
   {
    "duration": 22,
    "start_time": "2022-03-27T09:41:58.963Z"
   },
   {
    "duration": 6,
    "start_time": "2022-03-27T09:41:58.988Z"
   },
   {
    "duration": 72,
    "start_time": "2022-03-27T09:41:58.996Z"
   },
   {
    "duration": 23,
    "start_time": "2022-03-27T09:41:59.071Z"
   },
   {
    "duration": 53,
    "start_time": "2022-03-27T09:41:59.097Z"
   },
   {
    "duration": 20,
    "start_time": "2022-03-27T09:41:59.152Z"
   },
   {
    "duration": 25,
    "start_time": "2022-03-27T09:41:59.174Z"
   },
   {
    "duration": 23,
    "start_time": "2022-03-27T09:41:59.242Z"
   },
   {
    "duration": 6,
    "start_time": "2022-03-27T09:41:59.267Z"
   },
   {
    "duration": 28,
    "start_time": "2022-03-27T09:41:59.278Z"
   },
   {
    "duration": 52,
    "start_time": "2022-03-27T09:41:59.308Z"
   },
   {
    "duration": 6,
    "start_time": "2022-03-27T09:41:59.363Z"
   },
   {
    "duration": 79,
    "start_time": "2022-03-27T09:41:59.371Z"
   },
   {
    "duration": 24,
    "start_time": "2022-03-27T09:41:59.452Z"
   },
   {
    "duration": 30,
    "start_time": "2022-03-27T09:41:59.478Z"
   },
   {
    "duration": 52,
    "start_time": "2022-03-27T09:41:59.510Z"
   },
   {
    "duration": 14,
    "start_time": "2022-03-27T09:41:59.564Z"
   },
   {
    "duration": 7,
    "start_time": "2022-03-27T09:41:59.580Z"
   },
   {
    "duration": 58,
    "start_time": "2022-03-27T09:41:59.590Z"
   },
   {
    "duration": 7,
    "start_time": "2022-03-27T09:41:59.650Z"
   },
   {
    "duration": 13,
    "start_time": "2022-03-27T10:41:40.216Z"
   },
   {
    "duration": 468,
    "start_time": "2022-03-27T10:41:49.314Z"
   },
   {
    "duration": 181,
    "start_time": "2022-03-27T10:41:49.785Z"
   },
   {
    "duration": 28,
    "start_time": "2022-03-27T10:41:49.968Z"
   },
   {
    "duration": 40,
    "start_time": "2022-03-27T10:41:49.999Z"
   },
   {
    "duration": 6,
    "start_time": "2022-03-27T10:41:50.041Z"
   },
   {
    "duration": 41,
    "start_time": "2022-03-27T10:41:50.049Z"
   },
   {
    "duration": 9,
    "start_time": "2022-03-27T10:41:50.092Z"
   },
   {
    "duration": 39,
    "start_time": "2022-03-27T10:41:50.103Z"
   },
   {
    "duration": 49,
    "start_time": "2022-03-27T10:41:50.144Z"
   },
   {
    "duration": 31,
    "start_time": "2022-03-27T10:41:50.197Z"
   },
   {
    "duration": 105,
    "start_time": "2022-03-27T10:41:50.230Z"
   },
   {
    "duration": 117,
    "start_time": "2022-03-27T10:41:50.338Z"
   },
   {
    "duration": 95,
    "start_time": "2022-03-27T10:41:50.458Z"
   },
   {
    "duration": 58,
    "start_time": "2022-03-27T10:41:50.555Z"
   },
   {
    "duration": 4,
    "start_time": "2022-03-27T10:41:50.615Z"
   },
   {
    "duration": 17,
    "start_time": "2022-03-27T10:41:50.621Z"
   },
   {
    "duration": 71,
    "start_time": "2022-03-27T10:41:50.640Z"
   },
   {
    "duration": 15,
    "start_time": "2022-03-27T10:41:50.713Z"
   },
   {
    "duration": 14,
    "start_time": "2022-03-27T10:41:50.731Z"
   },
   {
    "duration": 4,
    "start_time": "2022-03-27T10:41:50.747Z"
   },
   {
    "duration": 20,
    "start_time": "2022-03-27T10:41:50.782Z"
   },
   {
    "duration": 16,
    "start_time": "2022-03-27T10:41:50.804Z"
   },
   {
    "duration": 24,
    "start_time": "2022-03-27T10:41:50.822Z"
   },
   {
    "duration": 45,
    "start_time": "2022-03-27T10:41:50.848Z"
   },
   {
    "duration": 19,
    "start_time": "2022-03-27T10:41:50.895Z"
   },
   {
    "duration": 26,
    "start_time": "2022-03-27T10:41:50.917Z"
   },
   {
    "duration": 17,
    "start_time": "2022-03-27T10:41:50.945Z"
   },
   {
    "duration": 28,
    "start_time": "2022-03-27T10:41:50.982Z"
   },
   {
    "duration": 28,
    "start_time": "2022-03-27T10:41:51.012Z"
   },
   {
    "duration": 10,
    "start_time": "2022-03-27T10:41:51.042Z"
   },
   {
    "duration": 51,
    "start_time": "2022-03-27T10:41:51.054Z"
   },
   {
    "duration": 20,
    "start_time": "2022-03-27T10:41:51.107Z"
   },
   {
    "duration": 33,
    "start_time": "2022-03-27T10:41:51.129Z"
   },
   {
    "duration": 37,
    "start_time": "2022-03-27T10:41:51.165Z"
   },
   {
    "duration": 14,
    "start_time": "2022-03-27T10:41:51.204Z"
   },
   {
    "duration": 19,
    "start_time": "2022-03-27T10:41:51.220Z"
   },
   {
    "duration": 29,
    "start_time": "2022-03-27T10:41:51.241Z"
   },
   {
    "duration": 22,
    "start_time": "2022-03-27T10:41:51.272Z"
   },
   {
    "duration": 441,
    "start_time": "2022-03-27T12:58:16.954Z"
   },
   {
    "duration": 151,
    "start_time": "2022-03-27T12:58:17.397Z"
   },
   {
    "duration": 24,
    "start_time": "2022-03-27T12:58:17.549Z"
   },
   {
    "duration": 32,
    "start_time": "2022-03-27T12:58:17.581Z"
   },
   {
    "duration": 5,
    "start_time": "2022-03-27T12:58:17.615Z"
   },
   {
    "duration": 20,
    "start_time": "2022-03-27T12:58:17.622Z"
   },
   {
    "duration": 9,
    "start_time": "2022-03-27T12:58:17.644Z"
   },
   {
    "duration": 41,
    "start_time": "2022-03-27T12:58:17.681Z"
   },
   {
    "duration": 26,
    "start_time": "2022-03-27T12:58:17.724Z"
   },
   {
    "duration": 58,
    "start_time": "2022-03-27T12:58:17.754Z"
   },
   {
    "duration": 113,
    "start_time": "2022-03-27T12:58:17.814Z"
   },
   {
    "duration": 83,
    "start_time": "2022-03-27T12:58:17.929Z"
   },
   {
    "duration": 105,
    "start_time": "2022-03-27T12:58:18.015Z"
   },
   {
    "duration": 65,
    "start_time": "2022-03-27T12:58:18.122Z"
   },
   {
    "duration": 10,
    "start_time": "2022-03-27T12:58:18.189Z"
   },
   {
    "duration": 15,
    "start_time": "2022-03-27T12:58:18.201Z"
   },
   {
    "duration": 40,
    "start_time": "2022-03-27T12:58:18.218Z"
   },
   {
    "duration": 39,
    "start_time": "2022-03-27T12:58:18.261Z"
   },
   {
    "duration": 16,
    "start_time": "2022-03-27T12:58:18.303Z"
   },
   {
    "duration": 4,
    "start_time": "2022-03-27T12:58:18.321Z"
   },
   {
    "duration": 27,
    "start_time": "2022-03-27T12:58:18.327Z"
   },
   {
    "duration": 37,
    "start_time": "2022-03-27T12:58:18.357Z"
   },
   {
    "duration": 15,
    "start_time": "2022-03-27T12:58:18.396Z"
   },
   {
    "duration": 13,
    "start_time": "2022-03-27T12:58:18.412Z"
   },
   {
    "duration": 23,
    "start_time": "2022-03-27T12:58:18.427Z"
   },
   {
    "duration": 14,
    "start_time": "2022-03-27T12:58:18.481Z"
   },
   {
    "duration": 4,
    "start_time": "2022-03-27T12:58:18.497Z"
   },
   {
    "duration": 18,
    "start_time": "2022-03-27T12:58:18.505Z"
   },
   {
    "duration": 16,
    "start_time": "2022-03-27T12:58:18.525Z"
   },
   {
    "duration": 5,
    "start_time": "2022-03-27T12:58:18.543Z"
   },
   {
    "duration": 69,
    "start_time": "2022-03-27T12:58:18.549Z"
   },
   {
    "duration": 12,
    "start_time": "2022-03-27T12:58:18.620Z"
   },
   {
    "duration": 17,
    "start_time": "2022-03-27T12:58:18.633Z"
   },
   {
    "duration": 38,
    "start_time": "2022-03-27T12:58:18.651Z"
   },
   {
    "duration": 12,
    "start_time": "2022-03-27T12:58:18.691Z"
   },
   {
    "duration": 6,
    "start_time": "2022-03-27T12:58:18.705Z"
   },
   {
    "duration": 10,
    "start_time": "2022-03-27T12:58:18.713Z"
   },
   {
    "duration": 10,
    "start_time": "2022-03-27T12:58:18.725Z"
   },
   {
    "duration": 8,
    "start_time": "2022-03-27T13:04:02.602Z"
   },
   {
    "duration": 4,
    "start_time": "2022-03-27T13:05:11.474Z"
   }
  ],
  "colab": {
   "collapsed_sections": [
    "E0vqbgi9ay0H",
    "VUC88oWjTJw2"
   ],
   "name": "yandex_music_project_2021.2.ipynb",
   "provenance": []
  },
  "kernelspec": {
   "display_name": "Python 3 (ipykernel)",
   "language": "python",
   "name": "python3"
  },
  "language_info": {
   "codemirror_mode": {
    "name": "ipython",
    "version": 3
   },
   "file_extension": ".py",
   "mimetype": "text/x-python",
   "name": "python",
   "nbconvert_exporter": "python",
   "pygments_lexer": "ipython3",
   "version": "3.9.7"
  },
  "toc": {
   "base_numbering": 1,
   "nav_menu": {},
   "number_sections": true,
   "sideBar": true,
   "skip_h1_title": true,
   "title_cell": "Table of Contents",
   "title_sidebar": "Contents",
   "toc_cell": false,
   "toc_position": {},
   "toc_section_display": true,
   "toc_window_display": false
  }
 },
 "nbformat": 4,
 "nbformat_minor": 1
}
