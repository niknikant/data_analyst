{
 "cells": [
  {
   "cell_type": "markdown",
   "metadata": {
    "toc": true
   },
   "source": [
    "<h1>Содержание<span class=\"tocSkip\"></span></h1>\n",
    "<div class=\"toc\"><ul class=\"toc-item\"><li><span><a href=\"#Изучение-данных-из-файла\" data-toc-modified-id=\"Изучение-данных-из-файла-1\"><span class=\"toc-item-num\">1&nbsp;&nbsp;</span>Изучение данных из файла</a></span><ul class=\"toc-item\"><li><span><a href=\"#Вывод\" data-toc-modified-id=\"Вывод-1.1\"><span class=\"toc-item-num\">1.1&nbsp;&nbsp;</span>Вывод</a></span></li></ul></li><li><span><a href=\"#Предобработка-данных\" data-toc-modified-id=\"Предобработка-данных-2\"><span class=\"toc-item-num\">2&nbsp;&nbsp;</span>Предобработка данных</a></span></li><li><span><a href=\"#Расчёты-и-добавление-результатов-в-таблицу\" data-toc-modified-id=\"Расчёты-и-добавление-результатов-в-таблицу-3\"><span class=\"toc-item-num\">3&nbsp;&nbsp;</span>Расчёты и добавление результатов в таблицу</a></span></li><li><span><a href=\"#Исследовательский-анализ-данных\" data-toc-modified-id=\"Исследовательский-анализ-данных-4\"><span class=\"toc-item-num\">4&nbsp;&nbsp;</span>Исследовательский анализ данных</a></span></li><li><span><a href=\"#Общий-вывод\" data-toc-modified-id=\"Общий-вывод-5\"><span class=\"toc-item-num\">5&nbsp;&nbsp;</span>Общий вывод</a></span></li><li><span><a href=\"#Чек-лист-готовности-проекта\" data-toc-modified-id=\"Чек-лист-готовности-проекта-6\"><span class=\"toc-item-num\">6&nbsp;&nbsp;</span>Чек-лист готовности проекта</a></span></li></ul></div>"
   ]
  },
  {
   "cell_type": "markdown",
   "metadata": {},
   "source": [
    "# Исследование объявлений о продаже квартир\n",
    "\n",
    "В нашем распоряжении данные сервиса Яндекc Недвижимость — архив объявлений о продаже квартир в Санкт-Петербурге и соседних населённых пунктах за несколько лет. Нужно научиться определять рыночную стоимость объектов недвижимости. Ваша задача — установить параметры. Это позволит построить автоматизированную систему: она отследит аномалии и мошенническую деятельность. \n",
    "\n",
    "По каждой квартире на продажу доступны два вида данных. Первые вписаны пользователем, вторые получены автоматически на основе картографических данных. Например, расстояние до центра, аэропорта, ближайшего парка и водоёма. "
   ]
  },
  {
   "cell_type": "markdown",
   "metadata": {},
   "source": [
    "Для начала изучим данные и проведем предобработку:\n",
    "- Определии и изучии пропущенные значения\n",
    "- Найдем причины, которые могли привести к пропускам в данных.\n",
    "- Приведем данные к нужным типам\n",
    "\n",
    "Добавим в таблицу небходимые данные для дальнейшего анализа:\n",
    "- цену квадратного метра;\n",
    "- день недели, месяц и год публикации объявления;\n",
    "- этаж квартиры; варианты — первый, последний, другой;\n",
    "- соотношение жилой и общей площади, а также отношение площади кухни к общей.\n",
    "\n",
    "Проведем исследовательский анализ данных и выполните следующие шаги:\n",
    "\n",
    "- Изучим следующие параметры: площадь, цена, число комнат, высота потолков. Построем гистограммы для каждого параметра.\n",
    "- Изучим время продажи квартиры. Построем гистограмму. Посчитаем среднее и медиану.\n",
    "- Уберим редкие и выбивающиеся значения. \n",
    "- Изучим какие факторы больше всего влияют на стоимость квартиры\n",
    "- Изучим зависит ли цена от площади, числа комнат, удалённости от центра. \n",
    "- Изучим зависимость цены от того, на каком этаже расположена квартира: первом, последнем или другом. Также изучим зависимость от даты размещения: дня недели, месяца и года.\n",
    "\n",
    "- Выберем 10 населённых пунктов с наибольшим числом объявлений. Посчитаем среднюю цену квадратного метра в этих населённых пунктах. Выделим населённые пункты с самой высокой и низкой стоимостью жилья. \n",
    "- Изучим предложения квартир: для каждой квартиры есть информация о расстоянии до центра. Выделм квартиры в Санкт-Петербурге (locality_name), чтобы выяснить, какая область входит в центр.\n",
    "- Выделим сегмент квартир в центре. Проанализируем эту территорию и изучите следующие параметры: площадь, цена, число комнат, высота потолков. Также выделим факторы, которые влияют на стоимость квартиры (число комнат, этаж, удалённость от центра, дата размещения объявления) и сравним их с общими выводами по всей выборке"
   ]
  },
  {
   "cell_type": "markdown",
   "metadata": {},
   "source": [
    "**Описание данных**\n",
    "- airports_nearest — расстояние до ближайшего аэропорта в метрах (м)\n",
    "- balcony — число балконов\n",
    "- ceiling_height — высота потолков (м)\n",
    "- cityCenters_nearest — расстояние до центра города (м)\n",
    "- days_exposition — сколько дней было размещено объявление (от публикации до снятия)\n",
    "- first_day_exposition — дата публикации\n",
    "- floor — этаж\n",
    "- floors_total — всего этажей в доме\n",
    "- is_apartment — апартаменты (булев тип)\n",
    "- kitchen_area — площадь кухни в квадратных метрах (м²)\n",
    "- last_price — цена на момент снятия с публикации\n",
    "- living_area — жилая площадь в квадратных метрах (м²)\n",
    "- locality_name — название населённого пункта\n",
    "- open_plan — свободная планировка (булев тип)\n",
    "- parks_around3000 — число парков в радиусе 3 км\n",
    "- parks_nearest — расстояние до ближайшего парка (м)\n",
    "- ponds_around3000 — число водоёмов в радиусе 3 км\n",
    "- ponds_nearest — расстояние до ближайшего водоёма (м)\n",
    "- rooms — число комнат\n",
    "- studio — квартира-студия (булев тип)\n",
    "- total_area — площадь квартиры в квадратных метрах (м²)\n",
    "- total_images — число фотографий квартиры в объявлении"
   ]
  },
  {
   "cell_type": "markdown",
   "metadata": {},
   "source": [
    "## Изучение данных из файла"
   ]
  },
  {
   "cell_type": "code",
   "execution_count": 1,
   "metadata": {},
   "outputs": [],
   "source": [
    "import pandas as pd\n",
    "import numpy as np\n",
    "import matplotlib.pyplot as plt\n",
    "import seaborn as sns\n",
    "df = pd.read_csv('/datasets/real_estate_data.csv', sep = '\\t')"
   ]
  },
  {
   "cell_type": "code",
   "execution_count": 2,
   "metadata": {},
   "outputs": [
    {
     "name": "stdout",
     "output_type": "stream",
     "text": [
      "<class 'pandas.core.frame.DataFrame'>\n",
      "RangeIndex: 23699 entries, 0 to 23698\n",
      "Data columns (total 22 columns):\n",
      " #   Column                Non-Null Count  Dtype  \n",
      "---  ------                --------------  -----  \n",
      " 0   total_images          23699 non-null  int64  \n",
      " 1   last_price            23699 non-null  float64\n",
      " 2   total_area            23699 non-null  float64\n",
      " 3   first_day_exposition  23699 non-null  object \n",
      " 4   rooms                 23699 non-null  int64  \n",
      " 5   ceiling_height        14504 non-null  float64\n",
      " 6   floors_total          23613 non-null  float64\n",
      " 7   living_area           21796 non-null  float64\n",
      " 8   floor                 23699 non-null  int64  \n",
      " 9   is_apartment          2775 non-null   object \n",
      " 10  studio                23699 non-null  bool   \n",
      " 11  open_plan             23699 non-null  bool   \n",
      " 12  kitchen_area          21421 non-null  float64\n",
      " 13  balcony               12180 non-null  float64\n",
      " 14  locality_name         23650 non-null  object \n",
      " 15  airports_nearest      18157 non-null  float64\n",
      " 16  cityCenters_nearest   18180 non-null  float64\n",
      " 17  parks_around3000      18181 non-null  float64\n",
      " 18  parks_nearest         8079 non-null   float64\n",
      " 19  ponds_around3000      18181 non-null  float64\n",
      " 20  ponds_nearest         9110 non-null   float64\n",
      " 21  days_exposition       20518 non-null  float64\n",
      "dtypes: bool(2), float64(14), int64(3), object(3)\n",
      "memory usage: 3.7+ MB\n"
     ]
    }
   ],
   "source": [
    "#изучим типы данных\n",
    "df.info()"
   ]
  },
  {
   "cell_type": "code",
   "execution_count": 3,
   "metadata": {},
   "outputs": [
    {
     "data": {
      "text/html": [
       "<div>\n",
       "<style scoped>\n",
       "    .dataframe tbody tr th:only-of-type {\n",
       "        vertical-align: middle;\n",
       "    }\n",
       "\n",
       "    .dataframe tbody tr th {\n",
       "        vertical-align: top;\n",
       "    }\n",
       "\n",
       "    .dataframe thead th {\n",
       "        text-align: right;\n",
       "    }\n",
       "</style>\n",
       "<table border=\"1\" class=\"dataframe\">\n",
       "  <thead>\n",
       "    <tr style=\"text-align: right;\">\n",
       "      <th></th>\n",
       "      <th>total_images</th>\n",
       "      <th>last_price</th>\n",
       "      <th>total_area</th>\n",
       "      <th>first_day_exposition</th>\n",
       "      <th>rooms</th>\n",
       "      <th>ceiling_height</th>\n",
       "      <th>floors_total</th>\n",
       "      <th>living_area</th>\n",
       "      <th>floor</th>\n",
       "      <th>is_apartment</th>\n",
       "      <th>...</th>\n",
       "      <th>kitchen_area</th>\n",
       "      <th>balcony</th>\n",
       "      <th>locality_name</th>\n",
       "      <th>airports_nearest</th>\n",
       "      <th>cityCenters_nearest</th>\n",
       "      <th>parks_around3000</th>\n",
       "      <th>parks_nearest</th>\n",
       "      <th>ponds_around3000</th>\n",
       "      <th>ponds_nearest</th>\n",
       "      <th>days_exposition</th>\n",
       "    </tr>\n",
       "  </thead>\n",
       "  <tbody>\n",
       "    <tr>\n",
       "      <th>0</th>\n",
       "      <td>20</td>\n",
       "      <td>13000000.0</td>\n",
       "      <td>108.0</td>\n",
       "      <td>2019-03-07T00:00:00</td>\n",
       "      <td>3</td>\n",
       "      <td>2.70</td>\n",
       "      <td>16.0</td>\n",
       "      <td>51.0</td>\n",
       "      <td>8</td>\n",
       "      <td>NaN</td>\n",
       "      <td>...</td>\n",
       "      <td>25.0</td>\n",
       "      <td>NaN</td>\n",
       "      <td>Санкт-Петербург</td>\n",
       "      <td>18863.0</td>\n",
       "      <td>16028.0</td>\n",
       "      <td>1.0</td>\n",
       "      <td>482.0</td>\n",
       "      <td>2.0</td>\n",
       "      <td>755.0</td>\n",
       "      <td>NaN</td>\n",
       "    </tr>\n",
       "    <tr>\n",
       "      <th>1</th>\n",
       "      <td>7</td>\n",
       "      <td>3350000.0</td>\n",
       "      <td>40.4</td>\n",
       "      <td>2018-12-04T00:00:00</td>\n",
       "      <td>1</td>\n",
       "      <td>NaN</td>\n",
       "      <td>11.0</td>\n",
       "      <td>18.6</td>\n",
       "      <td>1</td>\n",
       "      <td>NaN</td>\n",
       "      <td>...</td>\n",
       "      <td>11.0</td>\n",
       "      <td>2.0</td>\n",
       "      <td>посёлок Шушары</td>\n",
       "      <td>12817.0</td>\n",
       "      <td>18603.0</td>\n",
       "      <td>0.0</td>\n",
       "      <td>NaN</td>\n",
       "      <td>0.0</td>\n",
       "      <td>NaN</td>\n",
       "      <td>81.0</td>\n",
       "    </tr>\n",
       "    <tr>\n",
       "      <th>2</th>\n",
       "      <td>10</td>\n",
       "      <td>5196000.0</td>\n",
       "      <td>56.0</td>\n",
       "      <td>2015-08-20T00:00:00</td>\n",
       "      <td>2</td>\n",
       "      <td>NaN</td>\n",
       "      <td>5.0</td>\n",
       "      <td>34.3</td>\n",
       "      <td>4</td>\n",
       "      <td>NaN</td>\n",
       "      <td>...</td>\n",
       "      <td>8.3</td>\n",
       "      <td>0.0</td>\n",
       "      <td>Санкт-Петербург</td>\n",
       "      <td>21741.0</td>\n",
       "      <td>13933.0</td>\n",
       "      <td>1.0</td>\n",
       "      <td>90.0</td>\n",
       "      <td>2.0</td>\n",
       "      <td>574.0</td>\n",
       "      <td>558.0</td>\n",
       "    </tr>\n",
       "    <tr>\n",
       "      <th>3</th>\n",
       "      <td>0</td>\n",
       "      <td>64900000.0</td>\n",
       "      <td>159.0</td>\n",
       "      <td>2015-07-24T00:00:00</td>\n",
       "      <td>3</td>\n",
       "      <td>NaN</td>\n",
       "      <td>14.0</td>\n",
       "      <td>NaN</td>\n",
       "      <td>9</td>\n",
       "      <td>NaN</td>\n",
       "      <td>...</td>\n",
       "      <td>NaN</td>\n",
       "      <td>0.0</td>\n",
       "      <td>Санкт-Петербург</td>\n",
       "      <td>28098.0</td>\n",
       "      <td>6800.0</td>\n",
       "      <td>2.0</td>\n",
       "      <td>84.0</td>\n",
       "      <td>3.0</td>\n",
       "      <td>234.0</td>\n",
       "      <td>424.0</td>\n",
       "    </tr>\n",
       "    <tr>\n",
       "      <th>4</th>\n",
       "      <td>2</td>\n",
       "      <td>10000000.0</td>\n",
       "      <td>100.0</td>\n",
       "      <td>2018-06-19T00:00:00</td>\n",
       "      <td>2</td>\n",
       "      <td>3.03</td>\n",
       "      <td>14.0</td>\n",
       "      <td>32.0</td>\n",
       "      <td>13</td>\n",
       "      <td>NaN</td>\n",
       "      <td>...</td>\n",
       "      <td>41.0</td>\n",
       "      <td>NaN</td>\n",
       "      <td>Санкт-Петербург</td>\n",
       "      <td>31856.0</td>\n",
       "      <td>8098.0</td>\n",
       "      <td>2.0</td>\n",
       "      <td>112.0</td>\n",
       "      <td>1.0</td>\n",
       "      <td>48.0</td>\n",
       "      <td>121.0</td>\n",
       "    </tr>\n",
       "  </tbody>\n",
       "</table>\n",
       "<p>5 rows × 22 columns</p>\n",
       "</div>"
      ],
      "text/plain": [
       "   total_images  last_price  total_area first_day_exposition  rooms  \\\n",
       "0            20  13000000.0       108.0  2019-03-07T00:00:00      3   \n",
       "1             7   3350000.0        40.4  2018-12-04T00:00:00      1   \n",
       "2            10   5196000.0        56.0  2015-08-20T00:00:00      2   \n",
       "3             0  64900000.0       159.0  2015-07-24T00:00:00      3   \n",
       "4             2  10000000.0       100.0  2018-06-19T00:00:00      2   \n",
       "\n",
       "   ceiling_height  floors_total  living_area  floor is_apartment  ...  \\\n",
       "0            2.70          16.0         51.0      8          NaN  ...   \n",
       "1             NaN          11.0         18.6      1          NaN  ...   \n",
       "2             NaN           5.0         34.3      4          NaN  ...   \n",
       "3             NaN          14.0          NaN      9          NaN  ...   \n",
       "4            3.03          14.0         32.0     13          NaN  ...   \n",
       "\n",
       "   kitchen_area  balcony    locality_name  airports_nearest  \\\n",
       "0          25.0      NaN  Санкт-Петербург           18863.0   \n",
       "1          11.0      2.0   посёлок Шушары           12817.0   \n",
       "2           8.3      0.0  Санкт-Петербург           21741.0   \n",
       "3           NaN      0.0  Санкт-Петербург           28098.0   \n",
       "4          41.0      NaN  Санкт-Петербург           31856.0   \n",
       "\n",
       "  cityCenters_nearest  parks_around3000  parks_nearest  ponds_around3000  \\\n",
       "0             16028.0               1.0          482.0               2.0   \n",
       "1             18603.0               0.0            NaN               0.0   \n",
       "2             13933.0               1.0           90.0               2.0   \n",
       "3              6800.0               2.0           84.0               3.0   \n",
       "4              8098.0               2.0          112.0               1.0   \n",
       "\n",
       "   ponds_nearest  days_exposition  \n",
       "0          755.0              NaN  \n",
       "1            NaN             81.0  \n",
       "2          574.0            558.0  \n",
       "3          234.0            424.0  \n",
       "4           48.0            121.0  \n",
       "\n",
       "[5 rows x 22 columns]"
      ]
     },
     "execution_count": 3,
     "metadata": {},
     "output_type": "execute_result"
    }
   ],
   "source": [
    "#изучаем таблицу данных\n",
    "df.head()"
   ]
  },
  {
   "cell_type": "markdown",
   "metadata": {},
   "source": [
    "### Вывод"
   ]
  },
  {
   "cell_type": "markdown",
   "metadata": {},
   "source": [
    "- first_day_exposition - не тот тип(object), должен быть тип datetime\n",
    "- ceiling_height - нулевые значения\n",
    "- floors_total - нулевые значения\n",
    "- is_apartment - нулевые значения\n",
    "- living_area - нулевые значения\n",
    "- kitchen_area - нулевые значения\n",
    "- balcony - нулевые значения, не тот тип\n",
    "- locality_name - нулевые значения\n",
    "- airports_nearest - нулевые значения\n",
    "- cityCenters_nearest - нулевые значения\n",
    "- parks_nearest - нулевые значения\n",
    "- ponds_nearest - нулевые значения\n",
    "- days_exposition - не тот тип, должен быть int, нулевые значения"
   ]
  },
  {
   "cell_type": "markdown",
   "metadata": {},
   "source": [
    "## Предобработка данных"
   ]
  },
  {
   "cell_type": "code",
   "execution_count": 4,
   "metadata": {},
   "outputs": [
    {
     "data": {
      "text/plain": [
       "count    18181.000000\n",
       "mean         0.770255\n",
       "std          0.938346\n",
       "min          0.000000\n",
       "25%          0.000000\n",
       "50%          1.000000\n",
       "75%          1.000000\n",
       "max          3.000000\n",
       "Name: ponds_around3000, dtype: float64"
      ]
     },
     "execution_count": 4,
     "metadata": {},
     "output_type": "execute_result"
    }
   ],
   "source": [
    "#посмотрим значения в столбцах для выявления нестандартных значений на первый взгляд и ошибок\n",
    "df['ponds_around3000'].describe()"
   ]
  },
  {
   "cell_type": "code",
   "execution_count": 5,
   "metadata": {},
   "outputs": [
    {
     "data": {
      "text/plain": [
       "count    14504.000000\n",
       "mean         2.771499\n",
       "std          1.261056\n",
       "min          1.000000\n",
       "25%          2.520000\n",
       "50%          2.650000\n",
       "75%          2.800000\n",
       "max        100.000000\n",
       "Name: ceiling_height, dtype: float64"
      ]
     },
     "execution_count": 5,
     "metadata": {},
     "output_type": "execute_result"
    }
   ],
   "source": [
    "df['ceiling_height'].describe()"
   ]
  },
  {
   "cell_type": "code",
   "execution_count": 6,
   "metadata": {},
   "outputs": [
    {
     "data": {
      "text/plain": [
       "count    23699.000000\n",
       "mean         5.892358\n",
       "std          4.885249\n",
       "min          1.000000\n",
       "25%          2.000000\n",
       "50%          4.000000\n",
       "75%          8.000000\n",
       "max         33.000000\n",
       "Name: floor, dtype: float64"
      ]
     },
     "execution_count": 6,
     "metadata": {},
     "output_type": "execute_result"
    }
   ],
   "source": [
    "df['floor'].describe()"
   ]
  },
  {
   "cell_type": "code",
   "execution_count": 7,
   "metadata": {},
   "outputs": [
    {
     "data": {
      "text/plain": [
       "count    23699.000000\n",
       "mean        60.348651\n",
       "std         35.654083\n",
       "min         12.000000\n",
       "25%         40.000000\n",
       "50%         52.000000\n",
       "75%         69.900000\n",
       "max        900.000000\n",
       "Name: total_area, dtype: float64"
      ]
     },
     "execution_count": 7,
     "metadata": {},
     "output_type": "execute_result"
    }
   ],
   "source": [
    "df['total_area'].describe()"
   ]
  },
  {
   "cell_type": "code",
   "execution_count": 8,
   "metadata": {},
   "outputs": [
    {
     "data": {
      "text/plain": [
       "count    23699.000000\n",
       "mean         2.070636\n",
       "std          1.078405\n",
       "min          0.000000\n",
       "25%          1.000000\n",
       "50%          2.000000\n",
       "75%          3.000000\n",
       "max         19.000000\n",
       "Name: rooms, dtype: float64"
      ]
     },
     "execution_count": 8,
     "metadata": {},
     "output_type": "execute_result"
    }
   ],
   "source": [
    "df['rooms'].describe()"
   ]
  },
  {
   "cell_type": "code",
   "execution_count": 9,
   "metadata": {},
   "outputs": [
    {
     "data": {
      "text/plain": [
       "count    18180.000000\n",
       "mean     14191.277833\n",
       "std       8608.386210\n",
       "min        181.000000\n",
       "25%       9238.000000\n",
       "50%      13098.500000\n",
       "75%      16293.000000\n",
       "max      65968.000000\n",
       "Name: cityCenters_nearest, dtype: float64"
      ]
     },
     "execution_count": 9,
     "metadata": {},
     "output_type": "execute_result"
    }
   ],
   "source": [
    "df['cityCenters_nearest'].describe()"
   ]
  },
  {
   "cell_type": "code",
   "execution_count": 10,
   "metadata": {},
   "outputs": [
    {
     "data": {
      "text/plain": [
       "count    20518.000000\n",
       "mean       180.888634\n",
       "std        219.727988\n",
       "min          1.000000\n",
       "25%         45.000000\n",
       "50%         95.000000\n",
       "75%        232.000000\n",
       "max       1580.000000\n",
       "Name: days_exposition, dtype: float64"
      ]
     },
     "execution_count": 10,
     "metadata": {},
     "output_type": "execute_result"
    }
   ],
   "source": [
    "df['days_exposition'].describe()"
   ]
  },
  {
   "cell_type": "code",
   "execution_count": 11,
   "metadata": {},
   "outputs": [
    {
     "data": {
      "text/plain": [
       "count    2.369900e+04\n",
       "mean     6.541549e+06\n",
       "std      1.088701e+07\n",
       "min      1.219000e+04\n",
       "25%      3.400000e+06\n",
       "50%      4.650000e+06\n",
       "75%      6.800000e+06\n",
       "max      7.630000e+08\n",
       "Name: last_price, dtype: float64"
      ]
     },
     "execution_count": 11,
     "metadata": {},
     "output_type": "execute_result"
    }
   ],
   "source": [
    "df['last_price'].describe()"
   ]
  },
  {
   "cell_type": "code",
   "execution_count": 12,
   "metadata": {},
   "outputs": [
    {
     "data": {
      "text/plain": [
       "count    21796.000000\n",
       "mean        34.457852\n",
       "std         22.030445\n",
       "min          2.000000\n",
       "25%         18.600000\n",
       "50%         30.000000\n",
       "75%         42.300000\n",
       "max        409.700000\n",
       "Name: living_area, dtype: float64"
      ]
     },
     "execution_count": 12,
     "metadata": {},
     "output_type": "execute_result"
    }
   ],
   "source": [
    "df['living_area'].describe()"
   ]
  },
  {
   "cell_type": "code",
   "execution_count": 13,
   "metadata": {},
   "outputs": [],
   "source": [
    "#все что выше осталяем без изменений, так как данные в целом удобный для восприятия и анализа\n",
    "df['days_exposition'] = df['days_exposition'].fillna(0).astype('int')\n",
    "#переведем столбец с датой в формат даты без времени, ибо более подробное время не указано\n",
    "df['first_day_exposition'] = pd.to_datetime(df['first_day_exposition'], format = '%Y-%m-%d')\n",
    "\n",
    "#заменим пропуски в balcony на 0 и изменим тип данных на int, если человек не указал число балконов — скорее всего, их нет.\n",
    "df['balcony'] = df['balcony'].fillna(0)\n",
    "df['balcony'] = df['balcony'].astype('int')\n",
    "\n",
    "#изменим цену на тип int для удобства анализа\n",
    "df['last_price'] = df['last_price'].astype('int')\n",
    "\n",
    "\n",
    "#столбец апартаменты видимо появился не начала ведения базы, все пропущенные значения заменим на False\n",
    "df['is_apartment'] = df['is_apartment'].fillna(False)"
   ]
  },
  {
   "cell_type": "markdown",
   "metadata": {},
   "source": [
    "## Расчёты и добавление результатов в таблицу"
   ]
  },
  {
   "cell_type": "markdown",
   "metadata": {},
   "source": [
    "**Посчитаем и добавим в таблицу**\n",
    "- цену квадратного метра;\n",
    "- день недели, месяц и год публикации объявления;\n",
    "- этаж квартиры; варианты — первый, последний, другой;\n",
    "- соотношение жилой и общей площади, а также отношение площади кухни к общей."
   ]
  },
  {
   "cell_type": "code",
   "execution_count": 14,
   "metadata": {},
   "outputs": [],
   "source": [
    "#создадим функцию категоризации по этажам\n",
    "def floor_cat(row):\n",
    "    floors_total = row['floors_total']\n",
    "    floor = row['floor']\n",
    "    if floor == 1:\n",
    "        return 'первый'\n",
    "    elif floor == floors_total:\n",
    "        return 'последний'\n",
    "    elif 1 < floor < floors_total:\n",
    "        return 'другой'\n",
    "    \n",
    "#категоризуем этажи \n",
    "df['floor_cat'] = df.apply(floor_cat, axis = 1)"
   ]
  },
  {
   "cell_type": "code",
   "execution_count": 15,
   "metadata": {},
   "outputs": [],
   "source": [
    "#столбец дня недели\n",
    "df['weekday'] = df['first_day_exposition'].dt.weekday\n",
    "#столбец месяца\n",
    "df['month'] = df['first_day_exposition'].dt.month\n",
    "\n",
    "#столбец года\n",
    "df['year'] = df['first_day_exposition'].dt.year"
   ]
  },
  {
   "cell_type": "code",
   "execution_count": 16,
   "metadata": {},
   "outputs": [],
   "source": [
    "#посчитаем цену квадратного метра\n",
    "df['price_per_m'] = df['last_price'] / df['total_area']"
   ]
  },
  {
   "cell_type": "code",
   "execution_count": 17,
   "metadata": {},
   "outputs": [],
   "source": [
    "#отношение жилой площади к общей\n",
    "df['living_ratio'] = df['living_area'] / df['total_area']"
   ]
  },
  {
   "cell_type": "code",
   "execution_count": 18,
   "metadata": {},
   "outputs": [],
   "source": [
    "#отношение площади кухни к общей\n",
    "df['kitchen_ratio'] = df['kitchen_area'] / df['total_area']"
   ]
  },
  {
   "cell_type": "code",
   "execution_count": 19,
   "metadata": {},
   "outputs": [
    {
     "data": {
      "text/html": [
       "<div>\n",
       "<style scoped>\n",
       "    .dataframe tbody tr th:only-of-type {\n",
       "        vertical-align: middle;\n",
       "    }\n",
       "\n",
       "    .dataframe tbody tr th {\n",
       "        vertical-align: top;\n",
       "    }\n",
       "\n",
       "    .dataframe thead th {\n",
       "        text-align: right;\n",
       "    }\n",
       "</style>\n",
       "<table border=\"1\" class=\"dataframe\">\n",
       "  <thead>\n",
       "    <tr style=\"text-align: right;\">\n",
       "      <th></th>\n",
       "      <th>total_images</th>\n",
       "      <th>last_price</th>\n",
       "      <th>total_area</th>\n",
       "      <th>first_day_exposition</th>\n",
       "      <th>rooms</th>\n",
       "      <th>ceiling_height</th>\n",
       "      <th>floors_total</th>\n",
       "      <th>living_area</th>\n",
       "      <th>floor</th>\n",
       "      <th>is_apartment</th>\n",
       "      <th>...</th>\n",
       "      <th>ponds_around3000</th>\n",
       "      <th>ponds_nearest</th>\n",
       "      <th>days_exposition</th>\n",
       "      <th>floor_cat</th>\n",
       "      <th>weekday</th>\n",
       "      <th>month</th>\n",
       "      <th>year</th>\n",
       "      <th>price_per_m</th>\n",
       "      <th>living_ratio</th>\n",
       "      <th>kitchen_ratio</th>\n",
       "    </tr>\n",
       "  </thead>\n",
       "  <tbody>\n",
       "    <tr>\n",
       "      <th>0</th>\n",
       "      <td>20</td>\n",
       "      <td>13000000</td>\n",
       "      <td>108.0</td>\n",
       "      <td>2019-03-07</td>\n",
       "      <td>3</td>\n",
       "      <td>2.70</td>\n",
       "      <td>16.0</td>\n",
       "      <td>51.0</td>\n",
       "      <td>8</td>\n",
       "      <td>False</td>\n",
       "      <td>...</td>\n",
       "      <td>2.0</td>\n",
       "      <td>755.0</td>\n",
       "      <td>0</td>\n",
       "      <td>другой</td>\n",
       "      <td>3</td>\n",
       "      <td>3</td>\n",
       "      <td>2019</td>\n",
       "      <td>120370.370370</td>\n",
       "      <td>0.472222</td>\n",
       "      <td>0.231481</td>\n",
       "    </tr>\n",
       "    <tr>\n",
       "      <th>1</th>\n",
       "      <td>7</td>\n",
       "      <td>3350000</td>\n",
       "      <td>40.4</td>\n",
       "      <td>2018-12-04</td>\n",
       "      <td>1</td>\n",
       "      <td>NaN</td>\n",
       "      <td>11.0</td>\n",
       "      <td>18.6</td>\n",
       "      <td>1</td>\n",
       "      <td>False</td>\n",
       "      <td>...</td>\n",
       "      <td>0.0</td>\n",
       "      <td>NaN</td>\n",
       "      <td>81</td>\n",
       "      <td>первый</td>\n",
       "      <td>1</td>\n",
       "      <td>12</td>\n",
       "      <td>2018</td>\n",
       "      <td>82920.792079</td>\n",
       "      <td>0.460396</td>\n",
       "      <td>0.272277</td>\n",
       "    </tr>\n",
       "    <tr>\n",
       "      <th>2</th>\n",
       "      <td>10</td>\n",
       "      <td>5196000</td>\n",
       "      <td>56.0</td>\n",
       "      <td>2015-08-20</td>\n",
       "      <td>2</td>\n",
       "      <td>NaN</td>\n",
       "      <td>5.0</td>\n",
       "      <td>34.3</td>\n",
       "      <td>4</td>\n",
       "      <td>False</td>\n",
       "      <td>...</td>\n",
       "      <td>2.0</td>\n",
       "      <td>574.0</td>\n",
       "      <td>558</td>\n",
       "      <td>другой</td>\n",
       "      <td>3</td>\n",
       "      <td>8</td>\n",
       "      <td>2015</td>\n",
       "      <td>92785.714286</td>\n",
       "      <td>0.612500</td>\n",
       "      <td>0.148214</td>\n",
       "    </tr>\n",
       "    <tr>\n",
       "      <th>3</th>\n",
       "      <td>0</td>\n",
       "      <td>64900000</td>\n",
       "      <td>159.0</td>\n",
       "      <td>2015-07-24</td>\n",
       "      <td>3</td>\n",
       "      <td>NaN</td>\n",
       "      <td>14.0</td>\n",
       "      <td>NaN</td>\n",
       "      <td>9</td>\n",
       "      <td>False</td>\n",
       "      <td>...</td>\n",
       "      <td>3.0</td>\n",
       "      <td>234.0</td>\n",
       "      <td>424</td>\n",
       "      <td>другой</td>\n",
       "      <td>4</td>\n",
       "      <td>7</td>\n",
       "      <td>2015</td>\n",
       "      <td>408176.100629</td>\n",
       "      <td>NaN</td>\n",
       "      <td>NaN</td>\n",
       "    </tr>\n",
       "    <tr>\n",
       "      <th>4</th>\n",
       "      <td>2</td>\n",
       "      <td>10000000</td>\n",
       "      <td>100.0</td>\n",
       "      <td>2018-06-19</td>\n",
       "      <td>2</td>\n",
       "      <td>3.03</td>\n",
       "      <td>14.0</td>\n",
       "      <td>32.0</td>\n",
       "      <td>13</td>\n",
       "      <td>False</td>\n",
       "      <td>...</td>\n",
       "      <td>1.0</td>\n",
       "      <td>48.0</td>\n",
       "      <td>121</td>\n",
       "      <td>другой</td>\n",
       "      <td>1</td>\n",
       "      <td>6</td>\n",
       "      <td>2018</td>\n",
       "      <td>100000.000000</td>\n",
       "      <td>0.320000</td>\n",
       "      <td>0.410000</td>\n",
       "    </tr>\n",
       "  </tbody>\n",
       "</table>\n",
       "<p>5 rows × 29 columns</p>\n",
       "</div>"
      ],
      "text/plain": [
       "   total_images  last_price  total_area first_day_exposition  rooms  \\\n",
       "0            20    13000000       108.0           2019-03-07      3   \n",
       "1             7     3350000        40.4           2018-12-04      1   \n",
       "2            10     5196000        56.0           2015-08-20      2   \n",
       "3             0    64900000       159.0           2015-07-24      3   \n",
       "4             2    10000000       100.0           2018-06-19      2   \n",
       "\n",
       "   ceiling_height  floors_total  living_area  floor  is_apartment  ...  \\\n",
       "0            2.70          16.0         51.0      8         False  ...   \n",
       "1             NaN          11.0         18.6      1         False  ...   \n",
       "2             NaN           5.0         34.3      4         False  ...   \n",
       "3             NaN          14.0          NaN      9         False  ...   \n",
       "4            3.03          14.0         32.0     13         False  ...   \n",
       "\n",
       "   ponds_around3000  ponds_nearest  days_exposition  floor_cat weekday  month  \\\n",
       "0               2.0          755.0                0     другой       3      3   \n",
       "1               0.0            NaN               81     первый       1     12   \n",
       "2               2.0          574.0              558     другой       3      8   \n",
       "3               3.0          234.0              424     другой       4      7   \n",
       "4               1.0           48.0              121     другой       1      6   \n",
       "\n",
       "   year    price_per_m  living_ratio  kitchen_ratio  \n",
       "0  2019  120370.370370      0.472222       0.231481  \n",
       "1  2018   82920.792079      0.460396       0.272277  \n",
       "2  2015   92785.714286      0.612500       0.148214  \n",
       "3  2015  408176.100629           NaN            NaN  \n",
       "4  2018  100000.000000      0.320000       0.410000  \n",
       "\n",
       "[5 rows x 29 columns]"
      ]
     },
     "execution_count": 19,
     "metadata": {},
     "output_type": "execute_result"
    }
   ],
   "source": [
    "df.head()"
   ]
  },
  {
   "cell_type": "markdown",
   "metadata": {},
   "source": [
    "## Исследовательский анализ данных"
   ]
  },
  {
   "cell_type": "code",
   "execution_count": 20,
   "metadata": {},
   "outputs": [
    {
     "data": {
      "text/plain": [
       "count    23699.000000\n",
       "mean        60.348651\n",
       "std         35.654083\n",
       "min         12.000000\n",
       "25%         40.000000\n",
       "50%         52.000000\n",
       "75%         69.900000\n",
       "max        900.000000\n",
       "Name: total_area, dtype: float64"
      ]
     },
     "execution_count": 20,
     "metadata": {},
     "output_type": "execute_result"
    },
    {
     "data": {
      "image/png": "[encoded data removed]",
      "text/plain": [
       "<Figure size 720x360 with 1 Axes>"
      ]
     },
     "metadata": {
      "needs_background": "light"
     },
     "output_type": "display_data"
    }
   ],
   "source": [
    "#начнем с общей площади\n",
    "# в целом распределение данных нормальное, при этом явно видно, что в данных есть большой правый хвост. \n",
    "df.plot(y = 'total_area', kind = 'hist', bins = 100, grid=True, figsize = (10,5), range = (0,500))\n",
    "df['total_area'].describe()"
   ]
  },
  {
   "cell_type": "markdown",
   "metadata": {},
   "source": [
    "**Изучаем следующие параметры: площадь, цена, число комнат, высота потолков. Построем гистограммы для каждого параметра.**"
   ]
  },
  {
   "cell_type": "code",
   "execution_count": 21,
   "metadata": {},
   "outputs": [
    {
     "data": {
      "text/plain": [
       "count    23699.000000\n",
       "mean         6.541549\n",
       "std         10.887013\n",
       "min          0.012190\n",
       "25%          3.400000\n",
       "50%          4.650000\n",
       "75%          6.800000\n",
       "max        763.000000\n",
       "Name: last_price, dtype: float64"
      ]
     },
     "execution_count": 21,
     "metadata": {},
     "output_type": "execute_result"
    },
    {
     "data": {
      "image/png": "[encoded data removed]",
      "text/plain": [
       "<Figure size 720x360 with 1 Axes>"
      ]
     },
     "metadata": {
      "needs_background": "light"
     },
     "output_type": "display_data"
    }
   ],
   "source": [
    "#изучим цену\n",
    "#с данными на первый взгляд все нормально, никаких явных выбросов нет.\n",
    "df.plot(y = 'last_price', kind = 'hist', bins = 100, grid=True, range = (0,15000000), figsize = (10,5))\n",
    "df['last_price'] = df['last_price']/ 1000000\n",
    "df['last_price'].describe()"
   ]
  },
  {
   "cell_type": "code",
   "execution_count": 22,
   "metadata": {},
   "outputs": [
    {
     "data": {
      "text/plain": [
       "count    23699.000000\n",
       "mean         2.070636\n",
       "std          1.078405\n",
       "min          0.000000\n",
       "25%          1.000000\n",
       "50%          2.000000\n",
       "75%          3.000000\n",
       "max         19.000000\n",
       "Name: rooms, dtype: float64"
      ]
     },
     "execution_count": 22,
     "metadata": {},
     "output_type": "execute_result"
    },
    {
     "data": {
      "image/png": "[encoded data removed]",
      "text/plain": [
       "<Figure size 720x360 with 1 Axes>"
      ]
     },
     "metadata": {
      "needs_background": "light"
     },
     "output_type": "display_data"
    }
   ],
   "source": [
    "#число комнат, построим немного иным способом для более наглядной картины\n",
    "#с данными так же все нормально\n",
    "df.plot(y = 'rooms', kind = 'hist', figsize = (10,5))\n",
    "plt.xticks(range(20))\n",
    "df['rooms'].describe()"
   ]
  },
  {
   "cell_type": "code",
   "execution_count": 23,
   "metadata": {
    "scrolled": false
   },
   "outputs": [
    {
     "data": {
      "text/plain": [
       "count    14504.000000\n",
       "mean         2.771499\n",
       "std          1.261056\n",
       "min          1.000000\n",
       "25%          2.520000\n",
       "50%          2.650000\n",
       "75%          2.800000\n",
       "max        100.000000\n",
       "Name: ceiling_height, dtype: float64"
      ]
     },
     "execution_count": 23,
     "metadata": {},
     "output_type": "execute_result"
    },
    {
     "data": {
      "image/png": "[encoded data removed]",
      "text/plain": [
       "<Figure size 864x432 with 1 Axes>"
      ]
     },
     "metadata": {
      "needs_background": "light"
     },
     "output_type": "display_data"
    }
   ],
   "source": [
    "#высота потолков\n",
    "#в общем с данными все нормально, но имеется некий выброс в начале, а так же хвост справа\n",
    "df.plot(y = 'ceiling_height', kind = 'hist', bins = 30, range = (2,5), grid=True, figsize = (12,6))\n",
    "df['ceiling_height'].describe()"
   ]
  },
  {
   "cell_type": "markdown",
   "metadata": {},
   "source": [
    "**Выводы:**\n",
    "\n",
    "- по площади есть и 12 кв.м., и 900 кв.м., среднее значение 60 и оно кажется самым адекватным\n",
    "- число комнат: от 0 до 19. Возможно, это общежития, студии или нежилые помещения\n",
    "- высота потолков: от 1 до 100 метров."
   ]
  },
  {
   "cell_type": "markdown",
   "metadata": {},
   "source": [
    "**Изучим время продажи квартиры. Построем гистограмму. Посчитаем среднее и медиану и выясним когда можно считать, что продажи прошли очень быстро, а когда необычно долго**"
   ]
  },
  {
   "cell_type": "code",
   "execution_count": 24,
   "metadata": {},
   "outputs": [
    {
     "data": {
      "text/plain": [
       "count    20518.000000\n",
       "mean       180.888634\n",
       "std        219.727988\n",
       "min          1.000000\n",
       "25%         45.000000\n",
       "50%         95.000000\n",
       "75%        232.000000\n",
       "max       1580.000000\n",
       "Name: days_exposition, dtype: float64"
      ]
     },
     "execution_count": 24,
     "metadata": {},
     "output_type": "execute_result"
    },
    {
     "data": {
      "image/png": "[encoded data removed]",
      "text/plain": [
       "<Figure size 432x288 with 1 Axes>"
      ]
     },
     "metadata": {
      "needs_background": "light"
     },
     "output_type": "display_data"
    },
    {
     "data": {
      "image/png": "[encoded data removed]",
      "text/plain": [
       "<Figure size 432x288 with 1 Axes>"
      ]
     },
     "metadata": {
      "needs_background": "light"
     },
     "output_type": "display_data"
    },
    {
     "data": {
      "image/png": "[encoded data removed]",
      "text/plain": [
       "<Figure size 432x288 with 1 Axes>"
      ]
     },
     "metadata": {
      "needs_background": "light"
     },
     "output_type": "display_data"
    }
   ],
   "source": [
    "#построим диаграмму размаха\n",
    "plt.boxplot(df[df['days_exposition']!=0]['days_exposition'])\n",
    "plt.ylim(1,1000)\n",
    "\n",
    "df.plot(y = 'days_exposition', kind = 'hist', bins = 30, grid = True, range = (1,1500))\n",
    "df.plot(y = 'days_exposition', kind = 'hist', bins = 100, grid = True, range = (1,300))\n",
    "#среднее значение, медиана и межквартильный размах\n",
    "df[df['days_exposition']!=0]['days_exposition'].describe()"
   ]
  },
  {
   "cell_type": "code",
   "execution_count": 25,
   "metadata": {},
   "outputs": [
    {
     "data": {
      "text/plain": [
       "45      880\n",
       "60      538\n",
       "7       234\n",
       "30      208\n",
       "90      204\n",
       "       ... \n",
       "1112      1\n",
       "1080      1\n",
       "1064      1\n",
       "1032      1\n",
       "1391      1\n",
       "Name: days_exposition, Length: 1141, dtype: int64"
      ]
     },
     "execution_count": 25,
     "metadata": {},
     "output_type": "execute_result"
    }
   ],
   "source": [
    "df[df['days_exposition']!=0]['days_exposition'].value_counts()"
   ]
  },
  {
   "cell_type": "markdown",
   "metadata": {},
   "source": [
    "**Вывод:**\n",
    "Среднее значение - 180 дней, медиана - 95 дней. Построив гистограммы видим, что  у нас имеются необычные значения 45, 60, 7, 30, 90 дней это самое распространненое количество дней до того как снять объявления.\n",
    "Возможно, есть определенные правила площадки, например на авито после истечения срока необходимо вручную продлять или обьявление снимается с публикации. Это касается 45, 60, 30 и 90 дней.\n",
    "На счет 7 дней, руководствуясь здравым рассудком, мы можем предположить, что за 7 дней продать квартиру нереально.\n",
    "Исходя из вывода выше, могу предположить что обьявления с этими сроками размещения можно удалить из нашей выборки.\n",
    "Так же по гистограммам и сравнением с межквартальным размахом можем сделать вывод что среднее время продажи будем считать до 600 дней."
   ]
  },
  {
   "cell_type": "markdown",
   "metadata": {},
   "source": [
    "**Убираем редкие и выбивающиеся значения.**"
   ]
  },
  {
   "cell_type": "code",
   "execution_count": 26,
   "metadata": {},
   "outputs": [
    {
     "data": {
      "text/plain": [
       "count    18454.000000\n",
       "mean       195.803349\n",
       "std        226.760010\n",
       "min          1.000000\n",
       "25%         44.000000\n",
       "50%        114.000000\n",
       "75%        259.000000\n",
       "max       1580.000000\n",
       "Name: days_exposition, dtype: float64"
      ]
     },
     "execution_count": 26,
     "metadata": {},
     "output_type": "execute_result"
    },
    {
     "data": {
      "image/png": "[encoded data removed]",
      "text/plain": [
       "<Figure size 432x288 with 1 Axes>"
      ]
     },
     "metadata": {
      "needs_background": "light"
     },
     "output_type": "display_data"
    },
    {
     "data": {
      "image/png": "[encoded data removed]",
      "text/plain": [
       "<Figure size 432x288 with 1 Axes>"
      ]
     },
     "metadata": {
      "needs_background": "light"
     },
     "output_type": "display_data"
    }
   ],
   "source": [
    "#Уберем данные от необычных значений о которых мы говорили выше.\n",
    "new_df = df.query('days_exposition != 45 and days_exposition != 30 and days_exposition != 60 and days_exposition != 90 and days_exposition != 7 and days_exposition != 0')\n",
    "\n",
    "#гистограммы\n",
    "new_df.plot(y = 'days_exposition', kind = 'hist', bins = 30, grid = True, range = (1,1500))\n",
    "new_df.plot(y = 'days_exposition', kind = 'hist', bins = 100, grid = True, range = (1,300))\n",
    "\n",
    "#среднее значение, медиана и межквартильный размах\n",
    "new_df['days_exposition'].describe()"
   ]
  },
  {
   "cell_type": "code",
   "execution_count": 27,
   "metadata": {},
   "outputs": [
    {
     "data": {
      "text/plain": [
       "4       176\n",
       "3       158\n",
       "5       152\n",
       "14      148\n",
       "9       143\n",
       "       ... \n",
       "1112      1\n",
       "1080      1\n",
       "1064      1\n",
       "1032      1\n",
       "1391      1\n",
       "Name: days_exposition, Length: 1136, dtype: int64"
      ]
     },
     "execution_count": 27,
     "metadata": {},
     "output_type": "execute_result"
    }
   ],
   "source": [
    "new_df['days_exposition'].value_counts()"
   ]
  },
  {
   "cell_type": "markdown",
   "metadata": {},
   "source": [
    "**Вывод:**\n",
    "После того как убрали необычные значения график стал более ровным и в новых данных получили значения медианы и среднего значения чуть больше, чем в исходных."
   ]
  },
  {
   "cell_type": "markdown",
   "metadata": {},
   "source": [
    "Изучим какие факторы больше всего влияют на стоимость квартиры, зависит ли цена от площади, числа комнат, удалённости от центра, зависимость цены от того, на каком этаже расположена квартира: первом, последнем или другом, а также изучите зависимость от даты размещения: дня недели, месяца и года."
   ]
  },
  {
   "cell_type": "code",
   "execution_count": 28,
   "metadata": {},
   "outputs": [
    {
     "data": {
      "text/plain": [
       "0.6536750579657246"
      ]
     },
     "execution_count": 28,
     "metadata": {},
     "output_type": "execute_result"
    },
    {
     "data": {
      "image/png": "[encoded data removed]",
      "text/plain": [
       "<Figure size 432x288 with 1 Axes>"
      ]
     },
     "metadata": {
      "needs_background": "light"
     },
     "output_type": "display_data"
    }
   ],
   "source": [
    "#Сделаем сводную таблицу по цене от всей площади квартиры и построим график, а так же получим корреляцию Пирсона\n",
    "pivot_total_area = df.pivot_table(index = 'total_area', values = 'last_price', aggfunc = ['mean', 'count', 'median'])\n",
    "pivot_total_area.plot(y = 'median', style = 'o')\n",
    "df['total_area'].corr(df['last_price'])"
   ]
  },
  {
   "cell_type": "markdown",
   "metadata": {},
   "source": [
    "**Вывод:**\n",
    "\n",
    "Видим что, что с ростом площади понемногу растет и стоимость, что в целом нормально, зависимость достаточно слабая - согласно корреляции Пирсона - 0.6 "
   ]
  },
  {
   "cell_type": "code",
   "execution_count": 29,
   "metadata": {},
   "outputs": [
    {
     "data": {
      "text/plain": [
       "0.3633428499648953"
      ]
     },
     "execution_count": 29,
     "metadata": {},
     "output_type": "execute_result"
    },
    {
     "data": {
      "image/png": "[encoded data removed]",
      "text/plain": [
       "<Figure size 432x288 with 1 Axes>"
      ]
     },
     "metadata": {
      "needs_background": "light"
     },
     "output_type": "display_data"
    }
   ],
   "source": [
    "#Сделаем сводную таблицу цены от числа комнат и построим график.\n",
    "pivot_table_rooms = df.pivot_table(index = 'rooms', values = 'last_price', aggfunc = ['mean', 'count', 'median'])\n",
    "pivot_table_rooms.columns = ['mean', 'count', 'median']\n",
    "pivot_table_rooms.query('count > 50').plot(y = 'median')\n",
    "df['rooms'].corr(df['last_price'])"
   ]
  },
  {
   "cell_type": "markdown",
   "metadata": {},
   "source": [
    "**Вывод:**\n",
    "С ростом комнат происходит и рост цены, корреляция еще меньше)"
   ]
  },
  {
   "cell_type": "code",
   "execution_count": 30,
   "metadata": {},
   "outputs": [
    {
     "data": {
      "text/plain": [
       "-0.20674734874298373"
      ]
     },
     "execution_count": 30,
     "metadata": {},
     "output_type": "execute_result"
    },
    {
     "data": {
      "image/png": "[encoded data removed]",
      "text/plain": [
       "<Figure size 432x288 with 1 Axes>"
      ]
     },
     "metadata": {
      "needs_background": "light"
     },
     "output_type": "display_data"
    }
   ],
   "source": [
    "#Сделаем график цены от удалённости от центра\n",
    "df.plot(kind = 'scatter', y = 'last_price', x = 'cityCenters_nearest', alpha = 0.1)\n",
    "df['cityCenters_nearest'].corr(df['last_price'])"
   ]
  },
  {
   "cell_type": "markdown",
   "metadata": {},
   "source": [
    "**Вывод:** Все как должно быть, чем ближе к центру, тем выше стоимость, корреляция это подтверждает."
   ]
  },
  {
   "cell_type": "code",
   "execution_count": 31,
   "metadata": {},
   "outputs": [
    {
     "data": {
      "text/plain": [
       "<AxesSubplot:xlabel='floor_cat'>"
      ]
     },
     "execution_count": 31,
     "metadata": {},
     "output_type": "execute_result"
    },
    {
     "data": {
      "image/png": "[encoded data removed]",
      "text/plain": [
       "<Figure size 432x288 with 1 Axes>"
      ]
     },
     "metadata": {
      "needs_background": "light"
     },
     "output_type": "display_data"
    }
   ],
   "source": [
    "#Сделаем сводную таблицу цены от этажа и построим график.\n",
    "pivot_floor_cat = df.query('floor_cat != \"другой\"').pivot_table(index = 'floor_cat', values = 'last_price', aggfunc = ['mean', 'count', 'median'])\n",
    "pivot_floor_cat.columns = ['mean', 'count', 'median']\n",
    "pivot_floor_cat.plot(y = 'median')"
   ]
  },
  {
   "cell_type": "markdown",
   "metadata": {},
   "source": [
    "**Вывод:** Как известно самые дешевые квартиры на первом этаже, что мы и видим из графика"
   ]
  },
  {
   "cell_type": "code",
   "execution_count": 32,
   "metadata": {},
   "outputs": [
    {
     "data": {
      "text/plain": [
       "<AxesSubplot:xlabel='year'>"
      ]
     },
     "execution_count": 32,
     "metadata": {},
     "output_type": "execute_result"
    },
    {
     "data": {
      "image/png": "[encoded data removed]",
      "text/plain": [
       "<Figure size 432x288 with 1 Axes>"
      ]
     },
     "metadata": {
      "needs_background": "light"
     },
     "output_type": "display_data"
    },
    {
     "data": {
      "image/png": "[encoded data removed]",
      "text/plain": [
       "<Figure size 432x288 with 1 Axes>"
      ]
     },
     "metadata": {
      "needs_background": "light"
     },
     "output_type": "display_data"
    },
    {
     "data": {
      "image/png": "[encoded data removed]",
      "text/plain": [
       "<Figure size 432x288 with 1 Axes>"
      ]
     },
     "metadata": {
      "needs_background": "light"
     },
     "output_type": "display_data"
    }
   ],
   "source": [
    "#Сделаем сводную таблицу цены от даты размещения(день недели)\n",
    "pivot_weekday = df.pivot_table(index = 'weekday', values = 'last_price', aggfunc = ['mean', 'count', 'median'])\n",
    "pivot_weekday.columns = ['mean', 'count', 'median']\n",
    "pivot_weekday.plot(y = 'median')\n",
    "\n",
    "#Сделаем сводную таблицу цены от даты размещения(месяц)\n",
    "pivot_month = df.pivot_table(index = 'month', values = 'last_price', aggfunc = ['mean', 'count', 'median'])\n",
    "pivot_month.columns = ['mean', 'count', 'median']\n",
    "pivot_month.plot(y = 'median')\n",
    "\n",
    "#Сделаем сводную таблицу цены от даты размещения(год)\n",
    "pivot_year = df.pivot_table(index = 'year', values = 'last_price', aggfunc = ['mean', 'count', 'median'])\n",
    "pivot_year.columns = ['mean', 'count', 'median']\n",
    "pivot_year.plot(y = 'median')"
   ]
  },
  {
   "cell_type": "code",
   "execution_count": 33,
   "metadata": {},
   "outputs": [
    {
     "data": {
      "text/html": [
       "<div>\n",
       "<style scoped>\n",
       "    .dataframe tbody tr th:only-of-type {\n",
       "        vertical-align: middle;\n",
       "    }\n",
       "\n",
       "    .dataframe tbody tr th {\n",
       "        vertical-align: top;\n",
       "    }\n",
       "\n",
       "    .dataframe thead th {\n",
       "        text-align: right;\n",
       "    }\n",
       "</style>\n",
       "<table border=\"1\" class=\"dataframe\">\n",
       "  <thead>\n",
       "    <tr style=\"text-align: right;\">\n",
       "      <th></th>\n",
       "      <th>mean</th>\n",
       "      <th>count</th>\n",
       "      <th>median</th>\n",
       "    </tr>\n",
       "    <tr>\n",
       "      <th>month</th>\n",
       "      <th></th>\n",
       "      <th></th>\n",
       "      <th></th>\n",
       "    </tr>\n",
       "  </thead>\n",
       "  <tbody>\n",
       "    <tr>\n",
       "      <th>4</th>\n",
       "      <td>6.737198</td>\n",
       "      <td>2379</td>\n",
       "      <td>4.800</td>\n",
       "    </tr>\n",
       "    <tr>\n",
       "      <th>9</th>\n",
       "      <td>6.825470</td>\n",
       "      <td>1981</td>\n",
       "      <td>4.700</td>\n",
       "    </tr>\n",
       "    <tr>\n",
       "      <th>11</th>\n",
       "      <td>6.461363</td>\n",
       "      <td>2371</td>\n",
       "      <td>4.700</td>\n",
       "    </tr>\n",
       "    <tr>\n",
       "      <th>12</th>\n",
       "      <td>7.011731</td>\n",
       "      <td>1641</td>\n",
       "      <td>4.700</td>\n",
       "    </tr>\n",
       "    <tr>\n",
       "      <th>2</th>\n",
       "      <td>6.468500</td>\n",
       "      <td>2640</td>\n",
       "      <td>4.650</td>\n",
       "    </tr>\n",
       "    <tr>\n",
       "      <th>3</th>\n",
       "      <td>6.359275</td>\n",
       "      <td>2587</td>\n",
       "      <td>4.650</td>\n",
       "    </tr>\n",
       "    <tr>\n",
       "      <th>7</th>\n",
       "      <td>6.649337</td>\n",
       "      <td>1695</td>\n",
       "      <td>4.650</td>\n",
       "    </tr>\n",
       "    <tr>\n",
       "      <th>1</th>\n",
       "      <td>6.668233</td>\n",
       "      <td>1500</td>\n",
       "      <td>4.600</td>\n",
       "    </tr>\n",
       "    <tr>\n",
       "      <th>8</th>\n",
       "      <td>6.350233</td>\n",
       "      <td>1744</td>\n",
       "      <td>4.570</td>\n",
       "    </tr>\n",
       "    <tr>\n",
       "      <th>10</th>\n",
       "      <td>6.235013</td>\n",
       "      <td>2127</td>\n",
       "      <td>4.570</td>\n",
       "    </tr>\n",
       "    <tr>\n",
       "      <th>5</th>\n",
       "      <td>6.600435</td>\n",
       "      <td>1274</td>\n",
       "      <td>4.515</td>\n",
       "    </tr>\n",
       "    <tr>\n",
       "      <th>6</th>\n",
       "      <td>6.310269</td>\n",
       "      <td>1760</td>\n",
       "      <td>4.400</td>\n",
       "    </tr>\n",
       "  </tbody>\n",
       "</table>\n",
       "</div>"
      ],
      "text/plain": [
       "           mean  count  median\n",
       "month                         \n",
       "4      6.737198   2379   4.800\n",
       "9      6.825470   1981   4.700\n",
       "11     6.461363   2371   4.700\n",
       "12     7.011731   1641   4.700\n",
       "2      6.468500   2640   4.650\n",
       "3      6.359275   2587   4.650\n",
       "7      6.649337   1695   4.650\n",
       "1      6.668233   1500   4.600\n",
       "8      6.350233   1744   4.570\n",
       "10     6.235013   2127   4.570\n",
       "5      6.600435   1274   4.515\n",
       "6      6.310269   1760   4.400"
      ]
     },
     "execution_count": 33,
     "metadata": {},
     "output_type": "execute_result"
    }
   ],
   "source": [
    "pivot_month.sort_values('median', ascending = False)"
   ]
  },
  {
   "cell_type": "markdown",
   "metadata": {},
   "source": [
    "**Вывод:**\n",
    "- чем ближе ко вторнику тем выше стоимость, по субботам стоимость самая низкая\n",
    "- самая высокая стоимость метра в апреле и августе, а низкая в мае и июне. Могу предположить, что это сезонность.\n",
    "- с 2014 до 2016 года цена падала, но далее снова пошла на вверх."
   ]
  },
  {
   "cell_type": "code",
   "execution_count": 34,
   "metadata": {},
   "outputs": [
    {
     "data": {
      "text/plain": [
       "<seaborn.axisgrid.PairGrid at 0x7f82f37782b0>"
      ]
     },
     "execution_count": 34,
     "metadata": {},
     "output_type": "execute_result"
    },
    {
     "data": {
      "image/png": "[encoded data removed]",
      "text/plain": [
       "<Figure size 720x720 with 20 Axes>"
      ]
     },
     "metadata": {
      "needs_background": "light"
     },
     "output_type": "display_data"
    }
   ],
   "source": [
    "#Посмотрим корреляцию Пирсона по данным параметрам.\n",
    "sns.pairplot(df[['last_price', 'total_area', 'rooms', 'cityCenters_nearest']].corr())"
   ]
  },
  {
   "cell_type": "markdown",
   "metadata": {},
   "source": [
    "**Выберем 10 населённых пунктов с наибольшим числом объявлений. Посчитаем среднюю цену квадратного метра в этих населённых пунктах. Выделим населённые пункты с самой высокой и низкой стоимостью жилья.**"
   ]
  },
  {
   "cell_type": "code",
   "execution_count": 35,
   "metadata": {},
   "outputs": [
    {
     "data": {
      "text/html": [
       "<div>\n",
       "<style scoped>\n",
       "    .dataframe tbody tr th:only-of-type {\n",
       "        vertical-align: middle;\n",
       "    }\n",
       "\n",
       "    .dataframe tbody tr th {\n",
       "        vertical-align: top;\n",
       "    }\n",
       "\n",
       "    .dataframe thead th {\n",
       "        text-align: right;\n",
       "    }\n",
       "</style>\n",
       "<table border=\"1\" class=\"dataframe\">\n",
       "  <thead>\n",
       "    <tr style=\"text-align: right;\">\n",
       "      <th></th>\n",
       "      <th>count</th>\n",
       "      <th>mean</th>\n",
       "    </tr>\n",
       "    <tr>\n",
       "      <th>locality_name</th>\n",
       "      <th></th>\n",
       "      <th></th>\n",
       "    </tr>\n",
       "  </thead>\n",
       "  <tbody>\n",
       "    <tr>\n",
       "      <th>Санкт-Петербург</th>\n",
       "      <td>15721</td>\n",
       "      <td>8.062507</td>\n",
       "    </tr>\n",
       "    <tr>\n",
       "      <th>посёлок Мурино</th>\n",
       "      <td>522</td>\n",
       "      <td>3.672049</td>\n",
       "    </tr>\n",
       "    <tr>\n",
       "      <th>посёлок Шушары</th>\n",
       "      <td>440</td>\n",
       "      <td>4.108082</td>\n",
       "    </tr>\n",
       "    <tr>\n",
       "      <th>Всеволожск</th>\n",
       "      <td>398</td>\n",
       "      <td>3.789068</td>\n",
       "    </tr>\n",
       "    <tr>\n",
       "      <th>Пушкин</th>\n",
       "      <td>369</td>\n",
       "      <td>6.469036</td>\n",
       "    </tr>\n",
       "    <tr>\n",
       "      <th>Колпино</th>\n",
       "      <td>338</td>\n",
       "      <td>3.964021</td>\n",
       "    </tr>\n",
       "    <tr>\n",
       "      <th>посёлок Парголово</th>\n",
       "      <td>327</td>\n",
       "      <td>4.488075</td>\n",
       "    </tr>\n",
       "    <tr>\n",
       "      <th>Гатчина</th>\n",
       "      <td>307</td>\n",
       "      <td>3.488337</td>\n",
       "    </tr>\n",
       "    <tr>\n",
       "      <th>деревня Кудрово</th>\n",
       "      <td>299</td>\n",
       "      <td>4.234158</td>\n",
       "    </tr>\n",
       "    <tr>\n",
       "      <th>Выборг</th>\n",
       "      <td>237</td>\n",
       "      <td>3.250983</td>\n",
       "    </tr>\n",
       "  </tbody>\n",
       "</table>\n",
       "</div>"
      ],
      "text/plain": [
       "                   count      mean\n",
       "locality_name                     \n",
       "Санкт-Петербург    15721  8.062507\n",
       "посёлок Мурино       522  3.672049\n",
       "посёлок Шушары       440  4.108082\n",
       "Всеволожск           398  3.789068\n",
       "Пушкин               369  6.469036\n",
       "Колпино              338  3.964021\n",
       "посёлок Парголово    327  4.488075\n",
       "Гатчина              307  3.488337\n",
       "деревня Кудрово      299  4.234158\n",
       "Выборг               237  3.250983"
      ]
     },
     "execution_count": 35,
     "metadata": {},
     "output_type": "execute_result"
    }
   ],
   "source": [
    "#Сделаем сводную таблицу и отсортируем их.\n",
    "locality_table = df.pivot_table(index = 'locality_name', values = 'last_price', aggfunc=['count', 'mean'])\n",
    "locality_table.columns = ['count', 'mean']\n",
    "locality_table = locality_table.sort_values('count', ascending = False).head(10)\n",
    "locality_table"
   ]
  },
  {
   "cell_type": "code",
   "execution_count": 36,
   "metadata": {},
   "outputs": [
    {
     "data": {
      "text/plain": [
       "<AxesSubplot:xlabel='locality_name'>"
      ]
     },
     "execution_count": 36,
     "metadata": {},
     "output_type": "execute_result"
    },
    {
     "data": {
      "image/png": "[encoded data removed]",
      "text/plain": [
       "<Figure size 1080x360 with 1 Axes>"
      ]
     },
     "metadata": {
      "needs_background": "light"
     },
     "output_type": "display_data"
    }
   ],
   "source": [
    "locality_table.plot(y = 'mean', figsize=(15,5))"
   ]
  },
  {
   "cell_type": "code",
   "execution_count": 37,
   "metadata": {},
   "outputs": [
    {
     "data": {
      "text/html": [
       "<div>\n",
       "<style scoped>\n",
       "    .dataframe tbody tr th:only-of-type {\n",
       "        vertical-align: middle;\n",
       "    }\n",
       "\n",
       "    .dataframe tbody tr th {\n",
       "        vertical-align: top;\n",
       "    }\n",
       "\n",
       "    .dataframe thead th {\n",
       "        text-align: right;\n",
       "    }\n",
       "</style>\n",
       "<table border=\"1\" class=\"dataframe\">\n",
       "  <thead>\n",
       "    <tr style=\"text-align: right;\">\n",
       "      <th></th>\n",
       "      <th>count</th>\n",
       "      <th>mean</th>\n",
       "    </tr>\n",
       "    <tr>\n",
       "      <th>locality_name</th>\n",
       "      <th></th>\n",
       "      <th></th>\n",
       "    </tr>\n",
       "  </thead>\n",
       "  <tbody>\n",
       "    <tr>\n",
       "      <th>Выборг</th>\n",
       "      <td>237</td>\n",
       "      <td>3.250983</td>\n",
       "    </tr>\n",
       "  </tbody>\n",
       "</table>\n",
       "</div>"
      ],
      "text/plain": [
       "               count      mean\n",
       "locality_name                 \n",
       "Выборг           237  3.250983"
      ]
     },
     "execution_count": 37,
     "metadata": {},
     "output_type": "execute_result"
    }
   ],
   "source": [
    "#максимальная стоимость\n",
    "locality_table[locality_table['mean']==locality_table['mean'].max()]\n",
    "#минимальная стоимость\n",
    "locality_table[locality_table['mean']==locality_table['mean'].min()]"
   ]
  },
  {
   "cell_type": "markdown",
   "metadata": {},
   "source": [
    "**Вывод:** \n",
    "\n",
    "Самая высокая стоимость: Питер\n",
    "\n",
    "Самая низкая стоимость: Выборг"
   ]
  },
  {
   "cell_type": "markdown",
   "metadata": {},
   "source": [
    "**Изучим предложения квартир: для каждой квартиры есть информация о расстоянии до центра. Выделим квартиры в Санкт-Петербурге (locality_name). Выясним, какая область входит в центр.  Построем график: он должен показывать, как цена зависит от удалённости от центра.**"
   ]
  },
  {
   "cell_type": "code",
   "execution_count": 38,
   "metadata": {},
   "outputs": [
    {
     "data": {
      "text/html": [
       "<div>\n",
       "<style scoped>\n",
       "    .dataframe tbody tr th:only-of-type {\n",
       "        vertical-align: middle;\n",
       "    }\n",
       "\n",
       "    .dataframe tbody tr th {\n",
       "        vertical-align: top;\n",
       "    }\n",
       "\n",
       "    .dataframe thead th {\n",
       "        text-align: right;\n",
       "    }\n",
       "</style>\n",
       "<table border=\"1\" class=\"dataframe\">\n",
       "  <thead>\n",
       "    <tr style=\"text-align: right;\">\n",
       "      <th></th>\n",
       "      <th>last_price</th>\n",
       "    </tr>\n",
       "    <tr>\n",
       "      <th>distance_to_center</th>\n",
       "      <th></th>\n",
       "    </tr>\n",
       "  </thead>\n",
       "  <tbody>\n",
       "    <tr>\n",
       "      <th>0</th>\n",
       "      <td>23.442315</td>\n",
       "    </tr>\n",
       "    <tr>\n",
       "      <th>1</th>\n",
       "      <td>18.850852</td>\n",
       "    </tr>\n",
       "    <tr>\n",
       "      <th>2</th>\n",
       "      <td>16.163314</td>\n",
       "    </tr>\n",
       "    <tr>\n",
       "      <th>3</th>\n",
       "      <td>13.436831</td>\n",
       "    </tr>\n",
       "    <tr>\n",
       "      <th>4</th>\n",
       "      <td>13.632025</td>\n",
       "    </tr>\n",
       "    <tr>\n",
       "      <th>5</th>\n",
       "      <td>15.306121</td>\n",
       "    </tr>\n",
       "    <tr>\n",
       "      <th>6</th>\n",
       "      <td>14.389106</td>\n",
       "    </tr>\n",
       "    <tr>\n",
       "      <th>7</th>\n",
       "      <td>12.797674</td>\n",
       "    </tr>\n",
       "    <tr>\n",
       "      <th>8</th>\n",
       "      <td>8.445272</td>\n",
       "    </tr>\n",
       "    <tr>\n",
       "      <th>9</th>\n",
       "      <td>6.426055</td>\n",
       "    </tr>\n",
       "    <tr>\n",
       "      <th>10</th>\n",
       "      <td>6.376092</td>\n",
       "    </tr>\n",
       "    <tr>\n",
       "      <th>11</th>\n",
       "      <td>5.977039</td>\n",
       "    </tr>\n",
       "    <tr>\n",
       "      <th>12</th>\n",
       "      <td>5.972820</td>\n",
       "    </tr>\n",
       "    <tr>\n",
       "      <th>13</th>\n",
       "      <td>6.022927</td>\n",
       "    </tr>\n",
       "    <tr>\n",
       "      <th>14</th>\n",
       "      <td>5.769469</td>\n",
       "    </tr>\n",
       "    <tr>\n",
       "      <th>15</th>\n",
       "      <td>5.545776</td>\n",
       "    </tr>\n",
       "    <tr>\n",
       "      <th>16</th>\n",
       "      <td>5.527928</td>\n",
       "    </tr>\n",
       "    <tr>\n",
       "      <th>17</th>\n",
       "      <td>4.865574</td>\n",
       "    </tr>\n",
       "    <tr>\n",
       "      <th>18</th>\n",
       "      <td>5.334929</td>\n",
       "    </tr>\n",
       "    <tr>\n",
       "      <th>19</th>\n",
       "      <td>4.678756</td>\n",
       "    </tr>\n",
       "    <tr>\n",
       "      <th>20</th>\n",
       "      <td>6.365864</td>\n",
       "    </tr>\n",
       "    <tr>\n",
       "      <th>21</th>\n",
       "      <td>5.183239</td>\n",
       "    </tr>\n",
       "    <tr>\n",
       "      <th>22</th>\n",
       "      <td>5.425513</td>\n",
       "    </tr>\n",
       "    <tr>\n",
       "      <th>23</th>\n",
       "      <td>4.126867</td>\n",
       "    </tr>\n",
       "    <tr>\n",
       "      <th>24</th>\n",
       "      <td>3.862235</td>\n",
       "    </tr>\n",
       "    <tr>\n",
       "      <th>25</th>\n",
       "      <td>4.014913</td>\n",
       "    </tr>\n",
       "    <tr>\n",
       "      <th>26</th>\n",
       "      <td>3.575000</td>\n",
       "    </tr>\n",
       "    <tr>\n",
       "      <th>27</th>\n",
       "      <td>8.300000</td>\n",
       "    </tr>\n",
       "    <tr>\n",
       "      <th>28</th>\n",
       "      <td>4.910500</td>\n",
       "    </tr>\n",
       "    <tr>\n",
       "      <th>29</th>\n",
       "      <td>3.833333</td>\n",
       "    </tr>\n",
       "  </tbody>\n",
       "</table>\n",
       "</div>"
      ],
      "text/plain": [
       "                    last_price\n",
       "distance_to_center            \n",
       "0                    23.442315\n",
       "1                    18.850852\n",
       "2                    16.163314\n",
       "3                    13.436831\n",
       "4                    13.632025\n",
       "5                    15.306121\n",
       "6                    14.389106\n",
       "7                    12.797674\n",
       "8                     8.445272\n",
       "9                     6.426055\n",
       "10                    6.376092\n",
       "11                    5.977039\n",
       "12                    5.972820\n",
       "13                    6.022927\n",
       "14                    5.769469\n",
       "15                    5.545776\n",
       "16                    5.527928\n",
       "17                    4.865574\n",
       "18                    5.334929\n",
       "19                    4.678756\n",
       "20                    6.365864\n",
       "21                    5.183239\n",
       "22                    5.425513\n",
       "23                    4.126867\n",
       "24                    3.862235\n",
       "25                    4.014913\n",
       "26                    3.575000\n",
       "27                    8.300000\n",
       "28                    4.910500\n",
       "29                    3.833333"
      ]
     },
     "execution_count": 38,
     "metadata": {},
     "output_type": "execute_result"
    },
    {
     "data": {
      "image/png": "[encoded data removed]",
      "text/plain": [
       "<Figure size 432x288 with 1 Axes>"
      ]
     },
     "metadata": {
      "needs_background": "light"
     },
     "output_type": "display_data"
    }
   ],
   "source": [
    "#Создаем новый столбец и делим данные на 1000, чтобы были км, а не м.\n",
    "#Так же заменим пропуски и приведем все к типу int, без этого с данными крайне не удобно работать.\n",
    "df['distance_to_center'] = df['cityCenters_nearest']/1000\n",
    "df['distance_to_center']= df['distance_to_center'].fillna(999999)\n",
    "df['distance_to_center'] = df['distance_to_center'].astype('int')\n",
    "distance_to_center = df.query('locality_name == \"Санкт-Петербург\" and distance_to_center !=999999').pivot_table(index = 'distance_to_center', values = 'last_price', aggfunc = 'mean')\n",
    "distance_to_center.plot()\n",
    "distance_to_center"
   ]
  },
  {
   "cell_type": "markdown",
   "metadata": {},
   "source": [
    "**Вывод**\n",
    "\n",
    "Я бы взял радиус в 10 км от центра, есть небольшой всплески и дальше, но возможно это какие то элитные районы."
   ]
  },
  {
   "cell_type": "markdown",
   "metadata": {},
   "source": [
    "**Выделим сегмент квартир в центре. \n",
    "Проанализируем эту территорию и изучим следующие параметры: площадь, цена, число комнат, высота потолков. \n",
    "Также выделим факторы, которые влияют на стоимость квартиры (число комнат, этаж, удалённость от центра, дата размещения объявления).**"
   ]
  },
  {
   "cell_type": "code",
   "execution_count": 39,
   "metadata": {},
   "outputs": [
    {
     "data": {
      "text/plain": [
       "0.3634802991255781"
      ]
     },
     "execution_count": 39,
     "metadata": {},
     "output_type": "execute_result"
    },
    {
     "data": {
      "image/png": "[encoded data removed]",
      "text/plain": [
       "<Figure size 432x288 with 1 Axes>"
      ]
     },
     "metadata": {
      "needs_background": "light"
     },
     "output_type": "display_data"
    }
   ],
   "source": [
    "#выделим квартиры в центре, беря за радиус 10 км\n",
    "spb_centr = df.query('distance_to_center <= 10 and locality_name == \"Санкт-Петербург\"')\n",
    "\n",
    "#Сводная таблица и график по стоимости квадратного метра от количества комнат\n",
    "spb_centr_rooms = spb_centr.pivot_table(index = 'rooms', values = 'last_price', aggfunc = ['mean', 'count', 'median'])\n",
    "spb_centr_rooms.columns = ['mean', 'count', 'median']\n",
    "spb_centr_rooms.query('count > 50').plot(y = 'median')\n",
    "\n",
    "spb_centr['rooms'].corr(spb_centr['last_price'])"
   ]
  },
  {
   "cell_type": "code",
   "execution_count": 40,
   "metadata": {},
   "outputs": [
    {
     "data": {
      "text/plain": [
       "count    5984.000000\n",
       "mean       11.795395\n",
       "std        20.049281\n",
       "min         0.012190\n",
       "25%         5.200000\n",
       "50%         7.550000\n",
       "75%        12.000000\n",
       "max       763.000000\n",
       "Name: last_price, dtype: float64"
      ]
     },
     "execution_count": 40,
     "metadata": {},
     "output_type": "execute_result"
    }
   ],
   "source": [
    "spb_centr['last_price'].describe()"
   ]
  },
  {
   "cell_type": "markdown",
   "metadata": {},
   "source": [
    "**Вывод:**\n",
    "в центре чем меньше количество комнат, тем дороже стоимость одного квадратного метра, корреляция и общий вывод соотвестует общей выборке"
   ]
  },
  {
   "cell_type": "code",
   "execution_count": 41,
   "metadata": {},
   "outputs": [
    {
     "data": {
      "text/plain": [
       "-0.18715026399048107"
      ]
     },
     "execution_count": 41,
     "metadata": {},
     "output_type": "execute_result"
    },
    {
     "data": {
      "image/png": "[encoded data removed]",
      "text/plain": [
       "<Figure size 432x288 with 1 Axes>"
      ]
     },
     "metadata": {
      "needs_background": "light"
     },
     "output_type": "display_data"
    }
   ],
   "source": [
    "#Cоставим сводную таблицу и график по стоимости квадратного метра от удаленности от центра.\n",
    "spb_centr.plot(kind = 'scatter', y = 'last_price', x = 'cityCenters_nearest', alpha = 0.2)\n",
    "spb_centr['cityCenters_nearest'].corr(spb_centr['last_price'])"
   ]
  },
  {
   "cell_type": "markdown",
   "metadata": {},
   "source": [
    "**Вывод:**\n",
    "Никаких особенностей и зависимостей не видно, возможно связано с тем что у нас выборка уже и так по центру, корреляция стала чуть больше но в целом подтверждает выводы которые видим на графике"
   ]
  },
  {
   "cell_type": "code",
   "execution_count": 42,
   "metadata": {},
   "outputs": [
    {
     "data": {
      "text/html": [
       "<div>\n",
       "<style scoped>\n",
       "    .dataframe tbody tr th:only-of-type {\n",
       "        vertical-align: middle;\n",
       "    }\n",
       "\n",
       "    .dataframe tbody tr th {\n",
       "        vertical-align: top;\n",
       "    }\n",
       "\n",
       "    .dataframe thead th {\n",
       "        text-align: right;\n",
       "    }\n",
       "</style>\n",
       "<table border=\"1\" class=\"dataframe\">\n",
       "  <thead>\n",
       "    <tr style=\"text-align: right;\">\n",
       "      <th></th>\n",
       "      <th>mean</th>\n",
       "      <th>count</th>\n",
       "      <th>median</th>\n",
       "    </tr>\n",
       "    <tr>\n",
       "      <th>floor_cat</th>\n",
       "      <th></th>\n",
       "      <th></th>\n",
       "      <th></th>\n",
       "    </tr>\n",
       "  </thead>\n",
       "  <tbody>\n",
       "    <tr>\n",
       "      <th>первый</th>\n",
       "      <td>7.695966</td>\n",
       "      <td>650</td>\n",
       "      <td>5.795</td>\n",
       "    </tr>\n",
       "    <tr>\n",
       "      <th>последний</th>\n",
       "      <td>15.226311</td>\n",
       "      <td>931</td>\n",
       "      <td>8.000</td>\n",
       "    </tr>\n",
       "  </tbody>\n",
       "</table>\n",
       "</div>"
      ],
      "text/plain": [
       "                mean  count  median\n",
       "floor_cat                          \n",
       "первый      7.695966    650   5.795\n",
       "последний  15.226311    931   8.000"
      ]
     },
     "execution_count": 42,
     "metadata": {},
     "output_type": "execute_result"
    },
    {
     "data": {
      "image/png": "[encoded data removed]",
      "text/plain": [
       "<Figure size 432x288 with 1 Axes>"
      ]
     },
     "metadata": {
      "needs_background": "light"
     },
     "output_type": "display_data"
    }
   ],
   "source": [
    "#Cоставим сводную таблицу и график по стоимости квадратного метра от этажа.\n",
    "spb_centr_floor = spb_centr.query('floor_cat != \"другой\"').pivot_table(index = 'floor_cat', values = 'last_price', aggfunc = ['mean', 'count', 'median'])\n",
    "spb_centr_floor.columns = ['mean', 'count', 'median']\n",
    "spb_centr_floor.plot(y = 'median')\n",
    "spb_centr_floor\n"
   ]
  },
  {
   "cell_type": "markdown",
   "metadata": {},
   "source": [
    "**Вывод:**\n",
    "Никаких особенностей и отличий от основного исследования не видно."
   ]
  },
  {
   "cell_type": "code",
   "execution_count": 43,
   "metadata": {},
   "outputs": [
    {
     "data": {
      "text/plain": [
       "<AxesSubplot:xlabel='year'>"
      ]
     },
     "execution_count": 43,
     "metadata": {},
     "output_type": "execute_result"
    },
    {
     "data": {
      "image/png": "[encoded data removed]",
      "text/plain": [
       "<Figure size 432x288 with 1 Axes>"
      ]
     },
     "metadata": {
      "needs_background": "light"
     },
     "output_type": "display_data"
    },
    {
     "data": {
      "image/png": "[encoded data removed]",
      "text/plain": [
       "<Figure size 432x288 with 1 Axes>"
      ]
     },
     "metadata": {
      "needs_background": "light"
     },
     "output_type": "display_data"
    },
    {
     "data": {
      "image/png": "[encoded data removed]",
      "text/plain": [
       "<Figure size 432x288 with 1 Axes>"
      ]
     },
     "metadata": {
      "needs_background": "light"
     },
     "output_type": "display_data"
    }
   ],
   "source": [
    "#Cоставим сводную таблицу и график по стоимости квадратного метра от дня недели размещения\n",
    "spb_centr_weekday = spb_centr.pivot_table(index = 'weekday', values = 'last_price', aggfunc = ['mean', 'count', 'median'])\n",
    "spb_centr_weekday.columns = ['mean', 'count', 'median']\n",
    "spb_centr_weekday.plot(y = 'median')\n",
    "\n",
    "#Cоставим сводную таблицу и график по стоимости квадратного метра от месяца размещения\n",
    "spb_centr_month = spb_centr.pivot_table(index = 'month', values = 'last_price', aggfunc = ['mean', 'count', 'median'])\n",
    "spb_centr_month.columns = ['mean', 'count', 'median']\n",
    "spb_centr_month.plot(y = 'median')\n",
    "\n",
    "\n",
    "#Cоставим сводную таблицу и график по стоимости квадратного метра от года размещения\n",
    "spb_centr_year = spb_centr.pivot_table(index = 'year', values = 'last_price', aggfunc = ['mean', 'count', 'median'])\n",
    "spb_centr_year.columns = ['mean', 'count', 'median']\n",
    "spb_centr_year.plot(y = 'median')"
   ]
  },
  {
   "cell_type": "markdown",
   "metadata": {},
   "source": [
    "**Вывод:**\n",
    "- В отличии от анализа всего графика тут минимальные цены во понедельник и среду, самые высокие в выходные \n",
    "- В месяцах и годах ситуация в центре не отличается от общей картины"
   ]
  },
  {
   "cell_type": "code",
   "execution_count": 44,
   "metadata": {},
   "outputs": [
    {
     "data": {
      "text/plain": [
       "0.05794691687347738"
      ]
     },
     "execution_count": 44,
     "metadata": {},
     "output_type": "execute_result"
    },
    {
     "data": {
      "image/png": "[encoded data removed]",
      "text/plain": [
       "<Figure size 432x288 with 1 Axes>"
      ]
     },
     "metadata": {
      "needs_background": "light"
     },
     "output_type": "display_data"
    }
   ],
   "source": [
    "spb_centr_high = spb_centr.pivot_table(index = 'ceiling_height', values = 'last_price', aggfunc = ['mean', 'count', 'median'])\n",
    "spb_centr_high.columns = ['mean', 'count', 'median']\n",
    "spb_centr_high.query('count > 50').plot(y = 'median')\n",
    "spb_centr['ceiling_height'].corr(spb_centr['last_price'])"
   ]
  },
  {
   "cell_type": "markdown",
   "metadata": {},
   "source": [
    "**Вывод:**\n",
    "Квартиры с самыми высокими ценами за метр квадратный, в большинстве своем, имеют потолки от 2,75 до 3,5м метров."
   ]
  },
  {
   "cell_type": "code",
   "execution_count": 45,
   "metadata": {},
   "outputs": [
    {
     "data": {
      "text/plain": [
       "<seaborn.axisgrid.PairGrid at 0x7f82f32950a0>"
      ]
     },
     "execution_count": 45,
     "metadata": {},
     "output_type": "execute_result"
    },
    {
     "data": {
      "image/png": "[encoded data removed]",
      "text/plain": [
       "<Figure size 720x720 with 20 Axes>"
      ]
     },
     "metadata": {
      "needs_background": "light"
     },
     "output_type": "display_data"
    }
   ],
   "source": [
    "#Посмотрим корреляцию Пирсона по данным параметрам.\n",
    "sns.pairplot(spb_centr[['last_price', 'total_area', 'rooms', 'ceiling_height']].corr())"
   ]
  },
  {
   "cell_type": "markdown",
   "metadata": {},
   "source": [
    "## Общий вывод"
   ]
  },
  {
   "cell_type": "markdown",
   "metadata": {},
   "source": [
    "Мы обработали полученные данные, заменили пропуски, заменили типы данных на необходимые для комфортного анализа. Посчитали и добавили в таблицу цену квадратного метра жилья, вывели из даты дни недели, месяцы и года размещения объявлений, добавили категории по этажам квартир. Изучили следующие параметры на наличие выбивающихся значений - площадь, цена, число комнат, высота потолков. Были определены аномалии в данных параметрах. Проведя обработку данных, мы обнаружили, что нормальные сроки продажи квартир от 1 до 600 дней. Мы выявили, что на стоимость квадратного метра квартиры больше всего влияют количество комнат, этаж квартиры, близость к центру. Незначительно на стоимость квадратного метра влияют день, месяц, год размещения и общая площадь. Нужно учитывать, что в 2016-2017 годах стоимость квартир в среднем по рынку была ниже на 10-20 %. Судя, по резкости изменения цен в зависимости от удаления от центра СПБ, мы выявили центр города в радиусе 10 километров.\n",
    "\n",
    "Для определения рыночной стоимости объектов недвижимости важны следующие параметры:\n",
    "\n",
    "- общая площадь квартиры\n",
    "- расстояние до центра города (центр города огранчен окружностью радиусом 10 км)\n",
    "- число комнат и этаж квартиры (чем ближе к центру, тем эти факторы весомее, по крайне мере первый)\n",
    "\n",
    "Средняя стоимость исходя из полученных и изученных данных, учитывая указанные факторы выше:\n",
    "- по общей выборке около 6.5 млн рублей\n",
    "- по выборке в радиусе 10 км от центра около 11 млн рублей"
   ]
  },
  {
   "cell_type": "markdown",
   "metadata": {},
   "source": [
    "## Чек-лист готовности проекта\n",
    "\n",
    "Поставьте 'x' в выполненных пунктах. Далее нажмите Shift+Enter."
   ]
  },
  {
   "cell_type": "markdown",
   "metadata": {},
   "source": [
    "- [x]  открыт файл\n",
    "- [x]  файлы изучены (выведены первые строки, метод `info()`)\n",
    "- [x]  определены пропущенные значения\n",
    "- [x]  заполнены пропущенные значения\n",
    "- [x]  есть пояснение, какие пропущенные значения обнаружены\n",
    "- [x]  изменены типы данных\n",
    "- [x]  есть пояснение, в каких столбцах изменены типы и почему\n",
    "- [x]  посчитано и добавлено в таблицу: цена квадратного метра\n",
    "- [x]  посчитано и добавлено в таблицу: день недели, месяц и год публикации объявления\n",
    "- [x]  посчитано и добавлено в таблицу: этаж квартиры; варианты — первый, последний, другой\n",
    "- [x]  посчитано и добавлено в таблицу: соотношение жилой и общей площади, а также отношение площади кухни к общей\n",
    "- [x]  изучены следующие параметры: площадь, цена, число комнат, высота потолков\n",
    "- [x]  построены гистограммы для каждого параметра\n",
    "- [x]  выполнено задание: «Изучите время продажи квартиры. Постройте гистограмму. Посчитайте среднее и медиану. Опишите, сколько обычно занимает продажа. Когда можно считать, что продажи прошли очень быстро, а когда необычно долго?»\n",
    "- [x]  выполнено задание: «Уберите редкие и выбивающиеся значения. Опишите, какие особенности обнаружили».\n",
    "- [x]  выполнено задание: «Какие факторы больше всего влияют на стоимость квартиры? Изучите, зависит ли цена от квадратного метра, числа комнат, этажа (первого или последнего), удалённости от центра. Также изучите зависимость от даты размещения: дня недели, месяца и года». \n",
    "- [x]  выполнено задание: «Выберите 10 населённых пунктов с наибольшим числом объявлений. Посчитайте среднюю цену квадратного метра в этих населённых пунктах. Выделите населённые пункты с самой высокой и низкой стоимостью жилья. Эти данные можно найти по имени в столбце `locality_name`».\n",
    "- [x]  выполнено задание: «Изучите предложения квартир: для каждой квартиры есть информация о расстоянии до центра. Выделите квартиры в Санкт-Петербурге (`locality_name`). Ваша задача — выяснить, какая область входит в центр. Создайте столбец с расстоянием до центра в километрах: округлите до целых значений. После этого посчитайте среднюю цену для каждого километра. Постройте график: он должен показывать, как цена зависит от удалённости от центра. Определите границу, где график сильно меняется — это и будет центральная зона».\n",
    "- [x]  выполнено задание: «Выделите сегмент квартир в центре. Проанализируйте эту территорию и изучите следующие параметры: площадь, цена, число комнат, высота потолков. Также выделите факторы, которые влияют на стоимость квартиры (число комнат, этаж, удалённость от центра, дата размещения объявления). Сделайте выводы. Отличаются ли они от общих выводов по всей базе?»\n",
    "- [x]  в каждом этапе есть выводы\n",
    "- [x]  есть общий вывод"
   ]
  },
  {
   "cell_type": "code",
   "execution_count": null,
   "metadata": {},
   "outputs": [],
   "source": []
  }
 ],
 "metadata": {
  "ExecuteTimeLog": [
   {
    "duration": 1555,
    "start_time": "2022-04-18T09:56:20.973Z"
   },
   {
    "duration": 80,
    "start_time": "2022-04-18T10:18:34.010Z"
   },
   {
    "duration": 85,
    "start_time": "2022-04-18T10:19:00.887Z"
   },
   {
    "duration": 1377,
    "start_time": "2022-04-18T10:19:09.964Z"
   },
   {
    "duration": 81,
    "start_time": "2022-04-18T10:21:59.209Z"
   },
   {
    "duration": 1368,
    "start_time": "2022-04-18T10:22:04.487Z"
   },
   {
    "duration": 1366,
    "start_time": "2022-04-18T10:22:24.575Z"
   },
   {
    "duration": 1373,
    "start_time": "2022-04-18T10:22:49.873Z"
   },
   {
    "duration": 14,
    "start_time": "2022-04-18T10:22:51.248Z"
   },
   {
    "duration": 1302,
    "start_time": "2022-04-18T10:23:22.432Z"
   },
   {
    "duration": 14,
    "start_time": "2022-04-18T10:23:23.736Z"
   },
   {
    "duration": 469,
    "start_time": "2022-04-18T10:25:32.920Z"
   },
   {
    "duration": 13,
    "start_time": "2022-04-18T10:25:33.391Z"
   },
   {
    "duration": 541,
    "start_time": "2022-04-18T10:26:13.152Z"
   },
   {
    "duration": 17,
    "start_time": "2022-04-18T10:26:13.696Z"
   },
   {
    "duration": 37,
    "start_time": "2022-04-18T10:28:22.209Z"
   },
   {
    "duration": 18,
    "start_time": "2022-04-18T11:27:51.870Z"
   },
   {
    "duration": 6,
    "start_time": "2022-04-18T11:28:05.096Z"
   },
   {
    "duration": 6,
    "start_time": "2022-04-18T11:28:25.629Z"
   },
   {
    "duration": 636,
    "start_time": "2022-04-18T13:09:49.126Z"
   },
   {
    "duration": 16,
    "start_time": "2022-04-18T13:09:49.765Z"
   },
   {
    "duration": 36,
    "start_time": "2022-04-18T13:09:49.783Z"
   },
   {
    "duration": 5,
    "start_time": "2022-04-18T13:09:49.821Z"
   },
   {
    "duration": 680,
    "start_time": "2022-04-18T13:10:35.039Z"
   },
   {
    "duration": 16,
    "start_time": "2022-04-18T13:10:35.721Z"
   },
   {
    "duration": 32,
    "start_time": "2022-04-18T13:10:35.739Z"
   },
   {
    "duration": 32,
    "start_time": "2022-04-18T13:10:35.773Z"
   },
   {
    "duration": 541,
    "start_time": "2022-04-18T13:10:48.856Z"
   },
   {
    "duration": 15,
    "start_time": "2022-04-18T13:10:49.400Z"
   },
   {
    "duration": 38,
    "start_time": "2022-04-18T13:10:49.417Z"
   },
   {
    "duration": 13,
    "start_time": "2022-04-18T13:10:49.457Z"
   },
   {
    "duration": 6,
    "start_time": "2022-04-18T13:27:50.498Z"
   },
   {
    "duration": 518,
    "start_time": "2022-04-18T13:29:16.577Z"
   },
   {
    "duration": 17,
    "start_time": "2022-04-18T13:29:17.097Z"
   },
   {
    "duration": 32,
    "start_time": "2022-04-18T13:29:17.115Z"
   },
   {
    "duration": 5,
    "start_time": "2022-04-18T13:29:17.150Z"
   },
   {
    "duration": 41,
    "start_time": "2022-04-18T13:29:17.157Z"
   },
   {
    "duration": 6,
    "start_time": "2022-04-18T13:29:30.353Z"
   },
   {
    "duration": 483,
    "start_time": "2022-04-18T13:31:20.206Z"
   },
   {
    "duration": 14,
    "start_time": "2022-04-18T13:31:20.691Z"
   },
   {
    "duration": 68,
    "start_time": "2022-04-18T13:31:20.707Z"
   },
   {
    "duration": 5,
    "start_time": "2022-04-18T13:31:20.777Z"
   },
   {
    "duration": 20,
    "start_time": "2022-04-18T13:31:20.784Z"
   },
   {
    "duration": 27,
    "start_time": "2022-04-18T13:31:20.806Z"
   },
   {
    "duration": 13,
    "start_time": "2022-04-18T13:31:20.834Z"
   },
   {
    "duration": 13,
    "start_time": "2022-04-18T13:31:20.849Z"
   },
   {
    "duration": 10,
    "start_time": "2022-04-18T13:31:20.864Z"
   },
   {
    "duration": 8,
    "start_time": "2022-04-18T13:31:20.876Z"
   },
   {
    "duration": 20,
    "start_time": "2022-04-18T13:31:20.886Z"
   },
   {
    "duration": 10,
    "start_time": "2022-04-18T13:31:20.907Z"
   },
   {
    "duration": 20,
    "start_time": "2022-04-18T13:31:20.918Z"
   },
   {
    "duration": 25,
    "start_time": "2022-04-18T13:31:20.939Z"
   },
   {
    "duration": 20,
    "start_time": "2022-04-18T13:31:20.966Z"
   },
   {
    "duration": 7,
    "start_time": "2022-04-18T13:36:54.979Z"
   },
   {
    "duration": 7,
    "start_time": "2022-04-18T13:45:36.238Z"
   },
   {
    "duration": 6,
    "start_time": "2022-04-18T13:48:28.755Z"
   },
   {
    "duration": 6,
    "start_time": "2022-04-18T13:48:51.302Z"
   },
   {
    "duration": 8,
    "start_time": "2022-04-18T13:49:09.840Z"
   },
   {
    "duration": 8,
    "start_time": "2022-04-18T13:49:17.974Z"
   },
   {
    "duration": 8,
    "start_time": "2022-04-18T13:50:50.274Z"
   },
   {
    "duration": 8,
    "start_time": "2022-04-18T13:51:28.914Z"
   },
   {
    "duration": 59,
    "start_time": "2022-04-18T13:52:38.404Z"
   },
   {
    "duration": 629,
    "start_time": "2022-04-18T13:52:57.433Z"
   },
   {
    "duration": 24,
    "start_time": "2022-04-18T13:52:58.065Z"
   },
   {
    "duration": 49,
    "start_time": "2022-04-18T13:52:58.093Z"
   },
   {
    "duration": 7,
    "start_time": "2022-04-18T13:52:58.144Z"
   },
   {
    "duration": 8,
    "start_time": "2022-04-18T13:52:58.154Z"
   },
   {
    "duration": 31,
    "start_time": "2022-04-18T13:52:58.164Z"
   },
   {
    "duration": 6,
    "start_time": "2022-04-18T13:52:58.197Z"
   },
   {
    "duration": 16,
    "start_time": "2022-04-18T13:52:58.204Z"
   },
   {
    "duration": 10,
    "start_time": "2022-04-18T13:52:58.222Z"
   },
   {
    "duration": 5,
    "start_time": "2022-04-18T13:52:58.235Z"
   },
   {
    "duration": 8,
    "start_time": "2022-04-18T13:52:58.242Z"
   },
   {
    "duration": 44,
    "start_time": "2022-04-18T13:52:58.251Z"
   },
   {
    "duration": 6,
    "start_time": "2022-04-18T13:52:58.297Z"
   },
   {
    "duration": 7,
    "start_time": "2022-04-18T13:52:58.305Z"
   },
   {
    "duration": 6,
    "start_time": "2022-04-18T13:52:58.314Z"
   },
   {
    "duration": 22,
    "start_time": "2022-04-18T13:52:58.322Z"
   },
   {
    "duration": 9,
    "start_time": "2022-04-18T13:52:58.347Z"
   },
   {
    "duration": 8,
    "start_time": "2022-04-18T13:52:58.358Z"
   },
   {
    "duration": 8,
    "start_time": "2022-04-18T13:52:58.393Z"
   },
   {
    "duration": 19,
    "start_time": "2022-04-18T13:52:58.403Z"
   },
   {
    "duration": 509,
    "start_time": "2022-04-18T14:10:54.810Z"
   },
   {
    "duration": 17,
    "start_time": "2022-04-18T14:10:55.321Z"
   },
   {
    "duration": 33,
    "start_time": "2022-04-18T14:10:55.339Z"
   },
   {
    "duration": 26,
    "start_time": "2022-04-18T14:10:55.374Z"
   },
   {
    "duration": 7,
    "start_time": "2022-04-18T14:10:55.402Z"
   },
   {
    "duration": 14,
    "start_time": "2022-04-18T14:10:55.411Z"
   },
   {
    "duration": 6,
    "start_time": "2022-04-18T14:10:55.426Z"
   },
   {
    "duration": 10,
    "start_time": "2022-04-18T14:10:55.434Z"
   },
   {
    "duration": 9,
    "start_time": "2022-04-18T14:10:55.446Z"
   },
   {
    "duration": 39,
    "start_time": "2022-04-18T14:10:55.458Z"
   },
   {
    "duration": 20,
    "start_time": "2022-04-18T14:10:55.499Z"
   },
   {
    "duration": 7,
    "start_time": "2022-04-18T14:10:55.521Z"
   },
   {
    "duration": 6,
    "start_time": "2022-04-18T14:10:55.529Z"
   },
   {
    "duration": 10,
    "start_time": "2022-04-18T14:10:55.537Z"
   },
   {
    "duration": 7,
    "start_time": "2022-04-18T14:10:55.549Z"
   },
   {
    "duration": 10,
    "start_time": "2022-04-18T14:10:55.557Z"
   },
   {
    "duration": 30,
    "start_time": "2022-04-18T14:10:55.568Z"
   },
   {
    "duration": 13,
    "start_time": "2022-04-18T14:10:55.600Z"
   },
   {
    "duration": 6,
    "start_time": "2022-04-18T14:10:55.615Z"
   },
   {
    "duration": 26,
    "start_time": "2022-04-18T14:10:55.623Z"
   },
   {
    "duration": 460,
    "start_time": "2022-04-19T06:34:21.015Z"
   },
   {
    "duration": 14,
    "start_time": "2022-04-19T06:34:21.477Z"
   },
   {
    "duration": 35,
    "start_time": "2022-04-19T06:34:21.492Z"
   },
   {
    "duration": 5,
    "start_time": "2022-04-19T06:34:21.528Z"
   },
   {
    "duration": 5,
    "start_time": "2022-04-19T06:34:21.535Z"
   },
   {
    "duration": 6,
    "start_time": "2022-04-19T06:34:21.541Z"
   },
   {
    "duration": 5,
    "start_time": "2022-04-19T06:34:21.548Z"
   },
   {
    "duration": 8,
    "start_time": "2022-04-19T06:34:21.554Z"
   },
   {
    "duration": 38,
    "start_time": "2022-04-19T06:34:21.563Z"
   },
   {
    "duration": 6,
    "start_time": "2022-04-19T06:34:21.603Z"
   },
   {
    "duration": 13,
    "start_time": "2022-04-19T06:34:21.611Z"
   },
   {
    "duration": 6,
    "start_time": "2022-04-19T06:34:21.626Z"
   },
   {
    "duration": 5,
    "start_time": "2022-04-19T06:34:21.633Z"
   },
   {
    "duration": 7,
    "start_time": "2022-04-19T06:34:21.641Z"
   },
   {
    "duration": 4,
    "start_time": "2022-04-19T06:34:21.650Z"
   },
   {
    "duration": 5,
    "start_time": "2022-04-19T06:34:21.656Z"
   },
   {
    "duration": 6,
    "start_time": "2022-04-19T06:34:21.662Z"
   },
   {
    "duration": 7,
    "start_time": "2022-04-19T06:34:21.700Z"
   },
   {
    "duration": 20,
    "start_time": "2022-04-19T06:34:21.709Z"
   },
   {
    "duration": 16,
    "start_time": "2022-04-19T06:34:21.731Z"
   },
   {
    "duration": 80,
    "start_time": "2022-04-19T06:34:21.748Z"
   },
   {
    "duration": 0,
    "start_time": "2022-04-19T06:34:21.830Z"
   },
   {
    "duration": 0,
    "start_time": "2022-04-19T06:34:21.831Z"
   },
   {
    "duration": 0,
    "start_time": "2022-04-19T06:34:21.832Z"
   },
   {
    "duration": 0,
    "start_time": "2022-04-19T06:34:21.833Z"
   },
   {
    "duration": 459,
    "start_time": "2022-04-19T06:34:37.425Z"
   },
   {
    "duration": 14,
    "start_time": "2022-04-19T06:34:37.886Z"
   },
   {
    "duration": 33,
    "start_time": "2022-04-19T06:34:37.902Z"
   },
   {
    "duration": 5,
    "start_time": "2022-04-19T06:34:37.936Z"
   },
   {
    "duration": 9,
    "start_time": "2022-04-19T06:34:37.942Z"
   },
   {
    "duration": 10,
    "start_time": "2022-04-19T06:34:37.952Z"
   },
   {
    "duration": 4,
    "start_time": "2022-04-19T06:34:37.964Z"
   },
   {
    "duration": 8,
    "start_time": "2022-04-19T06:34:37.969Z"
   },
   {
    "duration": 10,
    "start_time": "2022-04-19T06:34:38.001Z"
   },
   {
    "duration": 8,
    "start_time": "2022-04-19T06:34:38.015Z"
   },
   {
    "duration": 6,
    "start_time": "2022-04-19T06:34:38.024Z"
   },
   {
    "duration": 5,
    "start_time": "2022-04-19T06:34:38.032Z"
   },
   {
    "duration": 4,
    "start_time": "2022-04-19T06:34:38.039Z"
   },
   {
    "duration": 5,
    "start_time": "2022-04-19T06:34:38.045Z"
   },
   {
    "duration": 5,
    "start_time": "2022-04-19T06:34:38.051Z"
   },
   {
    "duration": 50,
    "start_time": "2022-04-19T06:34:38.057Z"
   },
   {
    "duration": 15,
    "start_time": "2022-04-19T06:34:38.109Z"
   },
   {
    "duration": 8,
    "start_time": "2022-04-19T06:34:38.125Z"
   },
   {
    "duration": 5,
    "start_time": "2022-04-19T06:34:38.134Z"
   },
   {
    "duration": 16,
    "start_time": "2022-04-19T06:34:38.141Z"
   },
   {
    "duration": 334,
    "start_time": "2022-04-19T06:34:38.158Z"
   },
   {
    "duration": 17,
    "start_time": "2022-04-19T06:34:38.494Z"
   },
   {
    "duration": 11,
    "start_time": "2022-04-19T06:34:38.513Z"
   },
   {
    "duration": 7,
    "start_time": "2022-04-19T06:34:38.525Z"
   },
   {
    "duration": 4,
    "start_time": "2022-04-19T06:34:38.533Z"
   },
   {
    "duration": 15,
    "start_time": "2022-04-19T06:34:57.460Z"
   },
   {
    "duration": 478,
    "start_time": "2022-04-19T06:35:20.633Z"
   },
   {
    "duration": 14,
    "start_time": "2022-04-19T06:35:21.115Z"
   },
   {
    "duration": 29,
    "start_time": "2022-04-19T06:35:21.130Z"
   },
   {
    "duration": 5,
    "start_time": "2022-04-19T06:35:21.161Z"
   },
   {
    "duration": 7,
    "start_time": "2022-04-19T06:35:21.168Z"
   },
   {
    "duration": 30,
    "start_time": "2022-04-19T06:35:21.177Z"
   },
   {
    "duration": 13,
    "start_time": "2022-04-19T06:35:21.209Z"
   },
   {
    "duration": 6,
    "start_time": "2022-04-19T06:35:21.223Z"
   },
   {
    "duration": 8,
    "start_time": "2022-04-19T06:35:21.231Z"
   },
   {
    "duration": 5,
    "start_time": "2022-04-19T06:35:21.242Z"
   },
   {
    "duration": 8,
    "start_time": "2022-04-19T06:35:21.248Z"
   },
   {
    "duration": 5,
    "start_time": "2022-04-19T06:35:21.257Z"
   },
   {
    "duration": 6,
    "start_time": "2022-04-19T06:35:21.263Z"
   },
   {
    "duration": 34,
    "start_time": "2022-04-19T06:35:21.270Z"
   },
   {
    "duration": 10,
    "start_time": "2022-04-19T06:35:21.307Z"
   },
   {
    "duration": 11,
    "start_time": "2022-04-19T06:35:21.319Z"
   },
   {
    "duration": 8,
    "start_time": "2022-04-19T06:35:21.331Z"
   },
   {
    "duration": 9,
    "start_time": "2022-04-19T06:35:21.340Z"
   },
   {
    "duration": 8,
    "start_time": "2022-04-19T06:35:21.350Z"
   },
   {
    "duration": 17,
    "start_time": "2022-04-19T06:35:21.360Z"
   },
   {
    "duration": 320,
    "start_time": "2022-04-19T06:35:21.402Z"
   },
   {
    "duration": 12,
    "start_time": "2022-04-19T06:35:21.723Z"
   },
   {
    "duration": 6,
    "start_time": "2022-04-19T06:35:21.736Z"
   },
   {
    "duration": 4,
    "start_time": "2022-04-19T06:35:21.743Z"
   },
   {
    "duration": 5,
    "start_time": "2022-04-19T06:35:21.749Z"
   },
   {
    "duration": 22,
    "start_time": "2022-04-19T06:35:21.755Z"
   },
   {
    "duration": 607,
    "start_time": "2022-04-19T06:51:30.518Z"
   },
   {
    "duration": 16,
    "start_time": "2022-04-19T06:51:31.128Z"
   },
   {
    "duration": 29,
    "start_time": "2022-04-19T06:51:31.146Z"
   },
   {
    "duration": 25,
    "start_time": "2022-04-19T06:51:31.178Z"
   },
   {
    "duration": 16,
    "start_time": "2022-04-19T06:51:31.205Z"
   },
   {
    "duration": 8,
    "start_time": "2022-04-19T06:51:31.222Z"
   },
   {
    "duration": 7,
    "start_time": "2022-04-19T06:51:31.232Z"
   },
   {
    "duration": 8,
    "start_time": "2022-04-19T06:51:31.241Z"
   },
   {
    "duration": 16,
    "start_time": "2022-04-19T06:51:31.251Z"
   },
   {
    "duration": 31,
    "start_time": "2022-04-19T06:51:31.271Z"
   },
   {
    "duration": 9,
    "start_time": "2022-04-19T06:51:31.304Z"
   },
   {
    "duration": 8,
    "start_time": "2022-04-19T06:51:31.315Z"
   },
   {
    "duration": 6,
    "start_time": "2022-04-19T06:51:31.325Z"
   },
   {
    "duration": 7,
    "start_time": "2022-04-19T06:51:31.333Z"
   },
   {
    "duration": 7,
    "start_time": "2022-04-19T06:51:31.342Z"
   },
   {
    "duration": 8,
    "start_time": "2022-04-19T06:51:31.351Z"
   },
   {
    "duration": 44,
    "start_time": "2022-04-19T06:51:31.361Z"
   },
   {
    "duration": 8,
    "start_time": "2022-04-19T06:51:31.407Z"
   },
   {
    "duration": 11,
    "start_time": "2022-04-19T06:51:31.417Z"
   },
   {
    "duration": 23,
    "start_time": "2022-04-19T06:51:31.430Z"
   },
   {
    "duration": 330,
    "start_time": "2022-04-19T06:51:31.455Z"
   },
   {
    "duration": 20,
    "start_time": "2022-04-19T06:51:31.787Z"
   },
   {
    "duration": 22,
    "start_time": "2022-04-19T06:51:31.808Z"
   },
   {
    "duration": 6,
    "start_time": "2022-04-19T06:51:31.831Z"
   },
   {
    "duration": 16,
    "start_time": "2022-04-19T06:51:31.839Z"
   },
   {
    "duration": 23,
    "start_time": "2022-04-19T06:51:31.856Z"
   },
   {
    "duration": 677,
    "start_time": "2022-04-19T07:18:21.196Z"
   },
   {
    "duration": 652,
    "start_time": "2022-04-19T07:28:24.689Z"
   },
   {
    "duration": 14,
    "start_time": "2022-04-19T07:28:25.343Z"
   },
   {
    "duration": 27,
    "start_time": "2022-04-19T07:28:25.359Z"
   },
   {
    "duration": 13,
    "start_time": "2022-04-19T07:28:25.388Z"
   },
   {
    "duration": 5,
    "start_time": "2022-04-19T07:28:25.402Z"
   },
   {
    "duration": 7,
    "start_time": "2022-04-19T07:28:25.409Z"
   },
   {
    "duration": 9,
    "start_time": "2022-04-19T07:28:25.417Z"
   },
   {
    "duration": 8,
    "start_time": "2022-04-19T07:28:25.427Z"
   },
   {
    "duration": 8,
    "start_time": "2022-04-19T07:28:25.437Z"
   },
   {
    "duration": 4,
    "start_time": "2022-04-19T07:28:25.448Z"
   },
   {
    "duration": 8,
    "start_time": "2022-04-19T07:28:25.454Z"
   },
   {
    "duration": 37,
    "start_time": "2022-04-19T07:28:25.464Z"
   },
   {
    "duration": 9,
    "start_time": "2022-04-19T07:28:25.502Z"
   },
   {
    "duration": 7,
    "start_time": "2022-04-19T07:28:25.512Z"
   },
   {
    "duration": 7,
    "start_time": "2022-04-19T07:28:25.520Z"
   },
   {
    "duration": 7,
    "start_time": "2022-04-19T07:28:25.529Z"
   },
   {
    "duration": 7,
    "start_time": "2022-04-19T07:28:25.538Z"
   },
   {
    "duration": 6,
    "start_time": "2022-04-19T07:28:25.546Z"
   },
   {
    "duration": 4,
    "start_time": "2022-04-19T07:28:25.554Z"
   },
   {
    "duration": 50,
    "start_time": "2022-04-19T07:28:25.560Z"
   },
   {
    "duration": 304,
    "start_time": "2022-04-19T07:28:25.611Z"
   },
   {
    "duration": 11,
    "start_time": "2022-04-19T07:28:25.916Z"
   },
   {
    "duration": 7,
    "start_time": "2022-04-19T07:28:25.929Z"
   },
   {
    "duration": 16,
    "start_time": "2022-04-19T07:28:25.937Z"
   },
   {
    "duration": 10,
    "start_time": "2022-04-19T07:28:25.954Z"
   },
   {
    "duration": 25,
    "start_time": "2022-04-19T07:28:25.966Z"
   },
   {
    "duration": 510,
    "start_time": "2022-04-19T07:28:25.992Z"
   },
   {
    "duration": 320,
    "start_time": "2022-04-19T07:29:47.315Z"
   },
   {
    "duration": 316,
    "start_time": "2022-04-19T07:29:56.628Z"
   },
   {
    "duration": 262,
    "start_time": "2022-04-19T07:30:14.832Z"
   },
   {
    "duration": 265,
    "start_time": "2022-04-19T07:30:21.356Z"
   },
   {
    "duration": 258,
    "start_time": "2022-04-19T07:34:23.035Z"
   },
   {
    "duration": 153,
    "start_time": "2022-04-19T07:36:13.591Z"
   },
   {
    "duration": 258,
    "start_time": "2022-04-19T07:36:25.173Z"
   },
   {
    "duration": 458,
    "start_time": "2022-04-19T07:36:38.109Z"
   },
   {
    "duration": 14,
    "start_time": "2022-04-19T07:36:38.569Z"
   },
   {
    "duration": 29,
    "start_time": "2022-04-19T07:36:38.585Z"
   },
   {
    "duration": 5,
    "start_time": "2022-04-19T07:36:38.616Z"
   },
   {
    "duration": 7,
    "start_time": "2022-04-19T07:36:38.622Z"
   },
   {
    "duration": 6,
    "start_time": "2022-04-19T07:36:38.630Z"
   },
   {
    "duration": 5,
    "start_time": "2022-04-19T07:36:38.637Z"
   },
   {
    "duration": 6,
    "start_time": "2022-04-19T07:36:38.643Z"
   },
   {
    "duration": 14,
    "start_time": "2022-04-19T07:36:38.651Z"
   },
   {
    "duration": 3,
    "start_time": "2022-04-19T07:36:38.667Z"
   },
   {
    "duration": 6,
    "start_time": "2022-04-19T07:36:38.700Z"
   },
   {
    "duration": 5,
    "start_time": "2022-04-19T07:36:38.708Z"
   },
   {
    "duration": 4,
    "start_time": "2022-04-19T07:36:38.715Z"
   },
   {
    "duration": 5,
    "start_time": "2022-04-19T07:36:38.721Z"
   },
   {
    "duration": 5,
    "start_time": "2022-04-19T07:36:38.727Z"
   },
   {
    "duration": 7,
    "start_time": "2022-04-19T07:36:38.733Z"
   },
   {
    "duration": 6,
    "start_time": "2022-04-19T07:36:38.741Z"
   },
   {
    "duration": 5,
    "start_time": "2022-04-19T07:36:38.749Z"
   },
   {
    "duration": 50,
    "start_time": "2022-04-19T07:36:38.755Z"
   },
   {
    "duration": 16,
    "start_time": "2022-04-19T07:36:38.806Z"
   },
   {
    "duration": 303,
    "start_time": "2022-04-19T07:36:38.824Z"
   },
   {
    "duration": 11,
    "start_time": "2022-04-19T07:36:39.129Z"
   },
   {
    "duration": 6,
    "start_time": "2022-04-19T07:36:39.141Z"
   },
   {
    "duration": 4,
    "start_time": "2022-04-19T07:36:39.149Z"
   },
   {
    "duration": 7,
    "start_time": "2022-04-19T07:36:39.154Z"
   },
   {
    "duration": 38,
    "start_time": "2022-04-19T07:36:39.163Z"
   },
   {
    "duration": 499,
    "start_time": "2022-04-19T07:36:39.203Z"
   },
   {
    "duration": 307,
    "start_time": "2022-04-19T07:36:39.705Z"
   },
   {
    "duration": 192,
    "start_time": "2022-04-19T07:36:40.013Z"
   },
   {
    "duration": 168,
    "start_time": "2022-04-19T07:39:21.857Z"
   },
   {
    "duration": 196,
    "start_time": "2022-04-19T07:39:55.526Z"
   },
   {
    "duration": 255,
    "start_time": "2022-04-19T07:40:06.736Z"
   },
   {
    "duration": 180,
    "start_time": "2022-04-19T07:40:13.199Z"
   },
   {
    "duration": 174,
    "start_time": "2022-04-19T07:40:23.509Z"
   },
   {
    "duration": 435,
    "start_time": "2022-04-19T07:42:09.848Z"
   },
   {
    "duration": 16,
    "start_time": "2022-04-19T07:42:10.285Z"
   },
   {
    "duration": 32,
    "start_time": "2022-04-19T07:42:10.302Z"
   },
   {
    "duration": 6,
    "start_time": "2022-04-19T07:42:10.336Z"
   },
   {
    "duration": 10,
    "start_time": "2022-04-19T07:42:10.343Z"
   },
   {
    "duration": 11,
    "start_time": "2022-04-19T07:42:10.354Z"
   },
   {
    "duration": 5,
    "start_time": "2022-04-19T07:42:10.367Z"
   },
   {
    "duration": 10,
    "start_time": "2022-04-19T07:42:10.374Z"
   },
   {
    "duration": 15,
    "start_time": "2022-04-19T07:42:10.386Z"
   },
   {
    "duration": 4,
    "start_time": "2022-04-19T07:42:10.403Z"
   },
   {
    "duration": 10,
    "start_time": "2022-04-19T07:42:10.409Z"
   },
   {
    "duration": 7,
    "start_time": "2022-04-19T07:42:10.420Z"
   },
   {
    "duration": 9,
    "start_time": "2022-04-19T07:42:10.428Z"
   },
   {
    "duration": 7,
    "start_time": "2022-04-19T07:42:10.438Z"
   },
   {
    "duration": 8,
    "start_time": "2022-04-19T07:42:10.447Z"
   },
   {
    "duration": 8,
    "start_time": "2022-04-19T07:42:10.456Z"
   },
   {
    "duration": 6,
    "start_time": "2022-04-19T07:42:10.466Z"
   },
   {
    "duration": 6,
    "start_time": "2022-04-19T07:42:10.473Z"
   },
   {
    "duration": 8,
    "start_time": "2022-04-19T07:42:10.480Z"
   },
   {
    "duration": 16,
    "start_time": "2022-04-19T07:42:10.489Z"
   },
   {
    "duration": 306,
    "start_time": "2022-04-19T07:42:10.506Z"
   },
   {
    "duration": 12,
    "start_time": "2022-04-19T07:42:10.814Z"
   },
   {
    "duration": 16,
    "start_time": "2022-04-19T07:42:10.828Z"
   },
   {
    "duration": 7,
    "start_time": "2022-04-19T07:42:10.845Z"
   },
   {
    "duration": 8,
    "start_time": "2022-04-19T07:42:10.854Z"
   },
   {
    "duration": 24,
    "start_time": "2022-04-19T07:42:10.864Z"
   },
   {
    "duration": 540,
    "start_time": "2022-04-19T07:42:10.889Z"
   },
   {
    "duration": 419,
    "start_time": "2022-04-19T07:42:11.431Z"
   },
   {
    "duration": 190,
    "start_time": "2022-04-19T07:42:11.852Z"
   },
   {
    "duration": 340,
    "start_time": "2022-04-19T07:42:12.044Z"
   },
   {
    "duration": 473,
    "start_time": "2022-04-19T07:44:27.532Z"
   },
   {
    "duration": 456,
    "start_time": "2022-04-19T07:44:33.181Z"
   },
   {
    "duration": 265,
    "start_time": "2022-04-19T07:44:43.335Z"
   },
   {
    "duration": 182,
    "start_time": "2022-04-19T07:55:23.125Z"
   },
   {
    "duration": 253,
    "start_time": "2022-04-19T07:55:28.582Z"
   },
   {
    "duration": 713,
    "start_time": "2022-04-19T08:37:32.833Z"
   },
   {
    "duration": 15,
    "start_time": "2022-04-19T08:37:33.548Z"
   },
   {
    "duration": 28,
    "start_time": "2022-04-19T08:37:33.565Z"
   },
   {
    "duration": 5,
    "start_time": "2022-04-19T08:37:33.601Z"
   },
   {
    "duration": 5,
    "start_time": "2022-04-19T08:37:33.607Z"
   },
   {
    "duration": 9,
    "start_time": "2022-04-19T08:37:33.614Z"
   },
   {
    "duration": 5,
    "start_time": "2022-04-19T08:37:33.624Z"
   },
   {
    "duration": 15,
    "start_time": "2022-04-19T08:37:33.630Z"
   },
   {
    "duration": 14,
    "start_time": "2022-04-19T08:37:33.646Z"
   },
   {
    "duration": 4,
    "start_time": "2022-04-19T08:37:33.663Z"
   },
   {
    "duration": 32,
    "start_time": "2022-04-19T08:37:33.668Z"
   },
   {
    "duration": 6,
    "start_time": "2022-04-19T08:37:33.702Z"
   },
   {
    "duration": 4,
    "start_time": "2022-04-19T08:37:33.710Z"
   },
   {
    "duration": 14,
    "start_time": "2022-04-19T08:37:33.716Z"
   },
   {
    "duration": 8,
    "start_time": "2022-04-19T08:37:33.731Z"
   },
   {
    "duration": 8,
    "start_time": "2022-04-19T08:37:33.740Z"
   },
   {
    "duration": 6,
    "start_time": "2022-04-19T08:37:33.749Z"
   },
   {
    "duration": 7,
    "start_time": "2022-04-19T08:37:33.756Z"
   },
   {
    "duration": 38,
    "start_time": "2022-04-19T08:37:33.764Z"
   },
   {
    "duration": 16,
    "start_time": "2022-04-19T08:37:33.804Z"
   },
   {
    "duration": 271,
    "start_time": "2022-04-19T08:37:33.822Z"
   },
   {
    "duration": 10,
    "start_time": "2022-04-19T08:37:34.095Z"
   },
   {
    "duration": 6,
    "start_time": "2022-04-19T08:37:34.107Z"
   },
   {
    "duration": 7,
    "start_time": "2022-04-19T08:37:34.114Z"
   },
   {
    "duration": 6,
    "start_time": "2022-04-19T08:37:34.122Z"
   },
   {
    "duration": 28,
    "start_time": "2022-04-19T08:37:34.129Z"
   },
   {
    "duration": 326,
    "start_time": "2022-04-19T08:37:34.158Z"
   },
   {
    "duration": 282,
    "start_time": "2022-04-19T08:37:34.488Z"
   },
   {
    "duration": 195,
    "start_time": "2022-04-19T08:37:34.772Z"
   },
   {
    "duration": 188,
    "start_time": "2022-04-19T08:37:34.969Z"
   },
   {
    "duration": 173,
    "start_time": "2022-04-19T08:38:46.613Z"
   },
   {
    "duration": 194,
    "start_time": "2022-04-19T08:39:37.121Z"
   },
   {
    "duration": 183,
    "start_time": "2022-04-19T08:39:58.829Z"
   },
   {
    "duration": 48,
    "start_time": "2022-04-20T11:54:13.974Z"
   },
   {
    "duration": 859,
    "start_time": "2022-04-20T11:54:20.017Z"
   },
   {
    "duration": 16,
    "start_time": "2022-04-20T11:54:20.879Z"
   },
   {
    "duration": 33,
    "start_time": "2022-04-20T11:54:20.897Z"
   },
   {
    "duration": 6,
    "start_time": "2022-04-20T11:54:20.932Z"
   },
   {
    "duration": 6,
    "start_time": "2022-04-20T11:54:20.940Z"
   },
   {
    "duration": 9,
    "start_time": "2022-04-20T11:54:20.947Z"
   },
   {
    "duration": 5,
    "start_time": "2022-04-20T11:54:20.957Z"
   },
   {
    "duration": 10,
    "start_time": "2022-04-20T11:54:20.964Z"
   },
   {
    "duration": 37,
    "start_time": "2022-04-20T11:54:20.976Z"
   },
   {
    "duration": 5,
    "start_time": "2022-04-20T11:54:21.014Z"
   },
   {
    "duration": 6,
    "start_time": "2022-04-20T11:54:21.021Z"
   },
   {
    "duration": 7,
    "start_time": "2022-04-20T11:54:21.028Z"
   },
   {
    "duration": 6,
    "start_time": "2022-04-20T11:54:21.036Z"
   },
   {
    "duration": 6,
    "start_time": "2022-04-20T11:54:21.044Z"
   },
   {
    "duration": 6,
    "start_time": "2022-04-20T11:54:21.052Z"
   },
   {
    "duration": 7,
    "start_time": "2022-04-20T11:54:21.108Z"
   },
   {
    "duration": 6,
    "start_time": "2022-04-20T11:54:21.116Z"
   },
   {
    "duration": 6,
    "start_time": "2022-04-20T11:54:21.124Z"
   },
   {
    "duration": 5,
    "start_time": "2022-04-20T11:54:21.132Z"
   },
   {
    "duration": 17,
    "start_time": "2022-04-20T11:54:21.139Z"
   },
   {
    "duration": 310,
    "start_time": "2022-04-20T11:54:21.157Z"
   },
   {
    "duration": 12,
    "start_time": "2022-04-20T11:54:21.469Z"
   },
   {
    "duration": 5,
    "start_time": "2022-04-20T11:54:21.482Z"
   },
   {
    "duration": 18,
    "start_time": "2022-04-20T11:54:21.489Z"
   },
   {
    "duration": 6,
    "start_time": "2022-04-20T11:54:21.509Z"
   },
   {
    "duration": 24,
    "start_time": "2022-04-20T11:54:21.517Z"
   },
   {
    "duration": 374,
    "start_time": "2022-04-20T11:54:21.542Z"
   },
   {
    "duration": 323,
    "start_time": "2022-04-20T11:54:21.917Z"
   },
   {
    "duration": 214,
    "start_time": "2022-04-20T11:54:22.242Z"
   },
   {
    "duration": 203,
    "start_time": "2022-04-20T11:54:22.458Z"
   },
   {
    "duration": 101,
    "start_time": "2022-04-20T11:54:22.663Z"
   },
   {
    "duration": 546,
    "start_time": "2022-04-20T11:54:38.229Z"
   },
   {
    "duration": 630,
    "start_time": "2022-04-20T11:55:07.492Z"
   },
   {
    "duration": 680,
    "start_time": "2022-04-20T11:55:47.912Z"
   },
   {
    "duration": 15,
    "start_time": "2022-04-20T11:55:48.594Z"
   },
   {
    "duration": 26,
    "start_time": "2022-04-20T11:55:48.610Z"
   },
   {
    "duration": 6,
    "start_time": "2022-04-20T11:55:48.638Z"
   },
   {
    "duration": 5,
    "start_time": "2022-04-20T11:55:48.645Z"
   },
   {
    "duration": 7,
    "start_time": "2022-04-20T11:55:48.651Z"
   },
   {
    "duration": 5,
    "start_time": "2022-04-20T11:55:48.659Z"
   },
   {
    "duration": 5,
    "start_time": "2022-04-20T11:55:48.665Z"
   },
   {
    "duration": 40,
    "start_time": "2022-04-20T11:55:48.672Z"
   },
   {
    "duration": 4,
    "start_time": "2022-04-20T11:55:48.714Z"
   },
   {
    "duration": 7,
    "start_time": "2022-04-20T11:55:48.720Z"
   },
   {
    "duration": 6,
    "start_time": "2022-04-20T11:55:48.728Z"
   },
   {
    "duration": 4,
    "start_time": "2022-04-20T11:55:48.736Z"
   },
   {
    "duration": 7,
    "start_time": "2022-04-20T11:55:48.742Z"
   },
   {
    "duration": 5,
    "start_time": "2022-04-20T11:55:48.750Z"
   },
   {
    "duration": 6,
    "start_time": "2022-04-20T11:55:48.756Z"
   },
   {
    "duration": 6,
    "start_time": "2022-04-20T11:55:48.807Z"
   },
   {
    "duration": 6,
    "start_time": "2022-04-20T11:55:48.815Z"
   },
   {
    "duration": 5,
    "start_time": "2022-04-20T11:55:48.823Z"
   },
   {
    "duration": 17,
    "start_time": "2022-04-20T11:55:48.830Z"
   },
   {
    "duration": 293,
    "start_time": "2022-04-20T11:55:48.848Z"
   },
   {
    "duration": 12,
    "start_time": "2022-04-20T11:55:49.142Z"
   },
   {
    "duration": 4,
    "start_time": "2022-04-20T11:55:49.156Z"
   },
   {
    "duration": 5,
    "start_time": "2022-04-20T11:55:49.162Z"
   },
   {
    "duration": 4,
    "start_time": "2022-04-20T11:55:49.169Z"
   },
   {
    "duration": 44,
    "start_time": "2022-04-20T11:55:49.175Z"
   },
   {
    "duration": 334,
    "start_time": "2022-04-20T11:55:49.221Z"
   },
   {
    "duration": 302,
    "start_time": "2022-04-20T11:55:49.558Z"
   },
   {
    "duration": 216,
    "start_time": "2022-04-20T11:55:49.861Z"
   },
   {
    "duration": 222,
    "start_time": "2022-04-20T11:55:50.079Z"
   },
   {
    "duration": 546,
    "start_time": "2022-04-20T11:55:50.302Z"
   },
   {
    "duration": 545,
    "start_time": "2022-04-20T11:57:22.227Z"
   },
   {
    "duration": 651,
    "start_time": "2022-04-20T13:10:52.071Z"
   },
   {
    "duration": 608,
    "start_time": "2022-04-20T13:25:48.937Z"
   },
   {
    "duration": 10,
    "start_time": "2022-04-20T13:25:56.226Z"
   },
   {
    "duration": 591,
    "start_time": "2022-04-20T14:27:10.314Z"
   },
   {
    "duration": 645,
    "start_time": "2022-04-20T14:27:23.175Z"
   },
   {
    "duration": 8,
    "start_time": "2022-04-20T14:27:40.553Z"
   },
   {
    "duration": 171,
    "start_time": "2022-04-20T14:51:07.283Z"
   },
   {
    "duration": 200,
    "start_time": "2022-04-20T14:51:15.637Z"
   },
   {
    "duration": 167,
    "start_time": "2022-04-20T14:51:17.732Z"
   },
   {
    "duration": 951,
    "start_time": "2022-04-20T14:51:27.857Z"
   },
   {
    "duration": 22,
    "start_time": "2022-04-20T14:51:28.810Z"
   },
   {
    "duration": 30,
    "start_time": "2022-04-20T14:51:28.834Z"
   },
   {
    "duration": 6,
    "start_time": "2022-04-20T14:51:28.866Z"
   },
   {
    "duration": 43,
    "start_time": "2022-04-20T14:51:28.874Z"
   },
   {
    "duration": 8,
    "start_time": "2022-04-20T14:51:28.919Z"
   },
   {
    "duration": 7,
    "start_time": "2022-04-20T14:51:28.929Z"
   },
   {
    "duration": 8,
    "start_time": "2022-04-20T14:51:28.938Z"
   },
   {
    "duration": 10,
    "start_time": "2022-04-20T14:51:28.947Z"
   },
   {
    "duration": 5,
    "start_time": "2022-04-20T14:51:28.961Z"
   },
   {
    "duration": 48,
    "start_time": "2022-04-20T14:51:28.968Z"
   },
   {
    "duration": 9,
    "start_time": "2022-04-20T14:51:29.018Z"
   },
   {
    "duration": 5,
    "start_time": "2022-04-20T14:51:29.029Z"
   },
   {
    "duration": 14,
    "start_time": "2022-04-20T14:51:29.035Z"
   },
   {
    "duration": 7,
    "start_time": "2022-04-20T14:51:29.050Z"
   },
   {
    "duration": 7,
    "start_time": "2022-04-20T14:51:29.058Z"
   },
   {
    "duration": 7,
    "start_time": "2022-04-20T14:51:29.066Z"
   },
   {
    "duration": 49,
    "start_time": "2022-04-20T14:51:29.075Z"
   },
   {
    "duration": 8,
    "start_time": "2022-04-20T14:51:29.126Z"
   },
   {
    "duration": 25,
    "start_time": "2022-04-20T14:51:29.136Z"
   },
   {
    "duration": 330,
    "start_time": "2022-04-20T14:51:29.162Z"
   },
   {
    "duration": 20,
    "start_time": "2022-04-20T14:51:29.493Z"
   },
   {
    "duration": 9,
    "start_time": "2022-04-20T14:51:29.515Z"
   },
   {
    "duration": 5,
    "start_time": "2022-04-20T14:51:29.526Z"
   },
   {
    "duration": 9,
    "start_time": "2022-04-20T14:51:29.532Z"
   },
   {
    "duration": 31,
    "start_time": "2022-04-20T14:51:29.543Z"
   },
   {
    "duration": 416,
    "start_time": "2022-04-20T14:51:29.576Z"
   },
   {
    "duration": 371,
    "start_time": "2022-04-20T14:51:29.995Z"
   },
   {
    "duration": 247,
    "start_time": "2022-04-20T14:51:30.367Z"
   },
   {
    "duration": 248,
    "start_time": "2022-04-20T14:51:30.618Z"
   },
   {
    "duration": 630,
    "start_time": "2022-04-20T14:51:30.868Z"
   },
   {
    "duration": 21,
    "start_time": "2022-04-20T14:51:31.500Z"
   },
   {
    "duration": 523,
    "start_time": "2022-04-20T14:51:31.525Z"
   },
   {
    "duration": 5,
    "start_time": "2022-04-20T14:51:32.050Z"
   },
   {
    "duration": 341,
    "start_time": "2022-04-20T14:51:32.057Z"
   },
   {
    "duration": 159,
    "start_time": "2022-04-20T14:51:44.154Z"
   },
   {
    "duration": 66,
    "start_time": "2022-04-20T14:58:52.483Z"
   },
   {
    "duration": 203,
    "start_time": "2022-04-20T14:59:08.751Z"
   },
   {
    "duration": 73,
    "start_time": "2022-04-21T08:23:03.115Z"
   },
   {
    "duration": 1182,
    "start_time": "2022-04-21T08:23:08.296Z"
   },
   {
    "duration": 22,
    "start_time": "2022-04-21T08:23:09.480Z"
   },
   {
    "duration": 58,
    "start_time": "2022-04-21T08:23:09.504Z"
   },
   {
    "duration": 8,
    "start_time": "2022-04-21T08:23:09.566Z"
   },
   {
    "duration": 20,
    "start_time": "2022-04-21T08:23:09.576Z"
   },
   {
    "duration": 21,
    "start_time": "2022-04-21T08:23:09.598Z"
   },
   {
    "duration": 12,
    "start_time": "2022-04-21T08:23:09.621Z"
   },
   {
    "duration": 35,
    "start_time": "2022-04-21T08:23:09.636Z"
   },
   {
    "duration": 20,
    "start_time": "2022-04-21T08:23:09.673Z"
   },
   {
    "duration": 27,
    "start_time": "2022-04-21T08:23:09.697Z"
   },
   {
    "duration": 25,
    "start_time": "2022-04-21T08:23:09.726Z"
   },
   {
    "duration": 16,
    "start_time": "2022-04-21T08:23:09.753Z"
   },
   {
    "duration": 38,
    "start_time": "2022-04-21T08:23:09.771Z"
   },
   {
    "duration": 13,
    "start_time": "2022-04-21T08:23:09.811Z"
   },
   {
    "duration": 14,
    "start_time": "2022-04-21T08:23:09.826Z"
   },
   {
    "duration": 21,
    "start_time": "2022-04-21T08:23:09.842Z"
   },
   {
    "duration": 8,
    "start_time": "2022-04-21T08:23:09.865Z"
   },
   {
    "duration": 8,
    "start_time": "2022-04-21T08:23:09.876Z"
   },
   {
    "duration": 10,
    "start_time": "2022-04-21T08:23:09.886Z"
   },
   {
    "duration": 23,
    "start_time": "2022-04-21T08:23:09.898Z"
   },
   {
    "duration": 465,
    "start_time": "2022-04-21T08:23:09.952Z"
   },
   {
    "duration": 16,
    "start_time": "2022-04-21T08:23:10.419Z"
   },
   {
    "duration": 21,
    "start_time": "2022-04-21T08:23:10.437Z"
   },
   {
    "duration": 9,
    "start_time": "2022-04-21T08:23:10.460Z"
   },
   {
    "duration": 6,
    "start_time": "2022-04-21T08:23:10.471Z"
   },
   {
    "duration": 35,
    "start_time": "2022-04-21T08:23:10.479Z"
   },
   {
    "duration": 557,
    "start_time": "2022-04-21T08:23:10.516Z"
   },
   {
    "duration": 509,
    "start_time": "2022-04-21T08:23:11.078Z"
   },
   {
    "duration": 336,
    "start_time": "2022-04-21T08:23:11.589Z"
   },
   {
    "duration": 336,
    "start_time": "2022-04-21T08:23:11.927Z"
   },
   {
    "duration": 899,
    "start_time": "2022-04-21T08:23:12.265Z"
   },
   {
    "duration": 14,
    "start_time": "2022-04-21T08:23:13.166Z"
   },
   {
    "duration": 754,
    "start_time": "2022-04-21T08:23:13.182Z"
   },
   {
    "duration": 17,
    "start_time": "2022-04-21T08:23:13.938Z"
   },
   {
    "duration": 331,
    "start_time": "2022-04-21T08:23:13.957Z"
   },
   {
    "duration": 28,
    "start_time": "2022-04-21T08:23:14.290Z"
   },
   {
    "duration": 170,
    "start_time": "2022-04-21T08:23:35.686Z"
   },
   {
    "duration": 267,
    "start_time": "2022-04-21T08:23:59.470Z"
   },
   {
    "duration": 220,
    "start_time": "2022-04-21T08:45:42.456Z"
   },
   {
    "duration": 218,
    "start_time": "2022-04-21T08:48:54.090Z"
   },
   {
    "duration": 1936,
    "start_time": "2022-04-21T08:52:54.968Z"
   },
   {
    "duration": 274,
    "start_time": "2022-04-21T08:53:07.992Z"
   },
   {
    "duration": 290,
    "start_time": "2022-04-21T08:53:25.638Z"
   },
   {
    "duration": 277,
    "start_time": "2022-04-21T08:53:32.107Z"
   },
   {
    "duration": 277,
    "start_time": "2022-04-21T08:53:37.372Z"
   },
   {
    "duration": 24,
    "start_time": "2022-04-21T09:06:31.846Z"
   },
   {
    "duration": 923,
    "start_time": "2022-04-21T09:06:51.693Z"
   },
   {
    "duration": 22,
    "start_time": "2022-04-21T09:06:52.619Z"
   },
   {
    "duration": 42,
    "start_time": "2022-04-21T09:06:52.653Z"
   },
   {
    "duration": 8,
    "start_time": "2022-04-21T09:06:52.699Z"
   },
   {
    "duration": 44,
    "start_time": "2022-04-21T09:06:52.709Z"
   },
   {
    "duration": 12,
    "start_time": "2022-04-21T09:06:52.757Z"
   },
   {
    "duration": 11,
    "start_time": "2022-04-21T09:06:52.772Z"
   },
   {
    "duration": 14,
    "start_time": "2022-04-21T09:06:52.786Z"
   },
   {
    "duration": 55,
    "start_time": "2022-04-21T09:06:52.803Z"
   },
   {
    "duration": 10,
    "start_time": "2022-04-21T09:06:52.864Z"
   },
   {
    "duration": 16,
    "start_time": "2022-04-21T09:06:52.877Z"
   },
   {
    "duration": 10,
    "start_time": "2022-04-21T09:06:52.895Z"
   },
   {
    "duration": 45,
    "start_time": "2022-04-21T09:06:52.908Z"
   },
   {
    "duration": 10,
    "start_time": "2022-04-21T09:06:52.955Z"
   },
   {
    "duration": 9,
    "start_time": "2022-04-21T09:06:52.967Z"
   },
   {
    "duration": 12,
    "start_time": "2022-04-21T09:06:52.979Z"
   },
   {
    "duration": 61,
    "start_time": "2022-04-21T09:06:52.993Z"
   },
   {
    "duration": 9,
    "start_time": "2022-04-21T09:06:53.056Z"
   },
   {
    "duration": 10,
    "start_time": "2022-04-21T09:06:53.068Z"
   },
   {
    "duration": 25,
    "start_time": "2022-04-21T09:06:53.081Z"
   },
   {
    "duration": 513,
    "start_time": "2022-04-21T09:06:53.108Z"
   },
   {
    "duration": 34,
    "start_time": "2022-04-21T09:06:53.623Z"
   },
   {
    "duration": 11,
    "start_time": "2022-04-21T09:06:53.659Z"
   },
   {
    "duration": 7,
    "start_time": "2022-04-21T09:06:53.673Z"
   },
   {
    "duration": 7,
    "start_time": "2022-04-21T09:06:53.682Z"
   },
   {
    "duration": 69,
    "start_time": "2022-04-21T09:06:53.691Z"
   },
   {
    "duration": 549,
    "start_time": "2022-04-21T09:06:53.763Z"
   },
   {
    "duration": 536,
    "start_time": "2022-04-21T09:06:54.316Z"
   },
   {
    "duration": 357,
    "start_time": "2022-04-21T09:06:54.854Z"
   },
   {
    "duration": 429,
    "start_time": "2022-04-21T09:06:55.214Z"
   },
   {
    "duration": 1435,
    "start_time": "2022-04-21T09:06:55.646Z"
   },
   {
    "duration": 16,
    "start_time": "2022-04-21T09:06:57.083Z"
   },
   {
    "duration": 791,
    "start_time": "2022-04-21T09:06:57.101Z"
   },
   {
    "duration": 11,
    "start_time": "2022-04-21T09:06:57.895Z"
   },
   {
    "duration": 358,
    "start_time": "2022-04-21T09:06:57.909Z"
   },
   {
    "duration": 269,
    "start_time": "2022-04-21T09:06:58.270Z"
   },
   {
    "duration": 294,
    "start_time": "2022-04-21T09:06:58.542Z"
   },
   {
    "duration": 245,
    "start_time": "2022-04-21T09:06:58.838Z"
   },
   {
    "duration": 132,
    "start_time": "2022-04-21T09:06:59.085Z"
   },
   {
    "duration": 1015,
    "start_time": "2022-04-21T09:07:53.749Z"
   },
   {
    "duration": 22,
    "start_time": "2022-04-21T09:07:54.767Z"
   },
   {
    "duration": 70,
    "start_time": "2022-04-21T09:07:54.791Z"
   },
   {
    "duration": 7,
    "start_time": "2022-04-21T09:07:54.864Z"
   },
   {
    "duration": 18,
    "start_time": "2022-04-21T09:07:54.873Z"
   },
   {
    "duration": 61,
    "start_time": "2022-04-21T09:07:54.893Z"
   },
   {
    "duration": 9,
    "start_time": "2022-04-21T09:07:54.956Z"
   },
   {
    "duration": 14,
    "start_time": "2022-04-21T09:07:54.967Z"
   },
   {
    "duration": 16,
    "start_time": "2022-04-21T09:07:54.984Z"
   },
   {
    "duration": 8,
    "start_time": "2022-04-21T09:07:55.004Z"
   },
   {
    "duration": 17,
    "start_time": "2022-04-21T09:07:55.014Z"
   },
   {
    "duration": 26,
    "start_time": "2022-04-21T09:07:55.033Z"
   },
   {
    "duration": 8,
    "start_time": "2022-04-21T09:07:55.061Z"
   },
   {
    "duration": 7,
    "start_time": "2022-04-21T09:07:55.071Z"
   },
   {
    "duration": 7,
    "start_time": "2022-04-21T09:07:55.081Z"
   },
   {
    "duration": 12,
    "start_time": "2022-04-21T09:07:55.090Z"
   },
   {
    "duration": 11,
    "start_time": "2022-04-21T09:07:55.104Z"
   },
   {
    "duration": 9,
    "start_time": "2022-04-21T09:07:55.118Z"
   },
   {
    "duration": 25,
    "start_time": "2022-04-21T09:07:55.129Z"
   },
   {
    "duration": 23,
    "start_time": "2022-04-21T09:07:55.156Z"
   },
   {
    "duration": 551,
    "start_time": "2022-04-21T09:07:55.182Z"
   },
   {
    "duration": 21,
    "start_time": "2022-04-21T09:07:55.735Z"
   },
   {
    "duration": 7,
    "start_time": "2022-04-21T09:07:55.758Z"
   },
   {
    "duration": 25,
    "start_time": "2022-04-21T09:07:55.767Z"
   },
   {
    "duration": 11,
    "start_time": "2022-04-21T09:07:55.795Z"
   },
   {
    "duration": 45,
    "start_time": "2022-04-21T09:07:55.808Z"
   },
   {
    "duration": 547,
    "start_time": "2022-04-21T09:07:55.855Z"
   },
   {
    "duration": 514,
    "start_time": "2022-04-21T09:07:56.407Z"
   },
   {
    "duration": 351,
    "start_time": "2022-04-21T09:07:56.923Z"
   },
   {
    "duration": 338,
    "start_time": "2022-04-21T09:07:57.276Z"
   },
   {
    "duration": 884,
    "start_time": "2022-04-21T09:07:57.616Z"
   },
   {
    "duration": 15,
    "start_time": "2022-04-21T09:07:58.502Z"
   },
   {
    "duration": 758,
    "start_time": "2022-04-21T09:07:58.519Z"
   },
   {
    "duration": 8,
    "start_time": "2022-04-21T09:07:59.280Z"
   },
   {
    "duration": 347,
    "start_time": "2022-04-21T09:07:59.290Z"
   },
   {
    "duration": 267,
    "start_time": "2022-04-21T09:07:59.639Z"
   },
   {
    "duration": 295,
    "start_time": "2022-04-21T09:07:59.908Z"
   },
   {
    "duration": 237,
    "start_time": "2022-04-21T09:08:00.206Z"
   },
   {
    "duration": 244,
    "start_time": "2022-04-21T09:08:00.445Z"
   },
   {
    "duration": 460,
    "start_time": "2022-04-21T09:09:35.558Z"
   },
   {
    "duration": 961,
    "start_time": "2022-04-21T09:10:22.734Z"
   },
   {
    "duration": 21,
    "start_time": "2022-04-21T09:10:23.698Z"
   },
   {
    "duration": 55,
    "start_time": "2022-04-21T09:10:23.721Z"
   },
   {
    "duration": 8,
    "start_time": "2022-04-21T09:10:23.779Z"
   },
   {
    "duration": 31,
    "start_time": "2022-04-21T09:10:23.789Z"
   },
   {
    "duration": 26,
    "start_time": "2022-04-21T09:10:23.822Z"
   },
   {
    "duration": 22,
    "start_time": "2022-04-21T09:10:23.850Z"
   },
   {
    "duration": 28,
    "start_time": "2022-04-21T09:10:23.874Z"
   },
   {
    "duration": 27,
    "start_time": "2022-04-21T09:10:23.905Z"
   },
   {
    "duration": 26,
    "start_time": "2022-04-21T09:10:23.936Z"
   },
   {
    "duration": 31,
    "start_time": "2022-04-21T09:10:23.964Z"
   },
   {
    "duration": 19,
    "start_time": "2022-04-21T09:10:23.997Z"
   },
   {
    "duration": 22,
    "start_time": "2022-04-21T09:10:24.018Z"
   },
   {
    "duration": 24,
    "start_time": "2022-04-21T09:10:24.043Z"
   },
   {
    "duration": 33,
    "start_time": "2022-04-21T09:10:24.069Z"
   },
   {
    "duration": 36,
    "start_time": "2022-04-21T09:10:24.104Z"
   },
   {
    "duration": 27,
    "start_time": "2022-04-21T09:10:24.143Z"
   },
   {
    "duration": 32,
    "start_time": "2022-04-21T09:10:24.172Z"
   },
   {
    "duration": 29,
    "start_time": "2022-04-21T09:10:24.206Z"
   },
   {
    "duration": 29,
    "start_time": "2022-04-21T09:10:24.237Z"
   },
   {
    "duration": 490,
    "start_time": "2022-04-21T09:10:24.269Z"
   },
   {
    "duration": 17,
    "start_time": "2022-04-21T09:10:24.761Z"
   },
   {
    "duration": 13,
    "start_time": "2022-04-21T09:10:24.780Z"
   },
   {
    "duration": 28,
    "start_time": "2022-04-21T09:10:24.795Z"
   },
   {
    "duration": 21,
    "start_time": "2022-04-21T09:10:24.825Z"
   },
   {
    "duration": 37,
    "start_time": "2022-04-21T09:10:24.848Z"
   },
   {
    "duration": 558,
    "start_time": "2022-04-21T09:10:24.887Z"
   },
   {
    "duration": 507,
    "start_time": "2022-04-21T09:10:25.454Z"
   },
   {
    "duration": 341,
    "start_time": "2022-04-21T09:10:25.964Z"
   },
   {
    "duration": 336,
    "start_time": "2022-04-21T09:10:26.307Z"
   },
   {
    "duration": 876,
    "start_time": "2022-04-21T09:10:26.651Z"
   },
   {
    "duration": 24,
    "start_time": "2022-04-21T09:10:27.529Z"
   },
   {
    "duration": 735,
    "start_time": "2022-04-21T09:10:27.555Z"
   },
   {
    "duration": 8,
    "start_time": "2022-04-21T09:10:28.292Z"
   },
   {
    "duration": 328,
    "start_time": "2022-04-21T09:10:28.302Z"
   },
   {
    "duration": 269,
    "start_time": "2022-04-21T09:10:28.632Z"
   },
   {
    "duration": 302,
    "start_time": "2022-04-21T09:10:28.903Z"
   },
   {
    "duration": 237,
    "start_time": "2022-04-21T09:10:29.208Z"
   },
   {
    "duration": 705,
    "start_time": "2022-04-21T09:10:29.447Z"
   },
   {
    "duration": 707,
    "start_time": "2022-04-21T09:15:05.261Z"
   },
   {
    "duration": 348,
    "start_time": "2022-04-21T09:15:19.546Z"
   },
   {
    "duration": 698,
    "start_time": "2022-04-21T09:15:31.845Z"
   },
   {
    "duration": 24,
    "start_time": "2022-04-21T09:15:53.344Z"
   },
   {
    "duration": 12,
    "start_time": "2022-04-21T09:16:05.808Z"
   },
   {
    "duration": 11,
    "start_time": "2022-04-21T09:16:37.226Z"
   },
   {
    "duration": 13,
    "start_time": "2022-04-21T09:16:55.126Z"
   },
   {
    "duration": 13,
    "start_time": "2022-04-21T09:17:12.864Z"
   },
   {
    "duration": 16,
    "start_time": "2022-04-21T09:26:18.691Z"
   },
   {
    "duration": 34,
    "start_time": "2022-04-21T09:26:27.476Z"
   },
   {
    "duration": 33,
    "start_time": "2022-04-21T09:26:42.277Z"
   },
   {
    "duration": 34,
    "start_time": "2022-04-21T09:27:11.626Z"
   },
   {
    "duration": 32,
    "start_time": "2022-04-21T09:28:49.288Z"
   },
   {
    "duration": 12,
    "start_time": "2022-04-21T09:29:16.267Z"
   },
   {
    "duration": 923,
    "start_time": "2022-04-21T09:38:45.546Z"
   },
   {
    "duration": 22,
    "start_time": "2022-04-21T09:38:46.471Z"
   },
   {
    "duration": 62,
    "start_time": "2022-04-21T09:38:46.495Z"
   },
   {
    "duration": 8,
    "start_time": "2022-04-21T09:38:46.559Z"
   },
   {
    "duration": 8,
    "start_time": "2022-04-21T09:38:46.569Z"
   },
   {
    "duration": 8,
    "start_time": "2022-04-21T09:38:46.579Z"
   },
   {
    "duration": 7,
    "start_time": "2022-04-21T09:38:46.589Z"
   },
   {
    "duration": 9,
    "start_time": "2022-04-21T09:38:46.598Z"
   },
   {
    "duration": 9,
    "start_time": "2022-04-21T09:38:46.652Z"
   },
   {
    "duration": 7,
    "start_time": "2022-04-21T09:38:46.665Z"
   },
   {
    "duration": 10,
    "start_time": "2022-04-21T09:38:46.673Z"
   },
   {
    "duration": 8,
    "start_time": "2022-04-21T09:38:46.685Z"
   },
   {
    "duration": 60,
    "start_time": "2022-04-21T09:38:46.695Z"
   },
   {
    "duration": 8,
    "start_time": "2022-04-21T09:38:46.757Z"
   },
   {
    "duration": 11,
    "start_time": "2022-04-21T09:38:46.767Z"
   },
   {
    "duration": 12,
    "start_time": "2022-04-21T09:38:46.780Z"
   },
   {
    "duration": 8,
    "start_time": "2022-04-21T09:38:46.794Z"
   },
   {
    "duration": 9,
    "start_time": "2022-04-21T09:38:46.804Z"
   },
   {
    "duration": 44,
    "start_time": "2022-04-21T09:38:46.815Z"
   },
   {
    "duration": 36,
    "start_time": "2022-04-21T09:38:46.861Z"
   },
   {
    "duration": 490,
    "start_time": "2022-04-21T09:38:46.899Z"
   },
   {
    "duration": 16,
    "start_time": "2022-04-21T09:38:47.392Z"
   },
   {
    "duration": 10,
    "start_time": "2022-04-21T09:38:47.410Z"
   },
   {
    "duration": 30,
    "start_time": "2022-04-21T09:38:47.422Z"
   },
   {
    "duration": 5,
    "start_time": "2022-04-21T09:38:47.454Z"
   },
   {
    "duration": 38,
    "start_time": "2022-04-21T09:38:47.461Z"
   },
   {
    "duration": 550,
    "start_time": "2022-04-21T09:38:47.501Z"
   },
   {
    "duration": 507,
    "start_time": "2022-04-21T09:38:48.057Z"
   },
   {
    "duration": 337,
    "start_time": "2022-04-21T09:38:48.567Z"
   },
   {
    "duration": 332,
    "start_time": "2022-04-21T09:38:48.907Z"
   },
   {
    "duration": 887,
    "start_time": "2022-04-21T09:38:49.241Z"
   },
   {
    "duration": 26,
    "start_time": "2022-04-21T09:38:50.130Z"
   },
   {
    "duration": 743,
    "start_time": "2022-04-21T09:38:50.158Z"
   },
   {
    "duration": 10,
    "start_time": "2022-04-21T09:38:50.904Z"
   },
   {
    "duration": 343,
    "start_time": "2022-04-21T09:38:50.916Z"
   },
   {
    "duration": 262,
    "start_time": "2022-04-21T09:38:51.261Z"
   },
   {
    "duration": 297,
    "start_time": "2022-04-21T09:38:51.524Z"
   },
   {
    "duration": 239,
    "start_time": "2022-04-21T09:38:51.823Z"
   },
   {
    "duration": 702,
    "start_time": "2022-04-21T09:38:52.064Z"
   },
   {
    "duration": 13,
    "start_time": "2022-04-21T09:38:52.768Z"
   },
   {
    "duration": 32,
    "start_time": "2022-04-21T09:38:52.783Z"
   },
   {
    "duration": 37,
    "start_time": "2022-04-21T09:38:52.817Z"
   },
   {
    "duration": 118,
    "start_time": "2022-04-21T12:33:45.769Z"
   },
   {
    "duration": 13,
    "start_time": "2022-04-21T12:34:27.624Z"
   },
   {
    "duration": 258,
    "start_time": "2022-04-21T12:34:39.934Z"
   },
   {
    "duration": 21,
    "start_time": "2022-04-21T12:35:37.310Z"
   },
   {
    "duration": 263,
    "start_time": "2022-04-21T12:35:58.070Z"
   },
   {
    "duration": 22,
    "start_time": "2022-04-21T13:05:37.594Z"
   },
   {
    "duration": 282,
    "start_time": "2022-04-21T13:05:45.239Z"
   },
   {
    "duration": 16,
    "start_time": "2022-04-21T13:14:04.960Z"
   },
   {
    "duration": 21,
    "start_time": "2022-04-21T13:14:11.402Z"
   },
   {
    "duration": 250,
    "start_time": "2022-04-21T13:14:21.147Z"
   },
   {
    "duration": 276,
    "start_time": "2022-04-21T13:16:00.690Z"
   },
   {
    "duration": 493,
    "start_time": "2022-04-21T13:16:19.276Z"
   },
   {
    "duration": 252,
    "start_time": "2022-04-21T13:26:01.279Z"
   },
   {
    "duration": 21,
    "start_time": "2022-04-21T13:50:21.116Z"
   },
   {
    "duration": 376,
    "start_time": "2022-04-21T13:51:00.539Z"
   },
   {
    "duration": 382,
    "start_time": "2022-04-21T13:51:14.237Z"
   },
   {
    "duration": 364,
    "start_time": "2022-04-21T13:51:23.142Z"
   },
   {
    "duration": 257,
    "start_time": "2022-04-21T14:16:56.242Z"
   },
   {
    "duration": 214,
    "start_time": "2022-04-21T14:19:25.177Z"
   },
   {
    "duration": 997,
    "start_time": "2022-04-21T14:32:20.570Z"
   },
   {
    "duration": 790,
    "start_time": "2022-04-21T14:34:01.297Z"
   },
   {
    "duration": 990,
    "start_time": "2022-04-21T14:34:15.705Z"
   },
   {
    "duration": 727,
    "start_time": "2022-04-21T14:34:24.363Z"
   },
   {
    "duration": 709,
    "start_time": "2022-04-21T14:35:08.497Z"
   },
   {
    "duration": 489,
    "start_time": "2022-04-21T14:35:29.441Z"
   },
   {
    "duration": 722,
    "start_time": "2022-04-21T14:35:54.355Z"
   },
   {
    "duration": 708,
    "start_time": "2022-04-21T14:37:08.600Z"
   },
   {
    "duration": 338,
    "start_time": "2022-04-21T14:49:24.478Z"
   },
   {
    "duration": 250,
    "start_time": "2022-04-21T14:50:05.975Z"
   },
   {
    "duration": 245,
    "start_time": "2022-04-21T14:50:49.234Z"
   },
   {
    "duration": 1057,
    "start_time": "2022-04-22T06:19:16.056Z"
   },
   {
    "duration": 22,
    "start_time": "2022-04-22T06:19:17.115Z"
   },
   {
    "duration": 37,
    "start_time": "2022-04-22T06:19:17.140Z"
   },
   {
    "duration": 7,
    "start_time": "2022-04-22T06:19:17.179Z"
   },
   {
    "duration": 7,
    "start_time": "2022-04-22T06:19:17.189Z"
   },
   {
    "duration": 41,
    "start_time": "2022-04-22T06:19:17.198Z"
   },
   {
    "duration": 24,
    "start_time": "2022-04-22T06:19:17.244Z"
   },
   {
    "duration": 8,
    "start_time": "2022-04-22T06:19:17.270Z"
   },
   {
    "duration": 9,
    "start_time": "2022-04-22T06:19:17.280Z"
   },
   {
    "duration": 6,
    "start_time": "2022-04-22T06:19:17.291Z"
   },
   {
    "duration": 7,
    "start_time": "2022-04-22T06:19:17.298Z"
   },
   {
    "duration": 6,
    "start_time": "2022-04-22T06:19:17.307Z"
   },
   {
    "duration": 17,
    "start_time": "2022-04-22T06:19:17.340Z"
   },
   {
    "duration": 7,
    "start_time": "2022-04-22T06:19:17.363Z"
   },
   {
    "duration": 7,
    "start_time": "2022-04-22T06:19:17.372Z"
   },
   {
    "duration": 10,
    "start_time": "2022-04-22T06:19:17.381Z"
   },
   {
    "duration": 8,
    "start_time": "2022-04-22T06:19:17.394Z"
   },
   {
    "duration": 36,
    "start_time": "2022-04-22T06:19:17.404Z"
   },
   {
    "duration": 27,
    "start_time": "2022-04-22T06:19:17.442Z"
   },
   {
    "duration": 19,
    "start_time": "2022-04-22T06:19:17.470Z"
   },
   {
    "duration": 327,
    "start_time": "2022-04-22T06:19:17.491Z"
   },
   {
    "duration": 21,
    "start_time": "2022-04-22T06:19:17.820Z"
   },
   {
    "duration": 21,
    "start_time": "2022-04-22T06:19:17.843Z"
   },
   {
    "duration": 13,
    "start_time": "2022-04-22T06:19:17.865Z"
   },
   {
    "duration": 6,
    "start_time": "2022-04-22T06:19:17.880Z"
   },
   {
    "duration": 26,
    "start_time": "2022-04-22T06:19:17.888Z"
   },
   {
    "duration": 439,
    "start_time": "2022-04-22T06:19:17.915Z"
   },
   {
    "duration": 369,
    "start_time": "2022-04-22T06:19:18.357Z"
   },
   {
    "duration": 255,
    "start_time": "2022-04-22T06:19:18.728Z"
   },
   {
    "duration": 229,
    "start_time": "2022-04-22T06:19:18.985Z"
   },
   {
    "duration": 666,
    "start_time": "2022-04-22T06:19:19.216Z"
   },
   {
    "duration": 11,
    "start_time": "2022-04-22T06:19:19.883Z"
   },
   {
    "duration": 585,
    "start_time": "2022-04-22T06:19:19.896Z"
   },
   {
    "duration": 6,
    "start_time": "2022-04-22T06:19:20.483Z"
   },
   {
    "duration": 289,
    "start_time": "2022-04-22T06:19:20.491Z"
   },
   {
    "duration": 202,
    "start_time": "2022-04-22T06:19:20.782Z"
   },
   {
    "duration": 217,
    "start_time": "2022-04-22T06:19:20.986Z"
   },
   {
    "duration": 177,
    "start_time": "2022-04-22T06:19:21.205Z"
   },
   {
    "duration": 527,
    "start_time": "2022-04-22T06:19:21.385Z"
   },
   {
    "duration": 10,
    "start_time": "2022-04-22T06:19:21.913Z"
   },
   {
    "duration": 41,
    "start_time": "2022-04-22T06:19:21.927Z"
   },
   {
    "duration": 9,
    "start_time": "2022-04-22T06:19:21.970Z"
   },
   {
    "duration": 132,
    "start_time": "2022-04-22T06:19:21.981Z"
   },
   {
    "duration": 0,
    "start_time": "2022-04-22T06:19:22.116Z"
   },
   {
    "duration": 0,
    "start_time": "2022-04-22T06:19:22.117Z"
   },
   {
    "duration": 0,
    "start_time": "2022-04-22T06:19:22.119Z"
   },
   {
    "duration": 0,
    "start_time": "2022-04-22T06:19:22.133Z"
   },
   {
    "duration": 0,
    "start_time": "2022-04-22T06:19:22.135Z"
   },
   {
    "duration": 878,
    "start_time": "2022-04-22T06:19:51.793Z"
   },
   {
    "duration": 17,
    "start_time": "2022-04-22T06:19:52.673Z"
   },
   {
    "duration": 52,
    "start_time": "2022-04-22T06:19:52.691Z"
   },
   {
    "duration": 14,
    "start_time": "2022-04-22T06:19:52.746Z"
   },
   {
    "duration": 18,
    "start_time": "2022-04-22T06:19:52.761Z"
   },
   {
    "duration": 14,
    "start_time": "2022-04-22T06:19:52.780Z"
   },
   {
    "duration": 11,
    "start_time": "2022-04-22T06:19:52.796Z"
   },
   {
    "duration": 33,
    "start_time": "2022-04-22T06:19:52.809Z"
   },
   {
    "duration": 27,
    "start_time": "2022-04-22T06:19:52.844Z"
   },
   {
    "duration": 5,
    "start_time": "2022-04-22T06:19:52.876Z"
   },
   {
    "duration": 11,
    "start_time": "2022-04-22T06:19:52.883Z"
   },
   {
    "duration": 7,
    "start_time": "2022-04-22T06:19:52.895Z"
   },
   {
    "duration": 6,
    "start_time": "2022-04-22T06:19:52.903Z"
   },
   {
    "duration": 12,
    "start_time": "2022-04-22T06:19:52.910Z"
   },
   {
    "duration": 17,
    "start_time": "2022-04-22T06:19:52.924Z"
   },
   {
    "duration": 26,
    "start_time": "2022-04-22T06:19:52.943Z"
   },
   {
    "duration": 7,
    "start_time": "2022-04-22T06:19:52.970Z"
   },
   {
    "duration": 7,
    "start_time": "2022-04-22T06:19:52.978Z"
   },
   {
    "duration": 6,
    "start_time": "2022-04-22T06:19:52.987Z"
   },
   {
    "duration": 19,
    "start_time": "2022-04-22T06:19:52.995Z"
   },
   {
    "duration": 338,
    "start_time": "2022-04-22T06:19:53.033Z"
   },
   {
    "duration": 15,
    "start_time": "2022-04-22T06:19:53.372Z"
   },
   {
    "duration": 6,
    "start_time": "2022-04-22T06:19:53.388Z"
   },
   {
    "duration": 8,
    "start_time": "2022-04-22T06:19:53.395Z"
   },
   {
    "duration": 8,
    "start_time": "2022-04-22T06:19:53.404Z"
   },
   {
    "duration": 68,
    "start_time": "2022-04-22T06:19:53.414Z"
   },
   {
    "duration": 411,
    "start_time": "2022-04-22T06:19:53.484Z"
   },
   {
    "duration": 396,
    "start_time": "2022-04-22T06:19:53.899Z"
   },
   {
    "duration": 271,
    "start_time": "2022-04-22T06:19:54.296Z"
   },
   {
    "duration": 234,
    "start_time": "2022-04-22T06:19:54.569Z"
   },
   {
    "duration": 671,
    "start_time": "2022-04-22T06:19:54.805Z"
   },
   {
    "duration": 10,
    "start_time": "2022-04-22T06:19:55.477Z"
   },
   {
    "duration": 563,
    "start_time": "2022-04-22T06:19:55.489Z"
   },
   {
    "duration": 7,
    "start_time": "2022-04-22T06:19:56.055Z"
   },
   {
    "duration": 298,
    "start_time": "2022-04-22T06:19:56.064Z"
   },
   {
    "duration": 195,
    "start_time": "2022-04-22T06:19:56.363Z"
   },
   {
    "duration": 237,
    "start_time": "2022-04-22T06:19:56.560Z"
   },
   {
    "duration": 183,
    "start_time": "2022-04-22T06:19:56.800Z"
   },
   {
    "duration": 510,
    "start_time": "2022-04-22T06:19:56.985Z"
   },
   {
    "duration": 10,
    "start_time": "2022-04-22T06:19:57.496Z"
   },
   {
    "duration": 47,
    "start_time": "2022-04-22T06:19:57.508Z"
   },
   {
    "duration": 20,
    "start_time": "2022-04-22T06:19:57.558Z"
   },
   {
    "duration": 152,
    "start_time": "2022-04-22T06:19:57.580Z"
   },
   {
    "duration": 0,
    "start_time": "2022-04-22T06:19:57.736Z"
   },
   {
    "duration": 0,
    "start_time": "2022-04-22T06:19:57.737Z"
   },
   {
    "duration": 0,
    "start_time": "2022-04-22T06:19:57.739Z"
   },
   {
    "duration": 0,
    "start_time": "2022-04-22T06:19:57.741Z"
   },
   {
    "duration": 0,
    "start_time": "2022-04-22T06:19:57.742Z"
   },
   {
    "duration": 47,
    "start_time": "2022-04-22T06:20:31.009Z"
   },
   {
    "duration": 38,
    "start_time": "2022-04-22T06:20:54.359Z"
   },
   {
    "duration": 186,
    "start_time": "2022-04-22T06:21:29.590Z"
   },
   {
    "duration": 832,
    "start_time": "2022-04-22T06:21:38.354Z"
   },
   {
    "duration": 17,
    "start_time": "2022-04-22T06:21:39.188Z"
   },
   {
    "duration": 43,
    "start_time": "2022-04-22T06:21:39.207Z"
   },
   {
    "duration": 10,
    "start_time": "2022-04-22T06:21:39.252Z"
   },
   {
    "duration": 9,
    "start_time": "2022-04-22T06:21:39.264Z"
   },
   {
    "duration": 9,
    "start_time": "2022-04-22T06:21:39.275Z"
   },
   {
    "duration": 5,
    "start_time": "2022-04-22T06:21:39.286Z"
   },
   {
    "duration": 15,
    "start_time": "2022-04-22T06:21:39.293Z"
   },
   {
    "duration": 38,
    "start_time": "2022-04-22T06:21:39.309Z"
   },
   {
    "duration": 11,
    "start_time": "2022-04-22T06:21:39.352Z"
   },
   {
    "duration": 11,
    "start_time": "2022-04-22T06:21:39.365Z"
   },
   {
    "duration": 8,
    "start_time": "2022-04-22T06:21:39.377Z"
   },
   {
    "duration": 6,
    "start_time": "2022-04-22T06:21:39.387Z"
   },
   {
    "duration": 7,
    "start_time": "2022-04-22T06:21:39.397Z"
   },
   {
    "duration": 39,
    "start_time": "2022-04-22T06:21:39.406Z"
   },
   {
    "duration": 11,
    "start_time": "2022-04-22T06:21:39.447Z"
   },
   {
    "duration": 11,
    "start_time": "2022-04-22T06:21:39.461Z"
   },
   {
    "duration": 7,
    "start_time": "2022-04-22T06:21:39.473Z"
   },
   {
    "duration": 6,
    "start_time": "2022-04-22T06:21:39.481Z"
   },
   {
    "duration": 51,
    "start_time": "2022-04-22T06:21:39.489Z"
   },
   {
    "duration": 312,
    "start_time": "2022-04-22T06:21:39.541Z"
   },
   {
    "duration": 15,
    "start_time": "2022-04-22T06:21:39.855Z"
   },
   {
    "duration": 5,
    "start_time": "2022-04-22T06:21:39.872Z"
   },
   {
    "duration": 6,
    "start_time": "2022-04-22T06:21:39.878Z"
   },
   {
    "duration": 6,
    "start_time": "2022-04-22T06:21:39.885Z"
   },
   {
    "duration": 49,
    "start_time": "2022-04-22T06:21:39.892Z"
   },
   {
    "duration": 431,
    "start_time": "2022-04-22T06:21:39.944Z"
   },
   {
    "duration": 366,
    "start_time": "2022-04-22T06:21:40.377Z"
   },
   {
    "duration": 250,
    "start_time": "2022-04-22T06:21:40.745Z"
   },
   {
    "duration": 265,
    "start_time": "2022-04-22T06:21:40.997Z"
   },
   {
    "duration": 655,
    "start_time": "2022-04-22T06:21:41.264Z"
   },
   {
    "duration": 18,
    "start_time": "2022-04-22T06:21:41.921Z"
   },
   {
    "duration": 561,
    "start_time": "2022-04-22T06:21:41.941Z"
   },
   {
    "duration": 6,
    "start_time": "2022-04-22T06:21:42.504Z"
   },
   {
    "duration": 272,
    "start_time": "2022-04-22T06:21:42.511Z"
   },
   {
    "duration": 190,
    "start_time": "2022-04-22T06:21:42.785Z"
   },
   {
    "duration": 222,
    "start_time": "2022-04-22T06:21:42.977Z"
   },
   {
    "duration": 176,
    "start_time": "2022-04-22T06:21:43.201Z"
   },
   {
    "duration": 502,
    "start_time": "2022-04-22T06:21:43.379Z"
   },
   {
    "duration": 10,
    "start_time": "2022-04-22T06:21:43.883Z"
   },
   {
    "duration": 43,
    "start_time": "2022-04-22T06:21:43.898Z"
   },
   {
    "duration": 10,
    "start_time": "2022-04-22T06:21:43.943Z"
   },
   {
    "duration": 190,
    "start_time": "2022-04-22T06:21:43.955Z"
   },
   {
    "duration": 118,
    "start_time": "2022-04-22T06:21:44.148Z"
   },
   {
    "duration": 0,
    "start_time": "2022-04-22T06:21:44.268Z"
   },
   {
    "duration": 0,
    "start_time": "2022-04-22T06:21:44.269Z"
   },
   {
    "duration": 0,
    "start_time": "2022-04-22T06:21:44.271Z"
   },
   {
    "duration": 0,
    "start_time": "2022-04-22T06:21:44.272Z"
   },
   {
    "duration": 167,
    "start_time": "2022-04-22T06:23:48.759Z"
   },
   {
    "duration": 864,
    "start_time": "2022-04-22T06:23:55.068Z"
   },
   {
    "duration": 31,
    "start_time": "2022-04-22T06:23:55.935Z"
   },
   {
    "duration": 31,
    "start_time": "2022-04-22T06:23:55.968Z"
   },
   {
    "duration": 7,
    "start_time": "2022-04-22T06:23:56.002Z"
   },
   {
    "duration": 28,
    "start_time": "2022-04-22T06:23:56.011Z"
   },
   {
    "duration": 27,
    "start_time": "2022-04-22T06:23:56.041Z"
   },
   {
    "duration": 9,
    "start_time": "2022-04-22T06:23:56.070Z"
   },
   {
    "duration": 14,
    "start_time": "2022-04-22T06:23:56.080Z"
   },
   {
    "duration": 11,
    "start_time": "2022-04-22T06:23:56.095Z"
   },
   {
    "duration": 6,
    "start_time": "2022-04-22T06:23:56.109Z"
   },
   {
    "duration": 8,
    "start_time": "2022-04-22T06:23:56.117Z"
   },
   {
    "duration": 24,
    "start_time": "2022-04-22T06:23:56.127Z"
   },
   {
    "duration": 18,
    "start_time": "2022-04-22T06:23:56.153Z"
   },
   {
    "duration": 7,
    "start_time": "2022-04-22T06:23:56.173Z"
   },
   {
    "duration": 7,
    "start_time": "2022-04-22T06:23:56.182Z"
   },
   {
    "duration": 8,
    "start_time": "2022-04-22T06:23:56.191Z"
   },
   {
    "duration": 42,
    "start_time": "2022-04-22T06:23:56.201Z"
   },
   {
    "duration": 16,
    "start_time": "2022-04-22T06:23:56.245Z"
   },
   {
    "duration": 10,
    "start_time": "2022-04-22T06:23:56.262Z"
   },
   {
    "duration": 19,
    "start_time": "2022-04-22T06:23:56.274Z"
   },
   {
    "duration": 344,
    "start_time": "2022-04-22T06:23:56.295Z"
   },
   {
    "duration": 16,
    "start_time": "2022-04-22T06:23:56.641Z"
   },
   {
    "duration": 14,
    "start_time": "2022-04-22T06:23:56.659Z"
   },
   {
    "duration": 7,
    "start_time": "2022-04-22T06:23:56.675Z"
   },
   {
    "duration": 6,
    "start_time": "2022-04-22T06:23:56.684Z"
   },
   {
    "duration": 27,
    "start_time": "2022-04-22T06:23:56.692Z"
   },
   {
    "duration": 448,
    "start_time": "2022-04-22T06:23:56.738Z"
   },
   {
    "duration": 395,
    "start_time": "2022-04-22T06:23:57.189Z"
   },
   {
    "duration": 265,
    "start_time": "2022-04-22T06:23:57.585Z"
   },
   {
    "duration": 242,
    "start_time": "2022-04-22T06:23:57.853Z"
   },
   {
    "duration": 667,
    "start_time": "2022-04-22T06:23:58.097Z"
   },
   {
    "duration": 12,
    "start_time": "2022-04-22T06:23:58.766Z"
   },
   {
    "duration": 575,
    "start_time": "2022-04-22T06:23:58.780Z"
   },
   {
    "duration": 7,
    "start_time": "2022-04-22T06:23:59.357Z"
   },
   {
    "duration": 288,
    "start_time": "2022-04-22T06:23:59.366Z"
   },
   {
    "duration": 206,
    "start_time": "2022-04-22T06:23:59.656Z"
   },
   {
    "duration": 230,
    "start_time": "2022-04-22T06:23:59.864Z"
   },
   {
    "duration": 191,
    "start_time": "2022-04-22T06:24:00.096Z"
   },
   {
    "duration": 525,
    "start_time": "2022-04-22T06:24:00.289Z"
   },
   {
    "duration": 10,
    "start_time": "2022-04-22T06:24:00.815Z"
   },
   {
    "duration": 46,
    "start_time": "2022-04-22T06:24:00.835Z"
   },
   {
    "duration": 9,
    "start_time": "2022-04-22T06:24:00.883Z"
   },
   {
    "duration": 197,
    "start_time": "2022-04-22T06:24:00.894Z"
   },
   {
    "duration": 185,
    "start_time": "2022-04-22T06:24:01.092Z"
   },
   {
    "duration": 3312,
    "start_time": "2022-04-22T06:24:01.278Z"
   },
   {
    "duration": 0,
    "start_time": "2022-04-22T06:24:04.592Z"
   },
   {
    "duration": 0,
    "start_time": "2022-04-22T06:24:04.593Z"
   },
   {
    "duration": 0,
    "start_time": "2022-04-22T06:24:04.594Z"
   },
   {
    "duration": 837,
    "start_time": "2022-04-22T06:24:27.996Z"
   },
   {
    "duration": 26,
    "start_time": "2022-04-22T06:24:28.840Z"
   },
   {
    "duration": 32,
    "start_time": "2022-04-22T06:24:28.868Z"
   },
   {
    "duration": 6,
    "start_time": "2022-04-22T06:24:28.902Z"
   },
   {
    "duration": 28,
    "start_time": "2022-04-22T06:24:28.909Z"
   },
   {
    "duration": 31,
    "start_time": "2022-04-22T06:24:28.939Z"
   },
   {
    "duration": 5,
    "start_time": "2022-04-22T06:24:28.972Z"
   },
   {
    "duration": 8,
    "start_time": "2022-04-22T06:24:28.979Z"
   },
   {
    "duration": 9,
    "start_time": "2022-04-22T06:24:28.989Z"
   },
   {
    "duration": 5,
    "start_time": "2022-04-22T06:24:29.001Z"
   },
   {
    "duration": 15,
    "start_time": "2022-04-22T06:24:29.007Z"
   },
   {
    "duration": 15,
    "start_time": "2022-04-22T06:24:29.035Z"
   },
   {
    "duration": 11,
    "start_time": "2022-04-22T06:24:29.052Z"
   },
   {
    "duration": 11,
    "start_time": "2022-04-22T06:24:29.064Z"
   },
   {
    "duration": 9,
    "start_time": "2022-04-22T06:24:29.076Z"
   },
   {
    "duration": 6,
    "start_time": "2022-04-22T06:24:29.087Z"
   },
   {
    "duration": 6,
    "start_time": "2022-04-22T06:24:29.095Z"
   },
   {
    "duration": 39,
    "start_time": "2022-04-22T06:24:29.103Z"
   },
   {
    "duration": 18,
    "start_time": "2022-04-22T06:24:29.143Z"
   },
   {
    "duration": 19,
    "start_time": "2022-04-22T06:24:29.163Z"
   },
   {
    "duration": 329,
    "start_time": "2022-04-22T06:24:29.184Z"
   },
   {
    "duration": 18,
    "start_time": "2022-04-22T06:24:29.515Z"
   },
   {
    "duration": 7,
    "start_time": "2022-04-22T06:24:29.537Z"
   },
   {
    "duration": 27,
    "start_time": "2022-04-22T06:24:29.547Z"
   },
   {
    "duration": 8,
    "start_time": "2022-04-22T06:24:29.576Z"
   },
   {
    "duration": 27,
    "start_time": "2022-04-22T06:24:29.586Z"
   },
   {
    "duration": 435,
    "start_time": "2022-04-22T06:24:29.615Z"
   },
   {
    "duration": 370,
    "start_time": "2022-04-22T06:24:30.055Z"
   },
   {
    "duration": 264,
    "start_time": "2022-04-22T06:24:30.427Z"
   },
   {
    "duration": 248,
    "start_time": "2022-04-22T06:24:30.693Z"
   },
   {
    "duration": 665,
    "start_time": "2022-04-22T06:24:30.944Z"
   },
   {
    "duration": 30,
    "start_time": "2022-04-22T06:24:31.611Z"
   },
   {
    "duration": 555,
    "start_time": "2022-04-22T06:24:31.643Z"
   },
   {
    "duration": 7,
    "start_time": "2022-04-22T06:24:32.199Z"
   },
   {
    "duration": 298,
    "start_time": "2022-04-22T06:24:32.207Z"
   },
   {
    "duration": 189,
    "start_time": "2022-04-22T06:24:32.506Z"
   },
   {
    "duration": 216,
    "start_time": "2022-04-22T06:24:32.697Z"
   },
   {
    "duration": 175,
    "start_time": "2022-04-22T06:24:32.915Z"
   },
   {
    "duration": 502,
    "start_time": "2022-04-22T06:24:33.092Z"
   },
   {
    "duration": 10,
    "start_time": "2022-04-22T06:24:33.596Z"
   },
   {
    "duration": 50,
    "start_time": "2022-04-22T06:24:33.608Z"
   },
   {
    "duration": 9,
    "start_time": "2022-04-22T06:24:33.661Z"
   },
   {
    "duration": 189,
    "start_time": "2022-04-22T06:24:33.672Z"
   },
   {
    "duration": 175,
    "start_time": "2022-04-22T06:24:33.863Z"
   },
   {
    "duration": 180,
    "start_time": "2022-04-22T06:24:34.040Z"
   },
   {
    "duration": 178,
    "start_time": "2022-04-22T06:24:34.222Z"
   },
   {
    "duration": 581,
    "start_time": "2022-04-22T06:24:34.402Z"
   },
   {
    "duration": 188,
    "start_time": "2022-04-22T06:24:34.984Z"
   },
   {
    "duration": 188,
    "start_time": "2022-04-22T06:25:17.233Z"
   },
   {
    "duration": 874,
    "start_time": "2022-04-22T06:25:48.957Z"
   },
   {
    "duration": 27,
    "start_time": "2022-04-22T06:25:49.833Z"
   },
   {
    "duration": 42,
    "start_time": "2022-04-22T06:25:49.865Z"
   },
   {
    "duration": 8,
    "start_time": "2022-04-22T06:25:49.909Z"
   },
   {
    "duration": 23,
    "start_time": "2022-04-22T06:25:49.919Z"
   },
   {
    "duration": 22,
    "start_time": "2022-04-22T06:25:49.944Z"
   },
   {
    "duration": 9,
    "start_time": "2022-04-22T06:25:49.968Z"
   },
   {
    "duration": 16,
    "start_time": "2022-04-22T06:25:49.978Z"
   },
   {
    "duration": 25,
    "start_time": "2022-04-22T06:25:49.996Z"
   },
   {
    "duration": 43,
    "start_time": "2022-04-22T06:25:50.023Z"
   },
   {
    "duration": 11,
    "start_time": "2022-04-22T06:25:50.068Z"
   },
   {
    "duration": 11,
    "start_time": "2022-04-22T06:25:50.081Z"
   },
   {
    "duration": 6,
    "start_time": "2022-04-22T06:25:50.094Z"
   },
   {
    "duration": 38,
    "start_time": "2022-04-22T06:25:50.104Z"
   },
   {
    "duration": 28,
    "start_time": "2022-04-22T06:25:50.143Z"
   },
   {
    "duration": 11,
    "start_time": "2022-04-22T06:25:50.173Z"
   },
   {
    "duration": 10,
    "start_time": "2022-04-22T06:25:50.186Z"
   },
   {
    "duration": 19,
    "start_time": "2022-04-22T06:25:50.198Z"
   },
   {
    "duration": 12,
    "start_time": "2022-04-22T06:25:50.218Z"
   },
   {
    "duration": 52,
    "start_time": "2022-04-22T06:25:50.232Z"
   },
   {
    "duration": 331,
    "start_time": "2022-04-22T06:25:50.285Z"
   },
   {
    "duration": 21,
    "start_time": "2022-04-22T06:25:50.618Z"
   },
   {
    "duration": 7,
    "start_time": "2022-04-22T06:25:50.642Z"
   },
   {
    "duration": 37,
    "start_time": "2022-04-22T06:25:50.652Z"
   },
   {
    "duration": 12,
    "start_time": "2022-04-22T06:25:50.691Z"
   },
   {
    "duration": 32,
    "start_time": "2022-04-22T06:25:50.705Z"
   },
   {
    "duration": 428,
    "start_time": "2022-04-22T06:25:50.738Z"
   },
   {
    "duration": 359,
    "start_time": "2022-04-22T06:25:51.168Z"
   },
   {
    "duration": 255,
    "start_time": "2022-04-22T06:25:51.533Z"
   },
   {
    "duration": 239,
    "start_time": "2022-04-22T06:25:51.789Z"
   },
   {
    "duration": 688,
    "start_time": "2022-04-22T06:25:52.030Z"
   },
   {
    "duration": 25,
    "start_time": "2022-04-22T06:25:52.720Z"
   },
   {
    "duration": 543,
    "start_time": "2022-04-22T06:25:52.747Z"
   },
   {
    "duration": 7,
    "start_time": "2022-04-22T06:25:53.291Z"
   },
   {
    "duration": 272,
    "start_time": "2022-04-22T06:25:53.300Z"
   },
   {
    "duration": 196,
    "start_time": "2022-04-22T06:25:53.574Z"
   },
   {
    "duration": 224,
    "start_time": "2022-04-22T06:25:53.771Z"
   },
   {
    "duration": 186,
    "start_time": "2022-04-22T06:25:53.997Z"
   },
   {
    "duration": 531,
    "start_time": "2022-04-22T06:25:54.185Z"
   },
   {
    "duration": 28,
    "start_time": "2022-04-22T06:25:54.718Z"
   },
   {
    "duration": 33,
    "start_time": "2022-04-22T06:25:54.754Z"
   },
   {
    "duration": 9,
    "start_time": "2022-04-22T06:25:54.788Z"
   },
   {
    "duration": 229,
    "start_time": "2022-04-22T06:25:54.799Z"
   },
   {
    "duration": 183,
    "start_time": "2022-04-22T06:25:55.029Z"
   },
   {
    "duration": 193,
    "start_time": "2022-04-22T06:25:55.214Z"
   },
   {
    "duration": 172,
    "start_time": "2022-04-22T06:25:55.408Z"
   },
   {
    "duration": 585,
    "start_time": "2022-04-22T06:25:55.582Z"
   },
   {
    "duration": 177,
    "start_time": "2022-04-22T06:25:56.169Z"
   },
   {
    "duration": 178,
    "start_time": "2022-04-22T06:28:36.919Z"
   },
   {
    "duration": 185,
    "start_time": "2022-04-22T06:28:42.887Z"
   },
   {
    "duration": 198,
    "start_time": "2022-04-22T06:33:58.376Z"
   },
   {
    "duration": 173,
    "start_time": "2022-04-22T06:35:09.298Z"
   },
   {
    "duration": 174,
    "start_time": "2022-04-22T06:35:12.315Z"
   },
   {
    "duration": 248,
    "start_time": "2022-04-22T06:55:26.879Z"
   },
   {
    "duration": 181,
    "start_time": "2022-04-22T06:55:44.644Z"
   },
   {
    "duration": 290,
    "start_time": "2022-04-22T06:56:06.601Z"
   },
   {
    "duration": 168,
    "start_time": "2022-04-22T06:56:13.740Z"
   },
   {
    "duration": 289,
    "start_time": "2022-04-22T06:56:44.208Z"
   },
   {
    "duration": 54,
    "start_time": "2022-04-29T13:05:35.285Z"
   },
   {
    "duration": 1013,
    "start_time": "2022-04-29T13:05:42.447Z"
   },
   {
    "duration": 16,
    "start_time": "2022-04-29T13:05:43.463Z"
   },
   {
    "duration": 31,
    "start_time": "2022-04-29T13:05:43.481Z"
   },
   {
    "duration": 14,
    "start_time": "2022-04-29T13:05:43.522Z"
   },
   {
    "duration": 11,
    "start_time": "2022-04-29T13:05:43.538Z"
   },
   {
    "duration": 20,
    "start_time": "2022-04-29T13:05:43.551Z"
   },
   {
    "duration": 18,
    "start_time": "2022-04-29T13:05:43.573Z"
   },
   {
    "duration": 25,
    "start_time": "2022-04-29T13:05:43.593Z"
   },
   {
    "duration": 20,
    "start_time": "2022-04-29T13:05:43.620Z"
   },
   {
    "duration": 17,
    "start_time": "2022-04-29T13:05:43.643Z"
   },
   {
    "duration": 25,
    "start_time": "2022-04-29T13:05:43.662Z"
   },
   {
    "duration": 8,
    "start_time": "2022-04-29T13:05:43.689Z"
   },
   {
    "duration": 15,
    "start_time": "2022-04-29T13:05:43.699Z"
   },
   {
    "duration": 16,
    "start_time": "2022-04-29T13:05:43.716Z"
   },
   {
    "duration": 14,
    "start_time": "2022-04-29T13:05:43.734Z"
   },
   {
    "duration": 15,
    "start_time": "2022-04-29T13:05:43.750Z"
   },
   {
    "duration": 7,
    "start_time": "2022-04-29T13:05:43.767Z"
   },
   {
    "duration": 23,
    "start_time": "2022-04-29T13:05:43.775Z"
   },
   {
    "duration": 305,
    "start_time": "2022-04-29T13:05:43.800Z"
   },
   {
    "duration": 24,
    "start_time": "2022-04-29T13:05:44.107Z"
   },
   {
    "duration": 12,
    "start_time": "2022-04-29T13:05:44.136Z"
   },
   {
    "duration": 8,
    "start_time": "2022-04-29T13:05:44.149Z"
   },
   {
    "duration": 13,
    "start_time": "2022-04-29T13:05:44.159Z"
   },
   {
    "duration": 35,
    "start_time": "2022-04-29T13:05:44.174Z"
   },
   {
    "duration": 364,
    "start_time": "2022-04-29T13:05:44.211Z"
   },
   {
    "duration": 312,
    "start_time": "2022-04-29T13:05:44.577Z"
   },
   {
    "duration": 309,
    "start_time": "2022-04-29T13:05:44.891Z"
   },
   {
    "duration": 303,
    "start_time": "2022-04-29T13:05:45.206Z"
   },
   {
    "duration": 855,
    "start_time": "2022-04-29T13:05:45.511Z"
   },
   {
    "duration": 9,
    "start_time": "2022-04-29T13:05:46.368Z"
   },
   {
    "duration": 444,
    "start_time": "2022-04-29T13:05:46.379Z"
   },
   {
    "duration": 8,
    "start_time": "2022-04-29T13:05:46.825Z"
   },
   {
    "duration": 304,
    "start_time": "2022-04-29T13:05:46.836Z"
   },
   {
    "duration": 165,
    "start_time": "2022-04-29T13:05:47.142Z"
   },
   {
    "duration": 199,
    "start_time": "2022-04-29T13:05:47.310Z"
   },
   {
    "duration": 167,
    "start_time": "2022-04-29T13:05:47.511Z"
   },
   {
    "duration": 670,
    "start_time": "2022-04-29T13:05:47.680Z"
   },
   {
    "duration": 14,
    "start_time": "2022-04-29T13:05:48.352Z"
   },
   {
    "duration": 26,
    "start_time": "2022-04-29T13:05:48.368Z"
   },
   {
    "duration": 33,
    "start_time": "2022-04-29T13:05:48.395Z"
   },
   {
    "duration": 219,
    "start_time": "2022-04-29T13:05:48.431Z"
   },
   {
    "duration": 226,
    "start_time": "2022-04-29T13:05:48.652Z"
   },
   {
    "duration": 246,
    "start_time": "2022-04-29T13:05:48.880Z"
   },
   {
    "duration": 151,
    "start_time": "2022-04-29T13:05:49.128Z"
   },
   {
    "duration": 659,
    "start_time": "2022-04-29T13:05:49.281Z"
   },
   {
    "duration": 145,
    "start_time": "2022-04-29T13:05:49.944Z"
   },
   {
    "duration": 975,
    "start_time": "2022-04-29T13:07:23.151Z"
   },
   {
    "duration": 18,
    "start_time": "2022-04-29T13:07:24.131Z"
   },
   {
    "duration": 27,
    "start_time": "2022-04-29T13:07:24.151Z"
   },
   {
    "duration": 9,
    "start_time": "2022-04-29T13:07:24.180Z"
   },
   {
    "duration": 33,
    "start_time": "2022-04-29T13:07:24.192Z"
   },
   {
    "duration": 8,
    "start_time": "2022-04-29T13:07:24.228Z"
   },
   {
    "duration": 10,
    "start_time": "2022-04-29T13:07:24.243Z"
   },
   {
    "duration": 9,
    "start_time": "2022-04-29T13:07:24.255Z"
   },
   {
    "duration": 11,
    "start_time": "2022-04-29T13:07:24.266Z"
   },
   {
    "duration": 10,
    "start_time": "2022-04-29T13:07:24.279Z"
   },
   {
    "duration": 11,
    "start_time": "2022-04-29T13:07:24.329Z"
   },
   {
    "duration": 10,
    "start_time": "2022-04-29T13:07:24.342Z"
   },
   {
    "duration": 18,
    "start_time": "2022-04-29T13:07:24.354Z"
   },
   {
    "duration": 327,
    "start_time": "2022-04-29T13:07:24.377Z"
   },
   {
    "duration": 21,
    "start_time": "2022-04-29T13:07:24.706Z"
   },
   {
    "duration": 8,
    "start_time": "2022-04-29T13:07:24.731Z"
   },
   {
    "duration": 7,
    "start_time": "2022-04-29T13:07:24.742Z"
   },
   {
    "duration": 11,
    "start_time": "2022-04-29T13:07:24.751Z"
   },
   {
    "duration": 29,
    "start_time": "2022-04-29T13:07:24.764Z"
   },
   {
    "duration": 363,
    "start_time": "2022-04-29T13:07:24.796Z"
   },
   {
    "duration": 418,
    "start_time": "2022-04-29T13:07:25.161Z"
   },
   {
    "duration": 222,
    "start_time": "2022-04-29T13:07:25.581Z"
   },
   {
    "duration": 220,
    "start_time": "2022-04-29T13:07:25.805Z"
   },
   {
    "duration": 581,
    "start_time": "2022-04-29T13:07:26.027Z"
   },
   {
    "duration": 19,
    "start_time": "2022-04-29T13:07:26.610Z"
   },
   {
    "duration": 464,
    "start_time": "2022-04-29T13:07:26.632Z"
   },
   {
    "duration": 7,
    "start_time": "2022-04-29T13:07:27.098Z"
   },
   {
    "duration": 355,
    "start_time": "2022-04-29T13:07:27.107Z"
   },
   {
    "duration": 264,
    "start_time": "2022-04-29T13:07:27.464Z"
   },
   {
    "duration": 212,
    "start_time": "2022-04-29T13:07:27.730Z"
   },
   {
    "duration": 234,
    "start_time": "2022-04-29T13:07:27.945Z"
   },
   {
    "duration": 469,
    "start_time": "2022-04-29T13:07:28.182Z"
   },
   {
    "duration": 11,
    "start_time": "2022-04-29T13:07:28.653Z"
   },
   {
    "duration": 24,
    "start_time": "2022-04-29T13:07:28.665Z"
   },
   {
    "duration": 34,
    "start_time": "2022-04-29T13:07:28.692Z"
   },
   {
    "duration": 226,
    "start_time": "2022-04-29T13:07:28.730Z"
   },
   {
    "duration": 187,
    "start_time": "2022-04-29T13:07:28.958Z"
   },
   {
    "duration": 172,
    "start_time": "2022-04-29T13:07:29.147Z"
   },
   {
    "duration": 185,
    "start_time": "2022-04-29T13:07:29.321Z"
   },
   {
    "duration": 514,
    "start_time": "2022-04-29T13:07:29.508Z"
   },
   {
    "duration": 166,
    "start_time": "2022-04-29T13:07:30.028Z"
   },
   {
    "duration": 834,
    "start_time": "2022-04-29T13:15:40.097Z"
   },
   {
    "duration": 24,
    "start_time": "2022-04-29T13:15:40.936Z"
   },
   {
    "duration": 36,
    "start_time": "2022-04-29T13:15:40.963Z"
   },
   {
    "duration": 28,
    "start_time": "2022-04-29T13:15:41.002Z"
   },
   {
    "duration": 11,
    "start_time": "2022-04-29T13:15:41.034Z"
   },
   {
    "duration": 9,
    "start_time": "2022-04-29T13:15:41.047Z"
   },
   {
    "duration": 10,
    "start_time": "2022-04-29T13:15:41.058Z"
   },
   {
    "duration": 10,
    "start_time": "2022-04-29T13:15:41.070Z"
   },
   {
    "duration": 56,
    "start_time": "2022-04-29T13:15:41.083Z"
   },
   {
    "duration": 10,
    "start_time": "2022-04-29T13:15:41.143Z"
   },
   {
    "duration": 10,
    "start_time": "2022-04-29T13:15:41.155Z"
   },
   {
    "duration": 12,
    "start_time": "2022-04-29T13:15:41.167Z"
   },
   {
    "duration": 55,
    "start_time": "2022-04-29T13:15:41.181Z"
   },
   {
    "duration": 427,
    "start_time": "2022-04-29T13:15:41.238Z"
   },
   {
    "duration": 14,
    "start_time": "2022-04-29T13:15:41.666Z"
   },
   {
    "duration": 5,
    "start_time": "2022-04-29T13:15:41.681Z"
   },
   {
    "duration": 6,
    "start_time": "2022-04-29T13:15:41.687Z"
   },
   {
    "duration": 6,
    "start_time": "2022-04-29T13:15:41.695Z"
   },
   {
    "duration": 29,
    "start_time": "2022-04-29T13:15:41.723Z"
   },
   {
    "duration": 376,
    "start_time": "2022-04-29T13:15:41.754Z"
   },
   {
    "duration": 295,
    "start_time": "2022-04-29T13:15:42.131Z"
   },
   {
    "duration": 266,
    "start_time": "2022-04-29T13:15:42.428Z"
   },
   {
    "duration": 278,
    "start_time": "2022-04-29T13:15:42.696Z"
   },
   {
    "duration": 814,
    "start_time": "2022-04-29T13:15:42.975Z"
   },
   {
    "duration": 11,
    "start_time": "2022-04-29T13:15:43.791Z"
   },
   {
    "duration": 485,
    "start_time": "2022-04-29T13:15:43.804Z"
   },
   {
    "duration": 9,
    "start_time": "2022-04-29T13:15:44.291Z"
   },
   {
    "duration": 257,
    "start_time": "2022-04-29T13:15:44.305Z"
   },
   {
    "duration": 219,
    "start_time": "2022-04-29T13:15:44.564Z"
   },
   {
    "duration": 184,
    "start_time": "2022-04-29T13:15:44.785Z"
   },
   {
    "duration": 154,
    "start_time": "2022-04-29T13:15:44.971Z"
   },
   {
    "duration": 432,
    "start_time": "2022-04-29T13:15:45.127Z"
   },
   {
    "duration": 9,
    "start_time": "2022-04-29T13:15:45.561Z"
   },
   {
    "duration": 25,
    "start_time": "2022-04-29T13:15:45.572Z"
   },
   {
    "duration": 7,
    "start_time": "2022-04-29T13:15:45.599Z"
   },
   {
    "duration": 191,
    "start_time": "2022-04-29T13:15:45.624Z"
   },
   {
    "duration": 147,
    "start_time": "2022-04-29T13:15:45.817Z"
   },
   {
    "duration": 149,
    "start_time": "2022-04-29T13:15:45.965Z"
   },
   {
    "duration": 130,
    "start_time": "2022-04-29T13:15:46.121Z"
   },
   {
    "duration": 681,
    "start_time": "2022-04-29T13:15:46.252Z"
   },
   {
    "duration": 147,
    "start_time": "2022-04-29T13:15:46.935Z"
   },
   {
    "duration": 17,
    "start_time": "2022-04-29T13:16:30.871Z"
   },
   {
    "duration": 463,
    "start_time": "2022-04-29T13:16:35.250Z"
   },
   {
    "duration": 1021,
    "start_time": "2022-04-29T13:16:49.509Z"
   },
   {
    "duration": 21,
    "start_time": "2022-04-29T13:16:50.532Z"
   },
   {
    "duration": 45,
    "start_time": "2022-04-29T13:16:50.556Z"
   },
   {
    "duration": 31,
    "start_time": "2022-04-29T13:16:50.604Z"
   },
   {
    "duration": 14,
    "start_time": "2022-04-29T13:16:50.637Z"
   },
   {
    "duration": 8,
    "start_time": "2022-04-29T13:16:50.653Z"
   },
   {
    "duration": 8,
    "start_time": "2022-04-29T13:16:50.663Z"
   },
   {
    "duration": 8,
    "start_time": "2022-04-29T13:16:50.673Z"
   },
   {
    "duration": 45,
    "start_time": "2022-04-29T13:16:50.683Z"
   },
   {
    "duration": 14,
    "start_time": "2022-04-29T13:16:50.731Z"
   },
   {
    "duration": 9,
    "start_time": "2022-04-29T13:16:50.747Z"
   },
   {
    "duration": 12,
    "start_time": "2022-04-29T13:16:50.758Z"
   },
   {
    "duration": 17,
    "start_time": "2022-04-29T13:16:50.772Z"
   },
   {
    "duration": 325,
    "start_time": "2022-04-29T13:16:50.791Z"
   },
   {
    "duration": 17,
    "start_time": "2022-04-29T13:16:51.118Z"
   },
   {
    "duration": 6,
    "start_time": "2022-04-29T13:16:51.137Z"
   },
   {
    "duration": 4,
    "start_time": "2022-04-29T13:16:51.145Z"
   },
   {
    "duration": 5,
    "start_time": "2022-04-29T13:16:51.153Z"
   },
   {
    "duration": 23,
    "start_time": "2022-04-29T13:16:51.160Z"
   },
   {
    "duration": 479,
    "start_time": "2022-04-29T13:16:51.185Z"
   },
   {
    "duration": 312,
    "start_time": "2022-04-29T13:16:51.666Z"
   },
   {
    "duration": 207,
    "start_time": "2022-04-29T13:16:51.980Z"
   },
   {
    "duration": 217,
    "start_time": "2022-04-29T13:16:52.189Z"
   },
   {
    "duration": 572,
    "start_time": "2022-04-29T13:16:52.408Z"
   },
   {
    "duration": 9,
    "start_time": "2022-04-29T13:16:52.982Z"
   },
   {
    "duration": 656,
    "start_time": "2022-04-29T13:16:52.993Z"
   },
   {
    "duration": 8,
    "start_time": "2022-04-29T13:16:53.651Z"
   },
   {
    "duration": 320,
    "start_time": "2022-04-29T13:16:53.663Z"
   },
   {
    "duration": 258,
    "start_time": "2022-04-29T13:16:53.985Z"
   },
   {
    "duration": 211,
    "start_time": "2022-04-29T13:16:54.245Z"
   },
   {
    "duration": 180,
    "start_time": "2022-04-29T13:16:54.458Z"
   },
   {
    "duration": 459,
    "start_time": "2022-04-29T13:16:54.640Z"
   },
   {
    "duration": 10,
    "start_time": "2022-04-29T13:16:55.100Z"
   },
   {
    "duration": 31,
    "start_time": "2022-04-29T13:16:55.125Z"
   },
   {
    "duration": 9,
    "start_time": "2022-04-29T13:16:55.158Z"
   },
   {
    "duration": 185,
    "start_time": "2022-04-29T13:16:55.168Z"
   },
   {
    "duration": 213,
    "start_time": "2022-04-29T13:16:55.354Z"
   },
   {
    "duration": 187,
    "start_time": "2022-04-29T13:16:55.570Z"
   },
   {
    "duration": 188,
    "start_time": "2022-04-29T13:16:55.759Z"
   },
   {
    "duration": 704,
    "start_time": "2022-04-29T13:16:55.950Z"
   },
   {
    "duration": 209,
    "start_time": "2022-04-29T13:16:56.655Z"
   },
   {
    "duration": 322,
    "start_time": "2022-04-29T13:19:33.129Z"
   },
   {
    "duration": 462,
    "start_time": "2022-04-29T13:19:52.765Z"
   },
   {
    "duration": 311,
    "start_time": "2022-04-29T13:20:06.463Z"
   },
   {
    "duration": 505,
    "start_time": "2022-04-29T13:20:10.631Z"
   },
   {
    "duration": 719,
    "start_time": "2022-04-29T13:20:14.656Z"
   },
   {
    "duration": 1107,
    "start_time": "2022-04-29T13:20:22.954Z"
   },
   {
    "duration": 14,
    "start_time": "2022-04-29T13:20:24.067Z"
   },
   {
    "duration": 36,
    "start_time": "2022-04-29T13:20:24.083Z"
   },
   {
    "duration": 17,
    "start_time": "2022-04-29T13:20:24.121Z"
   },
   {
    "duration": 24,
    "start_time": "2022-04-29T13:20:24.142Z"
   },
   {
    "duration": 8,
    "start_time": "2022-04-29T13:20:24.168Z"
   },
   {
    "duration": 14,
    "start_time": "2022-04-29T13:20:24.178Z"
   },
   {
    "duration": 16,
    "start_time": "2022-04-29T13:20:24.193Z"
   },
   {
    "duration": 19,
    "start_time": "2022-04-29T13:20:24.211Z"
   },
   {
    "duration": 12,
    "start_time": "2022-04-29T13:20:24.234Z"
   },
   {
    "duration": 15,
    "start_time": "2022-04-29T13:20:24.249Z"
   },
   {
    "duration": 21,
    "start_time": "2022-04-29T13:20:24.266Z"
   },
   {
    "duration": 18,
    "start_time": "2022-04-29T13:20:24.289Z"
   },
   {
    "duration": 474,
    "start_time": "2022-04-29T13:20:24.309Z"
   },
   {
    "duration": 16,
    "start_time": "2022-04-29T13:20:24.786Z"
   },
   {
    "duration": 18,
    "start_time": "2022-04-29T13:20:24.804Z"
   },
   {
    "duration": 13,
    "start_time": "2022-04-29T13:20:24.824Z"
   },
   {
    "duration": 21,
    "start_time": "2022-04-29T13:20:24.841Z"
   },
   {
    "duration": 35,
    "start_time": "2022-04-29T13:20:24.865Z"
   },
   {
    "duration": 557,
    "start_time": "2022-04-29T13:20:24.902Z"
   },
   {
    "duration": 606,
    "start_time": "2022-04-29T13:20:25.464Z"
   },
   {
    "duration": 393,
    "start_time": "2022-04-29T13:20:26.072Z"
   },
   {
    "duration": 324,
    "start_time": "2022-04-29T13:20:26.468Z"
   },
   {
    "duration": 789,
    "start_time": "2022-04-29T13:20:26.795Z"
   },
   {
    "duration": 11,
    "start_time": "2022-04-29T13:20:27.586Z"
   },
   {
    "duration": 517,
    "start_time": "2022-04-29T13:20:27.599Z"
   },
   {
    "duration": 14,
    "start_time": "2022-04-29T13:20:28.122Z"
   },
   {
    "duration": 270,
    "start_time": "2022-04-29T13:20:28.140Z"
   },
   {
    "duration": 264,
    "start_time": "2022-04-29T13:20:28.412Z"
   },
   {
    "duration": 267,
    "start_time": "2022-04-29T13:20:28.679Z"
   },
   {
    "duration": 203,
    "start_time": "2022-04-29T13:20:28.950Z"
   },
   {
    "duration": 636,
    "start_time": "2022-04-29T13:20:29.155Z"
   },
   {
    "duration": 10,
    "start_time": "2022-04-29T13:20:29.793Z"
   },
   {
    "duration": 55,
    "start_time": "2022-04-29T13:20:29.805Z"
   },
   {
    "duration": 13,
    "start_time": "2022-04-29T13:20:29.862Z"
   },
   {
    "duration": 174,
    "start_time": "2022-04-29T13:20:29.877Z"
   },
   {
    "duration": 160,
    "start_time": "2022-04-29T13:20:30.058Z"
   },
   {
    "duration": 181,
    "start_time": "2022-04-29T13:20:30.223Z"
   },
   {
    "duration": 172,
    "start_time": "2022-04-29T13:20:30.406Z"
   },
   {
    "duration": 696,
    "start_time": "2022-04-29T13:20:30.581Z"
   },
   {
    "duration": 185,
    "start_time": "2022-04-29T13:20:31.279Z"
   },
   {
    "duration": 884,
    "start_time": "2022-04-29T13:20:44.909Z"
   },
   {
    "duration": 16,
    "start_time": "2022-04-29T13:20:45.795Z"
   },
   {
    "duration": 43,
    "start_time": "2022-04-29T13:20:45.812Z"
   },
   {
    "duration": 10,
    "start_time": "2022-04-29T13:20:45.861Z"
   },
   {
    "duration": 10,
    "start_time": "2022-04-29T13:20:45.873Z"
   },
   {
    "duration": 9,
    "start_time": "2022-04-29T13:20:45.885Z"
   },
   {
    "duration": 43,
    "start_time": "2022-04-29T13:20:45.896Z"
   },
   {
    "duration": 16,
    "start_time": "2022-04-29T13:20:45.941Z"
   },
   {
    "duration": 12,
    "start_time": "2022-04-29T13:20:45.958Z"
   },
   {
    "duration": 8,
    "start_time": "2022-04-29T13:20:45.973Z"
   },
   {
    "duration": 9,
    "start_time": "2022-04-29T13:20:45.983Z"
   },
   {
    "duration": 44,
    "start_time": "2022-04-29T13:20:45.994Z"
   },
   {
    "duration": 26,
    "start_time": "2022-04-29T13:20:46.041Z"
   },
   {
    "duration": 314,
    "start_time": "2022-04-29T13:20:46.069Z"
   },
   {
    "duration": 13,
    "start_time": "2022-04-29T13:20:46.385Z"
   },
   {
    "duration": 35,
    "start_time": "2022-04-29T13:20:46.400Z"
   },
   {
    "duration": 6,
    "start_time": "2022-04-29T13:20:46.437Z"
   },
   {
    "duration": 11,
    "start_time": "2022-04-29T13:20:46.445Z"
   },
   {
    "duration": 28,
    "start_time": "2022-04-29T13:20:46.458Z"
   },
   {
    "duration": 389,
    "start_time": "2022-04-29T13:20:46.487Z"
   },
   {
    "duration": 336,
    "start_time": "2022-04-29T13:20:46.878Z"
   },
   {
    "duration": 244,
    "start_time": "2022-04-29T13:20:47.217Z"
   },
   {
    "duration": 293,
    "start_time": "2022-04-29T13:20:47.463Z"
   },
   {
    "duration": 725,
    "start_time": "2022-04-29T13:20:47.759Z"
   },
   {
    "duration": 11,
    "start_time": "2022-04-29T13:20:48.486Z"
   },
   {
    "duration": 733,
    "start_time": "2022-04-29T13:20:48.499Z"
   },
   {
    "duration": 10,
    "start_time": "2022-04-29T13:20:49.234Z"
   },
   {
    "duration": 358,
    "start_time": "2022-04-29T13:20:49.249Z"
   },
   {
    "duration": 255,
    "start_time": "2022-04-29T13:20:49.610Z"
   },
   {
    "duration": 212,
    "start_time": "2022-04-29T13:20:49.867Z"
   },
   {
    "duration": 176,
    "start_time": "2022-04-29T13:20:50.080Z"
   },
   {
    "duration": 495,
    "start_time": "2022-04-29T13:20:50.258Z"
   },
   {
    "duration": 14,
    "start_time": "2022-04-29T13:20:50.755Z"
   },
   {
    "duration": 44,
    "start_time": "2022-04-29T13:20:50.771Z"
   },
   {
    "duration": 16,
    "start_time": "2022-04-29T13:20:50.818Z"
   },
   {
    "duration": 176,
    "start_time": "2022-04-29T13:20:50.836Z"
   },
   {
    "duration": 176,
    "start_time": "2022-04-29T13:20:51.014Z"
   },
   {
    "duration": 254,
    "start_time": "2022-04-29T13:20:51.192Z"
   },
   {
    "duration": 209,
    "start_time": "2022-04-29T13:20:51.447Z"
   },
   {
    "duration": 660,
    "start_time": "2022-04-29T13:20:51.658Z"
   },
   {
    "duration": 224,
    "start_time": "2022-04-29T13:20:52.320Z"
   },
   {
    "duration": 848,
    "start_time": "2022-04-29T13:26:26.032Z"
   },
   {
    "duration": 17,
    "start_time": "2022-04-29T13:26:26.883Z"
   },
   {
    "duration": 57,
    "start_time": "2022-04-29T13:26:26.902Z"
   },
   {
    "duration": 10,
    "start_time": "2022-04-29T13:26:26.961Z"
   },
   {
    "duration": 10,
    "start_time": "2022-04-29T13:26:26.973Z"
   },
   {
    "duration": 10,
    "start_time": "2022-04-29T13:26:26.985Z"
   },
   {
    "duration": 66,
    "start_time": "2022-04-29T13:26:26.997Z"
   },
   {
    "duration": 27,
    "start_time": "2022-04-29T13:26:27.070Z"
   },
   {
    "duration": 11,
    "start_time": "2022-04-29T13:26:27.100Z"
   },
   {
    "duration": 11,
    "start_time": "2022-04-29T13:26:27.114Z"
   },
   {
    "duration": 20,
    "start_time": "2022-04-29T13:26:27.128Z"
   },
   {
    "duration": 10,
    "start_time": "2022-04-29T13:26:27.150Z"
   },
   {
    "duration": 85,
    "start_time": "2022-04-29T13:26:27.162Z"
   },
   {
    "duration": 0,
    "start_time": "2022-04-29T13:26:27.249Z"
   },
   {
    "duration": 0,
    "start_time": "2022-04-29T13:26:27.250Z"
   },
   {
    "duration": 0,
    "start_time": "2022-04-29T13:26:27.251Z"
   },
   {
    "duration": 0,
    "start_time": "2022-04-29T13:26:27.253Z"
   },
   {
    "duration": 0,
    "start_time": "2022-04-29T13:26:27.253Z"
   },
   {
    "duration": 0,
    "start_time": "2022-04-29T13:26:27.255Z"
   },
   {
    "duration": 0,
    "start_time": "2022-04-29T13:26:27.255Z"
   },
   {
    "duration": 0,
    "start_time": "2022-04-29T13:26:27.256Z"
   },
   {
    "duration": 0,
    "start_time": "2022-04-29T13:26:27.257Z"
   },
   {
    "duration": 0,
    "start_time": "2022-04-29T13:26:27.258Z"
   },
   {
    "duration": 0,
    "start_time": "2022-04-29T13:26:27.259Z"
   },
   {
    "duration": 1,
    "start_time": "2022-04-29T13:26:27.260Z"
   },
   {
    "duration": 0,
    "start_time": "2022-04-29T13:26:27.262Z"
   },
   {
    "duration": 0,
    "start_time": "2022-04-29T13:26:27.263Z"
   },
   {
    "duration": 0,
    "start_time": "2022-04-29T13:26:27.265Z"
   },
   {
    "duration": 0,
    "start_time": "2022-04-29T13:26:27.266Z"
   },
   {
    "duration": 0,
    "start_time": "2022-04-29T13:26:27.268Z"
   },
   {
    "duration": 0,
    "start_time": "2022-04-29T13:26:27.269Z"
   },
   {
    "duration": 0,
    "start_time": "2022-04-29T13:26:27.270Z"
   },
   {
    "duration": 0,
    "start_time": "2022-04-29T13:26:27.272Z"
   },
   {
    "duration": 0,
    "start_time": "2022-04-29T13:26:27.273Z"
   },
   {
    "duration": 0,
    "start_time": "2022-04-29T13:26:27.274Z"
   },
   {
    "duration": 0,
    "start_time": "2022-04-29T13:26:27.276Z"
   },
   {
    "duration": 0,
    "start_time": "2022-04-29T13:26:27.277Z"
   },
   {
    "duration": 1,
    "start_time": "2022-04-29T13:26:27.325Z"
   },
   {
    "duration": 0,
    "start_time": "2022-04-29T13:26:27.328Z"
   },
   {
    "duration": 0,
    "start_time": "2022-04-29T13:26:27.329Z"
   },
   {
    "duration": 0,
    "start_time": "2022-04-29T13:26:27.330Z"
   },
   {
    "duration": 15,
    "start_time": "2022-04-29T13:26:53.940Z"
   },
   {
    "duration": 781,
    "start_time": "2022-04-29T13:26:58.873Z"
   },
   {
    "duration": 17,
    "start_time": "2022-04-29T13:26:59.657Z"
   },
   {
    "duration": 29,
    "start_time": "2022-04-29T13:26:59.675Z"
   },
   {
    "duration": 28,
    "start_time": "2022-04-29T13:26:59.706Z"
   },
   {
    "duration": 14,
    "start_time": "2022-04-29T13:26:59.736Z"
   },
   {
    "duration": 8,
    "start_time": "2022-04-29T13:26:59.751Z"
   },
   {
    "duration": 8,
    "start_time": "2022-04-29T13:26:59.761Z"
   },
   {
    "duration": 8,
    "start_time": "2022-04-29T13:26:59.771Z"
   },
   {
    "duration": 52,
    "start_time": "2022-04-29T13:26:59.781Z"
   },
   {
    "duration": 14,
    "start_time": "2022-04-29T13:26:59.836Z"
   },
   {
    "duration": 9,
    "start_time": "2022-04-29T13:26:59.852Z"
   },
   {
    "duration": 8,
    "start_time": "2022-04-29T13:26:59.863Z"
   },
   {
    "duration": 19,
    "start_time": "2022-04-29T13:26:59.873Z"
   },
   {
    "duration": 331,
    "start_time": "2022-04-29T13:26:59.894Z"
   },
   {
    "duration": 20,
    "start_time": "2022-04-29T13:27:00.228Z"
   },
   {
    "duration": 10,
    "start_time": "2022-04-29T13:27:00.251Z"
   },
   {
    "duration": 7,
    "start_time": "2022-04-29T13:27:00.263Z"
   },
   {
    "duration": 14,
    "start_time": "2022-04-29T13:27:00.272Z"
   },
   {
    "duration": 56,
    "start_time": "2022-04-29T13:27:00.288Z"
   },
   {
    "duration": 563,
    "start_time": "2022-04-29T13:27:00.346Z"
   },
   {
    "duration": 335,
    "start_time": "2022-04-29T13:27:00.911Z"
   },
   {
    "duration": 225,
    "start_time": "2022-04-29T13:27:01.248Z"
   },
   {
    "duration": 222,
    "start_time": "2022-04-29T13:27:01.475Z"
   },
   {
    "duration": 598,
    "start_time": "2022-04-29T13:27:01.699Z"
   },
   {
    "duration": 13,
    "start_time": "2022-04-29T13:27:02.298Z"
   },
   {
    "duration": 484,
    "start_time": "2022-04-29T13:27:02.322Z"
   },
   {
    "duration": 17,
    "start_time": "2022-04-29T13:27:02.808Z"
   },
   {
    "duration": 253,
    "start_time": "2022-04-29T13:27:02.830Z"
   },
   {
    "duration": 168,
    "start_time": "2022-04-29T13:27:03.084Z"
   },
   {
    "duration": 190,
    "start_time": "2022-04-29T13:27:03.254Z"
   },
   {
    "duration": 153,
    "start_time": "2022-04-29T13:27:03.446Z"
   },
   {
    "duration": 475,
    "start_time": "2022-04-29T13:27:03.601Z"
   },
   {
    "duration": 10,
    "start_time": "2022-04-29T13:27:04.078Z"
   },
   {
    "duration": 38,
    "start_time": "2022-04-29T13:27:04.090Z"
   },
   {
    "duration": 11,
    "start_time": "2022-04-29T13:27:04.131Z"
   },
   {
    "duration": 168,
    "start_time": "2022-04-29T13:27:04.144Z"
   },
   {
    "duration": 156,
    "start_time": "2022-04-29T13:27:04.322Z"
   },
   {
    "duration": 170,
    "start_time": "2022-04-29T13:27:04.480Z"
   },
   {
    "duration": 145,
    "start_time": "2022-04-29T13:27:04.652Z"
   },
   {
    "duration": 526,
    "start_time": "2022-04-29T13:27:04.799Z"
   },
   {
    "duration": 174,
    "start_time": "2022-04-29T13:27:05.327Z"
   },
   {
    "duration": 87,
    "start_time": "2022-04-29T13:39:44.267Z"
   },
   {
    "duration": 1392,
    "start_time": "2022-04-29T13:40:18.199Z"
   },
   {
    "duration": 18,
    "start_time": "2022-04-29T13:40:19.593Z"
   },
   {
    "duration": 54,
    "start_time": "2022-04-29T13:40:19.613Z"
   },
   {
    "duration": 12,
    "start_time": "2022-04-29T13:40:19.669Z"
   },
   {
    "duration": 49,
    "start_time": "2022-04-29T13:40:19.683Z"
   },
   {
    "duration": 13,
    "start_time": "2022-04-29T13:40:19.735Z"
   },
   {
    "duration": 10,
    "start_time": "2022-04-29T13:40:19.750Z"
   },
   {
    "duration": 12,
    "start_time": "2022-04-29T13:40:19.762Z"
   },
   {
    "duration": 14,
    "start_time": "2022-04-29T13:40:19.777Z"
   },
   {
    "duration": 17,
    "start_time": "2022-04-29T13:40:19.832Z"
   },
   {
    "duration": 13,
    "start_time": "2022-04-29T13:40:19.853Z"
   },
   {
    "duration": 12,
    "start_time": "2022-04-29T13:40:19.869Z"
   },
   {
    "duration": 164,
    "start_time": "2022-04-29T13:40:19.883Z"
   },
   {
    "duration": 0,
    "start_time": "2022-04-29T13:40:20.051Z"
   },
   {
    "duration": 0,
    "start_time": "2022-04-29T13:40:20.052Z"
   },
   {
    "duration": 0,
    "start_time": "2022-04-29T13:40:20.058Z"
   },
   {
    "duration": 0,
    "start_time": "2022-04-29T13:40:20.060Z"
   },
   {
    "duration": 0,
    "start_time": "2022-04-29T13:40:20.061Z"
   },
   {
    "duration": 0,
    "start_time": "2022-04-29T13:40:20.063Z"
   },
   {
    "duration": 0,
    "start_time": "2022-04-29T13:40:20.064Z"
   },
   {
    "duration": 0,
    "start_time": "2022-04-29T13:40:20.066Z"
   },
   {
    "duration": 0,
    "start_time": "2022-04-29T13:40:20.067Z"
   },
   {
    "duration": 0,
    "start_time": "2022-04-29T13:40:20.070Z"
   },
   {
    "duration": 0,
    "start_time": "2022-04-29T13:40:20.071Z"
   },
   {
    "duration": 0,
    "start_time": "2022-04-29T13:40:20.072Z"
   },
   {
    "duration": 1,
    "start_time": "2022-04-29T13:40:20.073Z"
   },
   {
    "duration": 0,
    "start_time": "2022-04-29T13:40:20.075Z"
   },
   {
    "duration": 0,
    "start_time": "2022-04-29T13:40:20.076Z"
   },
   {
    "duration": 0,
    "start_time": "2022-04-29T13:40:20.078Z"
   },
   {
    "duration": 0,
    "start_time": "2022-04-29T13:40:20.079Z"
   },
   {
    "duration": 0,
    "start_time": "2022-04-29T13:40:20.081Z"
   },
   {
    "duration": 0,
    "start_time": "2022-04-29T13:40:20.082Z"
   },
   {
    "duration": 0,
    "start_time": "2022-04-29T13:40:20.083Z"
   },
   {
    "duration": 0,
    "start_time": "2022-04-29T13:40:20.123Z"
   },
   {
    "duration": 0,
    "start_time": "2022-04-29T13:40:20.124Z"
   },
   {
    "duration": 0,
    "start_time": "2022-04-29T13:40:20.126Z"
   },
   {
    "duration": 0,
    "start_time": "2022-04-29T13:40:20.127Z"
   },
   {
    "duration": 0,
    "start_time": "2022-04-29T13:40:20.128Z"
   },
   {
    "duration": 0,
    "start_time": "2022-04-29T13:40:20.129Z"
   },
   {
    "duration": 0,
    "start_time": "2022-04-29T13:40:20.130Z"
   },
   {
    "duration": 0,
    "start_time": "2022-04-29T13:40:20.131Z"
   },
   {
    "duration": 28,
    "start_time": "2022-04-29T13:45:43.754Z"
   },
   {
    "duration": 1145,
    "start_time": "2022-05-04T06:12:17.540Z"
   },
   {
    "duration": 22,
    "start_time": "2022-05-04T06:12:18.688Z"
   },
   {
    "duration": 56,
    "start_time": "2022-05-04T06:12:18.712Z"
   },
   {
    "duration": 12,
    "start_time": "2022-05-04T06:12:18.770Z"
   },
   {
    "duration": 10,
    "start_time": "2022-05-04T06:12:18.785Z"
   },
   {
    "duration": 9,
    "start_time": "2022-05-04T06:12:18.798Z"
   },
   {
    "duration": 44,
    "start_time": "2022-05-04T06:12:18.809Z"
   },
   {
    "duration": 11,
    "start_time": "2022-05-04T06:12:18.856Z"
   },
   {
    "duration": 11,
    "start_time": "2022-05-04T06:12:18.869Z"
   },
   {
    "duration": 11,
    "start_time": "2022-05-04T06:12:18.882Z"
   },
   {
    "duration": 10,
    "start_time": "2022-05-04T06:12:18.895Z"
   },
   {
    "duration": 11,
    "start_time": "2022-05-04T06:12:18.952Z"
   },
   {
    "duration": 22,
    "start_time": "2022-05-04T06:12:18.965Z"
   },
   {
    "duration": 463,
    "start_time": "2022-05-04T06:12:18.991Z"
   },
   {
    "duration": 17,
    "start_time": "2022-05-04T06:12:19.456Z"
   },
   {
    "duration": 9,
    "start_time": "2022-05-04T06:12:19.475Z"
   },
   {
    "duration": 5,
    "start_time": "2022-05-04T06:12:19.486Z"
   },
   {
    "duration": 6,
    "start_time": "2022-05-04T06:12:19.493Z"
   },
   {
    "duration": 67,
    "start_time": "2022-05-04T06:12:19.501Z"
   },
   {
    "duration": 538,
    "start_time": "2022-05-04T06:12:19.571Z"
   },
   {
    "duration": 503,
    "start_time": "2022-05-04T06:12:20.111Z"
   },
   {
    "duration": 335,
    "start_time": "2022-05-04T06:12:20.616Z"
   },
   {
    "duration": 324,
    "start_time": "2022-05-04T06:12:20.954Z"
   },
   {
    "duration": 871,
    "start_time": "2022-05-04T06:12:21.280Z"
   },
   {
    "duration": 13,
    "start_time": "2022-05-04T06:12:22.154Z"
   },
   {
    "duration": 725,
    "start_time": "2022-05-04T06:12:22.169Z"
   },
   {
    "duration": 8,
    "start_time": "2022-05-04T06:12:22.896Z"
   },
   {
    "duration": 326,
    "start_time": "2022-05-04T06:12:22.906Z"
   },
   {
    "duration": 258,
    "start_time": "2022-05-04T06:12:23.234Z"
   },
   {
    "duration": 292,
    "start_time": "2022-05-04T06:12:23.495Z"
   },
   {
    "duration": 229,
    "start_time": "2022-05-04T06:12:23.790Z"
   },
   {
    "duration": 674,
    "start_time": "2022-05-04T06:12:24.021Z"
   },
   {
    "duration": 13,
    "start_time": "2022-05-04T06:12:24.697Z"
   },
   {
    "duration": 55,
    "start_time": "2022-05-04T06:12:24.712Z"
   },
   {
    "duration": 12,
    "start_time": "2022-05-04T06:12:24.769Z"
   },
   {
    "duration": 261,
    "start_time": "2022-05-04T06:12:24.783Z"
   },
   {
    "duration": 236,
    "start_time": "2022-05-04T06:12:25.046Z"
   },
   {
    "duration": 249,
    "start_time": "2022-05-04T06:12:25.284Z"
   },
   {
    "duration": 222,
    "start_time": "2022-05-04T06:12:25.535Z"
   },
   {
    "duration": 742,
    "start_time": "2022-05-04T06:12:25.759Z"
   },
   {
    "duration": 242,
    "start_time": "2022-05-04T06:12:26.506Z"
   },
   {
    "duration": 545,
    "start_time": "2022-05-04T06:19:29.238Z"
   },
   {
    "duration": 457,
    "start_time": "2022-05-04T06:19:49.281Z"
   },
   {
    "duration": 955,
    "start_time": "2022-05-04T06:27:44.160Z"
   },
   {
    "duration": 22,
    "start_time": "2022-05-04T06:27:45.118Z"
   },
   {
    "duration": 47,
    "start_time": "2022-05-04T06:27:45.143Z"
   },
   {
    "duration": 12,
    "start_time": "2022-05-04T06:27:45.193Z"
   },
   {
    "duration": 48,
    "start_time": "2022-05-04T06:27:45.209Z"
   },
   {
    "duration": 10,
    "start_time": "2022-05-04T06:27:45.259Z"
   },
   {
    "duration": 10,
    "start_time": "2022-05-04T06:27:45.271Z"
   },
   {
    "duration": 10,
    "start_time": "2022-05-04T06:27:45.283Z"
   },
   {
    "duration": 13,
    "start_time": "2022-05-04T06:27:45.295Z"
   },
   {
    "duration": 12,
    "start_time": "2022-05-04T06:27:45.351Z"
   },
   {
    "duration": 12,
    "start_time": "2022-05-04T06:27:45.365Z"
   },
   {
    "duration": 12,
    "start_time": "2022-05-04T06:27:45.379Z"
   },
   {
    "duration": 65,
    "start_time": "2022-05-04T06:27:45.393Z"
   },
   {
    "duration": 499,
    "start_time": "2022-05-04T06:27:45.464Z"
   },
   {
    "duration": 16,
    "start_time": "2022-05-04T06:27:45.965Z"
   },
   {
    "duration": 7,
    "start_time": "2022-05-04T06:27:45.983Z"
   },
   {
    "duration": 31,
    "start_time": "2022-05-04T06:27:45.991Z"
   },
   {
    "duration": 48,
    "start_time": "2022-05-04T06:27:46.024Z"
   },
   {
    "duration": 60,
    "start_time": "2022-05-04T06:27:46.074Z"
   },
   {
    "duration": 650,
    "start_time": "2022-05-04T06:27:46.136Z"
   },
   {
    "duration": 0,
    "start_time": "2022-05-04T06:27:46.788Z"
   },
   {
    "duration": 0,
    "start_time": "2022-05-04T06:27:46.790Z"
   },
   {
    "duration": 0,
    "start_time": "2022-05-04T06:27:46.791Z"
   },
   {
    "duration": 0,
    "start_time": "2022-05-04T06:27:46.793Z"
   },
   {
    "duration": 0,
    "start_time": "2022-05-04T06:27:46.794Z"
   },
   {
    "duration": 0,
    "start_time": "2022-05-04T06:27:46.796Z"
   },
   {
    "duration": 1,
    "start_time": "2022-05-04T06:27:46.797Z"
   },
   {
    "duration": 0,
    "start_time": "2022-05-04T06:27:46.799Z"
   },
   {
    "duration": 0,
    "start_time": "2022-05-04T06:27:46.800Z"
   },
   {
    "duration": 0,
    "start_time": "2022-05-04T06:27:46.802Z"
   },
   {
    "duration": 0,
    "start_time": "2022-05-04T06:27:46.804Z"
   },
   {
    "duration": 0,
    "start_time": "2022-05-04T06:27:46.805Z"
   },
   {
    "duration": 0,
    "start_time": "2022-05-04T06:27:46.806Z"
   },
   {
    "duration": 0,
    "start_time": "2022-05-04T06:27:46.808Z"
   },
   {
    "duration": 0,
    "start_time": "2022-05-04T06:27:46.809Z"
   },
   {
    "duration": 0,
    "start_time": "2022-05-04T06:27:46.811Z"
   },
   {
    "duration": 0,
    "start_time": "2022-05-04T06:27:46.813Z"
   },
   {
    "duration": 0,
    "start_time": "2022-05-04T06:27:46.852Z"
   },
   {
    "duration": 0,
    "start_time": "2022-05-04T06:27:46.853Z"
   },
   {
    "duration": 0,
    "start_time": "2022-05-04T06:27:46.854Z"
   },
   {
    "duration": 0,
    "start_time": "2022-05-04T06:27:46.856Z"
   },
   {
    "duration": 302,
    "start_time": "2022-05-04T06:32:12.092Z"
   },
   {
    "duration": 533,
    "start_time": "2022-05-04T06:32:20.424Z"
   },
   {
    "duration": 171,
    "start_time": "2022-05-04T06:32:32.146Z"
   },
   {
    "duration": 526,
    "start_time": "2022-05-04T06:32:44.856Z"
   },
   {
    "duration": 603,
    "start_time": "2022-05-04T06:32:59.157Z"
   },
   {
    "duration": 539,
    "start_time": "2022-05-04T06:33:08.956Z"
   },
   {
    "duration": 493,
    "start_time": "2022-05-04T06:33:23.489Z"
   },
   {
    "duration": 590,
    "start_time": "2022-05-04T06:33:39.042Z"
   },
   {
    "duration": 585,
    "start_time": "2022-05-04T06:33:51.549Z"
   },
   {
    "duration": 928,
    "start_time": "2022-05-04T06:34:00.364Z"
   },
   {
    "duration": 22,
    "start_time": "2022-05-04T06:34:01.295Z"
   },
   {
    "duration": 3065,
    "start_time": "2022-05-04T06:34:01.319Z"
   },
   {
    "duration": 12,
    "start_time": "2022-05-04T06:34:04.386Z"
   },
   {
    "duration": 13,
    "start_time": "2022-05-04T06:34:04.401Z"
   },
   {
    "duration": 40,
    "start_time": "2022-05-04T06:34:04.417Z"
   },
   {
    "duration": 12,
    "start_time": "2022-05-04T06:34:04.460Z"
   },
   {
    "duration": 11,
    "start_time": "2022-05-04T06:34:04.474Z"
   },
   {
    "duration": 19,
    "start_time": "2022-05-04T06:34:04.487Z"
   },
   {
    "duration": 49,
    "start_time": "2022-05-04T06:34:04.508Z"
   },
   {
    "duration": 12,
    "start_time": "2022-05-04T06:34:04.559Z"
   },
   {
    "duration": 12,
    "start_time": "2022-05-04T06:34:04.573Z"
   },
   {
    "duration": 22,
    "start_time": "2022-05-04T06:34:04.588Z"
   },
   {
    "duration": 467,
    "start_time": "2022-05-04T06:34:04.651Z"
   },
   {
    "duration": 16,
    "start_time": "2022-05-04T06:34:05.121Z"
   },
   {
    "duration": 9,
    "start_time": "2022-05-04T06:34:05.151Z"
   },
   {
    "duration": 7,
    "start_time": "2022-05-04T06:34:05.162Z"
   },
   {
    "duration": 28,
    "start_time": "2022-05-04T06:34:05.171Z"
   },
   {
    "duration": 39,
    "start_time": "2022-05-04T06:34:05.201Z"
   },
   {
    "duration": 665,
    "start_time": "2022-05-04T06:34:05.242Z"
   },
   {
    "duration": 0,
    "start_time": "2022-05-04T06:34:05.909Z"
   },
   {
    "duration": 0,
    "start_time": "2022-05-04T06:34:05.911Z"
   },
   {
    "duration": 0,
    "start_time": "2022-05-04T06:34:05.912Z"
   },
   {
    "duration": 0,
    "start_time": "2022-05-04T06:34:05.914Z"
   },
   {
    "duration": 0,
    "start_time": "2022-05-04T06:34:05.915Z"
   },
   {
    "duration": 0,
    "start_time": "2022-05-04T06:34:05.917Z"
   },
   {
    "duration": 0,
    "start_time": "2022-05-04T06:34:05.919Z"
   },
   {
    "duration": 0,
    "start_time": "2022-05-04T06:34:05.920Z"
   },
   {
    "duration": 0,
    "start_time": "2022-05-04T06:34:05.921Z"
   },
   {
    "duration": 0,
    "start_time": "2022-05-04T06:34:05.951Z"
   },
   {
    "duration": 0,
    "start_time": "2022-05-04T06:34:05.953Z"
   },
   {
    "duration": 0,
    "start_time": "2022-05-04T06:34:05.954Z"
   },
   {
    "duration": 0,
    "start_time": "2022-05-04T06:34:05.956Z"
   },
   {
    "duration": 0,
    "start_time": "2022-05-04T06:34:05.958Z"
   },
   {
    "duration": 0,
    "start_time": "2022-05-04T06:34:05.959Z"
   },
   {
    "duration": 0,
    "start_time": "2022-05-04T06:34:05.960Z"
   },
   {
    "duration": 0,
    "start_time": "2022-05-04T06:34:05.962Z"
   },
   {
    "duration": 0,
    "start_time": "2022-05-04T06:34:05.963Z"
   },
   {
    "duration": 0,
    "start_time": "2022-05-04T06:34:05.964Z"
   },
   {
    "duration": 0,
    "start_time": "2022-05-04T06:34:05.966Z"
   },
   {
    "duration": 0,
    "start_time": "2022-05-04T06:34:05.967Z"
   },
   {
    "duration": 467,
    "start_time": "2022-05-04T06:37:21.412Z"
   },
   {
    "duration": 469,
    "start_time": "2022-05-04T06:48:37.188Z"
   },
   {
    "duration": 11,
    "start_time": "2022-05-04T06:48:59.889Z"
   },
   {
    "duration": 744,
    "start_time": "2022-05-04T06:49:13.845Z"
   },
   {
    "duration": 994,
    "start_time": "2022-05-04T06:49:21.420Z"
   },
   {
    "duration": 22,
    "start_time": "2022-05-04T06:49:22.416Z"
   },
   {
    "duration": 49,
    "start_time": "2022-05-04T06:49:22.440Z"
   },
   {
    "duration": 11,
    "start_time": "2022-05-04T06:49:22.491Z"
   },
   {
    "duration": 12,
    "start_time": "2022-05-04T06:49:22.505Z"
   },
   {
    "duration": 40,
    "start_time": "2022-05-04T06:49:22.519Z"
   },
   {
    "duration": 10,
    "start_time": "2022-05-04T06:49:22.562Z"
   },
   {
    "duration": 9,
    "start_time": "2022-05-04T06:49:22.574Z"
   },
   {
    "duration": 11,
    "start_time": "2022-05-04T06:49:22.585Z"
   },
   {
    "duration": 56,
    "start_time": "2022-05-04T06:49:22.598Z"
   },
   {
    "duration": 12,
    "start_time": "2022-05-04T06:49:22.656Z"
   },
   {
    "duration": 11,
    "start_time": "2022-05-04T06:49:22.670Z"
   },
   {
    "duration": 22,
    "start_time": "2022-05-04T06:49:22.683Z"
   },
   {
    "duration": 488,
    "start_time": "2022-05-04T06:49:22.709Z"
   },
   {
    "duration": 17,
    "start_time": "2022-05-04T06:49:23.199Z"
   },
   {
    "duration": 10,
    "start_time": "2022-05-04T06:49:23.217Z"
   },
   {
    "duration": 23,
    "start_time": "2022-05-04T06:49:23.229Z"
   },
   {
    "duration": 13,
    "start_time": "2022-05-04T06:49:23.254Z"
   },
   {
    "duration": 36,
    "start_time": "2022-05-04T06:49:23.269Z"
   },
   {
    "duration": 537,
    "start_time": "2022-05-04T06:49:23.307Z"
   },
   {
    "duration": 606,
    "start_time": "2022-05-04T06:49:23.851Z"
   },
   {
    "duration": 336,
    "start_time": "2022-05-04T06:49:24.459Z"
   },
   {
    "duration": 328,
    "start_time": "2022-05-04T06:49:24.798Z"
   },
   {
    "duration": 883,
    "start_time": "2022-05-04T06:49:25.128Z"
   },
   {
    "duration": 15,
    "start_time": "2022-05-04T06:49:26.013Z"
   },
   {
    "duration": 789,
    "start_time": "2022-05-04T06:49:26.031Z"
   },
   {
    "duration": 9,
    "start_time": "2022-05-04T06:49:26.822Z"
   },
   {
    "duration": 331,
    "start_time": "2022-05-04T06:49:26.833Z"
   },
   {
    "duration": 409,
    "start_time": "2022-05-04T06:49:27.167Z"
   },
   {
    "duration": 355,
    "start_time": "2022-05-04T06:49:27.578Z"
   },
   {
    "duration": 228,
    "start_time": "2022-05-04T06:49:27.936Z"
   },
   {
    "duration": 688,
    "start_time": "2022-05-04T06:49:28.166Z"
   },
   {
    "duration": 14,
    "start_time": "2022-05-04T06:49:28.856Z"
   },
   {
    "duration": 33,
    "start_time": "2022-05-04T06:49:28.872Z"
   },
   {
    "duration": 11,
    "start_time": "2022-05-04T06:49:28.908Z"
   },
   {
    "duration": 246,
    "start_time": "2022-05-04T06:49:28.952Z"
   },
   {
    "duration": 241,
    "start_time": "2022-05-04T06:49:29.201Z"
   },
   {
    "duration": 242,
    "start_time": "2022-05-04T06:49:29.452Z"
   },
   {
    "duration": 236,
    "start_time": "2022-05-04T06:49:29.696Z"
   },
   {
    "duration": 762,
    "start_time": "2022-05-04T06:49:29.934Z"
   },
   {
    "duration": 242,
    "start_time": "2022-05-04T06:49:30.701Z"
   },
   {
    "duration": 212,
    "start_time": "2022-05-04T06:51:49.294Z"
   },
   {
    "duration": 227,
    "start_time": "2022-05-04T06:52:14.316Z"
   },
   {
    "duration": 290,
    "start_time": "2022-05-04T06:52:31.188Z"
   },
   {
    "duration": 244,
    "start_time": "2022-05-04T06:52:42.024Z"
   },
   {
    "duration": 698,
    "start_time": "2022-05-04T06:53:00.241Z"
   },
   {
    "duration": 33,
    "start_time": "2022-05-04T06:55:08.224Z"
   },
   {
    "duration": 238,
    "start_time": "2022-05-04T06:55:38.896Z"
   },
   {
    "duration": 229,
    "start_time": "2022-05-04T06:56:02.112Z"
   },
   {
    "duration": 265,
    "start_time": "2022-05-04T06:56:35.752Z"
   },
   {
    "duration": 314,
    "start_time": "2022-05-04T06:57:12.055Z"
   },
   {
    "duration": 235,
    "start_time": "2022-05-04T06:58:06.397Z"
   },
   {
    "duration": 230,
    "start_time": "2022-05-04T06:58:14.294Z"
   },
   {
    "duration": 645,
    "start_time": "2022-05-04T06:58:24.111Z"
   },
   {
    "duration": 234,
    "start_time": "2022-05-04T06:58:36.845Z"
   },
   {
    "duration": 17,
    "start_time": "2022-05-04T07:01:17.914Z"
   },
   {
    "duration": 219,
    "start_time": "2022-05-04T07:03:52.026Z"
   },
   {
    "duration": 230,
    "start_time": "2022-05-04T07:05:35.673Z"
   },
   {
    "duration": 280,
    "start_time": "2022-05-04T07:08:48.357Z"
   },
   {
    "duration": 45,
    "start_time": "2022-05-04T11:52:49.672Z"
   },
   {
    "duration": 1504,
    "start_time": "2022-05-04T11:53:20.967Z"
   },
   {
    "duration": 17,
    "start_time": "2022-05-04T11:53:22.473Z"
   },
   {
    "duration": 28,
    "start_time": "2022-05-04T11:53:22.491Z"
   },
   {
    "duration": 30,
    "start_time": "2022-05-04T11:53:22.521Z"
   },
   {
    "duration": 12,
    "start_time": "2022-05-04T11:53:22.553Z"
   },
   {
    "duration": 16,
    "start_time": "2022-05-04T11:53:22.567Z"
   },
   {
    "duration": 9,
    "start_time": "2022-05-04T11:53:22.585Z"
   },
   {
    "duration": 7,
    "start_time": "2022-05-04T11:53:22.596Z"
   },
   {
    "duration": 42,
    "start_time": "2022-05-04T11:53:22.606Z"
   },
   {
    "duration": 11,
    "start_time": "2022-05-04T11:53:22.651Z"
   },
   {
    "duration": 21,
    "start_time": "2022-05-04T11:53:22.664Z"
   },
   {
    "duration": 10,
    "start_time": "2022-05-04T11:53:22.687Z"
   },
   {
    "duration": 18,
    "start_time": "2022-05-04T11:53:22.699Z"
   },
   {
    "duration": 452,
    "start_time": "2022-05-04T11:53:22.721Z"
   },
   {
    "duration": 15,
    "start_time": "2022-05-04T11:53:23.176Z"
   },
   {
    "duration": 6,
    "start_time": "2022-05-04T11:53:23.193Z"
   },
   {
    "duration": 4,
    "start_time": "2022-05-04T11:53:23.201Z"
   },
   {
    "duration": 9,
    "start_time": "2022-05-04T11:53:23.207Z"
   },
   {
    "duration": 60,
    "start_time": "2022-05-04T11:53:23.218Z"
   },
   {
    "duration": 327,
    "start_time": "2022-05-04T11:53:23.280Z"
   },
   {
    "duration": 444,
    "start_time": "2022-05-04T11:53:23.609Z"
   },
   {
    "duration": 300,
    "start_time": "2022-05-04T11:53:24.055Z"
   },
   {
    "duration": 384,
    "start_time": "2022-05-04T11:53:24.357Z"
   },
   {
    "duration": 548,
    "start_time": "2022-05-04T11:53:24.747Z"
   },
   {
    "duration": 10,
    "start_time": "2022-05-04T11:53:25.296Z"
   },
   {
    "duration": 525,
    "start_time": "2022-05-04T11:53:25.307Z"
   },
   {
    "duration": 6,
    "start_time": "2022-05-04T11:53:25.833Z"
   },
   {
    "duration": 155,
    "start_time": "2022-05-04T11:53:25.842Z"
   },
   {
    "duration": 146,
    "start_time": "2022-05-04T11:53:25.999Z"
   },
   {
    "duration": 239,
    "start_time": "2022-05-04T11:53:26.148Z"
   },
   {
    "duration": 211,
    "start_time": "2022-05-04T11:53:26.390Z"
   },
   {
    "duration": 591,
    "start_time": "2022-05-04T11:53:26.603Z"
   },
   {
    "duration": 9,
    "start_time": "2022-05-04T11:53:27.196Z"
   },
   {
    "duration": 2288,
    "start_time": "2022-05-04T11:53:27.206Z"
   },
   {
    "duration": 23,
    "start_time": "2022-05-04T11:53:29.496Z"
   },
   {
    "duration": 8,
    "start_time": "2022-05-04T11:53:29.521Z"
   },
   {
    "duration": 183,
    "start_time": "2022-05-04T11:53:29.531Z"
   },
   {
    "duration": 286,
    "start_time": "2022-05-04T11:53:29.716Z"
   },
   {
    "duration": 159,
    "start_time": "2022-05-04T11:53:30.004Z"
   },
   {
    "duration": 146,
    "start_time": "2022-05-04T11:53:30.165Z"
   },
   {
    "duration": 420,
    "start_time": "2022-05-04T11:53:30.313Z"
   },
   {
    "duration": 169,
    "start_time": "2022-05-04T11:53:30.735Z"
   },
   {
    "duration": 1959,
    "start_time": "2022-05-04T11:59:16.430Z"
   },
   {
    "duration": 116,
    "start_time": "2022-05-04T11:59:33.817Z"
   },
   {
    "duration": 327,
    "start_time": "2022-05-04T12:00:23.082Z"
   },
   {
    "duration": 118,
    "start_time": "2022-05-04T12:00:31.338Z"
   },
   {
    "duration": 129,
    "start_time": "2022-05-04T12:00:43.160Z"
   },
   {
    "duration": 338,
    "start_time": "2022-05-04T12:01:03.347Z"
   },
   {
    "duration": 256,
    "start_time": "2022-05-04T12:01:10.403Z"
   },
   {
    "duration": 157,
    "start_time": "2022-05-04T12:01:20.261Z"
   },
   {
    "duration": 255,
    "start_time": "2022-05-04T12:01:26.432Z"
   },
   {
    "duration": 412,
    "start_time": "2022-05-04T12:01:34.358Z"
   },
   {
    "duration": 144,
    "start_time": "2022-05-04T12:01:42.428Z"
   },
   {
    "duration": 118,
    "start_time": "2022-05-04T12:04:29.119Z"
   },
   {
    "duration": 158,
    "start_time": "2022-05-04T12:06:26.214Z"
   },
   {
    "duration": 160,
    "start_time": "2022-05-04T12:06:48.843Z"
   },
   {
    "duration": 201,
    "start_time": "2022-05-04T12:07:01.691Z"
   },
   {
    "duration": 306,
    "start_time": "2022-05-04T12:07:09.621Z"
   },
   {
    "duration": 10,
    "start_time": "2022-05-04T12:07:43.351Z"
   },
   {
    "duration": 137,
    "start_time": "2022-05-04T12:07:52.964Z"
   },
   {
    "duration": 261,
    "start_time": "2022-05-04T12:08:01.871Z"
   },
   {
    "duration": 35,
    "start_time": "2022-05-04T12:08:20.044Z"
   },
   {
    "duration": 166,
    "start_time": "2022-05-04T12:08:29.189Z"
   },
   {
    "duration": 138,
    "start_time": "2022-05-04T12:08:37.964Z"
   },
   {
    "duration": 177,
    "start_time": "2022-05-04T12:08:55.919Z"
   },
   {
    "duration": 168,
    "start_time": "2022-05-04T12:09:04.329Z"
   },
   {
    "duration": 2577,
    "start_time": "2022-05-04T12:11:43.814Z"
   },
   {
    "duration": 1413,
    "start_time": "2022-05-04T12:11:58.745Z"
   },
   {
    "duration": 19,
    "start_time": "2022-05-04T12:12:00.163Z"
   },
   {
    "duration": 29,
    "start_time": "2022-05-04T12:12:00.184Z"
   },
   {
    "duration": 9,
    "start_time": "2022-05-04T12:12:00.215Z"
   },
   {
    "duration": 19,
    "start_time": "2022-05-04T12:12:00.249Z"
   },
   {
    "duration": 20,
    "start_time": "2022-05-04T12:12:00.270Z"
   },
   {
    "duration": 9,
    "start_time": "2022-05-04T12:12:00.292Z"
   },
   {
    "duration": 18,
    "start_time": "2022-05-04T12:12:00.303Z"
   },
   {
    "duration": 22,
    "start_time": "2022-05-04T12:12:00.323Z"
   },
   {
    "duration": 39,
    "start_time": "2022-05-04T12:12:00.347Z"
   },
   {
    "duration": 10,
    "start_time": "2022-05-04T12:12:00.388Z"
   },
   {
    "duration": 21,
    "start_time": "2022-05-04T12:12:00.399Z"
   },
   {
    "duration": 56,
    "start_time": "2022-05-04T12:12:00.422Z"
   },
   {
    "duration": 294,
    "start_time": "2022-05-04T12:12:00.481Z"
   },
   {
    "duration": 12,
    "start_time": "2022-05-04T12:12:00.777Z"
   },
   {
    "duration": 15,
    "start_time": "2022-05-04T12:12:00.791Z"
   },
   {
    "duration": 16,
    "start_time": "2022-05-04T12:12:00.808Z"
   },
   {
    "duration": 12,
    "start_time": "2022-05-04T12:12:00.825Z"
   },
   {
    "duration": 35,
    "start_time": "2022-05-04T12:12:00.838Z"
   },
   {
    "duration": 465,
    "start_time": "2022-05-04T12:12:00.875Z"
   },
   {
    "duration": 474,
    "start_time": "2022-05-04T12:12:01.342Z"
   },
   {
    "duration": 254,
    "start_time": "2022-05-04T12:12:01.818Z"
   },
   {
    "duration": 358,
    "start_time": "2022-05-04T12:12:02.075Z"
   },
   {
    "duration": 564,
    "start_time": "2022-05-04T12:12:02.435Z"
   },
   {
    "duration": 12,
    "start_time": "2022-05-04T12:12:03.000Z"
   },
   {
    "duration": 541,
    "start_time": "2022-05-04T12:12:03.014Z"
   },
   {
    "duration": 8,
    "start_time": "2022-05-04T12:12:03.557Z"
   },
   {
    "duration": 152,
    "start_time": "2022-05-04T12:12:03.567Z"
   },
   {
    "duration": 161,
    "start_time": "2022-05-04T12:12:03.721Z"
   },
   {
    "duration": 194,
    "start_time": "2022-05-04T12:12:03.884Z"
   },
   {
    "duration": 150,
    "start_time": "2022-05-04T12:12:04.079Z"
   },
   {
    "duration": 557,
    "start_time": "2022-05-04T12:12:04.231Z"
   },
   {
    "duration": 10,
    "start_time": "2022-05-04T12:12:04.789Z"
   },
   {
    "duration": 2182,
    "start_time": "2022-05-04T12:12:04.801Z"
   },
   {
    "duration": 24,
    "start_time": "2022-05-04T12:12:06.985Z"
   },
   {
    "duration": 177,
    "start_time": "2022-05-04T12:12:07.011Z"
   },
   {
    "duration": 11,
    "start_time": "2022-05-04T12:12:07.190Z"
   },
   {
    "duration": 275,
    "start_time": "2022-05-04T12:12:07.202Z"
   },
   {
    "duration": 3543,
    "start_time": "2022-05-04T12:12:07.479Z"
   },
   {
    "duration": 0,
    "start_time": "2022-05-04T12:12:11.024Z"
   },
   {
    "duration": 0,
    "start_time": "2022-05-04T12:12:11.026Z"
   },
   {
    "duration": 0,
    "start_time": "2022-05-04T12:12:11.027Z"
   },
   {
    "duration": 0,
    "start_time": "2022-05-04T12:12:11.028Z"
   },
   {
    "duration": 228,
    "start_time": "2022-05-04T12:12:22.493Z"
   },
   {
    "duration": 1254,
    "start_time": "2022-05-04T12:14:42.640Z"
   },
   {
    "duration": 14,
    "start_time": "2022-05-04T12:14:43.896Z"
   },
   {
    "duration": 41,
    "start_time": "2022-05-04T12:14:43.912Z"
   },
   {
    "duration": 11,
    "start_time": "2022-05-04T12:14:43.955Z"
   },
   {
    "duration": 12,
    "start_time": "2022-05-04T12:14:43.969Z"
   },
   {
    "duration": 10,
    "start_time": "2022-05-04T12:14:43.983Z"
   },
   {
    "duration": 8,
    "start_time": "2022-05-04T12:14:43.995Z"
   },
   {
    "duration": 8,
    "start_time": "2022-05-04T12:14:44.005Z"
   },
   {
    "duration": 9,
    "start_time": "2022-05-04T12:14:44.049Z"
   },
   {
    "duration": 10,
    "start_time": "2022-05-04T12:14:44.060Z"
   },
   {
    "duration": 10,
    "start_time": "2022-05-04T12:14:44.072Z"
   },
   {
    "duration": 10,
    "start_time": "2022-05-04T12:14:44.083Z"
   },
   {
    "duration": 55,
    "start_time": "2022-05-04T12:14:44.095Z"
   },
   {
    "duration": 274,
    "start_time": "2022-05-04T12:14:44.154Z"
   },
   {
    "duration": 21,
    "start_time": "2022-05-04T12:14:44.429Z"
   },
   {
    "duration": 6,
    "start_time": "2022-05-04T12:14:44.452Z"
   },
   {
    "duration": 4,
    "start_time": "2022-05-04T12:14:44.461Z"
   },
   {
    "duration": 7,
    "start_time": "2022-05-04T12:14:44.467Z"
   },
   {
    "duration": 23,
    "start_time": "2022-05-04T12:14:44.476Z"
   },
   {
    "duration": 357,
    "start_time": "2022-05-04T12:14:44.501Z"
   },
   {
    "duration": 290,
    "start_time": "2022-05-04T12:14:44.859Z"
   },
   {
    "duration": 202,
    "start_time": "2022-05-04T12:14:45.151Z"
   },
   {
    "duration": 262,
    "start_time": "2022-05-04T12:14:45.355Z"
   },
   {
    "duration": 529,
    "start_time": "2022-05-04T12:14:45.619Z"
   },
   {
    "duration": 10,
    "start_time": "2022-05-04T12:14:46.150Z"
   },
   {
    "duration": 497,
    "start_time": "2022-05-04T12:14:46.162Z"
   },
   {
    "duration": 7,
    "start_time": "2022-05-04T12:14:46.660Z"
   },
   {
    "duration": 152,
    "start_time": "2022-05-04T12:14:46.669Z"
   },
   {
    "duration": 141,
    "start_time": "2022-05-04T12:14:46.823Z"
   },
   {
    "duration": 178,
    "start_time": "2022-05-04T12:14:46.966Z"
   },
   {
    "duration": 148,
    "start_time": "2022-05-04T12:14:47.147Z"
   },
   {
    "duration": 523,
    "start_time": "2022-05-04T12:14:47.297Z"
   },
   {
    "duration": 11,
    "start_time": "2022-05-04T12:14:47.822Z"
   },
   {
    "duration": 3069,
    "start_time": "2022-05-04T12:14:47.847Z"
   },
   {
    "duration": 44,
    "start_time": "2022-05-04T12:14:50.918Z"
   },
   {
    "duration": 225,
    "start_time": "2022-05-04T12:14:50.965Z"
   },
   {
    "duration": 32,
    "start_time": "2022-05-04T12:14:51.192Z"
   },
   {
    "duration": 233,
    "start_time": "2022-05-04T12:14:51.226Z"
   },
   {
    "duration": 156,
    "start_time": "2022-05-04T12:14:51.460Z"
   },
   {
    "duration": 154,
    "start_time": "2022-05-04T12:14:51.618Z"
   },
   {
    "duration": 194,
    "start_time": "2022-05-04T12:14:51.777Z"
   },
   {
    "duration": 621,
    "start_time": "2022-05-04T12:14:51.973Z"
   },
   {
    "duration": 141,
    "start_time": "2022-05-04T12:14:52.596Z"
   },
   {
    "duration": 151,
    "start_time": "2022-05-04T12:15:20.011Z"
   },
   {
    "duration": 141,
    "start_time": "2022-05-04T12:16:58.612Z"
   },
   {
    "duration": 2562,
    "start_time": "2022-05-04T12:21:34.453Z"
   },
   {
    "duration": 8,
    "start_time": "2022-05-04T12:34:50.842Z"
   },
   {
    "duration": 154,
    "start_time": "2022-05-04T12:37:46.008Z"
   },
   {
    "duration": 136,
    "start_time": "2022-05-04T12:38:03.022Z"
   },
   {
    "duration": 1446,
    "start_time": "2022-05-04T12:38:42.113Z"
   },
   {
    "duration": 15,
    "start_time": "2022-05-04T12:38:43.561Z"
   },
   {
    "duration": 27,
    "start_time": "2022-05-04T12:38:43.578Z"
   },
   {
    "duration": 8,
    "start_time": "2022-05-04T12:38:43.608Z"
   },
   {
    "duration": 37,
    "start_time": "2022-05-04T12:38:43.618Z"
   },
   {
    "duration": 10,
    "start_time": "2022-05-04T12:38:43.656Z"
   },
   {
    "duration": 8,
    "start_time": "2022-05-04T12:38:43.668Z"
   },
   {
    "duration": 8,
    "start_time": "2022-05-04T12:38:43.677Z"
   },
   {
    "duration": 11,
    "start_time": "2022-05-04T12:38:43.687Z"
   },
   {
    "duration": 48,
    "start_time": "2022-05-04T12:38:43.701Z"
   },
   {
    "duration": 9,
    "start_time": "2022-05-04T12:38:43.751Z"
   },
   {
    "duration": 8,
    "start_time": "2022-05-04T12:38:43.762Z"
   },
   {
    "duration": 17,
    "start_time": "2022-05-04T12:38:43.771Z"
   },
   {
    "duration": 293,
    "start_time": "2022-05-04T12:38:43.789Z"
   },
   {
    "duration": 12,
    "start_time": "2022-05-04T12:38:44.084Z"
   },
   {
    "duration": 5,
    "start_time": "2022-05-04T12:38:44.098Z"
   },
   {
    "duration": 5,
    "start_time": "2022-05-04T12:38:44.104Z"
   },
   {
    "duration": 9,
    "start_time": "2022-05-04T12:38:44.111Z"
   },
   {
    "duration": 48,
    "start_time": "2022-05-04T12:38:44.122Z"
   },
   {
    "duration": 295,
    "start_time": "2022-05-04T12:38:44.172Z"
   },
   {
    "duration": 292,
    "start_time": "2022-05-04T12:38:44.469Z"
   },
   {
    "duration": 205,
    "start_time": "2022-05-04T12:38:44.763Z"
   },
   {
    "duration": 282,
    "start_time": "2022-05-04T12:38:44.970Z"
   },
   {
    "duration": 633,
    "start_time": "2022-05-04T12:38:45.254Z"
   },
   {
    "duration": 14,
    "start_time": "2022-05-04T12:38:45.889Z"
   },
   {
    "duration": 564,
    "start_time": "2022-05-04T12:38:45.905Z"
   },
   {
    "duration": 6,
    "start_time": "2022-05-04T12:38:46.471Z"
   },
   {
    "duration": 159,
    "start_time": "2022-05-04T12:38:46.480Z"
   },
   {
    "duration": 175,
    "start_time": "2022-05-04T12:38:46.648Z"
   },
   {
    "duration": 182,
    "start_time": "2022-05-04T12:38:46.825Z"
   },
   {
    "duration": 188,
    "start_time": "2022-05-04T12:38:47.009Z"
   },
   {
    "duration": 782,
    "start_time": "2022-05-04T12:38:47.199Z"
   },
   {
    "duration": 17,
    "start_time": "2022-05-04T12:38:47.983Z"
   },
   {
    "duration": 2254,
    "start_time": "2022-05-04T12:38:48.002Z"
   },
   {
    "duration": 22,
    "start_time": "2022-05-04T12:38:50.257Z"
   },
   {
    "duration": 214,
    "start_time": "2022-05-04T12:38:50.280Z"
   },
   {
    "duration": 10,
    "start_time": "2022-05-04T12:38:50.495Z"
   },
   {
    "duration": 262,
    "start_time": "2022-05-04T12:38:50.507Z"
   },
   {
    "duration": 164,
    "start_time": "2022-05-04T12:38:50.772Z"
   },
   {
    "duration": 17,
    "start_time": "2022-05-04T12:38:50.938Z"
   },
   {
    "duration": 154,
    "start_time": "2022-05-04T12:38:50.956Z"
   },
   {
    "duration": 136,
    "start_time": "2022-05-04T12:38:51.112Z"
   },
   {
    "duration": 384,
    "start_time": "2022-05-04T12:38:51.249Z"
   },
   {
    "duration": 150,
    "start_time": "2022-05-04T12:38:51.635Z"
   },
   {
    "duration": 2572,
    "start_time": "2022-05-04T12:38:51.787Z"
   }
  ],
  "kernelspec": {
   "display_name": "Python 3 (ipykernel)",
   "language": "python",
   "name": "python3"
  },
  "language_info": {
   "codemirror_mode": {
    "name": "ipython",
    "version": 3
   },
   "file_extension": ".py",
   "mimetype": "text/x-python",
   "name": "python",
   "nbconvert_exporter": "python",
   "pygments_lexer": "ipython3",
   "version": "3.9.7"
  },
  "toc": {
   "base_numbering": 1,
   "nav_menu": {},
   "number_sections": true,
   "sideBar": true,
   "skip_h1_title": true,
   "title_cell": "Содержание",
   "title_sidebar": "Contents",
   "toc_cell": true,
   "toc_position": {
    "height": "calc(100% - 180px)",
    "left": "10px",
    "top": "150px",
    "width": "165px"
   },
   "toc_section_display": true,
   "toc_window_display": true
  }
 },
 "nbformat": 4,
 "nbformat_minor": 4
}
